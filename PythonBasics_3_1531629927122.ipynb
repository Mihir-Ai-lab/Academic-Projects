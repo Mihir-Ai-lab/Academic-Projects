{
  "cells": [
    {
      "cell_type": "markdown",
      "metadata": {
        "id": "view-in-github",
        "colab_type": "text"
      },
      "source": [
        "<a href=\"https://colab.research.google.com/github/Mihir-Ai-lab/Insaid/blob/main/PythonBasics_3_1531629927122.ipynb\" target=\"_parent\"><img src=\"https://colab.research.google.com/assets/colab-badge.svg\" alt=\"Open In Colab\"/></a>"
      ]
    },
    {
      "cell_type": "markdown",
      "metadata": {
        "id": "kUjTAokon3Gp"
      },
      "source": [
        "# <center>Python Basics<center/> \n",
        "<img height=\"60\" width=\"120\" src=\"https://www.python.org/static/img/python-logo-large.png?1414305901\"></img>"
      ]
    },
    {
      "cell_type": "markdown",
      "metadata": {
        "id": "bhlq7ZT-n3Gx"
      },
      "source": [
        "# Table of contents\n",
        "<br/>\n",
        "<a href = \"#9.-Python-Output\">09. Python Output</a><br/>\n",
        "<a href = \"#10.-Output-Formatting\">10. Output Formatting</a><br/>\n",
        "<a href = \"#11.-Python-Input\">11. Python Input</a>"
      ]
    },
    {
      "cell_type": "markdown",
      "metadata": {
        "id": "wR03reJsn3Gy"
      },
      "source": [
        "# Python I/O functions"
      ]
    },
    {
      "cell_type": "markdown",
      "metadata": {
        "id": "IH1ZNlqSn3Gz"
      },
      "source": [
        "# 9. Python Output"
      ]
    },
    {
      "cell_type": "markdown",
      "metadata": {
        "id": "sgjTOFuon3G0"
      },
      "source": [
        "To see the output on the screen(standard output device), use the <b>print()</b> function "
      ]
    },
    {
      "cell_type": "code",
      "execution_count": null,
      "metadata": {
        "id": "aaMwosa-n3G1",
        "outputId": "93d427df-de13-4d2c-9b4e-75cebe70f1ca"
      },
      "outputs": [
        {
          "name": "stdout",
          "output_type": "stream",
          "text": [
            "The output will be displayed on the screen\n"
          ]
        }
      ],
      "source": [
        "print(\"The output will be displayed on the screen\")"
      ]
    },
    {
      "cell_type": "code",
      "execution_count": null,
      "metadata": {
        "id": "bFnfGw7Yn3G4",
        "outputId": "04c76c24-c048-4a59-dfa9-b9edeec17a01"
      },
      "outputs": [
        {
          "name": "stdout",
          "output_type": "stream",
          "text": [
            "The value of myInt is 400\n",
            "The value of myInt is 400\n"
          ]
        }
      ],
      "source": [
        "myInt = 400\n",
        "print(\"The value of myInt is\", myInt)\n",
        "print(\"The value of myInt is \" + str(myInt))    # If you wish to print the number in the string form"
      ]
    },
    {
      "cell_type": "markdown",
      "metadata": {
        "id": "ZzvQEkwRn3G5"
      },
      "source": [
        "# 10. Output Formatting"
      ]
    },
    {
      "cell_type": "markdown",
      "metadata": {
        "id": "ZsgeVhoen3G6"
      },
      "source": [
        "To make the output look attractive<br/> \n",
        "we use the <b> str.format() </b> method.<br/> \n",
        "This method is visible to any string object."
      ]
    },
    {
      "cell_type": "code",
      "execution_count": null,
      "metadata": {
        "id": "ywou9pOLn3G6",
        "outputId": "a19beed1-5942-489e-f714-69840b043fd4"
      },
      "outputs": [
        {
          "name": "stdout",
          "output_type": "stream",
          "text": [
            "myInt1: 20 is the half of myInt2: 40\n"
          ]
        }
      ],
      "source": [
        "myInt1 = 20\n",
        "myInt2 = 40                                                \n",
        "\n",
        "print(\"myInt1: {} is the half of myInt2: {}\".format(myInt1, myInt2))    # Considers the Python provided default Type"
      ]
    },
    {
      "cell_type": "code",
      "execution_count": null,
      "metadata": {
        "id": "f4fW56G6n3G7",
        "outputId": "8b255528-6df4-457c-fba6-973a54d9b1c0"
      },
      "outputs": [
        {
          "name": "stdout",
          "output_type": "stream",
          "text": [
            "myInt2: 40 is double of myInt1: 20\n"
          ]
        }
      ],
      "source": [
        "myInt1 = 20\n",
        "myInt2 = 40 \n",
        "\n",
        "print(\"myInt2: {1} is double of myInt1: {0}\".format(myInt1, myInt2))    # Considers position of arguments"
      ]
    },
    {
      "cell_type": "code",
      "execution_count": null,
      "metadata": {
        "id": "DS58tlWqn3G8",
        "outputId": "e6ace2e4-d4ca-4284-e932-ca82b1bd2c10"
      },
      "outputs": [
        {
          "name": "stdout",
          "output_type": "stream",
          "text": [
            "Welcome Suchit to the world of Data Science\n"
          ]
        }
      ],
      "source": [
        "# Use of keyword arguments to format the string\n",
        "print(\"Welcome {name} to the world of {ds}\".format(name=\"Suchit\", ds=\"Data Science\"))"
      ]
    },
    {
      "cell_type": "code",
      "execution_count": null,
      "metadata": {
        "id": "hpaFJSkcn3G9",
        "outputId": "1351cae4-70a8-42ab-fa13-70b639d921ac"
      },
      "outputs": [
        {
          "name": "stdout",
          "output_type": "stream",
          "text": [
            "Welcome Suchit, to the world of Data Science. We are learning Python.\n"
          ]
        }
      ],
      "source": [
        "# Also a combination of positional arguments with keyword arguments is applicable\n",
        "print('Welcome {0}, to the world of {1}. We are learning {Subject}.'.format('Suchit', 'Data Science', Subject='Python'))"
      ]
    },
    {
      "cell_type": "markdown",
      "metadata": {
        "id": "GAONwGRdn3G-"
      },
      "source": [
        "Refer documentation for more examples: https://docs.python.org/3.4/library/string.html#format-examples"
      ]
    },
    {
      "cell_type": "code",
      "execution_count": null,
      "metadata": {
        "id": "AuwzCQjxn3G-",
        "outputId": "c5e73844-dbce-41f8-b995-2e18ab1f6541"
      },
      "outputs": [
        {
          "name": "stdout",
          "output_type": "stream",
          "text": [
            "+3.140000; -3.140000\n"
          ]
        }
      ],
      "source": [
        "print('{:+f}; {:+f}'.format(3.14, -3.14))  # show the signs "
      ]
    },
    {
      "cell_type": "markdown",
      "metadata": {
        "id": "UFKoHvBgn3G_"
      },
      "source": [
        "# 11. Python Input"
      ]
    },
    {
      "cell_type": "markdown",
      "metadata": {
        "id": "ys96UBfOn3G_"
      },
      "source": [
        "User inputs can be taken in Python by using the input() function. "
      ]
    },
    {
      "cell_type": "code",
      "execution_count": null,
      "metadata": {
        "id": "C6ocbLO0n3HA",
        "outputId": "ee6b5ec7-f895-4b18-8377-ec1490066ca5"
      },
      "outputs": [
        {
          "name": "stdout",
          "output_type": "stream",
          "text": [
            "Please enter some data: Hello World\n",
            "You typed in:  Hello World\n"
          ]
        }
      ],
      "source": [
        "userInput = input(\"Please enter some data: \")\n",
        "print(\"You typed in: \",userInput)"
      ]
    },
    {
      "cell_type": "code",
      "execution_count": null,
      "metadata": {
        "id": "GWNOHLHRn3HA",
        "outputId": "9a428087-d793-4bdc-8ae6-bd1d0e463284"
      },
      "outputs": [
        {
          "name": "stdout",
          "output_type": "stream",
          "text": [
            "Enter class strength: 14\n",
            "You typed in:  14\n",
            "userInput type is :  <class 'str'>\n"
          ]
        }
      ],
      "source": [
        "userInput = input(\"Enter class strength: \")\n",
        "print(\"You typed in: \",userInput)\n",
        "print(\"userInput type is : \",type(userInput))"
      ]
    },
    {
      "cell_type": "code",
      "execution_count": null,
      "metadata": {
        "id": "CeohRn-nn3HB",
        "outputId": "df5b6b7a-b2a1-4472-8a9d-c396fee0a86a"
      },
      "outputs": [
        {
          "name": "stdout",
          "output_type": "stream",
          "text": [
            "classStrength value is:  14\n",
            "classStrength type is :  <class 'int'>\n"
          ]
        }
      ],
      "source": [
        "classStrength = int(userInput)\n",
        "print(\"classStrength value is: \",classStrength)\n",
        "print(\"classStrength type is : \",type(classStrength))"
      ]
    }
  ],
  "metadata": {
    "kernelspec": {
      "display_name": "Python 3",
      "language": "python",
      "name": "python3"
    },
    "language_info": {
      "codemirror_mode": {
        "name": "ipython",
        "version": 3
      },
      "file_extension": ".py",
      "mimetype": "text/x-python",
      "name": "python",
      "nbconvert_exporter": "python",
      "pygments_lexer": "ipython3",
      "version": "3.6.0"
    },
    "colab": {
      "provenance": [],
      "include_colab_link": true
    }
  },
  "nbformat": 4,
  "nbformat_minor": 0
}