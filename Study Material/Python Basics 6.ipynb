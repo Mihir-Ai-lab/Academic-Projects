{
  "cells": [
    {
      "cell_type": "markdown",
      "metadata": {
        "id": "view-in-github",
        "colab_type": "text"
      },
      "source": [
        "<a href=\"https://colab.research.google.com/github/Mihir-Ai-lab/Insaid/blob/main/PythonBasics_6_1531630902841.ipynb\" target=\"_parent\"><img src=\"https://colab.research.google.com/assets/colab-badge.svg\" alt=\"Open In Colab\"/></a>"
      ]
    },
    {
      "cell_type": "markdown",
      "metadata": {
        "id": "fovfAnfcr_uI"
      },
      "source": [
        "# <center>Python Basics<center/> \n",
        "<img height=\"60\" width=\"120\" src=\"https://www.python.org/static/img/python-logo-large.png?1414305901\"></img>"
      ]
    },
    {
      "cell_type": "markdown",
      "metadata": {
        "id": "Y2-DvgeRr_uL"
      },
      "source": [
        "# Table of contents\n",
        "<br/>\n",
        "<a href = \"#19.-Functions-&-its-types\">19. What are Functions</a><br/>\n",
        "<a href = \"#20.-What-are-the-types-of-Functions\">20. What are the types of Functions</a><br/>\n",
        "<a href = \"#21.-Arguments-in-a-function\">21. Arguments in a function</a><br/>\n",
        "<a href = \"#22.-Recursive-functions\">22. Recursive functions</a><br/>\n",
        "<a href = \"#23.-Lambda-or-Anonymous-Functions\">23. Lambda or Anonymous Functions</a>"
      ]
    },
    {
      "cell_type": "markdown",
      "metadata": {
        "id": "w7S5PekRr_uM"
      },
      "source": [
        "# 19. What are Functions"
      ]
    },
    {
      "cell_type": "markdown",
      "metadata": {
        "id": "23cvZ6L2r_uN"
      },
      "source": [
        "A group of related statements that perform a specific task is called as a <b>Function</b>."
      ]
    },
    {
      "cell_type": "markdown",
      "metadata": {
        "id": "bXjCK7I9r_uN"
      },
      "source": [
        "Functions help,\n",
        "\n",
        "1> Modularize the code<br/>\n",
        "2> Organized and easy to maintain<br/>\n",
        "3> Repetitive code can be avoided by putting up in a function<br/>"
      ]
    },
    {
      "cell_type": "markdown",
      "metadata": {
        "id": "2Kg6KJ0pr_uO"
      },
      "source": [
        "# Syntax:"
      ]
    },
    {
      "cell_type": "markdown",
      "metadata": {
        "id": "PwHsJPoNr_uO"
      },
      "source": [
        "    def function_name(arguments):\n",
        "    \n",
        "        \"\"\"\n",
        "        Doc String\n",
        "        \"\"\"\n",
        "    \n",
        "        Statement(s)"
      ]
    },
    {
      "cell_type": "markdown",
      "metadata": {
        "id": "rXe9mNBKr_uP"
      },
      "source": [
        "1. \"def\" keyword notifies the start of function header\n",
        "\n",
        "2. Arguments (parameters) through which we pass values to a function. These are optional\n",
        "\n",
        "3. A colon(:) to mark the end of funciton header\n",
        "\n",
        "4. Doc string describe what the function does. This is optional\n",
        "\n",
        "5. \"return\" statement to return a value from the function. This is optional"
      ]
    },
    {
      "cell_type": "markdown",
      "metadata": {
        "id": "jXAzsjyor_uP"
      },
      "source": [
        "# Example:"
      ]
    },
    {
      "cell_type": "code",
      "execution_count": null,
      "metadata": {
        "id": "kJt51bnKr_uQ"
      },
      "outputs": [],
      "source": [
        "def hello_world(world):\n",
        "    \"\"\" \n",
        "    This function prints Hello world\n",
        "    \"\"\"\n",
        "    print(\"Hello \" + str(world)) \n",
        "    "
      ]
    },
    {
      "cell_type": "markdown",
      "metadata": {
        "id": "n2OLBKsMr_uS"
      },
      "source": [
        "# Function Call"
      ]
    },
    {
      "cell_type": "markdown",
      "metadata": {
        "id": "OML0BSsmr_uS"
      },
      "source": [
        "Once we have defined a function, we can call it from anywhere"
      ]
    },
    {
      "cell_type": "code",
      "execution_count": null,
      "metadata": {
        "id": "Hy1QkuGQr_uS"
      },
      "outputs": [],
      "source": [
        "hello_world('world')                # Pass world to the function"
      ]
    },
    {
      "cell_type": "markdown",
      "metadata": {
        "collapsed": true,
        "id": "Ntc1YzONr_uT"
      },
      "source": [
        "# Doc String"
      ]
    },
    {
      "cell_type": "markdown",
      "metadata": {
        "id": "iSruqsxyr_uT"
      },
      "source": [
        "Docstring or short for documentation string is the first string after the function header that speaks about the function.<br/>\n",
        "Documentation(though optional) is a good programming practice and it is advisable that one always documents code<br/>\n",
        "It is surrounded by triple quotes so that it can extend up to multiple lines<br/>"
      ]
    },
    {
      "cell_type": "code",
      "execution_count": null,
      "metadata": {
        "id": "9_U6QkUer_uU"
      },
      "outputs": [],
      "source": [
        "print(hello_world.__doc__)           # print doc string of the function\n"
      ]
    },
    {
      "cell_type": "markdown",
      "metadata": {
        "id": "AGMYrA80r_uU"
      },
      "source": [
        "# return Statement"
      ]
    },
    {
      "cell_type": "markdown",
      "metadata": {
        "id": "hUG9thRGr_uU"
      },
      "source": [
        "The return statement is used to exit a function and go back to the place from where it was called."
      ]
    },
    {
      "cell_type": "markdown",
      "metadata": {
        "id": "YsUByjVvr_uV"
      },
      "source": [
        "Syntax:\n",
        "    \n",
        "    return [expression]"
      ]
    },
    {
      "cell_type": "markdown",
      "metadata": {
        "id": "TUF7qjsqr_uV"
      },
      "source": [
        "- The return statement can contain an expression which gets evaluated and the value is returned.\n",
        "\n",
        "- For no expression in the statement or the return statement itself is not present inside a function, then the function returns <b>None</b> Object"
      ]
    },
    {
      "cell_type": "code",
      "execution_count": null,
      "metadata": {
        "id": "_z3I_-Jfr_uV"
      },
      "outputs": [],
      "source": [
        "def sum(numbers):\n",
        "    \"\"\"\n",
        "    This function returns the sum of all the numbers in a list\n",
        "    \"\"\"\n",
        "    \n",
        "    sum = 0\n",
        "    \n",
        "    for number in numbers:\n",
        "        sum += number\n",
        "    return sum\n"
      ]
    },
    {
      "cell_type": "code",
      "execution_count": null,
      "metadata": {
        "id": "Kv3d4NXmr_uW",
        "outputId": "3e616cf9-03b4-4ab1-ce62-da1c7739d6a1"
      },
      "outputs": [
        {
          "name": "stdout",
          "output_type": "stream",
          "text": [
            "12\n"
          ]
        }
      ],
      "source": [
        "sumOfNumbers = sum([2, 4, 6])\n",
        "print(sumOfNumbers)"
      ]
    },
    {
      "cell_type": "code",
      "execution_count": null,
      "metadata": {
        "id": "M4Z3adyyr_uX",
        "outputId": "8757395f-b40c-4b53-8ad7-1b2a418936bf"
      },
      "outputs": [
        {
          "name": "stdout",
          "output_type": "stream",
          "text": [
            "\n",
            "    This function returns the sum of all the numbers in a list\n",
            "    \n"
          ]
        }
      ],
      "source": [
        "print(sum.__doc__)                                    # Print doc string"
      ]
    },
    {
      "cell_type": "markdown",
      "metadata": {
        "id": "raWTVbTAr_uY"
      },
      "source": [
        "# How Function works in Python?"
      ]
    },
    {
      "cell_type": "markdown",
      "metadata": {
        "id": "M-AMDUaer_uY"
      },
      "source": [
        "<img height=\"200\" width=\"240\" src=\"https://github.com/suchitmajumdar/LearnPython/blob/master/images/how-function-works..png?raw=true\"></img>"
      ]
    },
    {
      "cell_type": "markdown",
      "metadata": {
        "id": "IJ1yzzMKr_uY"
      },
      "source": [
        "# Scope and Lifetime of Variables"
      ]
    },
    {
      "cell_type": "markdown",
      "metadata": {
        "id": "nERNDFiwr_uY"
      },
      "source": [
        "- <b>Scope</b> of a variable is the part of a program where the variable is recognized\n",
        "\n",
        "- Variables defined inside a function have a local scope and are not visible outside the function\n",
        "\n",
        "- <b>Lifetime</b> of a variable is the period throughout which the variable exits in the memory. \n",
        "\n",
        "- The lifetime of variables inside a function is as long as the function executes.\n",
        "\n",
        "- Variables are destroyed once we return from the function. "
      ]
    },
    {
      "cell_type": "markdown",
      "metadata": {
        "id": "LfZQVdRIr_uZ"
      },
      "source": [
        "# Example:"
      ]
    },
    {
      "cell_type": "code",
      "execution_count": null,
      "metadata": {
        "id": "s9ldCNG9r_uZ",
        "outputId": "bae1d0cc-f695-4edb-9b74-c28ca3c78e2b"
      },
      "outputs": [
        {
          "name": "stdout",
          "output_type": "stream",
          "text": [
            "Inside the function block:  This is local variable\n",
            "Inside the function block:  I am a global variable\n",
            "Outside:  I am a global variable\n"
          ]
        },
        {
          "ename": "NameError",
          "evalue": "name 'localVariable' is not defined",
          "output_type": "error",
          "traceback": [
            "\u001b[0;31m---------------------------------------------------------------------------\u001b[0m",
            "\u001b[0;31mNameError\u001b[0m                                 Traceback (most recent call last)",
            "\u001b[0;32m<ipython-input-42-b10f5d423685>\u001b[0m in \u001b[0;36m<module>\u001b[0;34m()\u001b[0m\n\u001b[1;32m     15\u001b[0m \u001b[0mprint\u001b[0m\u001b[1;33m(\u001b[0m\u001b[1;34m\"Outside: \"\u001b[0m\u001b[1;33m,\u001b[0m\u001b[0mglobalVariable\u001b[0m\u001b[1;33m)\u001b[0m                            \u001b[1;31m# Print global variable globalVariable\u001b[0m\u001b[1;33m\u001b[0m\u001b[0m\n\u001b[1;32m     16\u001b[0m \u001b[1;33m\u001b[0m\u001b[0m\n\u001b[0;32m---> 17\u001b[0;31m \u001b[0mprint\u001b[0m\u001b[1;33m(\u001b[0m\u001b[1;34m\"Outside: \"\u001b[0m\u001b[1;33m,\u001b[0m\u001b[0mlocalVariable\u001b[0m\u001b[1;33m)\u001b[0m                             \u001b[1;31m# localVariable is not in scope\u001b[0m\u001b[1;33m\u001b[0m\u001b[0m\n\u001b[0m",
            "\u001b[0;31mNameError\u001b[0m: name 'localVariable' is not defined"
          ]
        }
      ],
      "source": [
        "globalVariable = \"I am a global variable\"\n",
        "\n",
        "def checkLifeTime():\n",
        "    \"\"\"\n",
        "    Function to test life time of variables\n",
        "    \"\"\"\n",
        "    localVariable = \"This is local variable\"\n",
        "    print(\"Inside the function block: \",localVariable)       # Prints the local variable localVariable\n",
        "    \n",
        "    print(\"Inside the function block: \",globalVariable)      # Prints the global variable global_var\n",
        "    \n",
        "    \n",
        "checkLifeTime()                                              # Call function to check the globalVariable\n",
        "\n",
        "print(\"Outside: \",globalVariable)                            # Print global variable globalVariable\n",
        "\n",
        "print(\"Outside: \",localVariable)                             # localVariable is not in scope\n"
      ]
    },
    {
      "cell_type": "markdown",
      "metadata": {
        "id": "fLNEp7gur_ua"
      },
      "source": [
        "# Python program to print Factorial of a number"
      ]
    },
    {
      "cell_type": "code",
      "execution_count": null,
      "metadata": {
        "id": "aLDowjh6r_ua",
        "outputId": "35c73c04-7b48-477c-fab2-f1179109f36f"
      },
      "outputs": [
        {
          "name": "stdout",
          "output_type": "stream",
          "text": [
            "Factorial of 3 is: 6\n"
          ]
        }
      ],
      "source": [
        "def factorial(num):\n",
        "    \"\"\"\n",
        "    Computing HCF of two numbers\n",
        "    \"\"\"\n",
        "\n",
        "    fact = 1\n",
        "\n",
        "    while(num>0):\n",
        "        fact *= num\n",
        "        num -= 1\n",
        "    return fact\n",
        "\n",
        "\n",
        "\n",
        "number = 3\n",
        "\n",
        "print(\"Factorial of {} is: {}\".format(number, factorial(number)))"
      ]
    },
    {
      "cell_type": "markdown",
      "metadata": {
        "id": "IRKafHi6r_ua"
      },
      "source": [
        "# 20. What are the types of Functions"
      ]
    },
    {
      "cell_type": "markdown",
      "metadata": {
        "id": "cMf-06tTr_ub"
      },
      "source": [
        "1. Built-in Functions\n",
        "\n",
        "2. User-defined Functions"
      ]
    },
    {
      "cell_type": "markdown",
      "metadata": {
        "id": "sG4Be0qEr_ub"
      },
      "source": [
        "# Built-in Functions"
      ]
    },
    {
      "cell_type": "markdown",
      "metadata": {
        "id": "QdXOm5HBr_ub"
      },
      "source": [
        "# 1. abs()"
      ]
    },
    {
      "cell_type": "code",
      "execution_count": null,
      "metadata": {
        "id": "XlhCBtc7r_ub",
        "outputId": "ae07b52f-1174-46d9-8054-c485dfaa8eb7"
      },
      "outputs": [
        {
          "name": "stdout",
          "output_type": "stream",
          "text": [
            "100\n"
          ]
        }
      ],
      "source": [
        "number = -100\n",
        "\n",
        "print(abs(number))                                         # Returns the absolute value of a number"
      ]
    },
    {
      "cell_type": "markdown",
      "metadata": {
        "id": "hS7IW-HGr_uc"
      },
      "source": [
        "# 2. all()"
      ]
    },
    {
      "cell_type": "markdown",
      "metadata": {
        "id": "ARB6GMVCr_uc"
      },
      "source": [
        "The function all() retruns,\n",
        "\n",
        "True: If all elements in an iterable data collection are true\n",
        "\n",
        "False: If any element in an iterable data collection is false (Remember 0 & None are considered False)"
      ]
    },
    {
      "cell_type": "code",
      "execution_count": null,
      "metadata": {
        "id": "O4GQWkFxr_uc",
        "outputId": "357cf2d2-965c-4cbc-d0ef-116e0d1d756a"
      },
      "outputs": [
        {
          "name": "stdout",
          "output_type": "stream",
          "text": [
            "True\n"
          ]
        }
      ],
      "source": [
        "mySet = {10,20,30,40}\n",
        "print(all(mySet)) "
      ]
    },
    {
      "cell_type": "code",
      "execution_count": null,
      "metadata": {
        "id": "gIQHefHUr_uc",
        "outputId": "f2a05ac8-39cf-4f2d-befe-289e6b36329e"
      },
      "outputs": [
        {
          "name": "stdout",
          "output_type": "stream",
          "text": [
            "False\n"
          ]
        }
      ],
      "source": [
        "myTuple = (0, 10, 20, 30)    # 0 is a part of the list and hence false \n",
        "print(all(myTuple))"
      ]
    },
    {
      "cell_type": "code",
      "execution_count": null,
      "metadata": {
        "id": "Dj-2isTqr_ud",
        "outputId": "10862b74-2258-4e4f-cd53-e5ad0b3b7388"
      },
      "outputs": [
        {
          "name": "stdout",
          "output_type": "stream",
          "text": [
            "True\n"
          ]
        }
      ],
      "source": [
        "emptyList = []              # An empty list always returns true for all function\n",
        "print(all(emptyList))"
      ]
    },
    {
      "cell_type": "code",
      "execution_count": null,
      "metadata": {
        "id": "-Gt6SSn5r_ud",
        "outputId": "e6a0994b-d9b8-4759-d1fe-ba6ec95d44fa"
      },
      "outputs": [
        {
          "name": "stdout",
          "output_type": "stream",
          "text": [
            "False\n"
          ]
        }
      ],
      "source": [
        "myList = [False, 1, 2]      # False present in a list so all(lst) is False\n",
        "print(all(myList))"
      ]
    },
    {
      "cell_type": "markdown",
      "metadata": {
        "id": "Meck2Ebpr_ud"
      },
      "source": [
        "# dir()"
      ]
    },
    {
      "cell_type": "markdown",
      "metadata": {
        "id": "eFWXZM7-r_ue"
      },
      "source": [
        "The dir() tries to return a <b>list of valid attributes</b> of the object.\n",
        "\n",
        "If the object has __dir__() <u>method</u>, the method will be called and must return the list of attributes.\n",
        "\n",
        "If the object doesn't have __dir()__ method, this method tries to find information from the __dict__ <u>attribute</u> (if defined), and from type object. In this case, the list returned from dir() may not be complete.\n"
      ]
    },
    {
      "cell_type": "code",
      "execution_count": null,
      "metadata": {
        "id": "C-jByo7Sr_ue",
        "outputId": "396f6faa-8035-44bc-f6f3-b6d2b6f8faa8"
      },
      "outputs": [
        {
          "name": "stdout",
          "output_type": "stream",
          "text": [
            "['__add__', '__class__', '__contains__', '__delattr__', '__delitem__', '__dir__', '__doc__', '__eq__', '__format__', '__ge__', '__getattribute__', '__getitem__', '__gt__', '__hash__', '__iadd__', '__imul__', '__init__', '__init_subclass__', '__iter__', '__le__', '__len__', '__lt__', '__mul__', '__ne__', '__new__', '__reduce__', '__reduce_ex__', '__repr__', '__reversed__', '__rmul__', '__setattr__', '__setitem__', '__sizeof__', '__str__', '__subclasshook__', 'append', 'clear', 'copy', 'count', 'extend', 'index', 'insert', 'pop', 'remove', 'reverse', 'sort']\n"
          ]
        }
      ],
      "source": [
        "numbers = [1, 2, 3]\n",
        "print(dir(numbers))"
      ]
    },
    {
      "cell_type": "markdown",
      "metadata": {
        "id": "TDMwH8Rrr_ue"
      },
      "source": [
        "# divmod()"
      ]
    },
    {
      "cell_type": "markdown",
      "metadata": {
        "id": "tjkzSFH0r_uf"
      },
      "source": [
        "The divmod() method takes two numbers and returns a pair of numbers (a tuple) consisting of their quotient and remainder."
      ]
    },
    {
      "cell_type": "code",
      "execution_count": null,
      "metadata": {
        "id": "HMR-ZMqYr_uf",
        "outputId": "444bb92a-3851-4846-da78-b27355d6e31e"
      },
      "outputs": [
        {
          "name": "stdout",
          "output_type": "stream",
          "text": [
            "(4, 1)\n"
          ]
        }
      ],
      "source": [
        "print(divmod(9, 2))                    # Prints the quotient and remainder in the form of a tuple"
      ]
    },
    {
      "cell_type": "markdown",
      "metadata": {
        "id": "pKWVUx9Nr_uf"
      },
      "source": [
        "# enumerate()"
      ]
    },
    {
      "cell_type": "markdown",
      "metadata": {
        "id": "E2Va5hsUr_uf"
      },
      "source": [
        "enumerate() method adds counter to an iterable data collection & returns it \n",
        "\n",
        "<b>Syntax</b>: enumerate(iterable, start=0)\n",
        "\n",
        "The enumerate() method takes two parameters:\n",
        "\n",
        "- iterable - a sequence, an iterator, or objects that supports iteration\n",
        "- start (optional) - enumerate() starts counting from this number. If start is omitted, 0 is taken as start."
      ]
    },
    {
      "cell_type": "code",
      "execution_count": null,
      "metadata": {
        "id": "-SLUeL5Gr_ug",
        "outputId": "9a8847ec-9a35-4112-9d9f-ad9c73dbe4d3"
      },
      "outputs": [
        {
          "name": "stdout",
          "output_type": "stream",
          "text": [
            "index 10 has value 1\n",
            "index 11 has value 2\n",
            "index 12 has value 3\n",
            "index 13 has value 4\n"
          ]
        }
      ],
      "source": [
        "numbers = [1, 2, 3, 4]\n",
        "\n",
        "for index, num in enumerate(numbers,10):\n",
        "    print(\"index {0} has value {1}\".format(index, num))\n",
        "    "
      ]
    },
    {
      "cell_type": "markdown",
      "metadata": {
        "id": "JRckeebHr_ug"
      },
      "source": [
        "# filter()"
      ]
    },
    {
      "cell_type": "markdown",
      "metadata": {
        "id": "EmaYqHiSr_ug"
      },
      "source": [
        "The filter() method constructs an iterator from elements of an iterable for which a function returns true."
      ]
    },
    {
      "cell_type": "markdown",
      "metadata": {
        "id": "ckCfjzFKr_uh"
      },
      "source": [
        "<b>Syntax</b>: filter(function, iterable)\n",
        "\n",
        "The filter() method takes two parameters:\n",
        "\n",
        "- function - function that tests if elements of an iterable returns true or false\n",
        "If <b>None</b>, the function defaults to <b>Identity function</b> - which returns false if any elements are false\n",
        "- iterable - iterable which is to be filtered, could be sets, lists, tuples, or containers of any iterators"
      ]
    },
    {
      "cell_type": "code",
      "execution_count": null,
      "metadata": {
        "id": "8_VtT2drr_uh"
      },
      "outputs": [],
      "source": [
        "def even_number(number):\n",
        "    \"\"\"\n",
        "    This function returns if a number is an even numbers\n",
        "    \"\"\"\n",
        "    if number%2 == 0:\n",
        "        return number\n",
        "    "
      ]
    },
    {
      "cell_type": "code",
      "execution_count": null,
      "metadata": {
        "id": "TeXqlJ29r_uh",
        "outputId": "1e321f16-b349-4d9e-ed16-b2229f0fde27"
      },
      "outputs": [
        {
          "name": "stdout",
          "output_type": "stream",
          "text": [
            "Original list of numbers:  [0, 1, 2, 3, 4, 5, 6, 7, 8, 9, 10, 11, 12, 13, 14, 15, 16, 17, 18, 19, 20, 21, 22, 23, 24, 25, 26, 27, 28, 29, 30, 31, 32, 33, 34, 35, 36, 37, 38, 39, 40, 41, 42, 43, 44, 45, 46, 47, 48, 49]\n",
            "\n",
            "Even numbers are:  [2, 4, 6, 8, 10, 12, 14, 16, 18, 20, 22, 24, 26, 28, 30, 32, 34, 36, 38, 40, 42, 44, 46, 48]\n"
          ]
        }
      ],
      "source": [
        "numbers = range(50)                                # A list with numbers from 0 to 49\n",
        "print('Original list of numbers: ',list(numbers))\n",
        "\n",
        "evenNumbers = list(filter(even_number, numbers))\n",
        "\n",
        "print('\\nEven numbers are: ',evenNumbers)"
      ]
    },
    {
      "cell_type": "markdown",
      "metadata": {
        "id": "Q3ZXKMgJr_ui"
      },
      "source": [
        "# isinstance()"
      ]
    },
    {
      "cell_type": "markdown",
      "metadata": {
        "id": "Is2AP8vMr_ui"
      },
      "source": [
        "The isinstance() function checks if the object (first argument) is an instance or subclass of classinfo class (second argument)."
      ]
    },
    {
      "cell_type": "markdown",
      "metadata": {
        "id": "fq0ggNDAr_ui"
      },
      "source": [
        "<b>Syntax</b>: isinstance(object, classinfo)"
      ]
    },
    {
      "cell_type": "code",
      "execution_count": null,
      "metadata": {
        "id": "hsLI7WXcr_ui",
        "outputId": "9af34c33-01df-4282-c948-e393b5a3091e"
      },
      "outputs": [
        {
          "name": "stdout",
          "output_type": "stream",
          "text": [
            "True\n",
            "True\n"
          ]
        }
      ],
      "source": [
        "mySet = {'Same', 'Not same', 100, 23}\n",
        "print(isinstance(mySet, set))                          # Check for set\n",
        "\n",
        "\n",
        "myDict = {1:1,2:2,3:3,4:4}     \n",
        "print(isinstance(myDict, dict))                        # Check for dictionary"
      ]
    },
    {
      "cell_type": "markdown",
      "metadata": {
        "id": "93DXiuxxr_uj"
      },
      "source": [
        "# map()"
      ]
    },
    {
      "cell_type": "markdown",
      "metadata": {
        "id": "dju6tvEMr_uj"
      },
      "source": [
        "Map applies a function to all the items in an input_list.<br/>\n",
        "<b>Syntax</b>: map(function_to_apply, list_of_inputs)"
      ]
    },
    {
      "cell_type": "code",
      "execution_count": null,
      "metadata": {
        "id": "b5kkvAa9r_uj",
        "outputId": "c161fbdf-14be-4672-aff3-f5d4c0bfe254"
      },
      "outputs": [
        {
          "name": "stdout",
          "output_type": "stream",
          "text": [
            "[5.0, 5.5, 6.0, 6.5, 7.0]\n"
          ]
        }
      ],
      "source": [
        "numbers = [10, 11, 12, 13, 14]\n",
        "\n",
        "            \n",
        "half = []                        # Calculate half of each element in the list.\n",
        "for num in numbers:\n",
        "    half.append(num / 2)\n",
        "\n",
        "print(half)\n"
      ]
    },
    {
      "cell_type": "code",
      "execution_count": null,
      "metadata": {
        "id": "DG4tk_d3r_uk",
        "outputId": "ea76ed57-be0e-48b7-fa3b-ed0b1567f8c6"
      },
      "outputs": [
        {
          "name": "stdout",
          "output_type": "stream",
          "text": [
            "[5.0, 5.5, 6.0, 6.5, 7.0]\n"
          ]
        }
      ],
      "source": [
        "numbers = [10, 11, 12, 13, 14]\n",
        "\n",
        "def halfOfTheNumber(num):\n",
        "    return num / 2\n",
        "\n",
        "halves = list(map(halfOfTheNumber, numbers))           # Passing the calculation method to the map() function\n",
        "print(halves)\n"
      ]
    },
    {
      "cell_type": "markdown",
      "metadata": {
        "id": "-AOCJte3r_uk"
      },
      "source": [
        "# reduce()"
      ]
    },
    {
      "cell_type": "markdown",
      "metadata": {
        "id": "oQTCYixdr_uk"
      },
      "source": [
        "reduce() function is for performing some computation on a list and returning the result. \n",
        "\n",
        "It applies a rolling computation to sequential pairs of values in a list. \n",
        "\n",
        "\n",
        "<b>Working</b> : \n",
        "\n",
        "- At first step, first two elements of sequence are picked and the result is obtained.\n",
        "- Next step is to apply the same function to the previously attained result and the number just succeeding the second element and the result is again stored.\n",
        "- This process continues till no more elements are left in the container.\n",
        "- The final returned result is returned and printed on console."
      ]
    },
    {
      "cell_type": "code",
      "execution_count": null,
      "metadata": {
        "id": "GRgL3pmtr_uk",
        "outputId": "be926b4f-5212-474f-ed2f-63d2c35b444a"
      },
      "outputs": [
        {
          "name": "stdout",
          "output_type": "stream",
          "text": [
            "10\n"
          ]
        }
      ],
      "source": [
        "sumOfAnArray = 0                              # Sum the numbers in a list\n",
        "numbers = [1, 2, 3, 4]\n",
        "\n",
        "for num in numbers:                  # Regular way of programming\n",
        "    sumOfAnArray += num\n",
        "print(sumOfAnArray)"
      ]
    },
    {
      "cell_type": "code",
      "execution_count": null,
      "metadata": {
        "id": "vDksrMsMr_ul",
        "outputId": "0e7885be-1c61-4477-a2cd-253feda0da1b"
      },
      "outputs": [
        {
          "name": "stdout",
          "output_type": "stream",
          "text": [
            "10\n"
          ]
        }
      ],
      "source": [
        "from functools import reduce # in Python 3.\n",
        "\n",
        "def additionOfNumbers(x,y):                              # Program using reduce()\n",
        "    return x+y;\n",
        "\n",
        "sumOfAnArray = reduce(additionOfNumbers, numbers)\n",
        "print(sumOfAnArray)\n"
      ]
    },
    {
      "cell_type": "markdown",
      "metadata": {
        "id": "zed3V5Cir_ul"
      },
      "source": [
        "\n",
        "# 2. User-defined Functions"
      ]
    },
    {
      "cell_type": "markdown",
      "metadata": {
        "id": "shb9x6uYr_ul"
      },
      "source": [
        "Functions that programmers define to do certain tasks are known as user-defined functions<br/>\n",
        "If we use functions written by others in the form of library, it can be termed as library functions."
      ]
    },
    {
      "cell_type": "markdown",
      "metadata": {
        "id": "WqedJh6Vr_um"
      },
      "source": [
        "### Advantages"
      ]
    },
    {
      "cell_type": "markdown",
      "metadata": {
        "id": "Vv7uwKEcr_um"
      },
      "source": [
        "1. <b>Understandability: </b>User-defined functions help to decompose a large program into small segments which makes program easy to understand, maintain and debug.\n",
        "\n",
        "2. <b>Removing redundancy: </b>If repeated code occurs in a program. Function can be used to include those codes and execute when needed by calling that function.\n",
        "\n",
        "3. <b>Task seggregation: </b>Programmars working on large project can divide the workload by making different functions."
      ]
    },
    {
      "cell_type": "markdown",
      "metadata": {
        "id": "1uUEnWPJr_um"
      },
      "source": [
        "# Example:"
      ]
    },
    {
      "cell_type": "code",
      "execution_count": null,
      "metadata": {
        "id": "vEhmqQ4Ur_um",
        "outputId": "8cadb05f-3ae5-44dd-89b4-dcdf468ada12"
      },
      "outputs": [
        {
          "name": "stdout",
          "output_type": "stream",
          "text": [
            "Sum of 10 and 20 is 30 \n"
          ]
        }
      ],
      "source": [
        "def sumOfNumbers(num1, num2):\n",
        "    \"\"\"\n",
        "    this function returns the product of two numbers\n",
        "    \"\"\"\n",
        "    sumVal = num1 + num2\n",
        "    return sumVal\n",
        "\n",
        "val1 = 10\n",
        "val2 = 20\n",
        "print(\"Sum of {0} and {1} is {2} \".format(val1, val2, sumOfNumbers(val1, val2)))"
      ]
    },
    {
      "cell_type": "markdown",
      "metadata": {
        "id": "Q2H3yPFRr_un"
      },
      "source": [
        "#### Python program to make a simple calculator that can add, subtract, multiply and division"
      ]
    },
    {
      "cell_type": "code",
      "execution_count": null,
      "metadata": {
        "id": "kObf06B7r_un"
      },
      "outputs": [],
      "source": [
        "def add(a, b):\n",
        "    \"\"\"\n",
        "    This function adds two numbers\n",
        "    \"\"\"\n",
        "    return a + b\n",
        "\n",
        "def multiply(a, b):\n",
        "    \"\"\"\n",
        "    This function multiply two numbers\n",
        "    \"\"\"\n",
        "    return a * b\n",
        "\n",
        "def subtract(a, b):\n",
        "    \"\"\"\n",
        "    This function subtract two numbers\n",
        "    \"\"\"\n",
        "    return a - b\n",
        "\n",
        "def division(a, b):\n",
        "    \"\"\"\n",
        "    This function divides two numbers\n",
        "    \"\"\"\n",
        "    return a / b\n",
        "\n",
        "print(\"Select Option\")\n",
        "print(\"1. Addition\")\n",
        "print (\"2. Subtraction\")\n",
        "print (\"3. Multiplication\")\n",
        "print (\"4. Division\")\n",
        "\n",
        "#take input from user\n",
        "choice = int(input(\"Enter choice 1/2/3/4\"))\n",
        "\n",
        "num1 = float(input(\"Enter first number:\"))\n",
        "num2 = float(input(\"Enter second number:\"))\n",
        "if choice == 1:\n",
        "    print(\"Addition of {0} and {1} is {2}\".format(num1, num2, add(num1, num2)))\n",
        "elif choice == 2:\n",
        "    print(\"Subtraction of {0} and {1} is {2}\".format(num1, num2, subtract(num1, num2)))\n",
        "elif choice == 3:\n",
        "    print(\"Multiplication of {0} and {1} is {2}\".format(num1, num2, multiply(num1, num2)))\n",
        "elif choice == 4:\n",
        "    print(\"Division of {0} and {1} is {2}\".format(num1, num2, division(num1, num2)))\n",
        "else:\n",
        "    print(\"Invalid Choice\")"
      ]
    },
    {
      "cell_type": "markdown",
      "metadata": {
        "collapsed": true,
        "id": "gLN_tBcSr_uo"
      },
      "source": [
        "<center>End of section</center>\n",
        "\n",
        "--- "
      ]
    },
    {
      "cell_type": "markdown",
      "metadata": {
        "id": "xOUYxF6ir_uo"
      },
      "source": [
        "# 21. Arguments in a function\n"
      ]
    },
    {
      "cell_type": "code",
      "execution_count": null,
      "metadata": {
        "id": "7U0qV1qtr_uo",
        "outputId": "34013052-c339-459f-8726-1b0f5968c3ac"
      },
      "outputs": [
        {
          "name": "stdout",
          "output_type": "stream",
          "text": [
            "Hello Suchit , welcome to the world of Python\n"
          ]
        }
      ],
      "source": [
        "def hello(name, msg):\n",
        "    \"\"\"\n",
        "    This function prints a message for a person\n",
        "    \"\"\"\n",
        "    print(\"Hello {0} , {1}\".format(name, msg))\n",
        "\n",
        "hello(\"Suchit\", \"welcome to the world of Python\")                  # Pass the arguments to the function\n"
      ]
    },
    {
      "cell_type": "code",
      "execution_count": null,
      "metadata": {
        "id": "6h1QNGF9r_up",
        "outputId": "bafc6bd8-d877-46e7-dfaf-6013310c59a3"
      },
      "outputs": [
        {
          "ename": "TypeError",
          "evalue": "hello() missing 1 required positional argument: 'msg'",
          "output_type": "error",
          "traceback": [
            "\u001b[0;31m---------------------------------------------------------------------------\u001b[0m",
            "\u001b[0;31mTypeError\u001b[0m                                 Traceback (most recent call last)",
            "\u001b[0;32m<ipython-input-15-1c0e21f9c3f4>\u001b[0m in \u001b[0;36m<module>\u001b[0;34m()\u001b[0m\n\u001b[0;32m----> 1\u001b[0;31m \u001b[0mhello\u001b[0m\u001b[1;33m(\u001b[0m\u001b[1;34m\"Suchit\"\u001b[0m\u001b[1;33m)\u001b[0m                                  \u001b[1;31m# What happens if I miss any argument\u001b[0m\u001b[1;33m\u001b[0m\u001b[0m\n\u001b[0m",
            "\u001b[0;31mTypeError\u001b[0m: hello() missing 1 required positional argument: 'msg'"
          ]
        }
      ],
      "source": [
        "hello(\"Suchit\")                                  # What happens if I miss any argument"
      ]
    },
    {
      "cell_type": "markdown",
      "metadata": {
        "id": "e16thioYr_up"
      },
      "source": [
        "## Different Forms of Arguments"
      ]
    },
    {
      "cell_type": "markdown",
      "metadata": {
        "id": "X2x8P0j1r_up"
      },
      "source": [
        "### 1. Default Arguments"
      ]
    },
    {
      "cell_type": "markdown",
      "metadata": {
        "id": "pA3GkzxMr_uq"
      },
      "source": [
        "Provision to pass default value to an argument by using the assignment operator (=). "
      ]
    },
    {
      "cell_type": "code",
      "execution_count": null,
      "metadata": {
        "id": "zdtYt9jJr_uq",
        "outputId": "8f3c63ca-6103-4618-bdba-4021bd1a80e2"
      },
      "outputs": [
        {
          "ename": "SyntaxError",
          "evalue": "non-default argument follows default argument (<ipython-input-22-287bf8212d17>, line 1)",
          "output_type": "error",
          "traceback": [
            "\u001b[0;36m  File \u001b[0;32m\"<ipython-input-22-287bf8212d17>\"\u001b[0;36m, line \u001b[0;32m1\u001b[0m\n\u001b[0;31m    def hello(msg=\"welcome to the world of Python\",name):\u001b[0m\n\u001b[0m             ^\u001b[0m\n\u001b[0;31mSyntaxError\u001b[0m\u001b[0;31m:\u001b[0m non-default argument follows default argument\n"
          ]
        }
      ],
      "source": [
        "def hello(name, msg=\"welcome to the world of Python\"):\n",
        "    \"\"\"\n",
        "    This function greets to person with the provided message\n",
        "    if message is not provided, it defaults to \"welcome to the world of Python\"\n",
        "    \"\"\"\n",
        "    print(\"Hello {0} , {1}\".format(name, msg))\n",
        "\n",
        "hello(\"Suchit\", \"welcome to the world of Data Science\")\n"
      ]
    },
    {
      "cell_type": "code",
      "execution_count": null,
      "metadata": {
        "id": "yldS8gm0r_uq",
        "outputId": "1eccfdd2-9d1b-46de-ca72-c1cc26efbc15"
      },
      "outputs": [
        {
          "name": "stdout",
          "output_type": "stream",
          "text": [
            "Hello Suchit , welcome to the world of Python\n"
          ]
        }
      ],
      "source": [
        "hello(\"Suchit\")                             # Without the msg argument"
      ]
    },
    {
      "cell_type": "markdown",
      "metadata": {
        "id": "Vq7T7ZYSr_ur"
      },
      "source": [
        "Once we have a default argument, all the arguments to its right must also have default values."
      ]
    },
    {
      "cell_type": "code",
      "execution_count": null,
      "metadata": {
        "id": "9RqTlq0mr_ur",
        "outputId": "06a11b0a-c7ba-49e1-ee88-9535b6e35f6f"
      },
      "outputs": [
        {
          "ename": "SyntaxError",
          "evalue": "non-default argument follows default argument (<ipython-input-25-8dfe8d59dec7>, line 1)",
          "output_type": "error",
          "traceback": [
            "\u001b[0;36m  File \u001b[0;32m\"<ipython-input-25-8dfe8d59dec7>\"\u001b[0;36m, line \u001b[0;32m1\u001b[0m\n\u001b[0;31m    def hello(msg=\"Good Morning\", name):        # We will get a SyntaxError\u001b[0m\n\u001b[0m             ^\u001b[0m\n\u001b[0;31mSyntaxError\u001b[0m\u001b[0;31m:\u001b[0m non-default argument follows default argument\n"
          ]
        }
      ],
      "source": [
        "def hello(msg=\"Good Morning\", name):        # We will get a SyntaxError\n",
        "    print()"
      ]
    },
    {
      "cell_type": "markdown",
      "metadata": {
        "id": "pXtwOXqHr_ur"
      },
      "source": [
        "# 2. Keyword Arguments"
      ]
    },
    {
      "cell_type": "markdown",
      "metadata": {
        "id": "SP1uD67Kr_ur"
      },
      "source": [
        "kwargs allows you to pass key identified variables in number of arguments to a function. \n",
        "<br/>You should use **kwargs if you want to handle named arguments in a function"
      ]
    },
    {
      "cell_type": "markdown",
      "metadata": {
        "id": "xqV57pAEr_us"
      },
      "source": [
        "# Example:"
      ]
    },
    {
      "cell_type": "code",
      "execution_count": null,
      "metadata": {
        "id": "tK3Lnarpr_us",
        "outputId": "9028e68e-0adb-4401-a724-14399a91d7e6"
      },
      "outputs": [
        {
          "name": "stdout",
          "output_type": "stream",
          "text": [
            "Hello Suchit , welcome to the world of Python\n"
          ]
        }
      ],
      "source": [
        "def hello(**kwargs):\n",
        "    \"\"\"\n",
        "    This function greets to person with the provided message\n",
        "    \"\"\"\n",
        "    if kwargs:\n",
        "        print(\"Hello {0} , {1}\".format(kwargs['name'], kwargs['msg']))\n",
        "        \n",
        "hello(name=\"Suchit\", msg=\"welcome to the world of Python\")"
      ]
    },
    {
      "cell_type": "markdown",
      "metadata": {
        "id": "l6zUK9bwr_us"
      },
      "source": [
        "# 3. Arbitary Arguments"
      ]
    },
    {
      "cell_type": "markdown",
      "metadata": {
        "id": "jXjprGOxr_us"
      },
      "source": [
        "Sometimes, we do not know in advance the number of arguments that will be passed into a function.<br/> Python allows us to handle this kind of situation through function calls with arbitrary number of arguments.<br/>\n",
        "These can be accessed by iterating over the argument collection"
      ]
    },
    {
      "cell_type": "markdown",
      "metadata": {
        "id": "kueXHtZRr_ut"
      },
      "source": [
        "# Example:"
      ]
    },
    {
      "cell_type": "code",
      "execution_count": null,
      "metadata": {
        "id": "4-yFW_Yir_ut",
        "outputId": "264b8916-0533-46f6-fffc-3f14cd90d2be"
      },
      "outputs": [
        {
          "name": "stdout",
          "output_type": "stream",
          "text": [
            "('Suchit', 'Shireen', 'Roshni', 'Rakesh')\n",
            "Hello Suchit\n",
            "Hello Shireen\n",
            "Hello Roshni\n",
            "Hello Rakesh\n"
          ]
        }
      ],
      "source": [
        "def hello(*names):\n",
        "    \"\"\"\n",
        "    This function greets all persons in the names tuple \n",
        "    \"\"\"\n",
        "    print(names)\n",
        "    \n",
        "    for name in names:\n",
        "        print(\"Hello {0}\".format(name))\n",
        "\n",
        "hello(\"Suchit\", \"Shireen\", \"Roshni\", \"Rakesh\")"
      ]
    },
    {
      "cell_type": "code",
      "execution_count": null,
      "metadata": {
        "id": "IsPu0GDur_ut"
      },
      "outputs": [],
      "source": []
    },
    {
      "cell_type": "markdown",
      "metadata": {
        "id": "CRW0xPGkr_ut"
      },
      "source": [
        "# 22. Recursive functions"
      ]
    },
    {
      "cell_type": "markdown",
      "metadata": {
        "id": "Z1rD88A5r_uu"
      },
      "source": [
        "We know that in Python, a function can call other functions. <br/>The function can call itself too. These type of construct are termed as <b>recursive functions</b>."
      ]
    },
    {
      "cell_type": "markdown",
      "metadata": {
        "id": "SZs6ChKir_uu"
      },
      "source": [
        "# Example:"
      ]
    },
    {
      "cell_type": "code",
      "execution_count": null,
      "metadata": {
        "id": "RynE-y2Lr_uu",
        "outputId": "0f4a5529-f48b-4ba2-84db-27e21f571f82"
      },
      "outputs": [
        {
          "name": "stdout",
          "output_type": "stream",
          "text": [
            "Factorial of 5 is 120 \n"
          ]
        }
      ],
      "source": [
        "def factorial(num):                     # Program to print factorial of a number using recursion\n",
        "    \"\"\"\n",
        "    This is a recursive function to find the factorial of a given number\n",
        "    \"\"\"\n",
        "    return 1 if num == 1 else (num * factorial(num-1))\n",
        "\n",
        "number = 5\n",
        "print(\"Factorial of {0} is {1} \".format(number, factorial(number)))\n"
      ]
    },
    {
      "cell_type": "markdown",
      "metadata": {
        "id": "iGbHlNJhr_uu"
      },
      "source": [
        "# Advantages"
      ]
    },
    {
      "cell_type": "markdown",
      "metadata": {
        "id": "rFP19l3-r_uv"
      },
      "source": [
        "- Recursive functions make the code look clean and elegant.\n",
        "\n",
        "- A complex task can be broken down into simpler sub-problems using recursion.\n",
        "\n",
        "- Sequence generation is easier with recursion than using some nested iteration.\n"
      ]
    },
    {
      "cell_type": "markdown",
      "metadata": {
        "id": "QlvhWx1ur_uv"
      },
      "source": [
        "# Disadvantages"
      ]
    },
    {
      "cell_type": "markdown",
      "metadata": {
        "id": "h2Z5GsNUr_uv"
      },
      "source": [
        "- Sometimes the logic behind recursion is hard to follow through.\n",
        "\n",
        "- Recursive calls are expensive (inefficient) as they take up a lot of memory and time.\n",
        "\n",
        "- Recursive functions are hard to debug.\n"
      ]
    },
    {
      "cell_type": "markdown",
      "metadata": {
        "id": "FYQ8SsIsr_uv"
      },
      "source": [
        "<b>Excercise</b>: Fibonacci series"
      ]
    },
    {
      "cell_type": "code",
      "execution_count": null,
      "metadata": {
        "id": "qfWSUty1r_uw",
        "outputId": "dad456c1-6480-4650-cc53-88a01d036860"
      },
      "outputs": [
        {
          "name": "stdout",
          "output_type": "stream",
          "text": [
            "The Fibonacci series is as below\n",
            "0\n",
            "1\n",
            "1\n",
            "2\n",
            "3\n"
          ]
        }
      ],
      "source": [
        "def fibonacci(num):\n",
        "    \"\"\"\n",
        "    Recursive function to print fibonacci sequence\n",
        "    \"\"\"\n",
        "    return num if num <= 1 else fibonacci(num-1) + fibonacci(num-2)\n",
        "\n",
        "nterms = 5\n",
        "print(\"The Fibonacci series is as below\")\n",
        "for num in range(nterms):\n",
        "    print(fibonacci(num))"
      ]
    },
    {
      "cell_type": "code",
      "execution_count": null,
      "metadata": {
        "id": "McKpIRWlr_uw"
      },
      "outputs": [],
      "source": []
    },
    {
      "cell_type": "markdown",
      "metadata": {
        "id": "ZhqewNgqr_uw"
      },
      "source": [
        "# 23. Lambda or Anonymous Functions"
      ]
    },
    {
      "cell_type": "markdown",
      "metadata": {
        "id": "SijDUd7ar_uw"
      },
      "source": [
        "In Python, <b>anonymous function</b> is a function that is defined without a name.\n",
        "\n",
        "While <b>normal functions</b> are defined using <b>def keyword</b>, <br/>in Python <b>anonymous functions</b> are defined using the <b>lambda keyword</b>.\n",
        "\n",
        "Lambda functions are used extensively along with built-in functions like filter(), map()"
      ]
    },
    {
      "cell_type": "markdown",
      "metadata": {
        "id": "-rGp-8CPr_ux"
      },
      "source": [
        "<b>Syntax</b>:\n",
        "    \n",
        "    lambda arguments: expression"
      ]
    },
    {
      "cell_type": "markdown",
      "metadata": {
        "id": "6gKU9dnpr_ux"
      },
      "source": [
        "# Example:"
      ]
    },
    {
      "cell_type": "code",
      "execution_count": null,
      "metadata": {
        "id": "mQJVrDdfr_ux",
        "outputId": "0567e690-79a6-484f-9ab4-cd8e81d67690"
      },
      "outputs": [
        {
          "name": "stdout",
          "output_type": "stream",
          "text": [
            "100\n"
          ]
        }
      ],
      "source": [
        "def square(x):                   # In regular way we write the squaring function as beside\n",
        "    return x ** 2\n",
        "\n",
        "print(square(10))"
      ]
    },
    {
      "cell_type": "code",
      "execution_count": null,
      "metadata": {
        "id": "H9zYIoecr_ux",
        "outputId": "e92ab6ec-970d-4944-ad4a-3d1423a486b5"
      },
      "outputs": [
        {
          "name": "stdout",
          "output_type": "stream",
          "text": [
            "100\n"
          ]
        }
      ],
      "source": [
        "square = lambda x: x**2          # Using lambe we write the squaring function as beside\n",
        "\n",
        "print(square(10))"
      ]
    },
    {
      "cell_type": "markdown",
      "metadata": {
        "id": "8HL0E1ULr_uy"
      },
      "source": [
        "<b>Use lambda with filter()</b>"
      ]
    },
    {
      "cell_type": "code",
      "execution_count": null,
      "metadata": {
        "id": "oNx1f4rnr_uy",
        "outputId": "70c62e55-0627-4834-bbd5-728f751b5973"
      },
      "outputs": [
        {
          "name": "stdout",
          "output_type": "stream",
          "text": [
            "[1, 3, 5]\n"
          ]
        }
      ],
      "source": [
        "myList = [1, 2, 3, 4, 5]   \n",
        "oddList = list(filter(lambda x: (x%2 != 0), myList))\n",
        "print(oddList)\n"
      ]
    },
    {
      "cell_type": "markdown",
      "metadata": {
        "id": "YBpbxSURr_uy"
      },
      "source": [
        "<b>Use lambda with map()</b>"
      ]
    },
    {
      "cell_type": "code",
      "execution_count": null,
      "metadata": {
        "id": "7cSotNyOr_uz",
        "outputId": "8c30f626-3804-4a64-9e48-01239ef342b8"
      },
      "outputs": [
        {
          "name": "stdout",
          "output_type": "stream",
          "text": [
            "[1, 4, 9, 16, 25]\n"
          ]
        }
      ],
      "source": [
        "myList = [1, 2, 3, 4, 5]\n",
        "sqList = list(map(lambda x: x ** 2, myList))\n",
        "print(sqList)\n"
      ]
    },
    {
      "cell_type": "markdown",
      "metadata": {
        "id": "zx-JssWor_uz"
      },
      "source": [
        "<b>Use lambda with reduce()</b>"
      ]
    },
    {
      "cell_type": "code",
      "execution_count": null,
      "metadata": {
        "id": "EGgPzjofr_uz",
        "outputId": "85e2b562-cd55-4f1e-c926-b9236396ebac"
      },
      "outputs": [
        {
          "name": "stdout",
          "output_type": "stream",
          "text": [
            "15\n"
          ]
        }
      ],
      "source": [
        "from functools import reduce\n",
        "\n",
        "myList = [1, 2, 3, 4, 5]\n",
        "sumList = reduce(lambda x, y: x+y, myList)\n",
        "print(sumList)\n"
      ]
    }
  ],
  "metadata": {
    "kernelspec": {
      "display_name": "Python 3",
      "language": "python",
      "name": "python3"
    },
    "language_info": {
      "codemirror_mode": {
        "name": "ipython",
        "version": 3
      },
      "file_extension": ".py",
      "mimetype": "text/x-python",
      "name": "python",
      "nbconvert_exporter": "python",
      "pygments_lexer": "ipython3",
      "version": "3.6.0"
    },
    "colab": {
      "provenance": [],
      "include_colab_link": true
    }
  },
  "nbformat": 4,
  "nbformat_minor": 0
}
