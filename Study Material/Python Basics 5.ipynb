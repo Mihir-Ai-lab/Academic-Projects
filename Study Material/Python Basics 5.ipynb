{
  "cells": [
    {
      "cell_type": "markdown",
      "metadata": {
        "id": "view-in-github",
        "colab_type": "text"
      },
      "source": [
        "<a href=\"https://colab.research.google.com/github/Mihir-Ai-lab/Insaid/blob/main/PythonBasics_5_1531630575350.ipynb\" target=\"_parent\"><img src=\"https://colab.research.google.com/assets/colab-badge.svg\" alt=\"Open In Colab\"/></a>"
      ]
    },
    {
      "cell_type": "markdown",
      "metadata": {
        "id": "SrgTsKMmpUz0"
      },
      "source": [
        "# <center>Python Basics<center/> \n",
        "<img height=\"60\" width=\"120\" src=\"https://www.python.org/static/img/python-logo-large.png?1414305901\"></img>"
      ]
    },
    {
      "cell_type": "markdown",
      "metadata": {
        "id": "zeVLySx1pUz6"
      },
      "source": [
        "# <center>Data types in depth</center>"
      ]
    },
    {
      "cell_type": "markdown",
      "metadata": {
        "id": "RZkUg7olpUz6"
      },
      "source": [
        "# Table of contents\n",
        "<br/>\n",
        "\n",
        "<a href = \"#14.-Lists\">14. Lists</a><br/>\n",
        "<a href = \"#15.-Tuples\">15. Tuples</a><br/>\n",
        "<a href = \"#16.-Sets\">16. Sets</a><br/>\n",
        "<a href = \"#17.-Dictionary\">17. Dictionary</a><br/>\n",
        "<a href = \"#18.-Strings\">18. Strings</a><br/>"
      ]
    },
    {
      "cell_type": "markdown",
      "metadata": {
        "id": "pvx5rP0zpUz7"
      },
      "source": [
        "The most basic **DATA STRUCTURE** in Python is the **sequence**. Each element of a <u>sequence is assigned a number</u> - its **position or index**. <br/>\n",
        "The first index is <i>zero, the second index is one, and so forth</i>.\n",
        "\n",
        "Popular sequences in python are **Lists, Tuples, Sets, Dictionary and Strings**.\n",
        "\n",
        "The popular operations include **indexing, slicing, adding, multiplying, and checking for membership**. In addition, Python has built-in functions for finding the **length** of a sequence and for finding its **largest and smallest elements**."
      ]
    },
    {
      "cell_type": "markdown",
      "metadata": {
        "id": "uzylCdZ-pUz8"
      },
      "source": [
        "# 14. Lists"
      ]
    },
    {
      "cell_type": "markdown",
      "metadata": {
        "id": "aJv9tvfepUz8"
      },
      "source": [
        "Points to remeber:\n",
        "\n",
        "<ul>\n",
        "    <li>Lists are collection of items (Strings, integers or even other lists)</li>\n",
        "    <li>Lists are enclosed in [ ]</li>\n",
        "    <li>Every item in a list has an assigned index value.</li>\n",
        "    <li>Each item in a list is separated by a comma</li>\n",
        "    <li>Lists are mutable, which means they can be changed.</li>\n",
        "</ul>"
      ]
    },
    {
      "cell_type": "markdown",
      "metadata": {
        "collapsed": true,
        "id": "XGytIutypUz9"
      },
      "source": [
        "## 14.1 How to create a List"
      ]
    },
    {
      "cell_type": "code",
      "execution_count": null,
      "metadata": {
        "id": "oxSubomdpUz9",
        "outputId": "6a827db7-bba1-4218-e84a-258bc2e93119"
      },
      "outputs": [
        {
          "name": "stdout",
          "output_type": "stream",
          "text": [
            "[[45, 3.2], [12, 4.2]]\n"
          ]
        }
      ],
      "source": [
        "blankList = []                                      # Declare an empty List\n",
        "\n",
        "listOfString = ['apple','banana']                  # List of strings\n",
        "\n",
        "listOfNumbers = [12, 7.6,30,64]                   # List of integers\n",
        "\n",
        "listOfList = [[45, 3.2],[12, 4.2]]                  # List of lists\n",
        "\n",
        "listOfMixedDataTypes = [55.4, 'Bill', 232, 14.4]     # List of different datatypes\n",
        "\n",
        "print(listOfList)"
      ]
    },
    {
      "cell_type": "markdown",
      "metadata": {
        "id": "SmeLr6nLpU0A"
      },
      "source": [
        "## 14.2 Finding the Length of the List"
      ]
    },
    {
      "cell_type": "code",
      "execution_count": null,
      "metadata": {
        "id": "_llWCv77pU0B",
        "outputId": "aef8abd4-3e54-4a41-fff1-6b3ea1859d05"
      },
      "outputs": [
        {
          "name": "stdout",
          "output_type": "stream",
          "text": [
            "4\n"
          ]
        }
      ],
      "source": [
        "lstOfMixedDataTypes = [55.4, 'Bill', 232, 14.4]\n",
        "\n",
        "print(len(listOfMixedDataTypes))                      # Use the len function"
      ]
    },
    {
      "cell_type": "markdown",
      "metadata": {
        "id": "A7oLCDUQpU0B"
      },
      "source": [
        "## 14.3 Add an element to the end of the List - Append"
      ]
    },
    {
      "cell_type": "code",
      "execution_count": null,
      "metadata": {
        "id": "ZqU54REQpU0C",
        "outputId": "7a01263a-323e-4d52-caf9-9457d166ea0b"
      },
      "outputs": [
        {
          "name": "stdout",
          "output_type": "stream",
          "text": [
            "[12, 7.6, 30, 64, 'Appended Element']\n"
          ]
        }
      ],
      "source": [
        "listOfNumbers = [12, 7.6, 30, 64] \n",
        "\n",
        "listOfNumbers.append('Appended Element')             # append function will add the item at the end\n",
        "\n",
        "print(listOfNumbers)"
      ]
    },
    {
      "cell_type": "markdown",
      "metadata": {
        "id": "hQmPr4nMpU0C"
      },
      "source": [
        "## 14.4  Insert an element at a particular position in the List"
      ]
    },
    {
      "cell_type": "code",
      "execution_count": null,
      "metadata": {
        "id": "hvwZ7PNCpU0D",
        "outputId": "e17a5e3c-2eab-458f-e264-793285fc5798"
      },
      "outputs": [
        {
          "name": "stdout",
          "output_type": "stream",
          "text": [
            "[55.4, 'Bill', 'Gates', 232, 14.4]\n"
          ]
        }
      ],
      "source": [
        "lstOfMixedDataTypes = [55.4, 'Bill', 232, 14.4]\n",
        "\n",
        "listOfMixedDataTypes.insert(2,'Gates')              # Will add 'Gates' at location 2\n",
        "\n",
        "print(listOfMixedDataTypes)              # Use the insert() method"
      ]
    },
    {
      "cell_type": "markdown",
      "metadata": {
        "id": "rXMVoWMJpU0D"
      },
      "source": [
        "## 14.5 Remove an item from the List"
      ]
    },
    {
      "cell_type": "code",
      "execution_count": null,
      "metadata": {
        "id": "fYCiD2TDpU0E",
        "outputId": "adcca9f4-a18a-4b88-cb09-e435e81061d1"
      },
      "outputs": [
        {
          "name": "stdout",
          "output_type": "stream",
          "text": [
            "[55.4, 'Bill', 14.4, 232]\n"
          ]
        }
      ],
      "source": [
        "lstOfMixedDataTypes = [55.4, 'Bill', 232, 14.4, 232]\n",
        "\n",
        "lstOfMixedDataTypes.remove(232)                   # remove() - removes the first occurence of 232 in the list\n",
        "\n",
        "print(lstOfMixedDataTypes)"
      ]
    },
    {
      "cell_type": "markdown",
      "metadata": {
        "id": "YasimRmlpU0E"
      },
      "source": [
        "## 14.6 List in a List - Append vs Extend "
      ]
    },
    {
      "cell_type": "code",
      "execution_count": null,
      "metadata": {
        "id": "xJLGaIlMpU0E",
        "outputId": "8ef649b9-7904-40a8-9ac4-31cc269d3a4c"
      },
      "outputs": [
        {
          "name": "stdout",
          "output_type": "stream",
          "text": [
            "[55.4, 'Bill', 232, 14.4, [12, 7.6, 30, 64]]\n",
            "5\n"
          ]
        }
      ],
      "source": [
        "lstOfMixedDataTypes = [55.4, 'Bill', 232, 14.4]\n",
        "\n",
        "listOfNumbers = [12, 7.6, 30, 64]\n",
        "\n",
        "lstOfMixedDataTypes.append(listOfNumbers)                 # Using the append() method\n",
        "\n",
        "print(lstOfMixedDataTypes)\n",
        "\n",
        "print(len(lstOfMixedDataTypes))"
      ]
    },
    {
      "cell_type": "code",
      "execution_count": null,
      "metadata": {
        "id": "DezGdZEbpU0F",
        "outputId": "cf699b36-a4ad-4d9b-ed5b-fb92326f5788"
      },
      "outputs": [
        {
          "name": "stdout",
          "output_type": "stream",
          "text": [
            "[55.4, 'Bill', 232, 14.4, 12, 7.6, 30, 64]\n",
            "8\n"
          ]
        }
      ],
      "source": [
        "lstOfMixedDataTypes = [55.4, 'Bill', 232, 14.4]\n",
        "\n",
        "listOfNumbers = [12, 7.6, 30, 64]\n",
        "\n",
        "lstOfMixedDataTypes.extend(listOfNumbers)                 # Using the extend() method\n",
        "\n",
        "print(lstOfMixedDataTypes)\n",
        "\n",
        "print(len(lstOfMixedDataTypes))"
      ]
    },
    {
      "cell_type": "markdown",
      "metadata": {
        "id": "bHcacgqqpU0F"
      },
      "source": [
        "## 14.7 Delete an element in a List - del vs pop vs remove"
      ]
    },
    {
      "cell_type": "code",
      "execution_count": null,
      "metadata": {
        "id": "tl0-RIGfpU0G",
        "outputId": "93fb16e8-aeb2-4969-fb9e-108b69ab1f8d"
      },
      "outputs": [
        {
          "name": "stdout",
          "output_type": "stream",
          "text": [
            "[55.4, 'Bill', 232, 14.4]\n",
            "Bill\n",
            "[55.4, 232, 14.4]\n"
          ]
        }
      ],
      "source": [
        "lstOfMixedDataTypes = [55.4, 'Bill', 232, 14.4]\n",
        "\n",
        "#del lstOfMixedDataTypes[2]                     # Using del keyword - index\n",
        "#del lstOfMixedDataTypes[1:3]                  # Using del keyword\n",
        "print(lstOfMixedDataTypes)\n",
        "\n",
        "\n",
        "itemDeleted = lstOfMixedDataTypes.pop(1)        # Using pop function - index\n",
        "print(itemDeleted)\n",
        "\n",
        "print(lstOfMixedDataTypes)"
      ]
    },
    {
      "cell_type": "code",
      "execution_count": null,
      "metadata": {
        "id": "qBdlQ02ppU0G",
        "outputId": "7dd9df32-9673-4ee6-a191-8cc220e8763a"
      },
      "outputs": [
        {
          "name": "stdout",
          "output_type": "stream",
          "text": [
            "[55.4, 'Bill', 14.4]\n"
          ]
        }
      ],
      "source": [
        "lstOfMixedDataTypes = [55.4, 'Bill', 232, 14.4]\n",
        "\n",
        "\n",
        "lstOfMixedDataTypes.remove(232)                 # Using remove function - value\n",
        "\n",
        "print(lstOfMixedDataTypes)"
      ]
    },
    {
      "cell_type": "markdown",
      "metadata": {
        "id": "JPF8nBZZpU0H"
      },
      "source": [
        "## 14.8 Membership of List - in and not in"
      ]
    },
    {
      "cell_type": "code",
      "execution_count": null,
      "metadata": {
        "id": "7IZVyqvGpU0H",
        "outputId": "64d73f54-2275-4e33-c5ac-e48e9b952a16"
      },
      "outputs": [
        {
          "name": "stdout",
          "output_type": "stream",
          "text": [
            "Found in list\n",
            "Not in the list\n"
          ]
        }
      ],
      "source": [
        "lstOfMixedDataTypes = [55.4, 'Bill', 232, 14.4]\n",
        "\n",
        "if 'Bill' in lstOfMixedDataTypes:\n",
        "    print('Found in list')\n",
        "    \n",
        "if 131 not in lstOfMixedDataTypes:\n",
        "    print('Not in the list')"
      ]
    },
    {
      "cell_type": "markdown",
      "metadata": {
        "id": "yyNmZWWIpU0H"
      },
      "source": [
        "## 14.9 Reversing a list - reverse"
      ]
    },
    {
      "cell_type": "code",
      "execution_count": null,
      "metadata": {
        "id": "B0fPTz3gpU0I",
        "outputId": "94e2687d-f6e8-47c7-eaac-bfa88a0ab152"
      },
      "outputs": [
        {
          "name": "stdout",
          "output_type": "stream",
          "text": [
            "[55.4, 'Bill', 232, 14.4]\n",
            "[14.4, 232, 'Bill', 55.4]\n"
          ]
        }
      ],
      "source": [
        "lstOfMixedDataTypes = [55.4, 'Bill', 232, 14.4]\n",
        "\n",
        "print(lstOfMixedDataTypes)\n",
        "\n",
        "lstOfMixedDataTypes.reverse()\n",
        "\n",
        "print(lstOfMixedDataTypes)"
      ]
    },
    {
      "cell_type": "markdown",
      "metadata": {
        "id": "CXOrGWJBpU0I"
      },
      "source": [
        "## 14.10 Sorting a list"
      ]
    },
    {
      "cell_type": "markdown",
      "metadata": {
        "id": "3bH8oZNjpU0I"
      },
      "source": [
        "Sort a List is using sorted(list) function. \n",
        "\n",
        "The function returns a new list with the elements in ascending order. \n",
        "\n",
        "The original list is not changed. \n",
        "\n",
        "Use the optional argument reverse=True, e.g. sorted(yourList, reverse=True), \n",
        "makes it sort backwards."
      ]
    },
    {
      "cell_type": "code",
      "execution_count": null,
      "metadata": {
        "id": "52F7jgSNpU0J",
        "outputId": "7bd9d61a-f3f5-47a3-8645-24b289a32fbc"
      },
      "outputs": [
        {
          "name": "stdout",
          "output_type": "stream",
          "text": [
            "[4, 7, 12, 12, 29]\n",
            "[29, 12, 4, 7, 12]\n"
          ]
        }
      ],
      "source": [
        "myList = [29, 12, 4, 7, 12]\n",
        "\n",
        "sorted_list = sorted(myList)\n",
        "#lstOfMixedDataTypes = [55.4, 'Bill', 232, 14.4]          # Sort only compatible types\n",
        "#sorted_lst = sorted(lstOfMixedDataTypes)\n",
        "\n",
        "print(sorted_list)\n",
        "\n",
        "print(myList)                          # Original list is unchanged"
      ]
    },
    {
      "cell_type": "code",
      "execution_count": null,
      "metadata": {
        "id": "JlxRhh8zpU0J",
        "outputId": "4213b337-f998-4413-a9fe-0519ad8bb18e"
      },
      "outputs": [
        {
          "name": "stdout",
          "output_type": "stream",
          "text": [
            "Reverse sorted list : [29, 12, 12, 7, 4]\n",
            "[29, 12, 4, 7, 12]\n"
          ]
        }
      ],
      "source": [
        "print(\"Reverse sorted list :\", sorted(myList, reverse=True))  # Reverse sort a list\n",
        "\n",
        "print(myList)                                                 # The orginal list remains unchanged"
      ]
    },
    {
      "cell_type": "code",
      "execution_count": null,
      "metadata": {
        "id": "qYGv7QFopU0J",
        "outputId": "1318bc30-d915-44f5-e2ca-4c3e368cfa47"
      },
      "outputs": [
        {
          "name": "stdout",
          "output_type": "stream",
          "text": [
            "[4, 7, 12, 12, 29]\n"
          ]
        }
      ],
      "source": [
        "myList = [29, 12, 4, 7, 12]                       # Reverse and change the original list\n",
        "myList.sort()\n",
        "\n",
        "print(myList)"
      ]
    },
    {
      "cell_type": "markdown",
      "metadata": {
        "id": "rs1j04SNpU0K"
      },
      "source": [
        "## 14.11 Multiple References to a List"
      ]
    },
    {
      "cell_type": "code",
      "execution_count": null,
      "metadata": {
        "id": "Zu_P_S5-pU0K",
        "outputId": "99d98478-a1be-43b2-8448-c794dc81b2ac"
      },
      "outputs": [
        {
          "name": "stdout",
          "output_type": "stream",
          "text": [
            "Original list:  [1, 2, 3, 4, 5, 6]\n"
          ]
        }
      ],
      "source": [
        "myList = [1, 2, 3, 4, 5]\n",
        "newRef = myList\n",
        "newRef.append(6)\n",
        "\n",
        "print('Original list: ', myList)"
      ]
    },
    {
      "cell_type": "markdown",
      "metadata": {
        "id": "42-GXVx1pU0K"
      },
      "source": [
        "## 14.12 Split a String to create a list"
      ]
    },
    {
      "cell_type": "code",
      "execution_count": null,
      "metadata": {
        "scrolled": true,
        "id": "Jrs_cMi7pU0K",
        "outputId": "d61d03d3-1edc-42c0-cf34-38177130e93d"
      },
      "outputs": [
        {
          "name": "stdout",
          "output_type": "stream",
          "text": [
            "['apple', 'banana', 'grapes']\n"
          ]
        }
      ],
      "source": [
        "myString = \"apple,banana,grapes\"\n",
        "splitList = myString.split(',')\n",
        "print(splitList)"
      ]
    },
    {
      "cell_type": "code",
      "execution_count": null,
      "metadata": {
        "id": "uz9nrjIupU0L",
        "outputId": "c868610a-2986-464f-9add-69e6ce5dbd1d"
      },
      "outputs": [
        {
          "name": "stdout",
          "output_type": "stream",
          "text": [
            "['Let', 'us', 'split', 'this', 'string']\n"
          ]
        }
      ],
      "source": [
        "myString = \"Let us split this string\"\n",
        "splitList = myString.split()                   # By default split is on - space or tab\n",
        "print(splitList)"
      ]
    },
    {
      "cell_type": "markdown",
      "metadata": {
        "id": "HkwhcOfgpU0L"
      },
      "source": [
        "## 14.13 Indexing in a List"
      ]
    },
    {
      "cell_type": "markdown",
      "metadata": {
        "id": "lSZTGO9_pU0L"
      },
      "source": [
        "Each item in the list has an assigned index value starting from 0.\n",
        "\n",
        "Accessing elements in a list is called indexing."
      ]
    },
    {
      "cell_type": "code",
      "execution_count": null,
      "metadata": {
        "id": "fwetifcHpU0L",
        "outputId": "3ca0ac69-5041-4e1d-9fad-212335374fef"
      },
      "outputs": [
        {
          "name": "stdout",
          "output_type": "stream",
          "text": [
            "29\n",
            "12\n"
          ]
        }
      ],
      "source": [
        "myList = [29, 12, 4, 7, 12]\n",
        "\n",
        "print(myList[0])                       # Access the first element from start\n",
        "\n",
        "print(myList[-1])                      # Access the elements from the last"
      ]
    },
    {
      "cell_type": "markdown",
      "metadata": {
        "id": "IByhCrevpU0M"
      },
      "source": [
        "## 14.14 List Slicing"
      ]
    },
    {
      "cell_type": "markdown",
      "metadata": {
        "id": "wl6S6ryQpU0M"
      },
      "source": [
        "Accessing parts of segments is called slicing. \n",
        "\n",
        "Slicing is done using colon (**:**) symbol\n",
        "\n",
        "Start index:End Index\n",
        "\n",
        "Value at start index is included but not the value at end index."
      ]
    },
    {
      "cell_type": "code",
      "execution_count": null,
      "metadata": {
        "id": "hDBiaQsypU0M",
        "outputId": "27327195-3657-4ffa-d96d-f4a80618732e"
      },
      "outputs": [
        {
          "name": "stdout",
          "output_type": "stream",
          "text": [
            "[43, 2, 'Hundred', 13, 'Four', 12, 100]\n",
            "[43, 2, 'Hundred']\n"
          ]
        }
      ],
      "source": [
        "listOfItems = [43, 2, 'Hundred', 13, 'Four',12 ,100]\n",
        "\n",
        "print(listOfItems[:])                                # Empty indicates from start : to end\n",
        "\n",
        "print(listOfItems[0:3])                              # Elements from index 0 to one index less than index 3\n"
      ]
    },
    {
      "cell_type": "code",
      "execution_count": null,
      "metadata": {
        "id": "fAJzcxTBpU0N",
        "outputId": "efb49fc1-f0a1-4b47-aaa7-ee641271335f"
      },
      "outputs": [
        {
          "name": "stdout",
          "output_type": "stream",
          "text": [
            "[43, 2, 'Hundred', 13, 'Four', 12, 100]\n",
            "[43, 'Hundred', 'Four', 100]\n",
            "['Hundred', 'Four', 100]\n"
          ]
        }
      ],
      "source": [
        "print (listOfItems)\n",
        "\n",
        "print(listOfItems[::2])                                  # Stride for skipping elements\n",
        "\n",
        "print(listOfItems[2::2])                                 # print elemnts start from 0 through rest of the list\n"
      ]
    },
    {
      "cell_type": "markdown",
      "metadata": {
        "id": "TOijUsVLpU0N"
      },
      "source": [
        "## 14.15 Extend a List using \"+\""
      ]
    },
    {
      "cell_type": "code",
      "execution_count": null,
      "metadata": {
        "id": "2kgjLnmepU0N",
        "outputId": "44665c1c-82a9-4e2d-ef4c-51a48337fa01"
      },
      "outputs": [
        {
          "name": "stdout",
          "output_type": "stream",
          "text": [
            "[43, 2, 'Hundred', 13, 'Four', 12, 100, 'Hello', 19, 'One', 11]\n"
          ]
        }
      ],
      "source": [
        "listOfItems1 = [43, 2, 'Hundred', 13, 'Four',12 ,100]\n",
        "listOfItems2 = ['Hello', 19, 'One', 11]\n",
        "joinedList = listOfItems1 + listOfItems2 \n",
        "\n",
        "print(joinedList)"
      ]
    },
    {
      "cell_type": "markdown",
      "metadata": {
        "id": "iDemI1K3pU0N"
      },
      "source": [
        "## 14.16 Count an item in a List"
      ]
    },
    {
      "cell_type": "code",
      "execution_count": null,
      "metadata": {
        "id": "dOpdQV77pU0O",
        "outputId": "88d18e00-703a-477f-bd6c-77e3b562ef3f"
      },
      "outputs": [
        {
          "name": "stdout",
          "output_type": "stream",
          "text": [
            "2\n",
            "1\n"
          ]
        }
      ],
      "source": [
        "listOfItems3 = [12, 43, 2, 'Hundred', 13, 'Four',12 ,100]\n",
        "\n",
        "print(listOfItems3.count(12))                           # Count number of 12 in the list\n",
        "\n",
        "print(listOfItems3.count('Hundred'))                    # Count number of 'Hundred' in a list"
      ]
    },
    {
      "cell_type": "markdown",
      "metadata": {
        "id": "fil0khmkpU0O"
      },
      "source": [
        "## 14.17 Looping in List "
      ]
    },
    {
      "cell_type": "code",
      "execution_count": null,
      "metadata": {
        "id": "lwIuakODpU0O",
        "outputId": "c3926c84-81f1-4f83-8bea-02ba102f556d"
      },
      "outputs": [
        {
          "name": "stdout",
          "output_type": "stream",
          "text": [
            "12\n",
            "43\n",
            "2\n",
            "Hundred\n",
            "13\n",
            "Four\n",
            "12\n",
            "100\n"
          ]
        }
      ],
      "source": [
        "listOfItems3 = [12, 43, 2, 'Hundred', 13, 'Four',12 ,100]\n",
        "\n",
        "for element in listOfItems3:\n",
        "    print(element)"
      ]
    },
    {
      "cell_type": "markdown",
      "metadata": {
        "id": "6HETWfUKpU0O"
      },
      "source": [
        "## 14.18 List Comprehensions"
      ]
    },
    {
      "cell_type": "markdown",
      "metadata": {
        "id": "5lvHsECMpU0P"
      },
      "source": [
        "List comprehensions provide a concise way to create lists.<br/>\n",
        "This can be thought of a process that makes it easier to create lists.\n",
        "\n",
        "Common applications are to make new lists where each element is the result of some operations applied to each member of another sequence or iterable, or to create a subsequence of those elements that satisfy a certain condition."
      ]
    },
    {
      "cell_type": "code",
      "execution_count": null,
      "metadata": {
        "id": "-z5JVO2bpU0P",
        "outputId": "f08b86d9-6e5e-4803-f24c-3d81f24dc5e8"
      },
      "outputs": [
        {
          "name": "stdout",
          "output_type": "stream",
          "text": [
            "[0, 1, 4, 9]\n"
          ]
        }
      ],
      "source": [
        "myList = []               # Normal way to create an empty List\n",
        "\n",
        "for i in range(4): # Append the squared element to the list\n",
        "    myList.append(i**2)\n",
        "print(myList)"
      ]
    },
    {
      "cell_type": "code",
      "execution_count": null,
      "metadata": {
        "id": "nSW2r3RnpU0P",
        "outputId": "278038d4-4372-4cba-c572-9ecf955b2f02"
      },
      "outputs": [
        {
          "name": "stdout",
          "output_type": "stream",
          "text": [
            "[0, 1, 4, 9]\n"
          ]
        }
      ],
      "source": [
        "# Simlify using list comprehension\n",
        "myList = [i**2 for i in range(4)]\n",
        "print(myList)"
      ]
    },
    {
      "cell_type": "markdown",
      "metadata": {
        "id": "AKjEWf-ipU0Q"
      },
      "source": [
        "## 14.19 Nested List Comprehensions"
      ]
    },
    {
      "cell_type": "code",
      "execution_count": null,
      "metadata": {
        "id": "xPRYEbBapU0Q",
        "outputId": "4b1d6083-3d4b-42d1-f16a-b21f50bb6e87"
      },
      "outputs": [
        {
          "name": "stdout",
          "output_type": "stream",
          "text": [
            "[[0, 1, 2], [0, 1, 2], [0, 1, 2], [0, 1, 2]]\n"
          ]
        }
      ],
      "source": [
        "matrix = [[0, 1, 2],\n",
        "          [0, 1, 2],\n",
        "          [0, 1, 2],\n",
        "          [0, 1, 2]]\n",
        "\n",
        "sameList = []                         # Recreate the above matrix in the normal way\n",
        "for i in range(4):\n",
        "    rowList = []\n",
        "    for j in range(3):\n",
        "        rowList.append(j)\n",
        "    sameList.append(rowList)\n",
        "print(sameList)"
      ]
    },
    {
      "cell_type": "code",
      "execution_count": null,
      "metadata": {
        "id": "CveoC1GepU0Q",
        "outputId": "6065a203-aa55-4a65-d120-2023e3ec4495"
      },
      "outputs": [
        {
          "name": "stdout",
          "output_type": "stream",
          "text": [
            "[[0, 1, 2], [0, 1, 2], [0, 1, 2], [0, 1, 2]]\n"
          ]
        }
      ],
      "source": [
        "myMatrix = []\n",
        "[myMatrix.append([j for j in range(3)]) for i in range(4)]       # Reconstruct the matrix using list comprehension\n",
        "print(myMatrix)"
      ]
    },
    {
      "cell_type": "markdown",
      "metadata": {
        "collapsed": true,
        "id": "KTXSSUwspU0Q"
      },
      "source": [
        "#### Excercise: Perform the below list operations"
      ]
    },
    {
      "cell_type": "code",
      "execution_count": null,
      "metadata": {
        "id": "pJSxFW5lpU0R",
        "outputId": "2973b9e8-8b42-4ebc-e7cc-18a6ee7aa9d8"
      },
      "outputs": [
        {
          "name": "stdout",
          "output_type": "stream",
          "text": [
            "[1, 4, 9, 16, 25, 36, 64]\n",
            "[(1, 1), (2, 2), (3, 3), (4, 4), (5, 5), (6, 6), (8, 8)]\n",
            "[4, 6, 8]\n",
            "[[0.5, 1.0, 1.5], [2.0, 2.5, 3.0], [3.5, 4.0, 4.5]]\n"
          ]
        }
      ],
      "source": [
        "myList = [1, 2, 3, 4, 5, 6, 8]\n",
        "\n",
        "newList = [i**2 for i in myList]                                    # Square the values of myList and store in a new list\n",
        "print(newList)\n",
        "\n",
        "newList = [(i,i) for i in myList]                                   # Make a combination of x and x values e.g. (x,x)\n",
        "print(newList)\n",
        "\n",
        "newList = [even for even in myList if even%2 == 0 and even != 2]     # Store only the even numbers greater than 2\n",
        "print(newList)\n",
        "\n",
        "newList = []\n",
        "[newList.append([(i+j)/2 for j in range(0,3)]) for i in range(1,10,3)]    # Create a 3*3 matrix that stores half of number from 1 to 9\n",
        "\n",
        "print(newList)"
      ]
    },
    {
      "cell_type": "markdown",
      "metadata": {
        "collapsed": true,
        "id": "5jWWAoqGpU0R"
      },
      "source": [
        "<center> <h1>End of LIST section</h1> </center>"
      ]
    },
    {
      "cell_type": "markdown",
      "metadata": {
        "id": "kgjrBUCzpU0R"
      },
      "source": [
        "# 15. Tuples"
      ]
    },
    {
      "cell_type": "markdown",
      "metadata": {
        "id": "TSyg3d2BpU0R"
      },
      "source": [
        "A tuple is very similar to a list\n",
        "\n",
        "But tuples are immutable i.e. we can't change the elements of tuple once it is assigned <br/>\n",
        "whereas in a list, elements can be changed"
      ]
    },
    {
      "cell_type": "markdown",
      "metadata": {
        "id": "qk7gwfPbpU0S"
      },
      "source": [
        "## 15.1 Creating a Tuple"
      ]
    },
    {
      "cell_type": "code",
      "execution_count": null,
      "metadata": {
        "id": "5skOJPXVpU0S",
        "outputId": "d2269fc1-7d70-4214-826a-1fd813a1b4d1"
      },
      "outputs": [
        {
          "name": "stdout",
          "output_type": "stream",
          "text": [
            "(12.2, 100, 12)\n",
            "('x', 'y', 100, 'h')\n",
            "('Hello', 100, ('Welcome', 12, 11), [90, 'same', 26, 'array'])\n"
          ]
        }
      ],
      "source": [
        "emptyTuple = ()                      # Create an empty tuple\n",
        "\n",
        "myNmberTuple = (12.2, 100, 12)      # Create a tuple having numbers\n",
        "print(myNumberTuple)\n",
        "\n",
        "myMixedTuple = ('x', 'y', 100, 'h')  # Create a mixed data types tuple\n",
        "print(myMixedTuple)\n",
        "\n",
        "myNestedTuple = ('Hello', 100, ('Welcome', 12, 11), [90,'same',26,'array'])     # Create a nested tuple\n",
        "print(myNestedTuple)"
      ]
    },
    {
      "cell_type": "code",
      "execution_count": null,
      "metadata": {
        "id": "JNbX3bjPpU0S",
        "outputId": "078c674a-348a-4819-b9ff-8b5c6bc3e98e"
      },
      "outputs": [
        {
          "name": "stdout",
          "output_type": "stream",
          "text": [
            "<class 'str'>\n"
          ]
        }
      ],
      "source": [
        "isItTuple = ('Suchit')               # Only parenthesis is not enough\n",
        "print(type(isItTuple))"
      ]
    },
    {
      "cell_type": "code",
      "execution_count": null,
      "metadata": {
        "id": "k0NG_j1apU0T",
        "outputId": "0e9124af-e98f-478b-830f-97f2d105e96e"
      },
      "outputs": [
        {
          "name": "stdout",
          "output_type": "stream",
          "text": [
            "<class 'tuple'>\n"
          ]
        }
      ],
      "source": [
        "isItTuple = ('Suchit',)              # Put a comma at the end to denote Tuple\n",
        "print(type(isItTuple))"
      ]
    },
    {
      "cell_type": "code",
      "execution_count": null,
      "metadata": {
        "id": "UDNcpd__pU0T",
        "outputId": "c73d63f4-7c8c-483d-a1db-861b9c8d5e3f"
      },
      "outputs": [
        {
          "name": "stdout",
          "output_type": "stream",
          "text": [
            "<class 'tuple'>\n",
            "('Suchit',)\n"
          ]
        }
      ],
      "source": [
        "isItTuple = 'Suchit',                # Parenthesis is optional\n",
        "print(type(isItTuple))\n",
        "\n",
        "print(isItTuple)"
      ]
    },
    {
      "cell_type": "markdown",
      "metadata": {
        "id": "zzUjr6pWpU0T"
      },
      "source": [
        "### Accessing Elements in Tuple"
      ]
    },
    {
      "cell_type": "code",
      "execution_count": null,
      "metadata": {
        "id": "bW_b_gdkpU0T",
        "outputId": "3d1a2c45-3303-410c-a08a-7076d4edf757"
      },
      "outputs": [
        {
          "name": "stdout",
          "output_type": "stream",
          "text": [
            "Shireen\n"
          ]
        }
      ],
      "source": [
        "myTuple = ('Suchit', 'Rakesh', 'Roshni', 'Shireen')\n",
        "\n",
        "print(myTuple[3])"
      ]
    },
    {
      "cell_type": "code",
      "execution_count": null,
      "metadata": {
        "id": "Y4mvlIWHpU0U",
        "outputId": "fb6a101b-123f-4401-e970-02a73246b790"
      },
      "outputs": [
        {
          "name": "stdout",
          "output_type": "stream",
          "text": [
            "Shireen\n"
          ]
        }
      ],
      "source": [
        "print(myTuple[-1])                            # Printing the last element in a tuple - Negative index"
      ]
    },
    {
      "cell_type": "code",
      "execution_count": null,
      "metadata": {
        "id": "u_leq0enpU0U",
        "outputId": "8ca0cb3b-1ba7-4e5c-cf64-3a4c4a9ef385"
      },
      "outputs": [
        {
          "name": "stdout",
          "output_type": "stream",
          "text": [
            "('Rakesh', 'Roshni', 'Shireen')\n"
          ]
        }
      ],
      "source": [
        "myTuple = ('Suchit', ('Rakesh', 'Roshni', 'Shireen'))       # Nested tuple\n",
        "\n",
        "print(myTuple[1])"
      ]
    },
    {
      "cell_type": "code",
      "execution_count": null,
      "metadata": {
        "id": "hvQJm654pU0U",
        "outputId": "04e30238-f0fa-4e0a-c706-c3e39e8006d2"
      },
      "outputs": [
        {
          "name": "stdout",
          "output_type": "stream",
          "text": [
            "Shireen\n"
          ]
        }
      ],
      "source": [
        "print(myTuple[1][2])"
      ]
    },
    {
      "cell_type": "code",
      "execution_count": null,
      "metadata": {
        "id": "wOH5FwMopU0U",
        "outputId": "80f1e76d-5c9d-42d2-eb19-58b9f0fe18d9"
      },
      "outputs": [
        {
          "name": "stdout",
          "output_type": "stream",
          "text": [
            "(12, 13, 14)\n",
            "(13, 14, 15)\n",
            "(10, 11, 12, 13, 14, 15)\n"
          ]
        }
      ],
      "source": [
        "myTuple = (10,11,12,13,14,15)\n",
        "\n",
        "print(myTuple[2:5])                           # Slicing elements\n",
        "\n",
        "print(myTuple[-3:])                           # Print elements from starting to 3rd last elements\n",
        "\n",
        "print(myTuple[:])                             # Print all elements"
      ]
    },
    {
      "cell_type": "markdown",
      "metadata": {
        "id": "53fHpY_7pU0V"
      },
      "source": [
        "### Altering the values in a Tuple"
      ]
    },
    {
      "cell_type": "markdown",
      "metadata": {
        "id": "MfsYOkkYpU0V"
      },
      "source": [
        "#### Tuples are immutable i.e. once set their values cannot be changed\n",
        "#### But, if the element is itself a mutable datatype like list, its nested items can be changed."
      ]
    },
    {
      "cell_type": "code",
      "execution_count": null,
      "metadata": {
        "id": "zCKO4j8npU0V",
        "outputId": "0890b149-b68f-4733-ed78-fff5b14fbef3"
      },
      "outputs": [
        {
          "ename": "TypeError",
          "evalue": "'tuple' object does not support item assignment",
          "output_type": "error",
          "traceback": [
            "\u001b[0;31m---------------------------------------------------------------------------\u001b[0m",
            "\u001b[0;31mTypeError\u001b[0m                                 Traceback (most recent call last)",
            "\u001b[0;32m<ipython-input-161-c35dc47ae376>\u001b[0m in \u001b[0;36m<module>\u001b[0;34m()\u001b[0m\n\u001b[1;32m      1\u001b[0m \u001b[0mmyTuple\u001b[0m \u001b[1;33m=\u001b[0m \u001b[1;33m(\u001b[0m\u001b[1;36m11\u001b[0m\u001b[1;33m,\u001b[0m \u001b[1;36m22\u001b[0m\u001b[1;33m,\u001b[0m \u001b[1;36m33\u001b[0m\u001b[1;33m,\u001b[0m \u001b[1;36m44\u001b[0m\u001b[1;33m,\u001b[0m \u001b[1;33m[\u001b[0m\u001b[1;36m55\u001b[0m\u001b[1;33m,\u001b[0m \u001b[1;36m66\u001b[0m\u001b[1;33m,\u001b[0m \u001b[1;36m77\u001b[0m\u001b[1;33m]\u001b[0m\u001b[1;33m)\u001b[0m                       \u001b[1;31m# Creating tuple\u001b[0m\u001b[1;33m\u001b[0m\u001b[0m\n\u001b[1;32m      2\u001b[0m \u001b[1;33m\u001b[0m\u001b[0m\n\u001b[0;32m----> 3\u001b[0;31m \u001b[0mmyTuple\u001b[0m\u001b[1;33m[\u001b[0m\u001b[1;36m1\u001b[0m\u001b[1;33m]\u001b[0m \u001b[1;33m=\u001b[0m \u001b[1;34m'x'\u001b[0m                                               \u001b[1;31m# Error: TypeError\u001b[0m\u001b[1;33m\u001b[0m\u001b[0m\n\u001b[0m",
            "\u001b[0;31mTypeError\u001b[0m: 'tuple' object does not support item assignment"
          ]
        }
      ],
      "source": [
        "myTuple = (11, 22, 33, 44, [55, 66, 77])                       # Creating tuple\n",
        "\n",
        "myTuple[1] = 'x'                                               # Error: TypeError"
      ]
    },
    {
      "cell_type": "code",
      "execution_count": null,
      "metadata": {
        "id": "Uw9Y1ygLpU0W",
        "outputId": "55694e31-c826-432e-8e4d-4a5ba508cbf1"
      },
      "outputs": [
        {
          "name": "stdout",
          "output_type": "stream",
          "text": [
            "2017773032816\n",
            "2017773032816\n",
            "(11, 22, 33, 44, [55, 66, 'Suchit'])\n"
          ]
        }
      ],
      "source": [
        "print(id(myTuple))\n",
        "myTuple[4][2] = 'Suchit'                       # List is mutable hence value can be altered\n",
        "print(id(myTuple))\n",
        "print(myTuple)"
      ]
    },
    {
      "cell_type": "code",
      "execution_count": null,
      "metadata": {
        "id": "DTSELaKqpU0W",
        "outputId": "d0bda1d1-6aa3-4459-e112-7f3ea8f0f916"
      },
      "outputs": [
        {
          "name": "stdout",
          "output_type": "stream",
          "text": [
            "(11, 22, 33, 44, 55, 66)\n"
          ]
        }
      ],
      "source": [
        "#concatinating tuples\n",
        "\n",
        "myTuple = (11, 22, 33) + (44, 55, 66)\n",
        "print(myTuple)"
      ]
    },
    {
      "cell_type": "code",
      "execution_count": null,
      "metadata": {
        "id": "M4fCc_7ypU0W",
        "outputId": "82cc6d85-e2fa-4738-aced-c915bb821e97"
      },
      "outputs": [
        {
          "name": "stdout",
          "output_type": "stream",
          "text": [
            "('Suchit', 'Suchit', 'Suchit', 'Suchit')\n",
            "<class 'tuple'>\n"
          ]
        }
      ],
      "source": [
        "myTuple = (('Suchit', ) * 4)                     # Repeat items using * operator.\n",
        "print(myTuple)"
      ]
    },
    {
      "cell_type": "markdown",
      "metadata": {
        "id": "ULle-MwGpU0X"
      },
      "source": [
        "### Deleting from a tuple "
      ]
    },
    {
      "cell_type": "code",
      "execution_count": null,
      "metadata": {
        "id": "j1wWsqsGpU0X"
      },
      "outputs": [],
      "source": [
        "# Since tuple is immutable hence the entire tuple needs to be deleted using del keyword\n",
        "\n",
        "myTuple = (3, 'Suchit', 45, 11, 'tree', 34)\n",
        "\n",
        "del myTuple                                      # Delete the entire tuple"
      ]
    },
    {
      "cell_type": "markdown",
      "metadata": {
        "id": "4iOXMBu4pU0X"
      },
      "source": [
        "### Count occurance of an item in Tuple"
      ]
    },
    {
      "cell_type": "code",
      "execution_count": null,
      "metadata": {
        "id": "1w_tFJrmpU0X",
        "outputId": "4f865c07-8ebe-487d-c459-f22c006558e5"
      },
      "outputs": [
        {
          "data": {
            "text/plain": [
              "2"
            ]
          },
          "execution_count": 171,
          "metadata": {},
          "output_type": "execute_result"
        }
      ],
      "source": [
        "myTuple = ('Suchit', 244, 'Suchit', 412, 'tree', 28, 11, 2)\n",
        "\n",
        "myTuple.count('Suchit')     # Frequency of particular element in a tuple"
      ]
    },
    {
      "cell_type": "markdown",
      "metadata": {
        "id": "QKHNQQ2PpU0Y"
      },
      "source": [
        "### Tuple Index - Get the index position of an item"
      ]
    },
    {
      "cell_type": "code",
      "execution_count": null,
      "metadata": {
        "id": "gZz7H5lypU0Y",
        "outputId": "02bfe894-a797-4665-fbb0-21303f75d8ef"
      },
      "outputs": [
        {
          "name": "stdout",
          "output_type": "stream",
          "text": [
            "6\n",
            "11\n"
          ]
        }
      ],
      "source": [
        "myTuple = ('Suchit', 244, 'Suchit', 412, 'tree', 28, 11, 2)\n",
        "\n",
        "print(myTuple.index(11))                  # Returns index of the first element equal to 11\n",
        "\n",
        "print(myTuple[6])                         # Print element at index 6"
      ]
    },
    {
      "cell_type": "markdown",
      "metadata": {
        "id": "XSi48nuSpU0Y"
      },
      "source": [
        "### Memebership in Tuple"
      ]
    },
    {
      "cell_type": "code",
      "execution_count": null,
      "metadata": {
        "id": "epSfLC_HpU0Y",
        "outputId": "6553f37e-f773-4ae9-b175-634e33110343"
      },
      "outputs": [
        {
          "name": "stdout",
          "output_type": "stream",
          "text": [
            "True\n"
          ]
        }
      ],
      "source": [
        "myTuple = ('Suchit', 244, 'Suchit', 412, 'tree', 28, 11, 2)\n",
        "\n",
        "print(244 in myTuple)                                              # Check if an item exists in a tuple"
      ]
    },
    {
      "cell_type": "code",
      "execution_count": null,
      "metadata": {
        "id": "qIa26exLpU0Z",
        "outputId": "460b37af-6744-4fcb-ec34-a4311e63f993"
      },
      "outputs": [
        {
          "name": "stdout",
          "output_type": "stream",
          "text": [
            "False\n"
          ]
        }
      ],
      "source": [
        "print('Sam' in myTuple)"
      ]
    },
    {
      "cell_type": "markdown",
      "metadata": {
        "id": "SBqBliwMpU0Z"
      },
      "source": [
        "## Apply common built-in Functions on Tuple"
      ]
    },
    {
      "cell_type": "markdown",
      "metadata": {
        "id": "Pr8Ho5cCpU0Z"
      },
      "source": [
        "#### Lenght of a Tuple"
      ]
    },
    {
      "cell_type": "code",
      "execution_count": null,
      "metadata": {
        "id": "aFDM5GVqpU0Z",
        "outputId": "839d4593-feb5-4d9d-c486-c174e0eef885"
      },
      "outputs": [
        {
          "name": "stdout",
          "output_type": "stream",
          "text": [
            "8\n"
          ]
        }
      ],
      "source": [
        "myTuple = ('Suchit', 244, 'Suchit', 412, 'tree', 28, 11, 2)\n",
        "print(len(myTuple))"
      ]
    },
    {
      "cell_type": "markdown",
      "metadata": {
        "id": "N3sLviL9pU0a"
      },
      "source": [
        "#### Sorting in Tuple"
      ]
    },
    {
      "cell_type": "code",
      "execution_count": null,
      "metadata": {
        "id": "QMbXFQ7kpU0a",
        "outputId": "cb455fc0-a9fc-4d32-8dbc-a1dcdfb150a8"
      },
      "outputs": [
        {
          "name": "stdout",
          "output_type": "stream",
          "text": [
            "(12, 3, 44, 245, 0.2, 33)\n",
            "[0.2, 3, 12, 33, 44, 245]\n"
          ]
        }
      ],
      "source": [
        "#myTuple = ('Suchit', 244, 'Suchit', 412, 'tree', 28, 11, 2)\n",
        "myTuple = (12,3,44,245,0.2,33)\n",
        "print(myTuple)\n",
        "\n",
        "sortedTuple = sorted(myTuple)                       # Returns a new sorted list. Does not change original tuple\n",
        "print(sortedTuple)"
      ]
    },
    {
      "cell_type": "code",
      "execution_count": null,
      "metadata": {
        "id": "wnnvHEFBpU0a",
        "outputId": "7c5fd656-765a-48c6-d995-576e806e0b1c"
      },
      "outputs": [
        {
          "name": "stdout",
          "output_type": "stream",
          "text": [
            "245\n",
            "0.2\n"
          ]
        }
      ],
      "source": [
        "myNumberTuple = (12,3,44,245,0.2,33)\n",
        "\n",
        "print(max(myNumberTuple))                           # Largest element in a tuple\n",
        "\n",
        "print(min(myNumberTuple))                           # Smallest element in a tuple"
      ]
    },
    {
      "cell_type": "code",
      "execution_count": null,
      "metadata": {
        "id": "8Ee64gIxpU0a",
        "outputId": "d62a3a57-7da3-47ef-9253-a2dc2a46058d"
      },
      "outputs": [
        {
          "name": "stdout",
          "output_type": "stream",
          "text": [
            "337.2\n"
          ]
        }
      ],
      "source": [
        "print(sum(myNumberTuple))                           # Sum of elments in the tuple"
      ]
    },
    {
      "cell_type": "markdown",
      "metadata": {
        "id": "riMYcS-8pU0b"
      },
      "source": [
        "# 16. Sets"
      ]
    },
    {
      "cell_type": "markdown",
      "metadata": {
        "collapsed": true,
        "id": "2yNhjd1PpU0b"
      },
      "source": [
        "<ul><li>A set is an <b>unordered</b> collection of items. Every element is <b>unique</b> (no duplicates).</li>\n",
        "<li>Set is <b>mutable</b>. We can add or remove items to a Set.</li>\n",
        "<li>Sets can be used to perform mathematical <b>set operations</b> <i>like union, intersection, symmetric difference etc</i>.</li></ul>"
      ]
    },
    {
      "cell_type": "markdown",
      "metadata": {
        "id": "1h06qwFXpU0b"
      },
      "source": [
        "### Creating a Set\n"
      ]
    },
    {
      "cell_type": "code",
      "execution_count": null,
      "metadata": {
        "id": "flhocLb0pU0b"
      },
      "outputs": [],
      "source": [
        "mySet = {1,2,3}                          # Curly braces and comma seperated values \n",
        "print(mySet)\n",
        " \n",
        "print(type(mySet))                         # type of mySet"
      ]
    },
    {
      "cell_type": "code",
      "execution_count": null,
      "metadata": {
        "id": "WB1c-6QVpU0c"
      },
      "outputs": [],
      "source": [
        "mySet = {1,2,3,1,4}                    # Duplicates not allowed.\n",
        "print(mySet)"
      ]
    },
    {
      "cell_type": "code",
      "execution_count": null,
      "metadata": {
        "id": "ygVQLo78pU0c"
      },
      "outputs": [],
      "source": [
        "mySet = set([1,2,3,4,1])                  # We can make set from a list using set() method\n",
        "print(mySet)"
      ]
    },
    {
      "cell_type": "code",
      "execution_count": null,
      "metadata": {
        "id": "4FQv1BH3pU0c"
      },
      "outputs": [],
      "source": [
        "mySet = set()                              # Initialize a set  with set() method\n",
        "print(type(mySet))"
      ]
    },
    {
      "cell_type": "markdown",
      "metadata": {
        "id": "1QSON_qUpU0c"
      },
      "source": [
        "### Adding element to Set"
      ]
    },
    {
      "cell_type": "code",
      "execution_count": null,
      "metadata": {
        "id": "0puvP-ftpU0d"
      },
      "outputs": [],
      "source": [
        "mySet = {'a', 56}\n",
        "\n",
        "mySet.add(5)                           # Add single element using add() method\n",
        "print(mySet)\n",
        "\n",
        "mySet.update([2,'r',12])             # Add multiple elements using update() method\n",
        "print(mySet)\n",
        "\n",
        "print(mySet[3])                        # set object doesn't support duplicates hence indexing doesn't make sense"
      ]
    },
    {
      "cell_type": "code",
      "execution_count": null,
      "metadata": {
        "id": "S-pmH2LgpU0d"
      },
      "outputs": [],
      "source": [
        "mySet.update([12,'One'],{4,1,5})     # Adding a list and a set to the original set\n",
        "print(mySet)"
      ]
    },
    {
      "cell_type": "markdown",
      "metadata": {
        "id": "4HrFn1iHpU0d"
      },
      "source": [
        "### Removing elements from a Set\n",
        "\n",
        "Methods\n",
        "\n",
        "- remove()    &nbsp;                     -Raises KeyError if  elem is not contained in the set.\n",
        "- discard()     &nbsp;                     -Doesn't raises KeyError\n",
        "<br/><br/>\n",
        "- pop()        &nbsp;&nbsp;&nbsp;&nbsp;&nbsp;&nbsp;&nbsp;                     -Removes a random item\n",
        "- clear()      &nbsp;&nbsp;&nbsp;&nbsp;&nbsp;                     -Delete the entire Set"
      ]
    },
    {
      "cell_type": "code",
      "execution_count": null,
      "metadata": {
        "id": "7Dn9HhuzpU0d",
        "outputId": "82d8f0a3-6670-40a3-a209-85db245d6df1"
      },
      "outputs": [
        {
          "name": "stdout",
          "output_type": "stream",
          "text": [
            "{11, 12, 13, 14, 15}\n",
            "{11, 12, 14, 15}\n",
            "{11, 12, 15}\n"
          ]
        }
      ],
      "source": [
        "mySet = {11, 12, 13, 14, 15}\n",
        "print(mySet)\n",
        "\n",
        "mySet.remove(13)                   # 13 is removed from set mySet\n",
        "print(mySet)\n",
        "\n",
        "\n",
        "mySet.discard(14)                    # 14 is removed from set mySet\n",
        "print(mySet)"
      ]
    },
    {
      "cell_type": "code",
      "execution_count": null,
      "metadata": {
        "id": "6YC8eO8hpU0e",
        "outputId": "52fb7c13-e068-46a3-994c-eda9ed559cc9"
      },
      "outputs": [
        {
          "ename": "KeyError",
          "evalue": "34",
          "output_type": "error",
          "traceback": [
            "\u001b[0;31m---------------------------------------------------------------------------\u001b[0m",
            "\u001b[0;31mKeyError\u001b[0m                                  Traceback (most recent call last)",
            "\u001b[0;32m<ipython-input-113-108998af940b>\u001b[0m in \u001b[0;36m<module>\u001b[0;34m()\u001b[0m\n\u001b[0;32m----> 1\u001b[0;31m \u001b[0mmySet\u001b[0m\u001b[1;33m.\u001b[0m\u001b[0mremove\u001b[0m\u001b[1;33m(\u001b[0m\u001b[1;36m34\u001b[0m\u001b[1;33m)\u001b[0m                        \u001b[1;31m# KeyError thrown\u001b[0m\u001b[1;33m\u001b[0m\u001b[0m\n\u001b[0m",
            "\u001b[0;31mKeyError\u001b[0m: 34"
          ]
        }
      ],
      "source": [
        "mySet.remove(34)                        # KeyError thrown"
      ]
    },
    {
      "cell_type": "code",
      "execution_count": null,
      "metadata": {
        "id": "5K5z5GmbpU0e",
        "outputId": "ba8dccc3-1797-4e13-c8bc-d8bf12f0c26b"
      },
      "outputs": [
        {
          "name": "stdout",
          "output_type": "stream",
          "text": [
            "{11, 12, 15}\n"
          ]
        }
      ],
      "source": [
        "mySet.discard(34)                       # KeyError NOT thrown\n",
        "print(mySet)"
      ]
    },
    {
      "cell_type": "code",
      "execution_count": null,
      "metadata": {
        "id": "ubxHbyHLpU0e",
        "outputId": "b62ff0ab-1aed-4c9e-893c-d5e1846cf87f"
      },
      "outputs": [
        {
          "name": "stdout",
          "output_type": "stream",
          "text": [
            "{'abc', 11, 12, 'efg'}\n"
          ]
        }
      ],
      "source": [
        "mySet = {'abc', 12, 'efg', 1, 11}\n",
        "\n",
        "mySet.pop()                             # Removes a random element\n",
        "\n",
        "print(mySet)"
      ]
    },
    {
      "cell_type": "code",
      "execution_count": null,
      "metadata": {
        "id": "uGPeA34kpU0e",
        "outputId": "30f5ec87-c9e4-4b6d-8bd4-a9bc0f6b1b89"
      },
      "outputs": [
        {
          "name": "stdout",
          "output_type": "stream",
          "text": [
            "{11, 12, 'efg'}\n"
          ]
        }
      ],
      "source": [
        "mySet.pop()\n",
        "print(mySet)"
      ]
    },
    {
      "cell_type": "code",
      "execution_count": null,
      "metadata": {
        "id": "7oMdVeVkpU0f",
        "outputId": "a8e509f5-468b-429e-db11-dfd42ce13643"
      },
      "outputs": [
        {
          "name": "stdout",
          "output_type": "stream",
          "text": [
            "set()\n"
          ]
        }
      ],
      "source": [
        "mySet = {'abc', 12, 'efg', 1, 11}\n",
        "\n",
        "mySet.clear()                           # Empty all items in\n",
        "\n",
        "print(mySet)"
      ]
    },
    {
      "cell_type": "markdown",
      "metadata": {
        "id": "Iibxle9lpU0g"
      },
      "source": [
        "### Python Set Operations\n",
        "\n",
        "Operations:\n",
        "\n",
        "- union\n",
        "\n",
        "- intersection\n",
        "\n",
        "- symmetric difference\n",
        "\n",
        "- subset\n",
        "\n",
        "\n",
        "<img height=\"240\" width=\"360\" src='https://github.com/suchitmajumdar/LearnPython/blob/master/images/set.png?raw=true'></img>"
      ]
    },
    {
      "cell_type": "code",
      "execution_count": null,
      "metadata": {
        "id": "QcvNOnsqpU0h",
        "outputId": "d57fd75c-0bc8-4780-81cb-ca47fa25405e"
      },
      "outputs": [
        {
          "name": "stdout",
          "output_type": "stream",
          "text": [
            "{1, 2, 3, 4, 5, 6, 7}\n",
            "{1, 2, 3, 4, 5, 6, 7}\n"
          ]
        }
      ],
      "source": [
        "mySet1 = {1, 2, 3, 4, 5}\n",
        "mySet2 = {3, 4, 5, 6, 7}\n",
        "\n",
        "print(mySet1 | mySet2)              # union of 2 sets using | operator\n",
        "\n",
        "print(mySet1.union(mySet2))         # Alternately use union() method"
      ]
    },
    {
      "cell_type": "code",
      "execution_count": null,
      "metadata": {
        "id": "ie4PgxsnpU0h",
        "outputId": "b0719c8c-14e8-40bc-a080-a1f6c4d85cde"
      },
      "outputs": [
        {
          "name": "stdout",
          "output_type": "stream",
          "text": [
            "{3, 4, 5}\n",
            "{3, 4, 5}\n"
          ]
        }
      ],
      "source": [
        "print(mySet1 & mySet2)              # Intersection of 2 sets using & operator\n",
        "\n",
        "print(mySet1.intersection(mySet2))  # Alternately use intersection() method "
      ]
    },
    {
      "cell_type": "code",
      "execution_count": null,
      "metadata": {
        "id": "WdpoMAQ1pU0h",
        "outputId": "cfdfdf53-bb43-4275-9f4d-bfba5257730a"
      },
      "outputs": [
        {
          "name": "stdout",
          "output_type": "stream",
          "text": [
            "{1, 2}\n",
            "{1, 2}\n"
          ]
        }
      ],
      "source": [
        "print(mySet1 - mySet2)              # set Difference: set of elements that are only in mySet1 but not in mySet2\n",
        "print(mySet1.difference(mySet2))    # use differnce() function method "
      ]
    },
    {
      "cell_type": "code",
      "execution_count": null,
      "metadata": {
        "id": "nQXl_rEWpU0h",
        "outputId": "f321236e-c7e4-48d1-dc88-d30d77211e4a"
      },
      "outputs": [
        {
          "name": "stdout",
          "output_type": "stream",
          "text": [
            "{1, 2, 6, 7}\n",
            "{1, 2, 6, 7}\n"
          ]
        }
      ],
      "source": [
        "# symmetric difference: set of elements in both mySet1 and mySet2\n",
        "# except those that are common in both.\"\"\"\n",
        "\n",
        "print(mySet1^mySet2)                       # For symmetric difference use ^ operator\n",
        "\n",
        "print(mySet1.symmetric_difference(mySet2)) # Alternately use symmetric_difference function"
      ]
    },
    {
      "cell_type": "code",
      "execution_count": null,
      "metadata": {
        "id": "j4jGTPcspU0i",
        "outputId": "66ea14ef-6216-491c-902e-f7e91ec164c9"
      },
      "outputs": [
        {
          "name": "stdout",
          "output_type": "stream",
          "text": [
            "Is set 'a' a subset of set 'b' ?  False\n",
            "Is set 'b' a subset of set 'a' ?  True\n"
          ]
        }
      ],
      "source": [
        "a = {1,2,3,4,5,6}\n",
        "b = {2,4}\n",
        "\n",
        "print(\"Is set 'a' a subset of set 'b' ? \", a.issubset(b))          # Check a is subset of b\n",
        "\n",
        "print(\"Is set 'b' a subset of set 'a' ? \", b.issubset(a))          # Check b is subset of a"
      ]
    },
    {
      "cell_type": "markdown",
      "metadata": {
        "id": "w15p9hrqpU0i"
      },
      "source": [
        "### Frozen Sets\n"
      ]
    },
    {
      "cell_type": "markdown",
      "metadata": {
        "id": "lP3JLX6SpU0i"
      },
      "source": [
        "Like tuples are immutable lists, <b>frozen sets</b> are <b>immutable sets</b>"
      ]
    },
    {
      "cell_type": "markdown",
      "metadata": {
        "id": "oGv4ulnwpU0i"
      },
      "source": [
        "Frozensets can be created using - <b>frozenset()</b>"
      ]
    },
    {
      "cell_type": "markdown",
      "metadata": {
        "id": "J0Q_FMg2pU0i"
      },
      "source": [
        "Sets being mutable are unhashable, so they can't be used as dictionary keys.<br/> On the other hand, frozensets are hashable and can be used as keys to a dictionary."
      ]
    },
    {
      "cell_type": "markdown",
      "metadata": {
        "id": "o7gXf7dzpU0i"
      },
      "source": [
        "This datatype supports methods like <b>copy(), difference(), intersection(), isdisjoint(), issubset(), issuperset(), symmetric_difference() and union()</b>. \n",
        "\n",
        "Being immutable it does <b>not</b> have method that add or remove elements."
      ]
    },
    {
      "cell_type": "code",
      "execution_count": null,
      "metadata": {
        "id": "KgLyOUjopU0j",
        "outputId": "35288c26-3fea-4abc-f93a-c6a233608fb5"
      },
      "outputs": [
        {
          "ename": "AttributeError",
          "evalue": "'frozenset' object has no attribute 'add'",
          "output_type": "error",
          "traceback": [
            "\u001b[0;31m---------------------------------------------------------------------------\u001b[0m",
            "\u001b[0;31mAttributeError\u001b[0m                            Traceback (most recent call last)",
            "\u001b[0;32m<ipython-input-130-3534c7e9f945>\u001b[0m in \u001b[0;36m<module>\u001b[0;34m()\u001b[0m\n\u001b[1;32m      2\u001b[0m \u001b[0mmySet2\u001b[0m \u001b[1;33m=\u001b[0m \u001b[0mfrozenset\u001b[0m\u001b[1;33m(\u001b[0m\u001b[1;33m[\u001b[0m\u001b[1;36m4\u001b[0m\u001b[1;33m,\u001b[0m \u001b[1;36m5\u001b[0m\u001b[1;33m,\u001b[0m \u001b[1;36m6\u001b[0m\u001b[1;33m,\u001b[0m \u001b[1;36m7\u001b[0m\u001b[1;33m,\u001b[0m \u001b[1;36m8\u001b[0m\u001b[1;33m]\u001b[0m\u001b[1;33m)\u001b[0m\u001b[1;33m\u001b[0m\u001b[0m\n\u001b[1;32m      3\u001b[0m \u001b[1;33m\u001b[0m\u001b[0m\n\u001b[0;32m----> 4\u001b[0;31m \u001b[0mmySet1\u001b[0m\u001b[1;33m.\u001b[0m\u001b[0madd\u001b[0m\u001b[1;33m(\u001b[0m\u001b[1;36m9\u001b[0m\u001b[1;33m)\u001b[0m                              \u001b[1;31m# Cannot add value to immutable set\u001b[0m\u001b[1;33m\u001b[0m\u001b[0m\n\u001b[0m",
            "\u001b[0;31mAttributeError\u001b[0m: 'frozenset' object has no attribute 'add'"
          ]
        }
      ],
      "source": [
        "mySet1 = frozenset([1, 2, 3, 4, 5])\n",
        "mySet2 = frozenset([4, 5, 6, 7, 8])\n",
        "\n",
        "mySet1.add(9)                              # Cannot add value to immutable set"
      ]
    },
    {
      "cell_type": "code",
      "execution_count": null,
      "metadata": {
        "id": "Ar1C1kPhpU0j",
        "outputId": "c20f1a25-982e-4bcb-d06c-3470286eaa08"
      },
      "outputs": [
        {
          "ename": "TypeError",
          "evalue": "'frozenset' object does not support indexing",
          "output_type": "error",
          "traceback": [
            "\u001b[0;31m---------------------------------------------------------------------------\u001b[0m",
            "\u001b[0;31mTypeError\u001b[0m                                 Traceback (most recent call last)",
            "\u001b[0;32m<ipython-input-131-ae1563fab68c>\u001b[0m in \u001b[0;36m<module>\u001b[0;34m()\u001b[0m\n\u001b[0;32m----> 1\u001b[0;31m \u001b[0mprint\u001b[0m\u001b[1;33m(\u001b[0m\u001b[0mmySet1\u001b[0m\u001b[1;33m[\u001b[0m\u001b[1;36m4\u001b[0m\u001b[1;33m]\u001b[0m\u001b[1;33m)\u001b[0m                           \u001b[1;31m# frozen set doesn't support indexing\u001b[0m\u001b[1;33m\u001b[0m\u001b[0m\n\u001b[0m",
            "\u001b[0;31mTypeError\u001b[0m: 'frozenset' object does not support indexing"
          ]
        }
      ],
      "source": [
        "print(mySet1[4])                           # frozen set doesn't support indexing"
      ]
    },
    {
      "cell_type": "code",
      "execution_count": null,
      "metadata": {
        "id": "G-E2f2NypU0j",
        "outputId": "534b81a2-505b-482d-db34-e5a8da03b20c"
      },
      "outputs": [
        {
          "name": "stdout",
          "output_type": "stream",
          "text": [
            "frozenset({1, 2, 3, 4, 5, 6, 7, 8})\n"
          ]
        }
      ],
      "source": [
        "print(mySet1 | mySet2)                    # union of 2 sets"
      ]
    },
    {
      "cell_type": "code",
      "execution_count": null,
      "metadata": {
        "id": "hF2PxS5cpU0j",
        "outputId": "286466e1-0e2a-41aa-8b1c-bbb521471591"
      },
      "outputs": [
        {
          "name": "stdout",
          "output_type": "stream",
          "text": [
            "frozenset({4, 5})\n",
            "frozenset({4, 5})\n"
          ]
        }
      ],
      "source": [
        "print(mySet1 & mySet2)                    # intersection of two sets\n",
        "\n",
        "print(mySet1.intersection(mySet2))        # Alernative is to use intersection() method "
      ]
    },
    {
      "cell_type": "code",
      "execution_count": null,
      "metadata": {
        "id": "ffH4XAgGpU0k",
        "outputId": "ed5c16ad-4d53-4d1d-eed0-404b7ce9e285"
      },
      "outputs": [
        {
          "name": "stdout",
          "output_type": "stream",
          "text": [
            "frozenset({1, 2, 3, 6, 7, 8})\n",
            "frozenset({1, 2, 3, 6, 7, 8})\n"
          ]
        }
      ],
      "source": [
        "print(mySet1 ^ mySet2)                        # symmetric difference\n",
        "\n",
        "print(mySet1.symmetric_difference(mySet2))    # Alternative is symmetric_difference() method"
      ]
    },
    {
      "cell_type": "markdown",
      "metadata": {
        "id": "iwziCPM_pU0k"
      },
      "source": [
        "# 17. Dictionary"
      ]
    },
    {
      "cell_type": "markdown",
      "metadata": {
        "id": "FCn1JER9pU0k"
      },
      "source": [
        "Python dictionary is an unordered collection of items.<br/>\n",
        "While other compound data types have <b>only value</b> as an element, a <u>dictionary</u> has a <b>key: value</b> pair."
      ]
    },
    {
      "cell_type": "markdown",
      "metadata": {
        "id": "rkLYfSbgpU0k"
      },
      "source": [
        "### Create a Dictionary\n"
      ]
    },
    {
      "cell_type": "code",
      "execution_count": null,
      "metadata": {
        "scrolled": true,
        "id": "bWC9ozJkpU0k"
      },
      "outputs": [],
      "source": [
        "myDict = {}                                                  # Create an empty dictionary\n",
        "\n",
        "myIntegerKeyDict = {100:'excellent',50:'fair'}\n",
        "print(myIntegerKeyDict)\n",
        " \n",
        "myMixedKeysDict = {'name':'Suchit', 10:['sun','star']}    # Create a dictionary with mixed keys\n",
        "print(myMixedKeysDict)\n",
        "\n",
        "\n",
        "myDict = dict()                                              # Create an empty dictionary using dict() method\n",
        "\n",
        "myDict = dict([(4,'abcd'),(2,'ab')])                      # Create a dict with list of tuples\n",
        "print(myDict)"
      ]
    },
    {
      "cell_type": "markdown",
      "metadata": {
        "id": "1YXL1HAtpU0k"
      },
      "source": [
        "### Dict Access"
      ]
    },
    {
      "cell_type": "code",
      "execution_count": null,
      "metadata": {
        "id": "AjLC-_lxpU0l"
      },
      "outputs": [],
      "source": [
        "myDict = {'name': 'Suchit', 'marks': 92, 'hobby': 'guitar'}\n",
        "\n",
        "print(myDict['name'])                               # Pass the key to get the value"
      ]
    },
    {
      "cell_type": "code",
      "execution_count": null,
      "metadata": {
        "id": "kpZA_fEhpU0l"
      },
      "outputs": [],
      "source": [
        "print(myDict['score'])                             # Gives KeyError if key not found"
      ]
    },
    {
      "cell_type": "code",
      "execution_count": null,
      "metadata": {
        "id": "VgGN6KIwpU0l"
      },
      "outputs": [],
      "source": [
        "print(myDict.get('hobby'))                          # Alternately use get(key) to access the value"
      ]
    },
    {
      "cell_type": "code",
      "execution_count": null,
      "metadata": {
        "id": "txe3-pbepU0l"
      },
      "outputs": [],
      "source": [
        "print(myDict.get('score'))                         # Gives None using get method if key not present"
      ]
    },
    {
      "cell_type": "markdown",
      "metadata": {
        "id": "Phcv9SSUpU0l"
      },
      "source": [
        "### Add or Modify  Elements in a Dictionary\n"
      ]
    },
    {
      "cell_type": "code",
      "execution_count": null,
      "metadata": {
        "id": "-lSMFpcxpU0l"
      },
      "outputs": [],
      "source": [
        "myDict = {'name': 'Suchit', 'marks': 92, 'hobby': 'guitar'}\n",
        "\n",
        "myDict['name'] = 'Rakesh'                                      # Update the value in the key 'name' \n",
        " \n",
        "print(myDict)"
      ]
    },
    {
      "cell_type": "code",
      "execution_count": null,
      "metadata": {
        "id": "EnMxKqx5pU0m"
      },
      "outputs": [],
      "source": [
        "myDict['division'] = 'A'                                       # Add new key-value pair\n",
        "\n",
        "print(myDict)"
      ]
    },
    {
      "cell_type": "markdown",
      "metadata": {
        "id": "acM7Y6uEpU0m"
      },
      "source": [
        "### Delete or Remove Element in a Dictionary"
      ]
    },
    {
      "cell_type": "code",
      "execution_count": null,
      "metadata": {
        "id": "0DYz--CdpU0m"
      },
      "outputs": [],
      "source": [
        "myDict = {'name': 'Suchit', 'marks': 92, 'hobby': 'guitar'}\n",
        "\n",
        "print(myDict.pop('marks'))                                     # Remove a particular item - pass the key to pop() method\n",
        "\n",
        "print(myDict)"
      ]
    },
    {
      "cell_type": "code",
      "execution_count": null,
      "metadata": {
        "id": "A0LUQioPpU0m"
      },
      "outputs": [],
      "source": [
        "keyValDict = {'name': 'Suchit', 'marks': 92, 'hobby': 'guitar'}\n",
        "\n",
        "del keyValDict['marks']                               # Delete particular key\n",
        "\n",
        "print(keyValDict)"
      ]
    },
    {
      "cell_type": "code",
      "execution_count": null,
      "metadata": {
        "id": "0FIZXHlHpU0m"
      },
      "outputs": [],
      "source": [
        "keyValDict.clear()                              # Remove all items\n",
        "\n",
        "print(keyValDict)"
      ]
    },
    {
      "cell_type": "code",
      "execution_count": null,
      "metadata": {
        "id": "kqteZJm_pU0n"
      },
      "outputs": [],
      "source": [
        "keyValDict = {'name': 'Suchit', 'marks': 92, 'hobby': 'guitar'}\n",
        "\n",
        "del keyValDict                                  # Delete dictionary itself\n",
        "\n",
        "print(keyValDict)                               # NameError because dict is deleted"
      ]
    },
    {
      "cell_type": "markdown",
      "metadata": {
        "id": "0W_FuYQapU0n"
      },
      "source": [
        "### Dictionary Methods"
      ]
    },
    {
      "cell_type": "code",
      "execution_count": null,
      "metadata": {
        "id": "Oo_Z9doKpU0n"
      },
      "outputs": [],
      "source": [
        "keyValDict = {'name': 'Suchit', 'marks': 92, 'hobby': 'guitar'}\n",
        "\n",
        "myDict = keyValDict.copy()                                    # copy()\n",
        "print(myDict)"
      ]
    },
    {
      "cell_type": "code",
      "execution_count": null,
      "metadata": {
        "id": "jMgayVzkpU0n"
      },
      "outputs": [],
      "source": [
        "# fromkeys[seq[, v]] -> Return a new dictionary with keys from seq and value equal to v (defaults to None).\n",
        "fruits = {}.fromkeys(['apple','banana','grapes'],0)\n",
        "print(fruits)"
      ]
    },
    {
      "cell_type": "code",
      "execution_count": null,
      "metadata": {
        "id": "sogVdfvdpU0o"
      },
      "outputs": [],
      "source": [
        "varDict = {2:4, 3:9, 4:16, 5:25}\n",
        "print(varDict.items()) #return a new view of the dictionary items (key, value)"
      ]
    },
    {
      "cell_type": "code",
      "execution_count": null,
      "metadata": {
        "id": "Zp9FmsqDpU0o"
      },
      "outputs": [],
      "source": [
        "fruits = {'apple': 2, 'banana': 12, 'grapes': 10}\n",
        "\n",
        "print(fruits.keys())                                      # returns the dictionary keys\n",
        "\n",
        "print(fruits.values())                                    # returns the dictionary values"
      ]
    },
    {
      "cell_type": "code",
      "execution_count": null,
      "metadata": {
        "id": "ZPiOdpgVpU0o"
      },
      "outputs": [],
      "source": [
        "dict = {}\n",
        "print(dir(dict))                                          # Get list of all available methods and attributes of dictionary"
      ]
    },
    {
      "cell_type": "markdown",
      "metadata": {
        "id": "l-23hxUNpU0o"
      },
      "source": [
        "### Comprehension in Dictionary"
      ]
    },
    {
      "cell_type": "code",
      "execution_count": null,
      "metadata": {
        "id": "5pp34vW-pU0o"
      },
      "outputs": [],
      "source": [
        "fruits = {'apple': 2, 'banana': 12, 'grapes': 10}\n",
        "for fruit in fruits.items():                       # Same as list comprehensions but here its for dictionaries\n",
        "    print(fruit)    "
      ]
    },
    {
      "cell_type": "code",
      "execution_count": null,
      "metadata": {
        "id": "OZ4WuhddpU0p"
      },
      "outputs": [],
      "source": [
        "fruits = {'apple': 3, 'banana': 12, 'grapes': 10}\n",
        "fruitsDict = {k:v for k, v in fruits.items() if v%2 == 0}    # Creating a new dictionary with only pairs where the value is even\n",
        "print(fruitsDict)"
      ]
    },
    {
      "cell_type": "code",
      "execution_count": null,
      "metadata": {
        "id": "xPWi_tEdpU0p"
      },
      "outputs": [],
      "source": [
        "fruits = {'apple': 3, 'banana': 12, 'grapes': 10} \n",
        "\n",
        "fruitsDict = {k + '_royal':v * 12 for k, v in fruits.items() if v%2 == 0} # We can also perform operations on the key value pairs\n",
        "print(fruitsDict)\n",
        "print(fruits)"
      ]
    },
    {
      "cell_type": "markdown",
      "metadata": {
        "id": "Wln9FdjGpU0p"
      },
      "source": [
        "# 18. Strings\n"
      ]
    },
    {
      "cell_type": "markdown",
      "metadata": {
        "collapsed": true,
        "id": "JVsYPtRXpU0p"
      },
      "source": [
        "A string is a <b>sequence of characters</b>.\n",
        "\n",
        "Computers do not deal with characters, they deal with numbers (binary). Even though you may see characters on your screen, internally it is stored and manipulated as a combination of 0's and 1's.\n",
        "\n",
        "This conversion of character to a number is called encoding, and the reverse process is decoding. <a href='https://docs.python.org/3.3/howto/unicode.html'>ASCII and Unicode</a> are some of the popular encoding used.\n",
        "\n",
        "In Python, string is a sequence of Unicode character."
      ]
    },
    {
      "cell_type": "markdown",
      "metadata": {
        "id": "Zl8Xubn5pU0p"
      },
      "source": [
        "### Create a String"
      ]
    },
    {
      "cell_type": "markdown",
      "metadata": {
        "id": "K6TiQ1HIpU0q"
      },
      "source": [
        "- By enclosing characters inside a single quote or double quotes. \n",
        "\n",
        "- triple quotes can be used in Python but generally used to represent multiline strings and docstrings.\n"
      ]
    },
    {
      "cell_type": "code",
      "execution_count": null,
      "metadata": {
        "id": "dOXb-ZlSpU0q"
      },
      "outputs": [],
      "source": [
        "myString = 'Single'\n",
        "print(myString)\n",
        "\n",
        "myString = \"Double\"\n",
        "print(myString)\n",
        "\n",
        "myString = '''Triple'''\n",
        "print(myString)"
      ]
    },
    {
      "cell_type": "markdown",
      "metadata": {
        "id": "an0zTI_mpU0q"
      },
      "source": [
        "### Access characters in a String"
      ]
    },
    {
      "cell_type": "markdown",
      "metadata": {
        "collapsed": true,
        "id": "cZpqq9QMpU0q"
      },
      "source": [
        "- Access individual characters using indexing and a range of characters using slicing.\n",
        "\n",
        "- Index starts from 0. \n",
        "\n",
        "- Trying to access a character out of index range will raise an IndexError. \n",
        "\n",
        "- The index must be an integer. We can't use float or other types, this will result into TypeError.\n",
        "\n",
        "- Python allows negative indexing for its sequences."
      ]
    },
    {
      "cell_type": "code",
      "execution_count": null,
      "metadata": {
        "id": "xZFz4zvopU0q"
      },
      "outputs": [],
      "source": [
        "myString = \"Double\"\n",
        "\n",
        "print(myString[0])             # Print first Character\n",
        "\n",
        "print(myString[1:4])           # Slicing 2nd to 4th character\n",
        "\n",
        "print(myString[-2])            # Print last character using negative indexing"
      ]
    },
    {
      "cell_type": "markdown",
      "metadata": {
        "id": "tEXExuAHpU0q"
      },
      "source": [
        "If we try to access index out of the range or use decimal number, we will get errors."
      ]
    },
    {
      "cell_type": "code",
      "execution_count": null,
      "metadata": {
        "id": "3g-CszkYpU0r"
      },
      "outputs": [],
      "source": [
        "print(myString[15])                    # Index should be in available range"
      ]
    },
    {
      "cell_type": "code",
      "execution_count": null,
      "metadata": {
        "id": "6XdMfonRpU0r"
      },
      "outputs": [],
      "source": [
        "print(myString[1.5])                   # Index should be integer always"
      ]
    },
    {
      "cell_type": "markdown",
      "metadata": {
        "id": "8Z7BQsyopU0r"
      },
      "source": [
        "### Change or delete a String"
      ]
    },
    {
      "cell_type": "markdown",
      "metadata": {
        "id": "BMOIx7X7pU0r"
      },
      "source": [
        "Strings are immutable. This means that elements of a string cannot be changed once it has been assigned. \n",
        "\n",
        "We can simply reassign different strings to the same name."
      ]
    },
    {
      "cell_type": "code",
      "execution_count": null,
      "metadata": {
        "id": "WhdkStQzpU0r"
      },
      "outputs": [],
      "source": [
        "myString = \"Double\"\n",
        "\n",
        "myString[0] = 't' # strings are immutable"
      ]
    },
    {
      "cell_type": "code",
      "execution_count": null,
      "metadata": {
        "id": "f5P3ZuLUpU0s"
      },
      "outputs": [],
      "source": [
        "del myString # delete complete string"
      ]
    },
    {
      "cell_type": "code",
      "execution_count": null,
      "metadata": {
        "id": "4xshEPHOpU0s"
      },
      "outputs": [],
      "source": [
        "print(myString)"
      ]
    },
    {
      "cell_type": "markdown",
      "metadata": {
        "id": "XWNstj7TpU0s"
      },
      "source": [
        "## String Operations"
      ]
    },
    {
      "cell_type": "markdown",
      "metadata": {
        "id": "fkrSMekfpU0s"
      },
      "source": [
        "### Concatenation"
      ]
    },
    {
      "cell_type": "markdown",
      "metadata": {
        "id": "hfk--t_apU0s"
      },
      "source": [
        "Joining of two or more strings into a single one is called concatenation.\n",
        "\n",
        "- The <b>+</b> operator does this in Python. Simply writing two string literals together also concatenates them.\n",
        "\n",
        "- The <b>*</b> operator can be used to repeat the string for a given number of times."
      ]
    },
    {
      "cell_type": "code",
      "execution_count": null,
      "metadata": {
        "id": "WJ1f9IQhpU0t"
      },
      "outputs": [],
      "source": [
        "myString1 = \"Python \"\n",
        "myString2 = \"Programming\"\n",
        "\n",
        "print(myString1 + myString2)        # Concatenation of 2 strings  \n",
        "\n",
        "print(myString1 * 2)                # Repeat string n times"
      ]
    },
    {
      "cell_type": "code",
      "execution_count": null,
      "metadata": {
        "id": "y_wyFK9qpU0t"
      },
      "outputs": [],
      "source": [
        "charCount = 0\n",
        "for character in \"Python Programming\":             # Iterating Through String\n",
        "    if character == 'P':\n",
        "        charCount += 1\n",
        "print('Character count of P is ', charCount)        "
      ]
    },
    {
      "cell_type": "markdown",
      "metadata": {
        "id": "EYX2f9dJpU0t"
      },
      "source": [
        "### String Membership Test"
      ]
    },
    {
      "cell_type": "code",
      "execution_count": null,
      "metadata": {
        "id": "aOYkQGeVpU0t"
      },
      "outputs": [],
      "source": [
        "print('m' in 'Python Programming')                  # in operator to test membership"
      ]
    },
    {
      "cell_type": "code",
      "execution_count": null,
      "metadata": {
        "id": "bv5fbXrppU0t"
      },
      "outputs": [],
      "source": [
        "print('ro' in 'Python Programming') "
      ]
    },
    {
      "cell_type": "markdown",
      "metadata": {
        "id": "qOjceriBpU0u"
      },
      "source": [
        "### String Methods"
      ]
    },
    {
      "cell_type": "markdown",
      "metadata": {
        "id": "KMmy-yWBpU0u"
      },
      "source": [
        "Some of the commonly used methods are<br/> \n",
        "<b>lower(), upper(), join(), split(), find(), replace() </b>etc"
      ]
    },
    {
      "cell_type": "code",
      "execution_count": null,
      "metadata": {
        "id": "G9W094s0pU0u"
      },
      "outputs": [],
      "source": [
        "\"Python\".lower()                                                      # lower"
      ]
    },
    {
      "cell_type": "code",
      "execution_count": null,
      "metadata": {
        "id": "ricalfjZpU0u"
      },
      "outputs": [],
      "source": [
        "\"Python\".upper()                                                      # upper"
      ]
    },
    {
      "cell_type": "code",
      "execution_count": null,
      "metadata": {
        "id": "uXYfEzcWpU0v"
      },
      "outputs": [],
      "source": [
        "\"Split this line into a list\".split()                                 # split"
      ]
    },
    {
      "cell_type": "code",
      "execution_count": null,
      "metadata": {
        "id": "Xo587ULvpU0v"
      },
      "outputs": [],
      "source": [
        "' '.join(['Split', 'this', 'line', 'into', 'a', 'list'])              # join"
      ]
    },
    {
      "cell_type": "code",
      "execution_count": null,
      "metadata": {
        "id": "WzKfWF3-pU0v"
      },
      "outputs": [],
      "source": [
        "\"Python Programming\".find('mm')                                       # find"
      ]
    },
    {
      "cell_type": "code",
      "execution_count": null,
      "metadata": {
        "id": "DIbvq6nYpU0v"
      },
      "outputs": [],
      "source": [
        "myString1 = \"Python Programming\"\n",
        "\n",
        "myString2 = myString1.replace('Programming','Program')                # Replace a word\n",
        "\n",
        "print(myString1)\n",
        "print(myString2)"
      ]
    },
    {
      "cell_type": "markdown",
      "metadata": {
        "id": "YUQxMQhMpU0v"
      },
      "source": [
        "# Python Program to Check where a String is Palindrome or not ?\n"
      ]
    },
    {
      "cell_type": "code",
      "execution_count": null,
      "metadata": {
        "id": "2Yn4j_vjpU0v"
      },
      "outputs": [],
      "source": [
        "#Excercise 1: Reverse a word\n",
        "\n",
        "originalWord = 'mAlayalam'\n",
        "reversedWord = ''\n",
        "for character in originalWord:\n",
        "    reversedWord = character + reversedWord\n",
        "print(reversedWord)\n",
        "\n",
        "#Excercise 2: Check if word is a palindrome?\n",
        "\n",
        "originalWord = originalWord.lower()\n",
        "reversedWord = reversedWord.lower()\n",
        "\n",
        "if originalWord == reversedWord:\n",
        "    print(\"Given string is a palindrome\")\n",
        "else:\n",
        "    print(\"Given string is NOT a palindrome\")\n",
        "    \n",
        "#Excercise 3: Sort sentences in Reverse alphabetic Order?\n",
        "\n",
        "myString = \"This is a how reverse sorting works\" \n",
        "\n",
        "words = myString.split()                         # Breakdown the string into list of words\n",
        "\n",
        "words.sort(reverse=True)                         # Reverse sort the list\n",
        "\n",
        "\n",
        "revString = ''                              # Concate the words into a sentence\n",
        "for word in words:\n",
        "    revString += word + ' '\n",
        "print(revString)"
      ]
    }
  ],
  "metadata": {
    "kernelspec": {
      "display_name": "Python 3",
      "language": "python",
      "name": "python3"
    },
    "language_info": {
      "codemirror_mode": {
        "name": "ipython",
        "version": 3
      },
      "file_extension": ".py",
      "mimetype": "text/x-python",
      "name": "python",
      "nbconvert_exporter": "python",
      "pygments_lexer": "ipython3",
      "version": "3.6.0"
    },
    "colab": {
      "provenance": [],
      "include_colab_link": true
    }
  },
  "nbformat": 4,
  "nbformat_minor": 0
}
