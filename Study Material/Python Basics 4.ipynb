{
  "cells": [
    {
      "cell_type": "markdown",
      "metadata": {
        "id": "view-in-github",
        "colab_type": "text"
      },
      "source": [
        "<a href=\"https://colab.research.google.com/github/Mihir-Ai-lab/Insaid/blob/main/PythonBasics_210128_152927.ipynb\" target=\"_parent\"><img src=\"https://colab.research.google.com/assets/colab-badge.svg\" alt=\"Open In Colab\"/></a>"
      ]
    },
    {
      "cell_type": "markdown",
      "metadata": {
        "id": "wGg2ip-AI5Tz"
      },
      "source": [
        "# <center>Python Basics<center/> \n",
        "<img height=\"60\" width=\"120\" src=\"https://www.python.org/static/img/python-logo-large.png?1414305901\"></img>"
      ]
    },
    {
      "cell_type": "markdown",
      "metadata": {
        "id": "C_wknjdPI5T4"
      },
      "source": [
        "# Table of contents\n",
        "<br/>\n",
        "<a href = \"#12.-Operators\">12. Operators</a><br/>\n",
        "    1. Arithmetic operators\n",
        "    2. Comparison (Relational) operators\n",
        "    3. Logical (Boolean) operators\n",
        "    4. Bitwise operators\n",
        "    5. Assignment operators\n",
        "    6. Special operators\n",
        "    \n",
        "    \n",
        "<a href = \"#13.-Control-Flow\">13. Control Flow</a><br/>\n",
        "    1. if..else\n",
        "    2. while\n",
        "    3. for\n",
        "    4. break & continue"
      ]
    },
    {
      "cell_type": "markdown",
      "metadata": {
        "id": "MA7hjF4eI5T5"
      },
      "source": [
        "# 12. Operators"
      ]
    },
    {
      "cell_type": "markdown",
      "metadata": {
        "id": "Teb_i9L8I5T6"
      },
      "source": [
        "Operators are the constructs which can help manipulate the value of operands.<br/>\n",
        "Consider the expression 4 + 5 = 9. Here, <i><b>4 and 5</b></i> are called <i><b>operands</b></i> and <i><b>+</b></i> is called <i><b>operator</b></i>."
      ]
    },
    {
      "cell_type": "markdown",
      "metadata": {
        "id": "DxB3pdnrI5T6"
      },
      "source": [
        "## Operator Types"
      ]
    },
    {
      "cell_type": "markdown",
      "metadata": {
        "id": "4_imP0dTI5T7"
      },
      "source": [
        "The different operators in Python are as below\n",
        "\n",
        "1. Arithmetic operators\n",
        "    \n",
        "2. Comparison (Relational) operators\n",
        "\n",
        "3. Logical (Boolean) operators\n",
        "\n",
        "4. Bitwise operators (This part can be skipped as it is not necessary for data science learning.)\n",
        "\n",
        "5. Assignment operators\n",
        "\n",
        "6. Special operators\n",
        "\n",
        "Let us discuss them one by one"
      ]
    },
    {
      "cell_type": "markdown",
      "metadata": {
        "id": "OryQ5WihI5T7"
      },
      "source": [
        "## 12.1 Arithmetic Operators"
      ]
    },
    {
      "cell_type": "markdown",
      "metadata": {
        "id": "Ns2vLjX2I5T8"
      },
      "source": [
        "Arithmetic operators are used to perform mathematical operations like addition, subtraction, multiplication etc."
      ]
    },
    {
      "cell_type": "markdown",
      "metadata": {
        "id": "96KVWEWWI5T8"
      },
      "source": [
        "    + , -, *, /, %, //, **  are arithmetic operators"
      ]
    },
    {
      "cell_type": "markdown",
      "metadata": {
        "id": "Vu90tNgBI5T9"
      },
      "source": [
        "Example:"
      ]
    },
    {
      "cell_type": "code",
      "execution_count": null,
      "metadata": {
        "id": "dsNDv3NPI5T9",
        "outputId": "5a72ddc4-1b6d-4ab6-b4f6-cdbc3eca65ff"
      },
      "outputs": [
        {
          "name": "stdout",
          "output_type": "stream",
          "text": [
            "7\n",
            "3\n",
            "10\n",
            "2.5\n",
            "1\n",
            "2\n",
            "25\n"
          ]
        }
      ],
      "source": [
        "variable1, variable2 = 5, 2\n",
        "\n",
        "print(variable1 + variable2)  # Addition(+)\n",
        "\n",
        "print(variable1 - variable2)  # Subtraction(-)\n",
        "\n",
        "print(variable1 * variable2)  # Multiplication(*)\n",
        "\n",
        "print(variable1 / variable2)  # Division(/)\n",
        "\n",
        "print(variable1 % variable2)  # Modulo division (%)\n",
        "\n",
        "print(variable1 // variable2) # Floor Division (//)\n",
        "\n",
        "print(variable1 ** variable2) # Exponent (**)"
      ]
    },
    {
      "cell_type": "markdown",
      "metadata": {
        "id": "9e_njFshI5UA"
      },
      "source": [
        "## 12.2 Comparision Operators"
      ]
    },
    {
      "cell_type": "markdown",
      "metadata": {
        "id": "rkn2pz8pI5UB"
      },
      "source": [
        "Comparison operators are used to compare values. It either returns True or False according to the condition."
      ]
    },
    {
      "cell_type": "markdown",
      "metadata": {
        "id": "dS6k6BbKI5UB"
      },
      "source": [
        "    >, <, ==, !=, >=, <= are comparision operators"
      ]
    },
    {
      "cell_type": "code",
      "execution_count": null,
      "metadata": {
        "id": "PKblUjbLI5UB",
        "outputId": "c846772c-424d-4a1b-c15d-67ca8ceda1cf"
      },
      "outputs": [
        {
          "name": "stdout",
          "output_type": "stream",
          "text": [
            "False\n",
            "True\n",
            "False\n",
            "True\n",
            "True\n",
            "False\n"
          ]
        }
      ],
      "source": [
        "variable1, variable2 = 5, 2         \n",
        "\n",
        "print(variable1 < variable2)   # Check if variable1 is less than variable2\n",
        "\n",
        "print(variable1 > variable2)   # Check if variable1 is greater than variable2\n",
        "\n",
        "print(variable1 == variable2)  # Check if variable1 is equal to variable2\n",
        "\n",
        "print(variable1 != variable2)  # Check if variable1 is not equal to variable2 (!=)\n",
        "\n",
        "print(variable1 >= variable2)  # Check if variable1 greater than or equal to variable2\n",
        "\n",
        "print(variable1 <= variable2)  # Check if variable1 less than or equal to variable2\n"
      ]
    },
    {
      "cell_type": "markdown",
      "metadata": {
        "id": "mK5MqoiMI5UC"
      },
      "source": [
        "## 12.3 Logical Operators"
      ]
    },
    {
      "cell_type": "markdown",
      "metadata": {
        "id": "0T68V5SVI5UC"
      },
      "source": [
        "Logical operators are  **and, or, not** operators."
      ]
    },
    {
      "cell_type": "code",
      "execution_count": null,
      "metadata": {
        "id": "sNl7AjKbI5UD",
        "outputId": "9fc0be9b-782e-4575-ee08-bd914c725f8b"
      },
      "outputs": [
        {
          "name": "stdout",
          "output_type": "stream",
          "text": [
            "False\n",
            "True\n",
            "True\n"
          ]
        }
      ],
      "source": [
        "variable1, variable2 = True, False\n",
        "\n",
        "print(variable1 and variable2)  # Print variable1 and variable2 \n",
        "\n",
        "# 0 0 0\n",
        "# 0 1 0\n",
        "# 1 0 0\n",
        "# 1 1 1\n",
        "\n",
        "print(variable1 or variable2)  # Print variable1 or variable2\n",
        "\n",
        "# 0 0 0\n",
        "# 0 1 1\n",
        "# 1 0 1\n",
        "# 1 1 1\n",
        "\n",
        "print(not variable2)           # Print not variable2\n"
      ]
    },
    {
      "cell_type": "markdown",
      "metadata": {
        "id": "Ti_f3-EaI5UD"
      },
      "source": [
        "## 12.4 Bitwise operators"
      ]
    },
    {
      "cell_type": "markdown",
      "metadata": {
        "id": "UUY0oAeLI5UE"
      },
      "source": [
        "Bitwise operators act on operands as if they were string of binary digits. It operates bit by bit.\n",
        "\n",
        "- Bitwise operators:    $&,  |,  ~,  ^,  >>,  <<$\n",
        "\n",
        "**Note:** This part can be skipped as it is not necessary for data science learning."
      ]
    },
    {
      "cell_type": "code",
      "execution_count": null,
      "metadata": {
        "id": "jBlf4x9xI5UE",
        "outputId": "4aa84502-7a0c-441f-a644-c6787a9c22a2"
      },
      "outputs": [
        {
          "name": "stdout",
          "output_type": "stream",
          "text": [
            "3\n",
            "7\n",
            "-8\n",
            "4\n",
            "0\n",
            "12\n"
          ]
        }
      ],
      "source": [
        "variable1, variable2 = 3, 7            # Decimal to bitwise values -> 3 - 0000 0011 & 7 - 0000 0111\n",
        "\n",
        "print(variable1 & variable2)           # Bitwise AND ->       0000 0011 & 0000 0111 -> 0000 0011 -> 3\n",
        "\n",
        "print(variable1 | variable2)           # Bitwise OR ->        0000 0011 | 0000 0111 -> 0000 0111 -> 7\n",
        "\n",
        "print(~variable2)                      # Bitwise NOT ->     ~ 0000 0111 -> 1111 1000 -> -8\n",
        "\n",
        "print(variable1 ^ variable2)           # Bitwise XOR ->       0000 0011 ^ 0000 0111 -> 0000 0100 -> 4\n",
        "\n",
        "print(variable1>>2)                    # Bitwise rightshift   0000 0011>>2 -> 0000 0000 -> 0\n",
        "\n",
        "print(variable1<<2)                    # Bitwise Leftshift    0000 0011<<2 -> 0000 1100 -> 12"
      ]
    },
    {
      "cell_type": "markdown",
      "metadata": {
        "id": "4A3DbvfBI5UF"
      },
      "source": [
        "## 12.5 Assignment operators"
      ]
    },
    {
      "cell_type": "markdown",
      "metadata": {
        "id": "mGQLgShhI5UF"
      },
      "source": [
        "<u>Assignment operators</u> are used in Python to <i><b>assign values to variables</b></i>.\n",
        "\n",
        "age = 50 is a simple assignment operator that assigns the value 50 on the right to the variable (age) a on the left."
      ]
    },
    {
      "cell_type": "markdown",
      "metadata": {
        "id": "uXyEbfWHI5UF"
      },
      "source": [
        "    =,  +=,  -=,  *=,  /=,  %=,  //=,  **=, &=,  |=,  ^=,  >>=,  <<= are Assignment operators"
      ]
    },
    {
      "cell_type": "code",
      "execution_count": null,
      "metadata": {
        "id": "WWK32rUjI5UG",
        "outputId": "3c4a217f-9f6d-4543-c7e2-3116a3d57590"
      },
      "outputs": [
        {
          "name": "stdout",
          "output_type": "stream",
          "text": [
            "44\n",
            "37\n",
            "148\n",
            "37.0\n",
            "17.0\n",
            "4.0\n",
            "256.0\n"
          ]
        }
      ],
      "source": [
        "age = 40\n",
        "\n",
        "age += 4        # Add AND  <- age = age + 4\n",
        "print(age)\n",
        "\n",
        "age -= 7        # Subtract AND (-=)\n",
        "print(age)\n",
        "\n",
        "age *= 4        # Multiply AND (*=)\n",
        "print(age)\n",
        "\n",
        "age /= 4        # Divide AND (/=)\n",
        "print(age)\n",
        "\n",
        "age %= 20       # Modulus AND (%=)\n",
        "print(age)\n",
        "\n",
        "age //= 4       # Floor Division (//=)\n",
        "print(age)\n",
        "\n",
        "age **= 4       # Exponent AND (**=)\n",
        "print(age)"
      ]
    },
    {
      "cell_type": "markdown",
      "metadata": {
        "id": "Smj-h_LdI5UG"
      },
      "source": [
        "## 12.6 Special Operators"
      ]
    },
    {
      "cell_type": "markdown",
      "metadata": {
        "id": "p7KRntbII5UH"
      },
      "source": [
        "### 12.6.1 Identity Operators"
      ]
    },
    {
      "cell_type": "markdown",
      "metadata": {
        "id": "DeBG9Jy0I5UH"
      },
      "source": [
        "**is and is not** are the <u>identity operators</u> in Python. \n",
        "\n",
        "They are used to verify if two values (or variables) are located in the same part of the memory."
      ]
    },
    {
      "cell_type": "code",
      "execution_count": null,
      "metadata": {
        "id": "8CbvnfjYI5UH",
        "outputId": "0e5ccb71-9b98-48ac-eccd-98b2ef711201"
      },
      "outputs": [
        {
          "name": "stdout",
          "output_type": "stream",
          "text": [
            "True\n",
            "False\n"
          ]
        }
      ],
      "source": [
        "variable1 = 20\n",
        "variable2 = 20\n",
        "print(variable1 is variable2)            # 20 is created once & both variable1 and variable2 points to same object\n",
        "\n",
        "#check is not\n",
        "print(variable1 is not variable2)"
      ]
    },
    {
      "cell_type": "code",
      "execution_count": null,
      "metadata": {
        "id": "hl9Cq_N2I5UI",
        "outputId": "b5253558-fb4d-4ecb-e6f1-828c8469a514"
      },
      "outputs": [
        {
          "name": "stdout",
          "output_type": "stream",
          "text": [
            "False\n"
          ]
        }
      ],
      "source": [
        "myList1 = [1,2,3]\n",
        "myList2 = [1,2,3]\n",
        "\n",
        "print(myList1 is myList2)"
      ]
    },
    {
      "cell_type": "code",
      "execution_count": null,
      "metadata": {
        "id": "K6xSzxO8I5UI",
        "outputId": "f68de0dc-07c0-4b6e-efe8-9398721c8ead"
      },
      "outputs": [
        {
          "name": "stdout",
          "output_type": "stream",
          "text": [
            "False\n"
          ]
        }
      ],
      "source": [
        "myString1 = \"Suchit\"\n",
        "myString2 = \"Suchit\"\n",
        "print(myString1 is not myString2)"
      ]
    },
    {
      "cell_type": "markdown",
      "metadata": {
        "id": "qEREjf5RI5UI"
      },
      "source": [
        "### 12.6.2 MemberShip Operators"
      ]
    },
    {
      "cell_type": "markdown",
      "metadata": {
        "id": "7gHIMInPI5UJ"
      },
      "source": [
        "**in and not in** are the membership operators in Python. \n",
        "    \n",
        "They are used to test whether a value or variable is found in a sequence (string, list, tuple, set and   dictionary)."
      ]
    },
    {
      "cell_type": "code",
      "execution_count": null,
      "metadata": {
        "id": "YgMz-zcJI5UJ",
        "outputId": "80503dfd-7bb4-4c63-8950-5399ec099387"
      },
      "outputs": [
        {
          "name": "stdout",
          "output_type": "stream",
          "text": [
            "True\n",
            "True\n"
          ]
        }
      ],
      "source": [
        "myList3 = ['a', 22, 'b', 100]\n",
        "print(22 in myList3)                  # Check if 22 is present in the given list or not\n",
        "\n",
        "print('b' in myList3)                 # Check if 'b' is present in the given list"
      ]
    },
    {
      "cell_type": "code",
      "execution_count": null,
      "metadata": {
        "id": "OZVGIdg3I5UJ",
        "outputId": "2ab3918f-5ed2-4b09-c98a-e87c1f527aac"
      },
      "outputs": [
        {
          "name": "stdout",
          "output_type": "stream",
          "text": [
            "True\n"
          ]
        }
      ],
      "source": [
        "myDictionary = {125 : 'Apple', 200 : 'Banana'}\n",
        "print(125 in myDictionary)"
      ]
    },
    {
      "cell_type": "markdown",
      "metadata": {
        "id": "I3trfNLqI5UK"
      },
      "source": [
        "# 13. Control Flow"
      ]
    },
    {
      "cell_type": "markdown",
      "metadata": {
        "id": "oEl-jwqnI5UK"
      },
      "source": [
        "## 13.1 Python if - else Statement\n",
        "\n",
        "If - else statements are used for **decision making**, let us see a simple examle,\n",
        "\n",
        "if 'It rains':<br/>\n",
        "&nbsp;&nbsp;&nbsp;&nbsp;'Dont play golf'<br/>\n",
        "else: <br/>\n",
        "&nbsp;&nbsp;&nbsp;&nbsp;if 'It is too hot':<br/>\n",
        "&nbsp;&nbsp;&nbsp;&nbsp;&nbsp;&nbsp;&nbsp;&nbsp;'Dont play golf'<br/>\n",
        "&nbsp;&nbsp;&nbsp;&nbsp;else:<br/>\n",
        "&nbsp;&nbsp;&nbsp;&nbsp;&nbsp;&nbsp;&nbsp;&nbsp;'Play golf'<br/>\n",
        "\n",
        "---\n",
        "**else if** can be combined to form **elif**\n",
        "\n",
        "if 'It rains':<br/>\n",
        "&nbsp;&nbsp;&nbsp;&nbsp;'Dont play golf'<br/>\n",
        "elif 'It is too hot':<br/>\n",
        "&nbsp;&nbsp;&nbsp;&nbsp;'Dont play golf'<br/>\n",
        "else:<br/>\n",
        "&nbsp;&nbsp;&nbsp;&nbsp;'Play golf'<br/>\n",
        "\n",
        "---"
      ]
    },
    {
      "cell_type": "markdown",
      "metadata": {
        "id": "rJyuGhsjI5UK"
      },
      "source": [
        "### 13.1.1 Let us see the Python Syntax for if statement<br/><br/>\n",
        "\n",
        "    if test expression:\n",
        "        statement(s)\n",
        "---    \n",
        "<br/><br/>\n",
        "The program evaluates the test expression and will execute statement(s) only if the text expression is True.\n",
        "\n",
        "If the text expression is False, the statement(s) is not executed.\n",
        "\n",
        "Python interprets non-zero values as True. None and 0 are interpreted as False.\n",
        "\n",
        "---"
      ]
    },
    {
      "cell_type": "markdown",
      "metadata": {
        "id": "xE7PeJ7nI5UL"
      },
      "source": [
        "#### Flow Chart on how if-statement helps in Decision Making\n",
        "\n",
        "<img height=\"200\" width=\"400\" src=\"https://github.com/suchitmajumdar/LearnPython/blob/master/images/Python_if_statement.jpg?raw=true\"></img>\n"
      ]
    },
    {
      "cell_type": "markdown",
      "metadata": {
        "id": "gNqT0XHQI5UL"
      },
      "source": [
        "#### Examples of if-statement"
      ]
    },
    {
      "cell_type": "code",
      "execution_count": null,
      "metadata": {
        "id": "ursh5NFkI5UL",
        "outputId": "f3a8ad66-d157-47ef-9630-80e20ec2af0a"
      },
      "outputs": [
        {
          "name": "stdout",
          "output_type": "stream",
          "text": [
            "Outside if block\n"
          ]
        }
      ],
      "source": [
        "number = 20\n",
        "\n",
        "if number<15:\n",
        "    print('Number is less than 15')\n",
        "print('Outside if block')"
      ]
    },
    {
      "cell_type": "code",
      "execution_count": null,
      "metadata": {
        "id": "TnoMl1GmI5UL",
        "outputId": "fbbd2d0d-ecf8-4030-f68c-261a81cf2572"
      },
      "outputs": [
        {
          "name": "stdout",
          "output_type": "stream",
          "text": [
            "Inside if\n",
            "Outside if\n",
            "True\n"
          ]
        }
      ],
      "source": [
        "# try 0, -1 and None\n",
        "if -1:\n",
        "    print(\"Inside if\")\n",
        "print(\"Outside if\")                #This print statement always print\n",
        "\n",
        "# What is the idea behind the above\n",
        "val = -1\n",
        "print(bool(val))"
      ]
    },
    {
      "cell_type": "markdown",
      "metadata": {
        "id": "8shG7FkwI5UM"
      },
      "source": [
        "---\n",
        "\n",
        "### 13.1.2 Python if...else - Statement\n",
        "\n",
        "Syntax of if ... else statement is as follows\n",
        "\n",
        "    if test expression:\n",
        "    \n",
        "        Body of if\n",
        "\n",
        "    else: \n",
        "    \n",
        "        Body of else"
      ]
    },
    {
      "cell_type": "markdown",
      "metadata": {
        "id": "P-3XXNh3I5UM"
      },
      "source": [
        "### Flow Chart on how if...else-statement helps in Decision Making\n",
        "\n",
        "<img height=\"200\" width=\"400\" src=\"https://github.com/suchitmajumdar/LearnPython/blob/master/images/flowchart-if-else-programming.jpg?raw=true\"></img>\n"
      ]
    },
    {
      "cell_type": "markdown",
      "metadata": {
        "id": "7VOirFSSI5UM"
      },
      "source": [
        "#### Examples of if...else-statement"
      ]
    },
    {
      "cell_type": "code",
      "execution_count": null,
      "metadata": {
        "id": "u257J_dBI5UN",
        "outputId": "10db1fee-2534-488a-cead-eb6a4c4a3feb"
      },
      "outputs": [
        {
          "name": "stdout",
          "output_type": "stream",
          "text": [
            "Adult\n"
          ]
        }
      ],
      "source": [
        "age = 21\n",
        "if age > 18:\n",
        "    print('Adult')\n",
        "else:\n",
        "    print('Child')"
      ]
    },
    {
      "cell_type": "markdown",
      "metadata": {
        "id": "8UhoTwenI5UN"
      },
      "source": [
        "---\n",
        "\n",
        "### 13.1.3 if..elif..else Statement"
      ]
    },
    {
      "cell_type": "markdown",
      "metadata": {
        "id": "jv3Ds3K_I5UN"
      },
      "source": [
        "The syntax for **if..elif..else** Statement is as follows\n",
        "\n",
        "\n",
        "    if test expression:\n",
        "\n",
        "        Body of if\n",
        "    elif test expression:\n",
        "    \n",
        "        Body of elif\n",
        "    else: \n",
        "    \n",
        "        Body of else"
      ]
    },
    {
      "cell_type": "markdown",
      "metadata": {
        "id": "42kPLG33I5UN"
      },
      "source": [
        "#### Flow Chart on how if..elif..else-statement helps in Decision Making\n",
        "\n",
        "<img height=\"200\" width=\"500\" src=\"https://github.com/suchitmajumdar/LearnPython/blob/master/images/python_ifelseif.jpg?raw=true\"></img>\n"
      ]
    },
    {
      "cell_type": "code",
      "execution_count": null,
      "metadata": {
        "id": "ahAY0EJTI5UO",
        "outputId": "4f4a3d0d-34ba-4d2d-b364-02842c289624"
      },
      "outputs": [
        {
          "name": "stdout",
          "output_type": "stream",
          "text": [
            "Adult\n"
          ]
        }
      ],
      "source": [
        "age = 20\n",
        "\n",
        "if age > 19:\n",
        "    print('Adult')\n",
        "elif age > 12:\n",
        "    print('Teen')\n",
        "else:\n",
        "    print('Child')"
      ]
    },
    {
      "cell_type": "markdown",
      "metadata": {
        "id": "dsoq213oI5UO"
      },
      "source": [
        "---\n",
        "\n",
        "### 13.1.4 Nested if Statements"
      ]
    },
    {
      "cell_type": "markdown",
      "metadata": {
        "id": "xLBDr-xbI5UO"
      },
      "source": [
        "We can have a if...elif...else statement inside another if...elif...else statement. This is called nesting in computer programming.\n",
        "\n",
        "Any number of these statements can be nested inside one another. Indentation is the only way to figure out the level of nesting. This can get confusing, so must be avoided if we can."
      ]
    },
    {
      "cell_type": "markdown",
      "metadata": {
        "id": "ZSAth2QfI5UP"
      },
      "source": [
        "#### Example of <b>Nested if</b> statements"
      ]
    },
    {
      "cell_type": "code",
      "execution_count": null,
      "metadata": {
        "id": "n6zpNvFEI5UP",
        "outputId": "04a1633d-bee8-4ee0-df6c-e387db244976"
      },
      "outputs": [
        {
          "name": "stdout",
          "output_type": "stream",
          "text": [
            "Teen\n",
            "This will always get executed\n"
          ]
        }
      ],
      "source": [
        "age = 14\n",
        "\n",
        "if age >=13:\n",
        "    if age <=19:\n",
        "        print('Teen')\n",
        "    else:\n",
        "        print('Adult')\n",
        "else:\n",
        "    print('Child')\n",
        "    \n",
        "    \n",
        "    \n",
        "print('This will always get executed')"
      ]
    },
    {
      "cell_type": "markdown",
      "metadata": {
        "id": "0SCO296bI5UP"
      },
      "source": [
        "Combining **Operators** in if-statements"
      ]
    },
    {
      "cell_type": "code",
      "execution_count": null,
      "metadata": {
        "id": "2XE0NBLfI5UQ",
        "outputId": "9b223535-90d9-4b75-ac45-dbc8a90f8a25"
      },
      "outputs": [
        {
          "name": "stdout",
          "output_type": "stream",
          "text": [
            "The person is in category: Child\n"
          ]
        }
      ],
      "source": [
        "age = 1\n",
        "person_type = 'not sure'\n",
        "\n",
        "if (age >= 13) and (age<=19):          # Using the logical operator : and\n",
        "    person_type = 'Teen'\n",
        "elif (age >= 0) and (age <=12):\n",
        "    person_type = 'Child'\n",
        "else:\n",
        "    person_type = 'Adult'\n",
        "print('The person is in category: {}'.format(person_type))"
      ]
    },
    {
      "cell_type": "markdown",
      "metadata": {
        "id": "OJbTdZeWI5UR"
      },
      "source": [
        "---\n",
        "\n",
        "# 13.2 <u>while</u> loop in Python"
      ]
    },
    {
      "cell_type": "markdown",
      "metadata": {
        "id": "1aP9M0flI5UR"
      },
      "source": [
        "## 13.2.1 while loop\n",
        "\n",
        "Use while loop to iterate over a block of code as long as the test expression (also called test condition) is true.\n",
        "\n",
        "#### Syntax\n",
        "\n",
        "    while test_expression:\n",
        "        \n",
        "        Body of while\n",
        "\n",
        "\n",
        "The body of the loop is entered only if the test_expression evaluates to True. \n",
        "\n",
        "After one iteration, the test expression is checked again. \n",
        "\n",
        "This process continues until the test_expression evaluates to False.\n"
      ]
    },
    {
      "cell_type": "markdown",
      "metadata": {
        "id": "ixI3RQwHI5US"
      },
      "source": [
        "#### Flowchart of <u>while</u> loop\n",
        "\n",
        "<img height=\"200\" width=\"400\" src=\"https://github.com/suchitmajumdar/LearnPython/blob/master/images/while_0.png?raw=true\"></img>\n"
      ]
    },
    {
      "cell_type": "markdown",
      "metadata": {
        "id": "dvIx-UE6I5US"
      },
      "source": [
        "#### Examples of while loop"
      ]
    },
    {
      "cell_type": "code",
      "execution_count": null,
      "metadata": {
        "id": "E9Mv6XYKI5US",
        "outputId": "f98f640f-2696-4214-cf0f-98b7059bde7e"
      },
      "outputs": [
        {
          "name": "stdout",
          "output_type": "stream",
          "text": [
            "Sum of the array is: 15\n"
          ]
        }
      ],
      "source": [
        "# Find the sum of all numbers in a list\n",
        "\n",
        "myList = [1, 2, 3, 4, 5]\n",
        "\n",
        "sum = 0\n",
        "index = 0\n",
        "\n",
        "while index < len(myList):\n",
        "    sum += myList[index]                      # sum = sum + myList[index]\n",
        "    index += 1                                # index = index + 1\n",
        "print('Sum of the array is: {}'.format(sum))"
      ]
    },
    {
      "cell_type": "markdown",
      "metadata": {
        "id": "Ox13ySVHI5US"
      },
      "source": [
        "#### Examples of while Loop with else statement\n",
        "\n",
        "While loop has an optional <b>else</b> block which one may use if one wishes to use it.<br/>\n",
        "The else block gets executed when the condition in while statement is <b>False</b>.<br/>\n",
        "\n",
        "The <b>else</b> can be skipped if we use a <b>break</b> command in the while block"
      ]
    },
    {
      "cell_type": "code",
      "execution_count": null,
      "metadata": {
        "id": "wiP7pc1wI5UT",
        "outputId": "fd712be6-0cba-48c7-c078-0eb6773eb998"
      },
      "outputs": [
        {
          "name": "stdout",
          "output_type": "stream",
          "text": [
            "1\n",
            "Eitherway printed\n"
          ]
        }
      ],
      "source": [
        "myList = [1, 2, 3, 4, 5]\n",
        "\n",
        "#iterating over the list\n",
        "index = 0\n",
        "while index < len(myList):\n",
        "    print(myList[index])\n",
        "    break\n",
        "    index += 1\n",
        "else:\n",
        "    print('Completed iterating the list')\n",
        "    \n",
        "print('Eitherway printed')"
      ]
    },
    {
      "cell_type": "markdown",
      "metadata": {
        "id": "Vo67SLctI5UT"
      },
      "source": [
        "#### Example: Calculate the factorial of a number"
      ]
    },
    {
      "cell_type": "code",
      "execution_count": null,
      "metadata": {
        "id": "kKvnr_v8I5UT",
        "outputId": "dcb5df7b-4fcd-4b5e-88d3-eacd617631ac"
      },
      "outputs": [
        {
          "name": "stdout",
          "output_type": "stream",
          "text": [
            "Enter a positive non-zero number: -9\n",
            "Invalid number please re-enter\n",
            "Enter a positive non-zero number: 6\n",
            "The factorial of the number is:  720\n"
          ]
        }
      ],
      "source": [
        "userInput = input(\"Enter a positive non-zero number: \")\n",
        "number = int(userInput)\n",
        "\n",
        "if number <= 0:\n",
        "    print('Invalid number please re-enter')\n",
        "    userInput = input(\"Enter a positive non-zero number: \")\n",
        "    number = int(userInput)\n",
        "    \n",
        "else:\n",
        "    print('Thank you, let me share the result with you')\n",
        "\n",
        "fact = 1\n",
        "if number > 0:\n",
        "    while number > 0:\n",
        "        fact *= number                                      # fact = fact * number\n",
        "        number -= 1                                         # number = number -1\n",
        "    print('The factorial of the number is: ', fact)\n",
        "        "
      ]
    },
    {
      "cell_type": "markdown",
      "metadata": {
        "id": "AhqHdfXnI5UU"
      },
      "source": [
        "---\n",
        "\n",
        "# 13.3 <u>for</u> Loop Python  "
      ]
    },
    {
      "cell_type": "markdown",
      "metadata": {
        "id": "7hD52yKeI5UU"
      },
      "source": [
        "<b>for</b> loop in one of the most often used Python looping technque to iterate over a sequence (list, tuple, string) or other iterable objects. \n",
        "    \n",
        "Iterating over a sequence is called traversal.\n",
        "\n",
        "#### Syntax:\n",
        "\n",
        "    for element in sequence :\n",
        "\n",
        "        'for' code block  \n",
        "        \n",
        "\n",
        "Here, element is the variable that takes the value of the item inside the sequence on each iteration.\n",
        "\n",
        "Loop continues until we reach the last item in the sequence. "
      ]
    },
    {
      "cell_type": "markdown",
      "metadata": {
        "id": "PtE9V5RfI5UU"
      },
      "source": [
        "#### Flowchart of <u>for</u> loop\n",
        "\n",
        "<img height=\"200\" width=\"400\" src=\"https://github.com/suchitmajumdar/LearnPython/blob/master/images/for_0.png?raw=true\"></img>\n"
      ]
    },
    {
      "cell_type": "code",
      "execution_count": null,
      "metadata": {
        "id": "_hX0tdoZI5UU",
        "outputId": "273d15a2-6a9b-48b8-bf5f-b39a34985c65"
      },
      "outputs": [
        {
          "name": "stdout",
          "output_type": "stream",
          "text": [
            "Sum of the aray is: 15\n"
          ]
        }
      ],
      "source": [
        "# Sum of all numbers in a list\n",
        "\n",
        "myList = [1, 2, 3, 4, 5]\n",
        "\n",
        "sum = 0\n",
        "#iterating over the list\n",
        "for element in myList:\n",
        "    sum += element\n",
        "    \n",
        "print(\"Sum of the aray is: {}\".format(sum))"
      ]
    },
    {
      "cell_type": "markdown",
      "metadata": {
        "id": "mBUzchcnI5UV"
      },
      "source": [
        "\n",
        "#### range() function\n",
        "\n",
        "Often we need to run a for loop on a range of values that could be based on a starting point to an ending point with pre-specified step size.\n",
        "\n",
        "##### range(start,stop,step size)\n",
        "\n",
        "The numbers in range are not stored but calculated dynamically on the fly using the 3 parameters start,stop, step size"
      ]
    },
    {
      "cell_type": "code",
      "execution_count": null,
      "metadata": {
        "id": "jnPoIKISI5UV",
        "outputId": "dfd9b01f-5c6f-4ae7-adff-22586d8b85fd"
      },
      "outputs": [
        {
          "name": "stdout",
          "output_type": "stream",
          "text": [
            "0\n",
            "1\n",
            "2\n",
            "3\n",
            "4\n"
          ]
        }
      ],
      "source": [
        "# Print range of 5\n",
        "for element in range(5):\n",
        "    print(element)"
      ]
    },
    {
      "cell_type": "code",
      "execution_count": null,
      "metadata": {
        "id": "gHV_uS0nI5UV",
        "outputId": "08be7707-4815-47c2-931d-cbf296d48839"
      },
      "outputs": [
        {
          "name": "stdout",
          "output_type": "stream",
          "text": [
            "1\n",
            "4\n",
            "7\n",
            "10\n",
            "13\n",
            "16\n",
            "19\n",
            "22\n",
            "25\n",
            "28\n",
            "31\n",
            "34\n",
            "37\n"
          ]
        }
      ],
      "source": [
        "# Print range numbers from 0 to 40 but with step size of 12\n",
        "for element in range(1,40,3):\n",
        "    print(element)"
      ]
    },
    {
      "cell_type": "code",
      "execution_count": null,
      "metadata": {
        "id": "sEjolPszI5UW",
        "outputId": "09ec2754-98b5-46fa-ee69-a38e2e5de0ab"
      },
      "outputs": [
        {
          "name": "stdout",
          "output_type": "stream",
          "text": [
            "1\n",
            "2\n",
            "3\n",
            "4\n",
            "suchit\n"
          ]
        }
      ],
      "source": [
        "myList = [1, 2, 3, 4, \"suchit\"]\n",
        "\n",
        "# Iterate over myList using index\n",
        "#for index in range(len(myList)):\n",
        "#    print(myList[index])\n",
        "\n",
        "for element in myList:\n",
        "    print(element)"
      ]
    },
    {
      "cell_type": "markdown",
      "metadata": {
        "id": "Jw20-j0EI5UW"
      },
      "source": [
        "#### for loop with else\n",
        "\n",
        "Similar to while loop, a for loop can have an optional else block. <br/>\n",
        "The else part is executed if the items in the sequence used in for loop exhausts.\n",
        "\n",
        "for loop's else part runs if no break occurs."
      ]
    },
    {
      "cell_type": "code",
      "execution_count": null,
      "metadata": {
        "id": "aqPZHiveI5UW",
        "outputId": "484d9256-8f33-4522-9aef-ec560f408d55"
      },
      "outputs": [
        {
          "name": "stdout",
          "output_type": "stream",
          "text": [
            "Suchit\n",
            "Rakesh\n",
            "Roshni\n",
            "Completed the names list\n"
          ]
        }
      ],
      "source": [
        "names = ['Suchit', 'Rakesh', 'Roshni']\n",
        "\n",
        "#iterating over the list\n",
        "for name in names:\n",
        "    print(name)\n",
        "else:\n",
        "    print(\"Completed the names list\")"
      ]
    },
    {
      "cell_type": "code",
      "execution_count": null,
      "metadata": {
        "id": "V8pUL6qvI5UX",
        "outputId": "761a3d33-e3ad-4240-af5e-8496815a7946"
      },
      "outputs": [
        {
          "name": "stdout",
          "output_type": "stream",
          "text": [
            "Suchit\n",
            "Rakesh\n",
            "Totally outside the for else block\n"
          ]
        }
      ],
      "source": [
        "# Let us use the break keyword\n",
        "\n",
        "for name in names:\n",
        "    print(name)\n",
        "    if name == 'Rakesh':\n",
        "        break    \n",
        "else:\n",
        "    print(\"Completed the names list\")\n",
        "\n",
        "print('Totally outside the for else block')"
      ]
    },
    {
      "cell_type": "markdown",
      "metadata": {
        "id": "Raqc08LqI5UX"
      },
      "source": [
        "#### Example: Program to calculate the divisors of number"
      ]
    },
    {
      "cell_type": "code",
      "execution_count": null,
      "metadata": {
        "id": "m-6MoQv1I5UX",
        "outputId": "1723db1a-b2cf-4f9b-a97c-c3e3fffff195"
      },
      "outputs": [
        {
          "name": "stdout",
          "output_type": "stream",
          "text": [
            "Please enter a positive number: 100\n",
            "[1, 2, 4, 5, 10, 20, 25, 50]\n"
          ]
        }
      ],
      "source": [
        "inputNumber = input(\"Please enter a positive number: \")\n",
        "number = int(inputNumber)\n",
        "listOfDivisors = [1]\n",
        "\n",
        "for divisor in range(2,int(number/2)+1):               # divisor -> 2.3.4.5.6.7.8....... int(num/2) + 1\n",
        "    if(number%divisor == 0):\n",
        "        listOfDivisors.append(divisor)\n",
        "else:\n",
        "    print(listOfDivisors)"
      ]
    },
    {
      "cell_type": "markdown",
      "metadata": {
        "id": "dmsNgmJuI5UY"
      },
      "source": [
        "---\n",
        "\n",
        "# 13.4 <u>break & continue</u> in Python  "
      ]
    },
    {
      "cell_type": "markdown",
      "metadata": {
        "id": "POSwenPOI5UY"
      },
      "source": [
        "The break and continue statements can alter the flow of a normal loop.\n",
        "\n",
        "Loops iterate over a block of code until test expression is false, but sometimes we may need to terminate the current iteration or even the whole loop without cheking test expression.\n",
        "\n",
        "The break and continue statements are used in these cases.\n",
        "\n",
        "#### Python break Statement\n",
        "\n",
        "Syntax:\n",
        "    \n",
        "    break\n",
        "    \n",
        "#### Python continue Statement\n",
        "    \n",
        "syntax:\n",
        "    \n",
        "    continue\n",
        "    \n"
      ]
    },
    {
      "cell_type": "markdown",
      "metadata": {
        "id": "5r8WeWmWI5UY"
      },
      "source": [
        "#### Flowchart of <u>break and continue</u> loop\n",
        "\n",
        "\n",
        "<table width=100%>\n",
        "    <tr><th align=\"center\"><h2>break</h2></th><th align=\"center\"><h2>continue</h2></th></tr>\n",
        "    <tr><td><img height=\"260\" width=\"300\" src=\"https://github.com/suchitmajumdar/LearnPython/blob/master/images/break.jpg?raw=true\"></img></td><td><img height=\"260\" width=\"380\" src=\"https://github.com/suchitmajumdar/LearnPython/blob/master/images/continue.jpg?raw=true\"></img></td>\n",
        "    </tr>\n",
        "</table>\n",
        "\n",
        "\n"
      ]
    },
    {
      "cell_type": "markdown",
      "metadata": {
        "id": "A6kxktyRI5UY"
      },
      "source": [
        "#### Examples of break and continue"
      ]
    },
    {
      "cell_type": "code",
      "execution_count": null,
      "metadata": {
        "id": "1Hi5an_hI5UZ",
        "outputId": "1e131ca3-a539-44b6-8950-4855960a6a3f"
      },
      "outputs": [
        {
          "name": "stdout",
          "output_type": "stream",
          "text": [
            "Suchit\n",
            "Rakesh\n",
            "Roshni\n",
            "For is completed and we are in else part\n",
            "Totally outside the for & else loop\n"
          ]
        }
      ],
      "source": [
        "# Use of break\n",
        "names = ['Suchit', 'Rakesh', 'Roshni']\n",
        "for name in names:               # Let us iterate over the names list\n",
        "    if name == 'Rakesh':\n",
        "        break\n",
        "    print(name)\n",
        "else:\n",
        "    print('For is completed and we are in else part')\n",
        "print(\"Totally outside the for & else loop\")"
      ]
    },
    {
      "cell_type": "code",
      "execution_count": null,
      "metadata": {
        "id": "GWQAT-mgI5UZ",
        "outputId": "9a7d64ee-b49d-45b8-f7d6-5d3144f56a43"
      },
      "outputs": [
        {
          "name": "stdout",
          "output_type": "stream",
          "text": [
            "Suchit\n",
            "Roshni\n",
            "For is completed and we are in else part\n",
            "Totally outside the for & else loop\n"
          ]
        }
      ],
      "source": [
        "# Use of continue\n",
        "names = ['Suchit', 'Rakesh', 'Roshni']\n",
        "\n",
        "for name in names:               # Let us iterate over the names list\n",
        "    if name == 'Rakesh':\n",
        "        continue\n",
        "    print(name)                  # If continue condition is satisfied we skip this line and carry on with the next iteration\n",
        "else:\n",
        "    print('For is completed and we are in else part')\n",
        "print(\"Totally outside the for & else loop\")"
      ]
    },
    {
      "cell_type": "markdown",
      "metadata": {
        "id": "0GOKTMSBI5UZ"
      },
      "source": [
        "#### Example: First 3 divisors of a number except 2 & 3"
      ]
    },
    {
      "cell_type": "code",
      "execution_count": null,
      "metadata": {
        "id": "JT0xPMflI5Ua",
        "outputId": "5d933626-3061-4117-ba5f-9f7f07036342"
      },
      "outputs": [
        {
          "name": "stdout",
          "output_type": "stream",
          "text": [
            "Please enter a positive number: 6\n",
            "[1]\n"
          ]
        }
      ],
      "source": [
        "inputNumber = input(\"Please enter a positive number: \")\n",
        "number = int(inputNumber)\n",
        "listOfDivisors = [1]\n",
        "for divisor in range(2,int(number/2)+1):\n",
        "    if number%divisor == 0:\n",
        "        if divisor in [2,3]:\n",
        "            continue\n",
        "        elif len(listOfDivisors) == 3:\n",
        "            break\n",
        "        listOfDivisors.append(divisor)\n",
        "print(listOfDivisors)"
      ]
    }
  ],
  "metadata": {
    "kernelspec": {
      "display_name": "Python 3",
      "language": "python",
      "name": "python3"
    },
    "language_info": {
      "codemirror_mode": {
        "name": "ipython",
        "version": 3
      },
      "file_extension": ".py",
      "mimetype": "text/x-python",
      "name": "python",
      "nbconvert_exporter": "python",
      "pygments_lexer": "ipython3",
      "version": "3.8.7"
    },
    "colab": {
      "provenance": [],
      "include_colab_link": true
    }
  },
  "nbformat": 4,
  "nbformat_minor": 0
}
