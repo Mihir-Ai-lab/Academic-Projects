{
  "cells": [
    {
      "cell_type": "markdown",
      "metadata": {
        "id": "view-in-github",
        "colab_type": "text"
      },
      "source": [
        "<a href=\"https://colab.research.google.com/github/Mihir-Ai-lab/Insaid/blob/main/PythonBasics_7_1531631164506.ipynb\" target=\"_parent\"><img src=\"https://colab.research.google.com/assets/colab-badge.svg\" alt=\"Open In Colab\"/></a>"
      ]
    },
    {
      "cell_type": "markdown",
      "metadata": {
        "id": "_QzEnh7TRUOz"
      },
      "source": [
        "# <center>Python Basics<center/> \n",
        "<img height=\"60\" width=\"120\" src=\"https://www.python.org/static/img/python-logo-large.png?1414305901\"></img>"
      ]
    },
    {
      "cell_type": "markdown",
      "metadata": {
        "id": "W6NZu9xwRUO7"
      },
      "source": [
        "# Table of contents\n",
        "<br/>\n",
        "<a href = \"#24.-Modules\">24. Modules</a><br/>\n",
        "<a href = \"#25.-Package\">25. Package</a><br/>\n",
        "<a href = \"#26.-File-Handling\">26. File Handling</a><br/>\n",
        "<a href = \"#27.-Exception-Handling\">27. Exception Handling</a><br/>\n",
        "<a href = \"#28.-Debugging-Python\">28. Debugging Python</a>"
      ]
    },
    {
      "cell_type": "markdown",
      "metadata": {
        "id": "bN__xcPnRUO9"
      },
      "source": [
        "# 24. Modules"
      ]
    },
    {
      "cell_type": "markdown",
      "metadata": {
        "id": "agwbwV9eRUO_"
      },
      "source": [
        "Consider a module to be the same as a code library.\n",
        "A file containing a set of functions you want to include in your application.\n"
      ]
    },
    {
      "cell_type": "markdown",
      "metadata": {
        "id": "BBeFH0KhRUPA"
      },
      "source": [
        "```\n",
        "E.g.: mymodule.py, is called a module and its module name would be \"mymodule\".\n",
        "```"
      ]
    },
    {
      "cell_type": "markdown",
      "metadata": {
        "id": "tngmiNLARUPC"
      },
      "source": [
        "We use modules to break down large programs into small manageable and organized files. Furthermore, modules provide reusability of code.\n",
        "\n",
        "We can define our most used functions in a module and <b>import</b> it, instead of copying their definitions into different programs."
      ]
    },
    {
      "cell_type": "markdown",
      "metadata": {
        "id": "CVdcHZV2RUPD"
      },
      "source": [
        "## How to import a module?"
      ]
    },
    {
      "cell_type": "markdown",
      "metadata": {
        "id": "SMgpvZK8RUPD"
      },
      "source": [
        "Use the import keyword to do this."
      ]
    },
    {
      "cell_type": "code",
      "execution_count": null,
      "metadata": {
        "id": "-hG5Pve8RUPE"
      },
      "outputs": [],
      "source": [
        "import mymodule                             # Import the module name mymodule"
      ]
    },
    {
      "cell_type": "markdown",
      "metadata": {
        "id": "cpV3p-MlRUPH"
      },
      "source": [
        "Access the function printFunc in mymodule using dot (.) operation."
      ]
    },
    {
      "cell_type": "code",
      "execution_count": null,
      "metadata": {
        "id": "ujVvfb2qRUPI"
      },
      "outputs": [],
      "source": [
        "mymodule.printFunc()"
      ]
    },
    {
      "cell_type": "markdown",
      "metadata": {
        "id": "aXDSmdqCRUPI"
      },
      "source": [
        "Python provides a lot of standard modules that can be used for various purposes.\n",
        "\n",
        "https://docs.python.org/3/py-modindex.html "
      ]
    },
    {
      "cell_type": "markdown",
      "metadata": {
        "id": "2aLVR5Q9RUPJ"
      },
      "source": [
        "## Examples:"
      ]
    },
    {
      "cell_type": "code",
      "execution_count": null,
      "metadata": {
        "id": "TTTTp0ytRUPJ"
      },
      "outputs": [],
      "source": [
        "import math\n",
        "math.factorial(5)"
      ]
    },
    {
      "cell_type": "code",
      "execution_count": null,
      "metadata": {
        "id": "XBJ_e6kqRUPK"
      },
      "outputs": [],
      "source": [
        "import random\n",
        "random.random()"
      ]
    },
    {
      "cell_type": "markdown",
      "metadata": {
        "id": "K36DxoUBRUPK"
      },
      "source": [
        "## import with alias"
      ]
    },
    {
      "cell_type": "code",
      "execution_count": null,
      "metadata": {
        "id": "LhF8GSawRUPL"
      },
      "outputs": [],
      "source": [
        "import random as rd\n",
        "print(rd.random())"
      ]
    },
    {
      "cell_type": "markdown",
      "metadata": {
        "id": "REWuem9BRUPL"
      },
      "source": [
        "## from...import statement"
      ]
    },
    {
      "cell_type": "markdown",
      "metadata": {
        "id": "9OhOD-nKRUPM"
      },
      "source": [
        "We can import specific names form a module without importing the module as a whole."
      ]
    },
    {
      "cell_type": "code",
      "execution_count": null,
      "metadata": {
        "id": "kfTiEyftRUPM"
      },
      "outputs": [],
      "source": [
        "from datetime import date\n",
        "print(date.today())"
      ]
    },
    {
      "cell_type": "markdown",
      "metadata": {
        "id": "xZ-kkNYmRUPM"
      },
      "source": [
        "## import all names"
      ]
    },
    {
      "cell_type": "code",
      "execution_count": null,
      "metadata": {
        "id": "hCBTcf9eRUPN"
      },
      "outputs": [],
      "source": [
        "from math import *\n",
        "print(\"Factorial of 5 is:\",factorial(5))"
      ]
    },
    {
      "cell_type": "markdown",
      "metadata": {
        "id": "vkgoeu4hRUPN"
      },
      "source": [
        "## dir() built in function"
      ]
    },
    {
      "cell_type": "markdown",
      "metadata": {
        "id": "chFAu-pfRUPN"
      },
      "source": [
        "As dicussed earlier, we can use the dir() function to find out names that are defined inside a module."
      ]
    },
    {
      "cell_type": "code",
      "execution_count": null,
      "metadata": {
        "scrolled": true,
        "id": "pQ0_qKOWRUPO"
      },
      "outputs": [],
      "source": [
        "dir(mymodule)"
      ]
    },
    {
      "cell_type": "code",
      "execution_count": null,
      "metadata": {
        "id": "AzIG3WQ0RUPO"
      },
      "outputs": [],
      "source": [
        "print(mymodule.printFunc.__doc__)"
      ]
    },
    {
      "cell_type": "markdown",
      "metadata": {
        "id": "YTvhbpm3RUPO"
      },
      "source": [
        "# 25. Package"
      ]
    },
    {
      "cell_type": "markdown",
      "metadata": {
        "id": "O7_29PtHRUPP"
      },
      "source": [
        "Packages are a way of structuring Python’s module namespace by using “dotted module names”.\n",
        "\n",
        "A <b>directory</b> must contain a file named <b>__init__.py</b> in order for Python to consider it as a <b>package</b>. This file can be <b>left empty</b> but we generally place the <b>initialization code</b> for that package in this file."
      ]
    },
    {
      "cell_type": "markdown",
      "metadata": {
        "id": "9pD1Dgq7RUPP"
      },
      "source": [
        "![title](https://github.com/suchitmajumdar/LearnPython/blob/master/images/Python-packages-.gif?raw=true)"
      ]
    },
    {
      "cell_type": "markdown",
      "metadata": {
        "id": "FREQtKcxRUPQ"
      },
      "source": [
        "## Importing module from a package"
      ]
    },
    {
      "cell_type": "markdown",
      "metadata": {
        "id": "t_0XtTAZRUPQ"
      },
      "source": [
        "We can import modules from packages using the dot (.) operator."
      ]
    },
    {
      "cell_type": "code",
      "execution_count": null,
      "metadata": {
        "id": "fTp0v-kDRUPR"
      },
      "outputs": [],
      "source": [
        "import Animal.Lion.roar as rr\n"
      ]
    },
    {
      "cell_type": "code",
      "execution_count": null,
      "metadata": {
        "id": "7qbkqlkyRUPR"
      },
      "outputs": [],
      "source": [
        "rr.lionRoars()\n",
        "print(rr.lionRoars.__doc__)"
      ]
    },
    {
      "cell_type": "markdown",
      "metadata": {
        "id": "N-D6QglfRUPR"
      },
      "source": [
        "Alternately we can use from import statement to trigger the function"
      ]
    },
    {
      "cell_type": "code",
      "execution_count": null,
      "metadata": {
        "id": "P5l4EP3yRUPS"
      },
      "outputs": [],
      "source": [
        "from Animal.Lion import roar\n",
        "roar.lionRoars()"
      ]
    },
    {
      "cell_type": "markdown",
      "metadata": {
        "id": "-VSc_tMlRUPS"
      },
      "source": [
        "# 26. File Handling"
      ]
    },
    {
      "cell_type": "markdown",
      "metadata": {
        "id": "6RcbsO79RUPT"
      },
      "source": [
        "## FILE I/O"
      ]
    },
    {
      "cell_type": "markdown",
      "metadata": {
        "id": "purh0ZQMRUPT"
      },
      "source": [
        "Random access memory (RAM) is volatile which loses its data when computer is turned off, we use files for future use of the data. Usually all our data while running a program is loaded to RAM and executed, hence once the program is over we loose our data. The easiest way to regain the data at a later point of time is by storing the data in files.\n",
        "\n",
        "A<b> file</b> is a named location on disk to store related information. It is used to <b>permanently store data in a non-volatile memory (e.g. hard disk)</b>.\n",
        "\n",
        "<i>When we want to read from or write to a file we need to </i>\n",
        "\n",
        "- Open it\n",
        "- Apply the required operation\n",
        "- Close it, so that resources that are tied with the file are freed.\n",
        "--- "
      ]
    },
    {
      "cell_type": "markdown",
      "metadata": {
        "id": "xA-H5xboRUPU"
      },
      "source": [
        "## Opening a File"
      ]
    },
    {
      "cell_type": "markdown",
      "metadata": {
        "id": "PCHX6Te1RUPU"
      },
      "source": [
        "Python has a built-in function open() to open a file. This function returns a file object, also called a handle, as it is used to read or modify the file accordingly."
      ]
    },
    {
      "cell_type": "code",
      "execution_count": null,
      "metadata": {
        "id": "phAH-JE2RUPU"
      },
      "outputs": [],
      "source": [
        "f = open('sample.txt')                       # Let us open a file in current direcotry"
      ]
    },
    {
      "cell_type": "markdown",
      "metadata": {
        "id": "6iBbHgzARUPV"
      },
      "source": [
        "We can specify the <b>mode</b> while opening a file. In mode, we specify whether we want to <b>read 'r', write 'w' or append 'a'</b> to the file. We can also specify if we want to open the file in text mode or binary mode."
      ]
    },
    {
      "cell_type": "markdown",
      "metadata": {
        "id": "PHG09ZlgRUPV"
      },
      "source": [
        "## Python File Modes"
      ]
    },
    {
      "cell_type": "markdown",
      "metadata": {
        "id": "R43JHLjARUPV"
      },
      "source": [
        "'r' Open a file for reading. (default)\n",
        "\n",
        "'w' Open a file for writing. Creates a new file if it does not exist or truncates the file if it exists.\n",
        "\n",
        "'x' Open a file for exclusive creation. If the file already exists, the operation fails.\n",
        "\n",
        "'a' Open for appending at the end of the file without truncating it. Creates a new file if it does not exist.\n",
        "\n",
        "'t' Open in text mode. (default)\n",
        "\n",
        "'b' Open in binary mode.\n",
        "\n",
        "'+' Open a file for updating (reading and writing)"
      ]
    },
    {
      "cell_type": "code",
      "execution_count": null,
      "metadata": {
        "id": "Fqd8Ln9gRUPW"
      },
      "outputs": [],
      "source": [
        "f = open('sample.txt')                   # Equivalent to 'r' - read only \n",
        "f = open('sample.txt', 'r')\n",
        "\n",
        "f = open('output.txt', 'w')"
      ]
    },
    {
      "cell_type": "markdown",
      "metadata": {
        "id": "PQ2tl-waRUPW"
      },
      "source": [
        "The default encoding is platform dependent. In windows, it is 'cp1252' but 'utf-8' in Linux."
      ]
    },
    {
      "cell_type": "markdown",
      "metadata": {
        "id": "GiaRgwmhRUPX"
      },
      "source": [
        "So, we must not also rely on the default encoding or else our code will behave differently in different platforms.\n",
        "\n",
        "Hence, when working with files in text mode, it is highly recommended to specify the encoding type."
      ]
    },
    {
      "cell_type": "code",
      "execution_count": null,
      "metadata": {
        "id": "MNgMCaltRUPX"
      },
      "outputs": [],
      "source": [
        "f = open('output.txt', 'w', encoding='utf8')             # Just to be on the safe side"
      ]
    },
    {
      "cell_type": "markdown",
      "metadata": {
        "id": "agE6XQvQRUPX"
      },
      "source": [
        "## Closing a File"
      ]
    },
    {
      "cell_type": "markdown",
      "metadata": {
        "id": "OckfuH89RUPX"
      },
      "source": [
        "Closing a file will free up the resources that were tied with the file and is done using the close() method.\n",
        "\n",
        "Python has a garbage collector to clean up unreferenced objects but, we must not rely on it to close the file."
      ]
    },
    {
      "cell_type": "code",
      "execution_count": null,
      "metadata": {
        "id": "EEamOasPRUPY"
      },
      "outputs": [],
      "source": [
        "f = open('sample.txt')\n",
        "f.close()"
      ]
    },
    {
      "cell_type": "markdown",
      "metadata": {
        "id": "ANLpV8hvRUPY"
      },
      "source": [
        "This method is <b>not entirely safe</b>. If an exception occurs when we are performing some operation with the file, the code exits without closing the file.\n",
        "\n",
        "A safer way is to use a <b>try...finally block</b>.\n",
        "We will cover this again in the later segments."
      ]
    },
    {
      "cell_type": "code",
      "execution_count": null,
      "metadata": {
        "id": "yi5q-dXgRUPY"
      },
      "outputs": [],
      "source": [
        "# Reference we will cover this again in the Python Exceptions segment\n",
        "\n",
        "try:\n",
        "    f = open('sample.txt')\n",
        "    # Perform file operations\n",
        "    \n",
        "finally:\n",
        "    f.close()"
      ]
    },
    {
      "cell_type": "markdown",
      "metadata": {
        "id": "OaaUL4ljRUPZ"
      },
      "source": [
        "This way, we are <b>guaranteed that the file is properly closed</b> even if an exception is raised, causing program flow to stop.\n",
        "\n",
        "<i>The best way to do this is using the <b>with</b> statement</i>. This ensures that the file is closed when the block inside with is exited.\n",
        "\n",
        "We don't need to explicitly call the close() method. It is done internally.\n"
      ]
    },
    {
      "cell_type": "markdown",
      "metadata": {
        "id": "uQiDj97tRUPZ"
      },
      "source": [
        "with open(\"example.txt\",encoding = 'utf-8') as f:\n",
        "    #perform file operations\n"
      ]
    },
    {
      "cell_type": "markdown",
      "metadata": {
        "id": "tiyvpY-PRUPZ"
      },
      "source": [
        "## Writing to a File"
      ]
    },
    {
      "cell_type": "markdown",
      "metadata": {
        "id": "SPZAaSRuRUPa"
      },
      "source": [
        "In order to write into a file we need to open it in **write 'w', append 'a' or exclusive creation 'x' mode**.\n",
        "\n",
        "We need to be careful with the 'w' mode as it will overwrite into the file if it already exists. All previous data are erased.\n",
        "\n",
        "Writing a string or sequence of bytes (for binary files) is done using **write()** method. This method returns the number of characters written to the file."
      ]
    },
    {
      "cell_type": "code",
      "execution_count": null,
      "metadata": {
        "id": "jpSIgJfMRUPa"
      },
      "outputs": [],
      "source": [
        "f = open('output.txt','w')\n",
        "f.write('This is the first line\\n')\n",
        "f.write('Contains 2 lines\\n')\n",
        "f.close()"
      ]
    },
    {
      "cell_type": "markdown",
      "metadata": {
        "id": "M3zR4IwVRUPa"
      },
      "source": [
        "This program will create a new file named 'Output.txt' if it does not exist. If it does exist, it is overwritten.\n",
        "\n"
      ]
    },
    {
      "cell_type": "markdown",
      "metadata": {
        "id": "IOHxc6mURUPb"
      },
      "source": [
        "## Reading From a File"
      ]
    },
    {
      "cell_type": "markdown",
      "metadata": {
        "id": "Vkxy0Tr_RUPb"
      },
      "source": [
        "There are various methods available for this purpose. We can use the <b>read(size) method</b> to read in size number of data. If size parameter is not specified, it reads and returns up to the end of the file."
      ]
    },
    {
      "cell_type": "code",
      "execution_count": null,
      "metadata": {
        "id": "KlGGSz6HRUPb",
        "outputId": "79850bdf-56da-4951-fff0-c5df14628941"
      },
      "outputs": [
        {
          "name": "stdout",
          "output_type": "stream",
          "text": [
            "This is the first line\n",
            "Contains 2 lines\n",
            "\n"
          ]
        }
      ],
      "source": [
        "f = open('output.txt', 'r')\n",
        "print(f.read())\n",
        "f.close()"
      ]
    },
    {
      "cell_type": "code",
      "execution_count": null,
      "metadata": {
        "id": "WzPAfdSxRUPd",
        "outputId": "fc1a8554-6a67-480c-dbeb-4a9a84cb65af"
      },
      "outputs": [
        {
          "name": "stdout",
          "output_type": "stream",
          "text": [
            "This\n",
            " is \n",
            "the first \n"
          ]
        }
      ],
      "source": [
        "f = open('output.txt', 'r')                     # \\n - is treated as single character (also called newline character)\n",
        "\n",
        "print(f.read(4))\n",
        "print(f.read(4))\n",
        "print(f.read(10))\n",
        "f.close()"
      ]
    },
    {
      "cell_type": "code",
      "execution_count": null,
      "metadata": {
        "id": "hOynOcvmRUPd",
        "outputId": "8c063f1b-33eb-441a-95b0-d226e48709ea"
      },
      "outputs": [
        {
          "name": "stdout",
          "output_type": "stream",
          "text": [
            "This\n",
            " is \n",
            "the first \n"
          ]
        }
      ],
      "source": [
        "f = open('output.txt', 'r')                     # \\n - is treated as single character (also called newline character)\n",
        "\n",
        "print(f.read(4))\n",
        "print(f.read(4))\n",
        "print(f.read(10))"
      ]
    },
    {
      "cell_type": "markdown",
      "metadata": {
        "id": "2FLfdeXzRUPe"
      },
      "source": [
        "We can change our current file cursor (position) using the seek() method. \n",
        "\n",
        "Similarly, the **tell()** method returns our current position (in number of bytes)."
      ]
    },
    {
      "cell_type": "code",
      "execution_count": null,
      "metadata": {
        "id": "Lvz1X85_RUPe",
        "outputId": "329c0469-8770-4b52-817a-e0f766a59f60"
      },
      "outputs": [
        {
          "data": {
            "text/plain": [
              "18"
            ]
          },
          "execution_count": 32,
          "metadata": {},
          "output_type": "execute_result"
        }
      ],
      "source": [
        "f.tell()"
      ]
    },
    {
      "cell_type": "code",
      "execution_count": null,
      "metadata": {
        "id": "94HGJaO6RUPf",
        "outputId": "adc7e019-7e19-41cf-85e5-d476f07dd3b8"
      },
      "outputs": [
        {
          "data": {
            "text/plain": [
              "0"
            ]
          },
          "execution_count": 36,
          "metadata": {},
          "output_type": "execute_result"
        }
      ],
      "source": [
        "f.seek(0)                                  # Get the file cursor to initial/start position"
      ]
    },
    {
      "cell_type": "code",
      "execution_count": null,
      "metadata": {
        "id": "FCWwSFvHRUPf",
        "outputId": "986693d2-6c08-44e4-ab88-42571d16d5ef"
      },
      "outputs": [
        {
          "data": {
            "text/plain": [
              "'This is the first line\\nContains 2 lines\\n'"
            ]
          },
          "execution_count": 37,
          "metadata": {},
          "output_type": "execute_result"
        }
      ],
      "source": [
        "f.read()                            # Read the complete file"
      ]
    },
    {
      "cell_type": "markdown",
      "metadata": {
        "id": "ONysAZrlRUPg"
      },
      "source": [
        "We can read a file <b>line-by-line</b> using a for loop. This is both efficient and fast."
      ]
    },
    {
      "cell_type": "code",
      "execution_count": null,
      "metadata": {
        "id": "krVeCXVpRUPg",
        "outputId": "13f008c0-3441-4fef-d962-ff3314721be8"
      },
      "outputs": [
        {
          "name": "stdout",
          "output_type": "stream",
          "text": [
            "This is the first line\n",
            "\n",
            "Contains 2 lines\n",
            "\n"
          ]
        }
      ],
      "source": [
        "f.seek(0)\n",
        "for line in f:\n",
        "    print(line)"
      ]
    },
    {
      "cell_type": "markdown",
      "metadata": {
        "id": "V_LpQ87XRUPg"
      },
      "source": [
        "Alternately, we can use readline() method to read individual lines of a file. This method reads a file till the newline, including the newline character."
      ]
    },
    {
      "cell_type": "code",
      "execution_count": null,
      "metadata": {
        "id": "7ShIKBNrRUPh",
        "outputId": "3aab7d61-4066-4a70-b1c5-337899f6c262"
      },
      "outputs": [
        {
          "data": {
            "text/plain": [
              "'This is the first line\\n'"
            ]
          },
          "execution_count": 41,
          "metadata": {},
          "output_type": "execute_result"
        }
      ],
      "source": [
        "f = open('output.txt', 'r')\n",
        "f.readline()"
      ]
    },
    {
      "cell_type": "code",
      "execution_count": null,
      "metadata": {
        "scrolled": true,
        "id": "2aEsl1udRUPh",
        "outputId": "35afbcbf-1f64-4cd3-8149-a076a0bed38e"
      },
      "outputs": [
        {
          "data": {
            "text/plain": [
              "'Contains 2 lines\\n'"
            ]
          },
          "execution_count": 42,
          "metadata": {},
          "output_type": "execute_result"
        }
      ],
      "source": [
        "f.readline()"
      ]
    },
    {
      "cell_type": "code",
      "execution_count": null,
      "metadata": {
        "id": "yqzeuKMHRUPi",
        "outputId": "30508379-6fb3-4b6b-973e-580d1092cb1c"
      },
      "outputs": [
        {
          "data": {
            "text/plain": [
              "''"
            ]
          },
          "execution_count": 47,
          "metadata": {},
          "output_type": "execute_result"
        }
      ],
      "source": [
        "f.readline()"
      ]
    },
    {
      "cell_type": "markdown",
      "metadata": {
        "id": "vFio2k3hRUPi"
      },
      "source": [
        "The **readlines()** method returns a list of remaining lines of the entire file. All these reading method return empty values when end of file (EOF) is reached."
      ]
    },
    {
      "cell_type": "code",
      "execution_count": null,
      "metadata": {
        "id": "SPKjT4p9RUPi",
        "outputId": "4b172b32-8628-49a8-ab8c-4b254ca5aec0"
      },
      "outputs": [
        {
          "data": {
            "text/plain": [
              "['This is the first line\\n', 'Contains 2 lines\\n']"
            ]
          },
          "execution_count": 48,
          "metadata": {},
          "output_type": "execute_result"
        }
      ],
      "source": [
        "f.seek(0)\n",
        "f.readlines()"
      ]
    },
    {
      "cell_type": "code",
      "execution_count": null,
      "metadata": {
        "id": "valJEqtzRUPj"
      },
      "outputs": [],
      "source": [
        "f.close()"
      ]
    },
    {
      "cell_type": "markdown",
      "metadata": {
        "id": "5GyO85DMRUPj"
      },
      "source": [
        "## Renaming And Deleting Files In Python."
      ]
    },
    {
      "cell_type": "markdown",
      "metadata": {
        "id": "JBT9sQk5RUPk"
      },
      "source": [
        "While you were using the **read/write** functions, you may also need to **rename/delete** a file in Python. So, there comes a **os** module in Python which brings the support of file **rename/delete** operations.\n",
        "\n",
        "So, to continue, first of all, you should import the **os** module in your Python script."
      ]
    },
    {
      "cell_type": "code",
      "execution_count": null,
      "metadata": {
        "id": "Q9xXfIIYRUPk"
      },
      "outputs": [],
      "source": [
        "import os\n",
        "\n",
        "os.rename('output.txt', 'op.txt')                    # Rename a file from output.txt to op.txt"
      ]
    },
    {
      "cell_type": "code",
      "execution_count": null,
      "metadata": {
        "id": "YeOIlXxCRUPl",
        "outputId": "5f4ed757-8782-4dce-d082-78f183f3b337"
      },
      "outputs": [
        {
          "data": {
            "text/plain": [
              "'This is the first line\\n'"
            ]
          },
          "execution_count": 64,
          "metadata": {},
          "output_type": "execute_result"
        }
      ],
      "source": [
        "f = open('op.txt', 'r')\n",
        "f.readline()"
      ]
    },
    {
      "cell_type": "code",
      "execution_count": null,
      "metadata": {
        "id": "DR22Z0dSRUPl"
      },
      "outputs": [],
      "source": [
        "f.close()"
      ]
    },
    {
      "cell_type": "code",
      "execution_count": null,
      "metadata": {
        "id": "16VTp61_RUPl"
      },
      "outputs": [],
      "source": [
        "os.remove('op.txt')                         # Delete the file op.txt"
      ]
    },
    {
      "cell_type": "code",
      "execution_count": null,
      "metadata": {
        "id": "bGEQPlb3RUPm",
        "outputId": "b690575a-b32e-4152-f0e4-dbd2afa12750"
      },
      "outputs": [
        {
          "ename": "FileNotFoundError",
          "evalue": "[Errno 2] No such file or directory: 'op.txt'",
          "output_type": "error",
          "traceback": [
            "\u001b[0;31m---------------------------------------------------------------------------\u001b[0m",
            "\u001b[0;31mFileNotFoundError\u001b[0m                         Traceback (most recent call last)",
            "\u001b[0;32m<ipython-input-68-9069b2cc36e4>\u001b[0m in \u001b[0;36m<module>\u001b[0;34m()\u001b[0m\n\u001b[0;32m----> 1\u001b[0;31m \u001b[0mf\u001b[0m \u001b[1;33m=\u001b[0m \u001b[0mopen\u001b[0m\u001b[1;33m(\u001b[0m\u001b[1;34m'op.txt'\u001b[0m\u001b[1;33m,\u001b[0m \u001b[1;34m'r'\u001b[0m\u001b[1;33m)\u001b[0m\u001b[1;33m\u001b[0m\u001b[0m\n\u001b[0m\u001b[1;32m      2\u001b[0m \u001b[0mf\u001b[0m\u001b[1;33m.\u001b[0m\u001b[0mreadline\u001b[0m\u001b[1;33m(\u001b[0m\u001b[1;33m)\u001b[0m\u001b[1;33m\u001b[0m\u001b[0m\n",
            "\u001b[0;31mFileNotFoundError\u001b[0m: [Errno 2] No such file or directory: 'op.txt'"
          ]
        }
      ],
      "source": [
        "f = open('op.txt', 'r')\n",
        "f.readline()"
      ]
    },
    {
      "cell_type": "markdown",
      "metadata": {
        "id": "o05s6KeaRUPm"
      },
      "source": [
        "## Python Directory and File Management"
      ]
    },
    {
      "cell_type": "markdown",
      "metadata": {
        "id": "vLHNKzHoRUPm"
      },
      "source": [
        "If there are a large number of files to handle in your Python program, you can arrange your code within different directories to make things more manageable.\n",
        "\n",
        "A <b>directory or folder is a collection of files and sub directories</b>. Python has the os module, which provides us with many useful methods to work with directories (and files as well)."
      ]
    },
    {
      "cell_type": "markdown",
      "metadata": {
        "id": "qnyfv30MRUPn"
      },
      "source": [
        "**Get current Directory**"
      ]
    },
    {
      "cell_type": "markdown",
      "metadata": {
        "id": "am3b7zx5RUPn"
      },
      "source": [
        "We can get the <b>present working directory</b> using the <b>getcwd()</b> method.\n",
        "\n",
        "This method returns the <b>current working directory(cwd)</b> in the form of a string. "
      ]
    },
    {
      "cell_type": "code",
      "execution_count": null,
      "metadata": {
        "scrolled": true,
        "id": "5v-uxB5ZRUPn",
        "outputId": "f263066d-4e5d-4cb4-a9aa-a9bf494604f8"
      },
      "outputs": [
        {
          "data": {
            "text/plain": [
              "'F:\\\\LearnPython\\\\AnacondaJupyter'"
            ]
          },
          "execution_count": 69,
          "metadata": {},
          "output_type": "execute_result"
        }
      ],
      "source": [
        "import os\n",
        "os.getcwd()"
      ]
    },
    {
      "cell_type": "markdown",
      "metadata": {
        "id": "IWoYoEl-RUPo"
      },
      "source": [
        "**Changing Directory**"
      ]
    },
    {
      "cell_type": "markdown",
      "metadata": {
        "id": "-nn1By_bRUPo"
      },
      "source": [
        "We can change the current working directory using the chdir() method.\n",
        "\n",
        "The new path that we want to change to must be supplied as a string to this method. We can use both forward slash (/) or the backward slash (\\) to separate path elements."
      ]
    },
    {
      "cell_type": "code",
      "execution_count": null,
      "metadata": {
        "id": "cuC6CsC6RUPp"
      },
      "outputs": [],
      "source": [
        "os.chdir('F:/LearnPython/AnacondaJupyter/OtherFolder')"
      ]
    },
    {
      "cell_type": "code",
      "execution_count": null,
      "metadata": {
        "id": "a_K3VZvgRUPp",
        "outputId": "0b676a82-3dc1-417f-b31e-b57d52689b72"
      },
      "outputs": [
        {
          "data": {
            "text/plain": [
              "'F:\\\\LearnPython\\\\AnacondaJupyter\\\\OtherFolder'"
            ]
          },
          "execution_count": 73,
          "metadata": {},
          "output_type": "execute_result"
        }
      ],
      "source": [
        "os.getcwd()"
      ]
    },
    {
      "cell_type": "markdown",
      "metadata": {
        "id": "MyNPaTG5RUPp"
      },
      "source": [
        "**List Directories and Files**"
      ]
    },
    {
      "cell_type": "markdown",
      "metadata": {
        "id": "wwwzqSXdRUPp"
      },
      "source": [
        "All files and sub directories inside a directory can be known using the listdir() method."
      ]
    },
    {
      "cell_type": "code",
      "execution_count": null,
      "metadata": {
        "id": "ZjZYP1F_RUPq",
        "outputId": "1fad0ee5-53ec-4bb5-e735-e47876239074"
      },
      "outputs": [
        {
          "data": {
            "text/plain": [
              "['DummyFolder1',\n",
              " 'DummyFolder2',\n",
              " 'DummyFolder3',\n",
              " 'DummyFolder4',\n",
              " 'File1.txt',\n",
              " 'File2.txt']"
            ]
          },
          "execution_count": 74,
          "metadata": {},
          "output_type": "execute_result"
        }
      ],
      "source": [
        "os.listdir(os.getcwd())"
      ]
    },
    {
      "cell_type": "markdown",
      "metadata": {
        "collapsed": true,
        "id": "7aYvGeBmRUPq"
      },
      "source": [
        "**Making New Directory**"
      ]
    },
    {
      "cell_type": "markdown",
      "metadata": {
        "id": "DvtdXvV1RUPq"
      },
      "source": [
        "We can make a new directory using the mkdir() method.\n",
        "\n",
        "This method takes in the path of the new directory. If the full path is <b>not specified, the new directory is created in the current working directory</b>."
      ]
    },
    {
      "cell_type": "code",
      "execution_count": null,
      "metadata": {
        "id": "MslnwyO6RUPr",
        "outputId": "a458d7ac-73ca-45e4-f4af-7f6257fb237b"
      },
      "outputs": [
        {
          "data": {
            "text/plain": [
              "['DummyFolder1',\n",
              " 'DummyFolder2',\n",
              " 'DummyFolder3',\n",
              " 'DummyFolder4',\n",
              " 'DummyFolder5',\n",
              " 'File1.txt',\n",
              " 'File2.txt']"
            ]
          },
          "execution_count": 75,
          "metadata": {},
          "output_type": "execute_result"
        }
      ],
      "source": [
        "os.mkdir('DummyFolder5')\n",
        "os.listdir(os.getcwd())"
      ]
    },
    {
      "cell_type": "markdown",
      "metadata": {
        "id": "SzSrjMULRUPr"
      },
      "source": [
        "However, note that rmdir() method can only remove <b>empty directories</b>.\n",
        "\n",
        "In order to remove a non-empty directory we can use the <b>rmtree()</b> method inside the <b>shutil module</b>."
      ]
    },
    {
      "cell_type": "code",
      "execution_count": null,
      "metadata": {
        "scrolled": true,
        "id": "ySDmuV7lRUPr"
      },
      "outputs": [],
      "source": [
        "os.rmdir('DummyFolder5')"
      ]
    },
    {
      "cell_type": "code",
      "execution_count": null,
      "metadata": {
        "id": "w-LU_T6PRUPs",
        "outputId": "c170c5c6-37ab-4a83-8091-f6a349d9bcd0"
      },
      "outputs": [
        {
          "data": {
            "text/plain": [
              "['tempfile.txt']"
            ]
          },
          "execution_count": 77,
          "metadata": {},
          "output_type": "execute_result"
        }
      ],
      "source": [
        "os.mkdir('DummyFolder5')\n",
        "os.chdir('./DummyFolder5')\n",
        "f = open('tempfile.txt', 'w')\n",
        "f.write('Hello World')\n",
        "f.close()\n",
        "os.listdir(os.getcwd())"
      ]
    },
    {
      "cell_type": "code",
      "execution_count": null,
      "metadata": {
        "id": "7XYFkxKKRUPs"
      },
      "outputs": [],
      "source": [
        "os.chdir('../')"
      ]
    },
    {
      "cell_type": "code",
      "execution_count": null,
      "metadata": {
        "id": "8FJ5ziF_RUPt",
        "outputId": "9d59d3cd-471d-4029-8ff5-67fed00e2732"
      },
      "outputs": [
        {
          "data": {
            "text/plain": [
              "'F:\\\\LearnPython\\\\AnacondaJupyter\\\\OtherFolder'"
            ]
          },
          "execution_count": 79,
          "metadata": {},
          "output_type": "execute_result"
        }
      ],
      "source": [
        "os.getcwd()"
      ]
    },
    {
      "cell_type": "markdown",
      "metadata": {
        "id": "v9cxWb8pRUPt"
      },
      "source": [
        "Delete the folder named DummyFolder5"
      ]
    },
    {
      "cell_type": "code",
      "execution_count": null,
      "metadata": {
        "id": "1-18L7CTRUPt",
        "outputId": "46b39505-9c59-4d2b-ed71-6e4045ab9f24"
      },
      "outputs": [
        {
          "ename": "OSError",
          "evalue": "[WinError 145] The directory is not empty: 'DummyFolder5'",
          "output_type": "error",
          "traceback": [
            "\u001b[0;31m---------------------------------------------------------------------------\u001b[0m",
            "\u001b[0;31mOSError\u001b[0m                                   Traceback (most recent call last)",
            "\u001b[0;32m<ipython-input-80-c3ef77737f26>\u001b[0m in \u001b[0;36m<module>\u001b[0;34m()\u001b[0m\n\u001b[0;32m----> 1\u001b[0;31m \u001b[0mos\u001b[0m\u001b[1;33m.\u001b[0m\u001b[0mrmdir\u001b[0m\u001b[1;33m(\u001b[0m\u001b[1;34m'DummyFolder5'\u001b[0m\u001b[1;33m)\u001b[0m\u001b[1;33m\u001b[0m\u001b[0m\n\u001b[0m",
            "\u001b[0;31mOSError\u001b[0m: [WinError 145] The directory is not empty: 'DummyFolder5'"
          ]
        }
      ],
      "source": [
        "os.rmdir('DummyFolder5')"
      ]
    },
    {
      "cell_type": "code",
      "execution_count": null,
      "metadata": {
        "id": "yK-lbSJfRUPu"
      },
      "outputs": [],
      "source": [
        "import shutil\n"
      ]
    },
    {
      "cell_type": "code",
      "execution_count": null,
      "metadata": {
        "id": "lvYqmxn0RUPu",
        "outputId": "e93d946e-98b3-4861-d170-e859717f4f55"
      },
      "outputs": [
        {
          "data": {
            "text/plain": [
              "['DummyFolder1',\n",
              " 'DummyFolder2',\n",
              " 'DummyFolder3',\n",
              " 'DummyFolder4',\n",
              " 'File1.txt',\n",
              " 'File2.txt']"
            ]
          },
          "execution_count": 82,
          "metadata": {},
          "output_type": "execute_result"
        }
      ],
      "source": [
        "shutil.rmtree('DummyFolder5')                  # remove an non-empty directory\n",
        "os.listdir(os.getcwd())"
      ]
    },
    {
      "cell_type": "markdown",
      "metadata": {
        "collapsed": true,
        "id": "jRgtvCeuRUPu"
      },
      "source": [
        "# 27. Exception Handling"
      ]
    },
    {
      "cell_type": "markdown",
      "metadata": {
        "id": "3ejACsHrRUPv"
      },
      "source": [
        "## Python Errors and Built-in-Exceptions"
      ]
    },
    {
      "cell_type": "markdown",
      "metadata": {
        "id": "2i76NPaERUPv"
      },
      "source": [
        "We often encounter errors.\n",
        "\n",
        "Syntax error or parsing error occurs when the proper structure (syntax) of the language is not observed."
      ]
    },
    {
      "cell_type": "code",
      "execution_count": null,
      "metadata": {
        "id": "-KXuuSycRUPv",
        "outputId": "13071d56-1118-4fdc-c13f-dc6899336ab8"
      },
      "outputs": [
        {
          "ename": "SyntaxError",
          "evalue": "invalid syntax (<ipython-input-83-7197e9b19e59>, line 1)",
          "output_type": "error",
          "traceback": [
            "\u001b[0;36m  File \u001b[0;32m\"<ipython-input-83-7197e9b19e59>\"\u001b[0;36m, line \u001b[0;32m1\u001b[0m\n\u001b[0;31m    if var < 3\u001b[0m\n\u001b[0m              ^\u001b[0m\n\u001b[0;31mSyntaxError\u001b[0m\u001b[0;31m:\u001b[0m invalid syntax\n"
          ]
        }
      ],
      "source": [
        "if var < 3"
      ]
    },
    {
      "cell_type": "markdown",
      "metadata": {
        "id": "5tLtkYY_RUPw"
      },
      "source": [
        "Apart from syntax error we can come across errors that occur at runtime. Such errors are called exceptions. \n",
        "\n",
        "Few examples would, such as, when a file we try to open does not exist (FileNotFoundError), dividing a number by zero (ZeroDivisionError), module we try to import is not found (ImportError) etc.\n",
        "\n",
        "Whenever these type of runtime error occur, Python creates an exception object. <br/>\n",
        "If not handled properly, it prints a traceback to that error along with some details about why that error occurred."
      ]
    },
    {
      "cell_type": "code",
      "execution_count": null,
      "metadata": {
        "id": "cfwHxcC3RUPw",
        "outputId": "135aac61-cf54-4b55-8d9b-4b218f71394f"
      },
      "outputs": [
        {
          "ename": "ZeroDivisionError",
          "evalue": "division by zero",
          "output_type": "error",
          "traceback": [
            "\u001b[0;31m---------------------------------------------------------------------------\u001b[0m",
            "\u001b[0;31mZeroDivisionError\u001b[0m                         Traceback (most recent call last)",
            "\u001b[0;32m<ipython-input-84-05c9758a9c21>\u001b[0m in \u001b[0;36m<module>\u001b[0;34m()\u001b[0m\n\u001b[0;32m----> 1\u001b[0;31m \u001b[1;36m1\u001b[0m\u001b[1;33m/\u001b[0m\u001b[1;36m0\u001b[0m\u001b[1;33m\u001b[0m\u001b[0m\n\u001b[0m",
            "\u001b[0;31mZeroDivisionError\u001b[0m: division by zero"
          ]
        }
      ],
      "source": [
        "1/0"
      ]
    },
    {
      "cell_type": "code",
      "execution_count": null,
      "metadata": {
        "id": "j7RtP5W0RUPw",
        "outputId": "2cf4ede4-ca7c-46f5-8d1f-20af9df7862a"
      },
      "outputs": [
        {
          "ename": "FileNotFoundError",
          "evalue": "[Errno 2] No such file or directory: 'somefilenotthere.txt'",
          "output_type": "error",
          "traceback": [
            "\u001b[0;31m---------------------------------------------------------------------------\u001b[0m",
            "\u001b[0;31mFileNotFoundError\u001b[0m                         Traceback (most recent call last)",
            "\u001b[0;32m<ipython-input-85-fdb8bd8bf4af>\u001b[0m in \u001b[0;36m<module>\u001b[0;34m()\u001b[0m\n\u001b[0;32m----> 1\u001b[0;31m \u001b[0mopen\u001b[0m\u001b[1;33m(\u001b[0m\u001b[1;34m'somefilenotthere.txt'\u001b[0m\u001b[1;33m)\u001b[0m\u001b[1;33m\u001b[0m\u001b[0m\n\u001b[0m",
            "\u001b[0;31mFileNotFoundError\u001b[0m: [Errno 2] No such file or directory: 'somefilenotthere.txt'"
          ]
        }
      ],
      "source": [
        "open('somefilenotthere.txt')"
      ]
    },
    {
      "cell_type": "markdown",
      "metadata": {
        "id": "qLBvZbewRUPx"
      },
      "source": [
        "## Python Built-in Exceptions"
      ]
    },
    {
      "cell_type": "code",
      "execution_count": null,
      "metadata": {
        "id": "nzLGWkWbRUPx",
        "outputId": "afa6ed9e-94f9-4cf9-eed3-44df6d56c4fd"
      },
      "outputs": [
        {
          "data": {
            "text/plain": [
              "['ArithmeticError',\n",
              " 'AssertionError',\n",
              " 'AttributeError',\n",
              " 'BaseException',\n",
              " 'BlockingIOError',\n",
              " 'BrokenPipeError',\n",
              " 'BufferError',\n",
              " 'BytesWarning',\n",
              " 'ChildProcessError',\n",
              " 'ConnectionAbortedError',\n",
              " 'ConnectionError',\n",
              " 'ConnectionRefusedError',\n",
              " 'ConnectionResetError',\n",
              " 'DeprecationWarning',\n",
              " 'EOFError',\n",
              " 'Ellipsis',\n",
              " 'EnvironmentError',\n",
              " 'Exception',\n",
              " 'False',\n",
              " 'FileExistsError',\n",
              " 'FileNotFoundError',\n",
              " 'FloatingPointError',\n",
              " 'FutureWarning',\n",
              " 'GeneratorExit',\n",
              " 'IOError',\n",
              " 'ImportError',\n",
              " 'ImportWarning',\n",
              " 'IndentationError',\n",
              " 'IndexError',\n",
              " 'InterruptedError',\n",
              " 'IsADirectoryError',\n",
              " 'KeyError',\n",
              " 'KeyboardInterrupt',\n",
              " 'LookupError',\n",
              " 'MemoryError',\n",
              " 'ModuleNotFoundError',\n",
              " 'NameError',\n",
              " 'None',\n",
              " 'NotADirectoryError',\n",
              " 'NotImplemented',\n",
              " 'NotImplementedError',\n",
              " 'OSError',\n",
              " 'OverflowError',\n",
              " 'PendingDeprecationWarning',\n",
              " 'PermissionError',\n",
              " 'ProcessLookupError',\n",
              " 'RecursionError',\n",
              " 'ReferenceError',\n",
              " 'ResourceWarning',\n",
              " 'RuntimeError',\n",
              " 'RuntimeWarning',\n",
              " 'StopAsyncIteration',\n",
              " 'StopIteration',\n",
              " 'SyntaxError',\n",
              " 'SyntaxWarning',\n",
              " 'SystemError',\n",
              " 'SystemExit',\n",
              " 'TabError',\n",
              " 'TimeoutError',\n",
              " 'True',\n",
              " 'TypeError',\n",
              " 'UnboundLocalError',\n",
              " 'UnicodeDecodeError',\n",
              " 'UnicodeEncodeError',\n",
              " 'UnicodeError',\n",
              " 'UnicodeTranslateError',\n",
              " 'UnicodeWarning',\n",
              " 'UserWarning',\n",
              " 'ValueError',\n",
              " 'Warning',\n",
              " 'WindowsError',\n",
              " 'ZeroDivisionError',\n",
              " '__IPYTHON__',\n",
              " '__build_class__',\n",
              " '__debug__',\n",
              " '__doc__',\n",
              " '__import__',\n",
              " '__loader__',\n",
              " '__name__',\n",
              " '__package__',\n",
              " '__spec__',\n",
              " 'abs',\n",
              " 'all',\n",
              " 'any',\n",
              " 'ascii',\n",
              " 'bin',\n",
              " 'bool',\n",
              " 'bytearray',\n",
              " 'bytes',\n",
              " 'callable',\n",
              " 'chr',\n",
              " 'classmethod',\n",
              " 'compile',\n",
              " 'complex',\n",
              " 'copyright',\n",
              " 'credits',\n",
              " 'delattr',\n",
              " 'dict',\n",
              " 'dir',\n",
              " 'divmod',\n",
              " 'dreload',\n",
              " 'enumerate',\n",
              " 'eval',\n",
              " 'exec',\n",
              " 'filter',\n",
              " 'float',\n",
              " 'format',\n",
              " 'frozenset',\n",
              " 'get_ipython',\n",
              " 'getattr',\n",
              " 'globals',\n",
              " 'hasattr',\n",
              " 'hash',\n",
              " 'help',\n",
              " 'hex',\n",
              " 'id',\n",
              " 'input',\n",
              " 'int',\n",
              " 'isinstance',\n",
              " 'issubclass',\n",
              " 'iter',\n",
              " 'len',\n",
              " 'license',\n",
              " 'list',\n",
              " 'locals',\n",
              " 'map',\n",
              " 'max',\n",
              " 'memoryview',\n",
              " 'min',\n",
              " 'next',\n",
              " 'object',\n",
              " 'oct',\n",
              " 'open',\n",
              " 'ord',\n",
              " 'pow',\n",
              " 'print',\n",
              " 'property',\n",
              " 'range',\n",
              " 'repr',\n",
              " 'reversed',\n",
              " 'round',\n",
              " 'set',\n",
              " 'setattr',\n",
              " 'slice',\n",
              " 'sorted',\n",
              " 'staticmethod',\n",
              " 'str',\n",
              " 'sum',\n",
              " 'super',\n",
              " 'tuple',\n",
              " 'type',\n",
              " 'vars',\n",
              " 'zip']"
            ]
          },
          "execution_count": 86,
          "metadata": {},
          "output_type": "execute_result"
        }
      ],
      "source": [
        "dir(__builtin__)"
      ]
    },
    {
      "cell_type": "markdown",
      "metadata": {
        "id": "1mPvSz2oRUPx"
      },
      "source": [
        "## Python Exception Handling - Try, Except and Finally"
      ]
    },
    {
      "cell_type": "markdown",
      "metadata": {
        "id": "H7QKbRlIRUPy"
      },
      "source": [
        "Python has many built-in exceptions which forces your program to output an error when something in it goes wrong.\n",
        "\n",
        "When these exceptions occur, it <b>causes the current process to stop and passes it to the calling process until</b> it is handled. If <b>not handled, our program will crash</b>.\n",
        "\n",
        "For example, if function A calls function B which in turn calls function C and an exception occurs in function C. If it is not handled in C, the exception passes to B and then to A.\n",
        "\n",
        "If never handled, an error message is spit out and our program comes to a sudden, unexpected halt."
      ]
    },
    {
      "cell_type": "markdown",
      "metadata": {
        "id": "Bijman2ERUPy"
      },
      "source": [
        "## Catching Exceptions in Python"
      ]
    },
    {
      "cell_type": "markdown",
      "metadata": {
        "id": "z5hTEnS9RUPy"
      },
      "source": [
        "In Python, exceptions can be handled using a <b>try</b> statement.\n",
        "\n",
        "A critical operation which can <b>raise exception</b> is placed inside the <b>try clause</b> and <br/>\n",
        "the code that handles exception is written in <b>except clause</b>."
      ]
    },
    {
      "cell_type": "code",
      "execution_count": null,
      "metadata": {
        "id": "iYh4mV2JRUPz",
        "outputId": "9553ed38-79a7-446e-f1bc-9176b6fc2451"
      },
      "outputs": [
        {
          "name": "stdout",
          "output_type": "stream",
          "text": [
            "Element from the list here is: abc\n",
            "Error observed: <class 'ValueError'> occured.\n",
            "----------------------------------------\n",
            "Element from the list here is: 0\n",
            "Error observed: <class 'ZeroDivisionError'> occured.\n",
            "----------------------------------------\n",
            "Element from the list here is: 10\n",
            "The inverse of 10 is 0.1\n"
          ]
        }
      ],
      "source": [
        "import sys                                    # sys module helps get the type of exception\n",
        "\n",
        "myList = ['abc', 0, 10]\n",
        "\n",
        "for element in myList:\n",
        "    try:\n",
        "        print('Element from the list here is:', element)\n",
        "        inv = 1 / int(element)\n",
        "    except:\n",
        "        print('Error observed:',sys.exc_info()[0],'occured.')\n",
        "        print('----------------------------------------')\n",
        "print('The inverse of',element,'is',inv)"
      ]
    },
    {
      "cell_type": "markdown",
      "metadata": {
        "id": "e9qFNmAORUPz"
      },
      "source": [
        "## Catching Specific Exceptions in Python"
      ]
    },
    {
      "cell_type": "markdown",
      "metadata": {
        "id": "qMjlrj3tRUP0"
      },
      "source": [
        "In the above example, we did not mention any exception in the except clause. We just retrived its type after we encountered it.\n",
        "\n",
        "This is <b>not a good programming practice</b> as it will catch all exceptions and <b>handle every case in the same way</b>. We can specify <i>which exceptions an except clause will catch</i>.\n",
        "\n",
        "A <b>try clause</b> can have any <b>number of except clause</b> to handle them differently but only one will be executed in case an exception occurs."
      ]
    },
    {
      "cell_type": "code",
      "execution_count": null,
      "metadata": {
        "id": "cFt98PhsRUP0",
        "outputId": "8d24d305-c9e7-472a-9f9f-a4e98a2db940"
      },
      "outputs": [
        {
          "name": "stdout",
          "output_type": "stream",
          "text": [
            "----------------------------------------\n",
            "Element from the list here is: b\n",
            "This is a ValueError\n",
            "----------------------------------------\n",
            "Element from the list here is: 0\n",
            "This is a ZeroDivisionError\n",
            "----------------------------------------\n",
            "Element from the list here is: 2\n",
            "The inverse of 2 is 0.5\n"
          ]
        }
      ],
      "source": [
        "myList = ['b', 0, 2]\n",
        "\n",
        "for element in myList:\n",
        "    try:\n",
        "        print('----------------------------------------')\n",
        "        print('Element from the list here is:', element)\n",
        "        inv = 1 / int(element)\n",
        "    except(ValueError):\n",
        "        print('This is a ValueError')\n",
        "    except(ZeroDivisionError):\n",
        "        print('This is a ZeroDivisionError')\n",
        "    except:\n",
        "        print('This is the generic exceptio block')\n",
        "        \n",
        "print('The inverse of',element,'is',inv)"
      ]
    },
    {
      "cell_type": "markdown",
      "metadata": {
        "id": "DSCEXjkuRUP1"
      },
      "source": [
        "## Raising Exceptions"
      ]
    },
    {
      "cell_type": "markdown",
      "metadata": {
        "id": "4VyYZOooRUP1"
      },
      "source": [
        "In Python programming, exceptions are raised when corresponding errors occur at run time, but we can <b>forcefully raise</b> it using the keyword <b>raise</b>.\n",
        "\n",
        "We can also <b>optionally pass in value</b> to the exception to clarify <b>why</b> that exception was raised."
      ]
    },
    {
      "cell_type": "code",
      "execution_count": null,
      "metadata": {
        "id": "N0EACWU8RUP1",
        "outputId": "53a21a2d-a51b-4a9c-989d-1c097bc81d97"
      },
      "outputs": [
        {
          "ename": "KeyboardInterrupt",
          "evalue": "",
          "output_type": "error",
          "traceback": [
            "\u001b[0;31m---------------------------------------------------------------------------\u001b[0m",
            "\u001b[0;31mKeyboardInterrupt\u001b[0m                         Traceback (most recent call last)",
            "\u001b[0;32m<ipython-input-97-7d145351408f>\u001b[0m in \u001b[0;36m<module>\u001b[0;34m()\u001b[0m\n\u001b[0;32m----> 1\u001b[0;31m \u001b[1;32mraise\u001b[0m \u001b[0mKeyboardInterrupt\u001b[0m\u001b[1;33m\u001b[0m\u001b[0m\n\u001b[0m",
            "\u001b[0;31mKeyboardInterrupt\u001b[0m: "
          ]
        }
      ],
      "source": [
        "raise KeyboardInterrupt"
      ]
    },
    {
      "cell_type": "code",
      "execution_count": null,
      "metadata": {
        "id": "o0xMk9uxRUP2",
        "outputId": "f93a21f1-e172-4a5e-e1ab-091111d830a8"
      },
      "outputs": [
        {
          "ename": "KeyboardInterrupt",
          "evalue": "This is generated manually because I wanted to show it",
          "output_type": "error",
          "traceback": [
            "\u001b[0;31m---------------------------------------------------------------------------\u001b[0m",
            "\u001b[0;31mKeyboardInterrupt\u001b[0m                         Traceback (most recent call last)",
            "\u001b[0;32m<ipython-input-98-6cb74a44013d>\u001b[0m in \u001b[0;36m<module>\u001b[0;34m()\u001b[0m\n\u001b[0;32m----> 1\u001b[0;31m \u001b[1;32mraise\u001b[0m \u001b[0mKeyboardInterrupt\u001b[0m\u001b[1;33m(\u001b[0m\u001b[1;34m'This is generated manually because I wanted to show it'\u001b[0m\u001b[1;33m)\u001b[0m\u001b[1;33m\u001b[0m\u001b[0m\n\u001b[0m",
            "\u001b[0;31mKeyboardInterrupt\u001b[0m: This is generated manually because I wanted to show it"
          ]
        }
      ],
      "source": [
        "raise KeyboardInterrupt('This is generated manually because I wanted to show it')"
      ]
    },
    {
      "cell_type": "code",
      "execution_count": null,
      "metadata": {
        "id": "Uu1CbA4rRUP2",
        "outputId": "ca1d90e6-1dcf-46f9-e7ed-c50070389ac2"
      },
      "outputs": [
        {
          "name": "stdout",
          "output_type": "stream",
          "text": [
            "Please enter an even number:7\n",
            "Error: You did not provide an even number\n"
          ]
        }
      ],
      "source": [
        "try:\n",
        "    even = int(input('Please enter an even number:'))\n",
        "    if even % 2 != 0:\n",
        "        raise ValueError(\"Error: You did not provide an even number\")\n",
        "except ValueError as e:\n",
        "    print(e)"
      ]
    },
    {
      "cell_type": "markdown",
      "metadata": {
        "id": "vNmMKBTxRUP3"
      },
      "source": [
        "## try ... finally"
      ]
    },
    {
      "cell_type": "markdown",
      "metadata": {
        "id": "QEYacrULRUP3"
      },
      "source": [
        "The try statement in Python can have an <i>optional</i> <b>finally clause</b>. This clause is executed no matter what, and is generally used to release external resources."
      ]
    },
    {
      "cell_type": "code",
      "execution_count": null,
      "metadata": {
        "id": "iX830SxXRUP3",
        "outputId": "7d0777ab-2ac9-493f-976c-9041346e9120"
      },
      "outputs": [
        {
          "name": "stdout",
          "output_type": "stream",
          "text": [
            "Inside finally\n"
          ]
        },
        {
          "ename": "FileNotFoundError",
          "evalue": "[Errno 2] No such file or directory: 'filenotpresent.txt'",
          "output_type": "error",
          "traceback": [
            "\u001b[0;31m---------------------------------------------------------------------------\u001b[0m",
            "\u001b[0;31mFileNotFoundError\u001b[0m                         Traceback (most recent call last)",
            "\u001b[0;32m<ipython-input-101-e5a37895475d>\u001b[0m in \u001b[0;36m<module>\u001b[0;34m()\u001b[0m\n\u001b[1;32m      1\u001b[0m \u001b[1;32mtry\u001b[0m\u001b[1;33m:\u001b[0m\u001b[1;33m\u001b[0m\u001b[0m\n\u001b[0;32m----> 2\u001b[0;31m     \u001b[0mf\u001b[0m \u001b[1;33m=\u001b[0m \u001b[0mopen\u001b[0m\u001b[1;33m(\u001b[0m\u001b[1;34m'filenotpresent.txt'\u001b[0m\u001b[1;33m)\u001b[0m  \u001b[1;31m# Always close the file after the operations are executed successfully or even unsuccessfully\u001b[0m\u001b[1;33m\u001b[0m\u001b[0m\n\u001b[0m\u001b[1;32m      3\u001b[0m \u001b[1;32mfinally\u001b[0m\u001b[1;33m:\u001b[0m\u001b[1;33m\u001b[0m\u001b[0m\n\u001b[1;32m      4\u001b[0m     \u001b[0mprint\u001b[0m\u001b[1;33m(\u001b[0m\u001b[1;34m'Inside finally'\u001b[0m\u001b[1;33m)\u001b[0m\u001b[1;33m\u001b[0m\u001b[0m\n\u001b[1;32m      5\u001b[0m     \u001b[0mf\u001b[0m\u001b[1;33m.\u001b[0m\u001b[0mclose\u001b[0m\u001b[1;33m(\u001b[0m\u001b[1;33m)\u001b[0m\u001b[1;33m\u001b[0m\u001b[0m\n",
            "\u001b[0;31mFileNotFoundError\u001b[0m: [Errno 2] No such file or directory: 'filenotpresent.txt'"
          ]
        }
      ],
      "source": [
        "try:\n",
        "    f = open('filenotpresent.txt')  # Always close the file after the operations are executed successfully or even unsuccessfully    \n",
        "finally:\n",
        "    print('Inside finally')\n",
        "    f.close()"
      ]
    },
    {
      "cell_type": "markdown",
      "metadata": {
        "id": "kQUEkgMCRUP4"
      },
      "source": [
        "<b>Excercise</b>: Apply the finally block to ensure all files are closed befor directory tree is removed"
      ]
    },
    {
      "cell_type": "code",
      "execution_count": null,
      "metadata": {
        "id": "IBOSrrnlRUP4",
        "outputId": "3bbbb505-08be-480c-e1a6-d238ed14979c"
      },
      "outputs": [
        {
          "data": {
            "text/plain": [
              "['DummyFolder1',\n",
              " 'DummyFolder2',\n",
              " 'DummyFolder3',\n",
              " 'DummyFolder4',\n",
              " 'File1.txt',\n",
              " 'File2.txt']"
            ]
          },
          "execution_count": 102,
          "metadata": {},
          "output_type": "execute_result"
        }
      ],
      "source": [
        "os.listdir(os.getcwd())"
      ]
    },
    {
      "cell_type": "code",
      "execution_count": null,
      "metadata": {
        "id": "7yGaHN3aRUP4",
        "outputId": "5e0f2e9c-db08-48cd-982f-2a5cb4fa637d"
      },
      "outputs": [
        {
          "ename": "ZeroDivisionError",
          "evalue": "division by zero",
          "output_type": "error",
          "traceback": [
            "\u001b[0;31m---------------------------------------------------------------------------\u001b[0m",
            "\u001b[0;31mZeroDivisionError\u001b[0m                         Traceback (most recent call last)",
            "\u001b[0;32m<ipython-input-118-bd497915b82c>\u001b[0m in \u001b[0;36m<module>\u001b[0;34m()\u001b[0m\n\u001b[1;32m      8\u001b[0m     \u001b[0mos\u001b[0m\u001b[1;33m.\u001b[0m\u001b[0mchdir\u001b[0m\u001b[1;33m(\u001b[0m\u001b[1;34m'../'\u001b[0m\u001b[1;33m)\u001b[0m\u001b[1;33m\u001b[0m\u001b[0m\n\u001b[1;32m      9\u001b[0m     \u001b[0mos\u001b[0m\u001b[1;33m.\u001b[0m\u001b[0mlistdir\u001b[0m\u001b[1;33m(\u001b[0m\u001b[0mos\u001b[0m\u001b[1;33m.\u001b[0m\u001b[0mgetcwd\u001b[0m\u001b[1;33m(\u001b[0m\u001b[1;33m)\u001b[0m\u001b[1;33m)\u001b[0m\u001b[1;33m\u001b[0m\u001b[0m\n\u001b[0;32m---> 10\u001b[0;31m     \u001b[1;36m1\u001b[0m\u001b[1;33m/\u001b[0m\u001b[1;36m0\u001b[0m                                       \u001b[1;31m# On purpose throwing error\u001b[0m\u001b[1;33m\u001b[0m\u001b[0m\n\u001b[0m\u001b[1;32m     11\u001b[0m \u001b[1;32mfinally\u001b[0m\u001b[1;33m:\u001b[0m\u001b[1;33m\u001b[0m\u001b[0m\n\u001b[1;32m     12\u001b[0m     \u001b[0mf\u001b[0m\u001b[1;33m.\u001b[0m\u001b[0mclose\u001b[0m\u001b[1;33m(\u001b[0m\u001b[1;33m)\u001b[0m\u001b[1;33m\u001b[0m\u001b[0m\n",
            "\u001b[0;31mZeroDivisionError\u001b[0m: division by zero"
          ]
        }
      ],
      "source": [
        "import shutil\n",
        "\n",
        "try: \n",
        "    os.mkdir('DummyFolder5')\n",
        "    os.chdir('./DummyFolder5')\n",
        "    f = open('tempfile.txt', 'w')\n",
        "    f.write('Hello World')\n",
        "    os.chdir('../')\n",
        "    os.listdir(os.getcwd())\n",
        "    1/0                                       # On purpose throwing error\n",
        "finally:\n",
        "    f.close()"
      ]
    },
    {
      "cell_type": "code",
      "execution_count": null,
      "metadata": {
        "id": "_igARZQlRUP5",
        "outputId": "03dd5deb-4f0f-4f0a-a151-d42ad209e7ee"
      },
      "outputs": [
        {
          "data": {
            "text/plain": [
              "['DummyFolder1',\n",
              " 'DummyFolder2',\n",
              " 'DummyFolder3',\n",
              " 'DummyFolder4',\n",
              " 'DummyFolder5',\n",
              " 'File1.txt',\n",
              " 'File2.txt']"
            ]
          },
          "execution_count": 119,
          "metadata": {},
          "output_type": "execute_result"
        }
      ],
      "source": [
        "os.listdir(os.getcwd())\n",
        "#os.getcwd()"
      ]
    },
    {
      "cell_type": "code",
      "execution_count": null,
      "metadata": {
        "id": "NSfVsKBzRUP6",
        "outputId": "3a0d9026-f592-4e8c-97b7-af31273459be"
      },
      "outputs": [
        {
          "data": {
            "text/plain": [
              "['DummyFolder1',\n",
              " 'DummyFolder2',\n",
              " 'DummyFolder3',\n",
              " 'DummyFolder4',\n",
              " 'File1.txt',\n",
              " 'File2.txt']"
            ]
          },
          "execution_count": 120,
          "metadata": {},
          "output_type": "execute_result"
        }
      ],
      "source": [
        "shutil.rmtree('DummyFolder5')                  # remove an non-empty directory\n",
        "os.listdir(os.getcwd())"
      ]
    },
    {
      "cell_type": "markdown",
      "metadata": {
        "collapsed": true,
        "id": "HXj4RV-dRUP6"
      },
      "source": [
        "# 28. Debugging Python"
      ]
    },
    {
      "cell_type": "markdown",
      "metadata": {
        "id": "zKOTCzPQRUP6"
      },
      "source": [
        "The module **pdb** defines an interactive source code debugger for Python programs.\n",
        "\n",
        "It includes features to let you pause your program, look at the values of variables, and watch program execution step-by-step, so you can understand what your program actually does and find bugs in the logic."
      ]
    },
    {
      "cell_type": "markdown",
      "metadata": {
        "id": "l7DE5_4LRUP7"
      },
      "source": [
        "## Starting the Debugger"
      ]
    },
    {
      "cell_type": "markdown",
      "metadata": {
        "id": "m9GXMO-VRUP7"
      },
      "source": [
        "**How to debug in Python Jupyter Notebook**"
      ]
    },
    {
      "cell_type": "code",
      "execution_count": null,
      "metadata": {
        "id": "t_2taJGVRUP7",
        "outputId": "a9684d33-48bb-4ac8-eebe-b58774bf8266"
      },
      "outputs": [
        {
          "name": "stdout",
          "output_type": "stream",
          "text": [
            "0\n",
            "1\n",
            "2\n",
            "3\n",
            "4\n",
            "5\n",
            "6\n",
            "7\n",
            "8\n",
            "9\n"
          ]
        }
      ],
      "source": [
        "def iterateIItems(n):                     # Understand how this function works\n",
        "    for i in range(n):\n",
        "        print(i)\n",
        "    return\n",
        "\n",
        "iterateIItems(10)"
      ]
    },
    {
      "cell_type": "markdown",
      "metadata": {
        "id": "Eo3kQmCvRUP8"
      },
      "source": [
        "i &nbsp;&nbsp;&nbsp;&nbsp;n <br/>\n",
        "0 &nbsp;&nbsp;10 <br/>\n",
        "1 &nbsp;&nbsp;10 <br/>\n",
        "2 &nbsp;&nbsp;10 <br/>\n",
        "3 &nbsp;&nbsp;10 <br/>\n",
        "4 &nbsp;&nbsp;10 <br/>\n",
        "5 &nbsp;&nbsp;10 <br/>\n",
        "6 &nbsp;&nbsp;10 <br/>\n",
        "7 &nbsp;&nbsp;10 <br/>\n",
        "8 &nbsp;&nbsp;10 <br/>\n",
        "9 &nbsp;&nbsp;10 <br/>"
      ]
    },
    {
      "cell_type": "code",
      "execution_count": null,
      "metadata": {
        "id": "olZqZw5zRUP8",
        "outputId": "42d056cb-442c-451d-ce51-b4699e4edf5c"
      },
      "outputs": [
        {
          "name": "stdout",
          "output_type": "stream",
          "text": [
            "> <ipython-input-124-fe1ae3e9e087>(6)iterateIItems()\n",
            "-> print(i)\n",
            "(Pdb) whatis i\n",
            "<class 'int'>\n",
            "(Pdb) h\n",
            "\n",
            "Documented commands (type help <topic>):\n",
            "========================================\n",
            "EOF    c          d        h         list      q        rv       undisplay\n",
            "a      cl         debug    help      ll        quit     s        unt      \n",
            "alias  clear      disable  ignore    longlist  r        source   until    \n",
            "args   commands   display  interact  n         restart  step     up       \n",
            "b      condition  down     j         next      return   tbreak   w        \n",
            "break  cont       enable   jump      p         retval   u        whatis   \n",
            "bt     continue   exit     l         pp        run      unalias  where    \n",
            "\n",
            "Miscellaneous help topics:\n",
            "==========================\n",
            "exec  pdb\n",
            "\n",
            "(Pdb) help pdb\n",
            "\n",
            "The Python Debugger Pdb\n",
            "=======================\n",
            "\n",
            "To use the debugger in its simplest form:\n",
            "\n",
            "        >>> import pdb\n",
            "        >>> pdb.run('<a statement>')\n",
            "\n",
            "The debugger's prompt is '(Pdb) '.  This will stop in the first\n",
            "function call in <a statement>.\n",
            "\n",
            "Alternatively, if a statement terminated with an unhandled exception,\n",
            "you can use pdb's post-mortem facility to inspect the contents of the\n",
            "traceback:\n",
            "\n",
            "        >>> <a statement>\n",
            "        <exception traceback>\n",
            "        >>> import pdb\n",
            "        >>> pdb.pm()\n",
            "\n",
            "The commands recognized by the debugger are listed in the next\n",
            "section.  Most can be abbreviated as indicated; e.g., h(elp) means\n",
            "that 'help' can be typed as 'h' or 'help' (but not as 'he' or 'hel',\n",
            "nor as 'H' or 'Help' or 'HELP').  Optional arguments are enclosed in\n",
            "square brackets.  Alternatives in the command syntax are separated\n",
            "by a vertical bar (|).\n",
            "\n",
            "A blank line repeats the previous command literally, except for\n",
            "'list', where it lists the next 11 lines.\n",
            "\n",
            "Commands that the debugger doesn't recognize are assumed to be Python\n",
            "statements and are executed in the context of the program being\n",
            "debugged.  Python statements can also be prefixed with an exclamation\n",
            "point ('!').  This is a powerful way to inspect the program being\n",
            "debugged; it is even possible to change variables or call functions.\n",
            "When an exception occurs in such a statement, the exception name is\n",
            "printed but the debugger's state is not changed.\n",
            "\n",
            "The debugger supports aliases, which can save typing.  And aliases can\n",
            "have parameters (see the alias help entry) which allows one a certain\n",
            "level of adaptability to the context under examination.\n",
            "\n",
            "Multiple commands may be entered on a single line, separated by the\n",
            "pair ';;'.  No intelligence is applied to separating the commands; the\n",
            "input is split at the first ';;', even if it is in the middle of a\n",
            "quoted string.\n",
            "\n",
            "If a file \".pdbrc\" exists in your home directory or in the current\n",
            "directory, it is read in and executed as if it had been typed at the\n",
            "debugger prompt.  This is particularly useful for aliases.  If both\n",
            "files exist, the one in the home directory is read first and aliases\n",
            "defined there can be overridden by the local file.  This behavior can be\n",
            "disabled by passing the \"readrc=False\" argument to the Pdb constructor.\n",
            "\n",
            "Aside from aliases, the debugger is not directly programmable; but it\n",
            "is implemented as a class from which you can derive your own debugger\n",
            "class, which you can make as fancy as you like.\n",
            "\n",
            "\n",
            "Debugger commands\n",
            "=================\n",
            "\n",
            "h(elp)\n",
            "        Without argument, print the list of available commands.\n",
            "        With a command name as argument, print help about that command.\n",
            "        \"help pdb\" shows the full pdb documentation.\n",
            "        \"help exec\" gives help on the ! command.\n",
            "\n",
            "w(here)\n",
            "        Print a stack trace, with the most recent frame at the bottom.\n",
            "        An arrow indicates the \"current frame\", which determines the\n",
            "        context of most commands.  'bt' is an alias for this command.\n",
            "\n",
            "d(own) [count]\n",
            "        Move the current frame count (default one) levels down in the\n",
            "        stack trace (to a newer frame).\n",
            "\n",
            "u(p) [count]\n",
            "        Move the current frame count (default one) levels up in the\n",
            "        stack trace (to an older frame).\n",
            "\n",
            "b(reak) [ ([filename:]lineno | function) [, condition] ]\n",
            "        Without argument, list all breaks.\n",
            "\n",
            "        With a line number argument, set a break at this line in the\n",
            "        current file.  With a function name, set a break at the first\n",
            "        executable line of that function.  If a second argument is\n",
            "        present, it is a string specifying an expression which must\n",
            "        evaluate to true before the breakpoint is honored.\n",
            "\n",
            "        The line number may be prefixed with a filename and a colon,\n",
            "        to specify a breakpoint in another file (probably one that\n",
            "        hasn't been loaded yet).  The file is searched for on\n",
            "        sys.path; the .py suffix may be omitted.\n",
            "\n",
            "tbreak [ ([filename:]lineno | function) [, condition] ]\n",
            "        Same arguments as break, but sets a temporary breakpoint: it\n",
            "        is automatically deleted when first hit.\n",
            "\n",
            "cl(ear) filename:lineno\n",
            "cl(ear) [bpnumber [bpnumber...]]\n",
            "        With a space separated list of breakpoint numbers, clear\n",
            "        those breakpoints.  Without argument, clear all breaks (but\n",
            "        first ask confirmation).  With a filename:lineno argument,\n",
            "        clear all breaks at that line in that file.\n",
            "\n",
            "disable bpnumber [bpnumber ...]\n",
            "        Disables the breakpoints given as a space separated list of\n",
            "        breakpoint numbers.  Disabling a breakpoint means it cannot\n",
            "        cause the program to stop execution, but unlike clearing a\n",
            "        breakpoint, it remains in the list of breakpoints and can be\n",
            "        (re-)enabled.\n",
            "\n",
            "enable bpnumber [bpnumber ...]\n",
            "        Enables the breakpoints given as a space separated list of\n",
            "        breakpoint numbers.\n",
            "\n",
            "ignore bpnumber [count]\n",
            "        Set the ignore count for the given breakpoint number.  If\n",
            "        count is omitted, the ignore count is set to 0.  A breakpoint\n",
            "        becomes active when the ignore count is zero.  When non-zero,\n",
            "        the count is decremented each time the breakpoint is reached\n",
            "        and the breakpoint is not disabled and any associated\n",
            "        condition evaluates to true.\n",
            "\n",
            "condition bpnumber [condition]\n",
            "        Set a new condition for the breakpoint, an expression which\n",
            "        must evaluate to true before the breakpoint is honored.  If\n",
            "        condition is absent, any existing condition is removed; i.e.,\n",
            "        the breakpoint is made unconditional.\n",
            "\n",
            "commands [bpnumber]\n",
            "        (com) ...\n",
            "        (com) end\n",
            "        (Pdb)\n",
            "\n",
            "        Specify a list of commands for breakpoint number bpnumber.\n",
            "        The commands themselves are entered on the following lines.\n",
            "        Type a line containing just 'end' to terminate the commands.\n",
            "        The commands are executed when the breakpoint is hit.\n",
            "\n",
            "        To remove all commands from a breakpoint, type commands and\n",
            "        follow it immediately with end; that is, give no commands.\n",
            "\n",
            "        With no bpnumber argument, commands refers to the last\n",
            "        breakpoint set.\n",
            "\n",
            "        You can use breakpoint commands to start your program up\n",
            "        again.  Simply use the continue command, or step, or any other\n",
            "        command that resumes execution.\n",
            "\n",
            "        Specifying any command resuming execution (currently continue,\n",
            "        step, next, return, jump, quit and their abbreviations)\n",
            "        terminates the command list (as if that command was\n",
            "        immediately followed by end).  This is because any time you\n",
            "        resume execution (even with a simple next or step), you may\n",
            "        encounter another breakpoint -- which could have its own\n",
            "        command list, leading to ambiguities about which list to\n",
            "        execute.\n",
            "\n",
            "        If you use the 'silent' command in the command list, the usual\n",
            "        message about stopping at a breakpoint is not printed.  This\n",
            "        may be desirable for breakpoints that are to print a specific\n",
            "        message and then continue.  If none of the other commands\n",
            "        print anything, you will see no sign that the breakpoint was\n",
            "        reached.\n",
            "\n",
            "s(tep)\n",
            "        Execute the current line, stop at the first possible occasion\n",
            "        (either in a function that is called or in the current\n",
            "        function).\n",
            "\n",
            "n(ext)\n",
            "        Continue execution until the next line in the current function\n",
            "        is reached or it returns.\n",
            "\n",
            "unt(il) [lineno]\n",
            "        Without argument, continue execution until the line with a\n",
            "        number greater than the current one is reached.  With a line\n",
            "        number, continue execution until a line with a number greater\n",
            "        or equal to that is reached.  In both cases, also stop when\n",
            "        the current frame returns.\n",
            "\n",
            "j(ump) lineno\n",
            "        Set the next line that will be executed.  Only available in\n",
            "        the bottom-most frame.  This lets you jump back and execute\n",
            "        code again, or jump forward to skip code that you don't want\n",
            "        to run.\n",
            "\n",
            "        It should be noted that not all jumps are allowed -- for\n",
            "        instance it is not possible to jump into the middle of a\n",
            "        for loop or out of a finally clause.\n",
            "\n",
            "r(eturn)\n",
            "        Continue execution until the current function returns.\n",
            "\n",
            "retval\n",
            "        Print the return value for the last return of a function.\n",
            "\n",
            "run [args...]\n",
            "        Restart the debugged python program. If a string is supplied\n",
            "        it is split with \"shlex\", and the result is used as the new\n",
            "        sys.argv.  History, breakpoints, actions and debugger options\n",
            "        are preserved.  \"restart\" is an alias for \"run\".\n",
            "\n",
            "c(ont(inue))\n",
            "        Continue execution, only stop when a breakpoint is encountered.\n",
            "\n",
            "l(ist) [first [,last] | .]\n",
            "\n",
            "        List source code for the current file.  Without arguments,\n",
            "        list 11 lines around the current line or continue the previous\n",
            "        listing.  With . as argument, list 11 lines around the current\n",
            "        line.  With one argument, list 11 lines starting at that line.\n",
            "        With two arguments, list the given range; if the second\n",
            "        argument is less than the first, it is a count.\n",
            "\n",
            "        The current line in the current frame is indicated by \"->\".\n",
            "        If an exception is being debugged, the line where the\n",
            "        exception was originally raised or propagated is indicated by\n",
            "        \">>\", if it differs from the current line.\n",
            "\n",
            "longlist | ll\n",
            "        List the whole source code for the current function or frame.\n",
            "\n",
            "a(rgs)\n",
            "        Print the argument list of the current function.\n",
            "\n",
            "p expression\n",
            "        Print the value of the expression.\n",
            "\n",
            "pp expression\n",
            "        Pretty-print the value of the expression.\n",
            "\n",
            "whatis arg\n",
            "        Print the type of the argument.\n",
            "\n",
            "source expression\n",
            "        Try to get source code for the given object and display it.\n",
            "\n",
            "display [expression]\n",
            "\n",
            "        Display the value of the expression if it changed, each time execution\n",
            "        stops in the current frame.\n",
            "\n",
            "        Without expression, list all display expressions for the current frame.\n",
            "\n",
            "undisplay [expression]\n",
            "\n",
            "        Do not display the expression any more in the current frame.\n",
            "\n",
            "        Without expression, clear all display expressions for the current frame.\n",
            "\n",
            "interact\n",
            "\n",
            "        Start an interactive interpreter whose global namespace\n",
            "        contains all the (global and local) names found in the current scope.\n",
            "\n",
            "alias [name [command [parameter parameter ...] ]]\n",
            "        Create an alias called 'name' that executes 'command'.  The\n",
            "        command must *not* be enclosed in quotes.  Replaceable\n",
            "        parameters can be indicated by %1, %2, and so on, while %* is\n",
            "        replaced by all the parameters.  If no command is given, the\n",
            "        current alias for name is shown. If no name is given, all\n",
            "        aliases are listed.\n",
            "\n",
            "        Aliases may be nested and can contain anything that can be\n",
            "        legally typed at the pdb prompt.  Note!  You *can* override\n",
            "        internal pdb commands with aliases!  Those internal commands\n",
            "        are then hidden until the alias is removed.  Aliasing is\n",
            "        recursively applied to the first word of the command line; all\n",
            "        other words in the line are left alone.\n",
            "\n",
            "        As an example, here are two useful aliases (especially when\n",
            "        placed in the .pdbrc file):\n",
            "\n",
            "        # Print instance variables (usage \"pi classInst\")\n",
            "        alias pi for k in %1.__dict__.keys(): print(\"%1.\",k,\"=\",%1.__dict__[k])\n",
            "        # Print instance variables in self\n",
            "        alias ps pi self\n",
            "\n",
            "unalias name\n",
            "        Delete the specified alias.\n",
            "\n",
            "debug code\n",
            "        Enter a recursive debugger that steps through the code\n",
            "        argument (which is an arbitrary expression or statement to be\n",
            "        executed in the current environment).\n",
            "\n",
            "q(uit)\n",
            "exit\n",
            "        Quit from the debugger. The program being executed is aborted.\n",
            "\n",
            "(!) statement\n",
            "        Execute the (one-line) statement in the context of the current\n",
            "        stack frame.  The exclamation point can be omitted unless the\n",
            "        first word of the statement resembles a debugger command.  To\n",
            "        assign to a global variable you must always prefix the command\n",
            "        with a 'global' command, e.g.:\n",
            "        (Pdb) global list_options; list_options = ['-l']\n",
            "        (Pdb)\n"
          ]
        },
        {
          "name": "stdout",
          "output_type": "stream",
          "text": [
            "        (Pdb) w\n",
            "  c:\\programdata\\anaconda3\\lib\\runpy.py(193)_run_module_as_main()\n",
            "-> \"__main__\", mod_spec)\n",
            "  c:\\programdata\\anaconda3\\lib\\runpy.py(85)_run_code()\n",
            "-> exec(code, run_globals)\n",
            "  c:\\programdata\\anaconda3\\lib\\site-packages\\ipykernel\\__main__.py(3)<module>()\n",
            "-> app.launch_new_instance()\n",
            "  c:\\programdata\\anaconda3\\lib\\site-packages\\traitlets\\config\\application.py(658)launch_instance()\n",
            "-> app.start()\n",
            "  c:\\programdata\\anaconda3\\lib\\site-packages\\ipykernel\\kernelapp.py(474)start()\n",
            "-> ioloop.IOLoop.instance().start()\n",
            "  c:\\programdata\\anaconda3\\lib\\site-packages\\zmq\\eventloop\\ioloop.py(177)start()\n",
            "-> super(ZMQIOLoop, self).start()\n",
            "  c:\\programdata\\anaconda3\\lib\\site-packages\\tornado\\ioloop.py(887)start()\n",
            "-> handler_func(fd_obj, events)\n",
            "  c:\\programdata\\anaconda3\\lib\\site-packages\\tornado\\stack_context.py(275)null_wrapper()\n",
            "-> return fn(*args, **kwargs)\n",
            "  c:\\programdata\\anaconda3\\lib\\site-packages\\zmq\\eventloop\\zmqstream.py(440)_handle_events()\n",
            "-> self._handle_recv()\n",
            "  c:\\programdata\\anaconda3\\lib\\site-packages\\zmq\\eventloop\\zmqstream.py(472)_handle_recv()\n",
            "-> self._run_callback(callback, msg)\n",
            "  c:\\programdata\\anaconda3\\lib\\site-packages\\zmq\\eventloop\\zmqstream.py(414)_run_callback()\n",
            "-> callback(*args, **kwargs)\n",
            "  c:\\programdata\\anaconda3\\lib\\site-packages\\tornado\\stack_context.py(275)null_wrapper()\n",
            "-> return fn(*args, **kwargs)\n",
            "  c:\\programdata\\anaconda3\\lib\\site-packages\\ipykernel\\kernelbase.py(276)dispatcher()\n",
            "-> return self.dispatch_shell(stream, msg)\n",
            "  c:\\programdata\\anaconda3\\lib\\site-packages\\ipykernel\\kernelbase.py(228)dispatch_shell()\n",
            "-> handler(stream, idents, msg)\n",
            "  c:\\programdata\\anaconda3\\lib\\site-packages\\ipykernel\\kernelbase.py(390)execute_request()\n",
            "-> user_expressions, allow_stdin)\n",
            "  c:\\programdata\\anaconda3\\lib\\site-packages\\ipykernel\\ipkernel.py(196)do_execute()\n",
            "-> res = shell.run_cell(code, store_history=store_history, silent=silent)\n",
            "  c:\\programdata\\anaconda3\\lib\\site-packages\\ipykernel\\zmqshell.py(501)run_cell()\n",
            "-> return super(ZMQInteractiveShell, self).run_cell(*args, **kwargs)\n",
            "  c:\\programdata\\anaconda3\\lib\\site-packages\\ipython\\core\\interactiveshell.py(2717)run_cell()\n",
            "-> interactivity=interactivity, compiler=compiler, result=result)\n",
            "  c:\\programdata\\anaconda3\\lib\\site-packages\\ipython\\core\\interactiveshell.py(2821)run_ast_nodes()\n",
            "-> if self.run_code(code, result):\n",
            "  c:\\programdata\\anaconda3\\lib\\site-packages\\ipython\\core\\interactiveshell.py(2881)run_code()\n",
            "-> exec(code_obj, self.user_global_ns, self.user_ns)\n",
            "  <ipython-input-124-fe1ae3e9e087>(9)<module>()\n",
            "-> iterateIItems(10)\n",
            "> <ipython-input-124-fe1ae3e9e087>(6)iterateIItems()\n",
            "-> print(i)\n",
            "(Pdb) list\n",
            "  1  \timport pdb                                       # import the module pdb that allows us to debug the code\n",
            "  2  \t\n",
            "  3  \tdef iterateIItems(n):\n",
            "  4  \t    for i in range(n):\n",
            "  5  \t        pdb.set_trace()                          # breakpoint - pause and check environment around the program\n",
            "  6  ->\t        print(i)\n",
            "  7  \t    return\n",
            "  8  \t\n",
            "  9  \titerateIItems(10)\n",
            " 10  \t\n",
            " 11  \t'''\n",
            "(Pdb) q\n"
          ]
        },
        {
          "ename": "BdbQuit",
          "evalue": "",
          "output_type": "error",
          "traceback": [
            "\u001b[0;31m---------------------------------------------------------------------------\u001b[0m",
            "\u001b[0;31mBdbQuit\u001b[0m                                   Traceback (most recent call last)",
            "\u001b[0;32m<ipython-input-124-fe1ae3e9e087>\u001b[0m in \u001b[0;36m<module>\u001b[0;34m()\u001b[0m\n\u001b[1;32m      7\u001b[0m     \u001b[1;32mreturn\u001b[0m\u001b[1;33m\u001b[0m\u001b[0m\n\u001b[1;32m      8\u001b[0m \u001b[1;33m\u001b[0m\u001b[0m\n\u001b[0;32m----> 9\u001b[0;31m \u001b[0miterateIItems\u001b[0m\u001b[1;33m(\u001b[0m\u001b[1;36m10\u001b[0m\u001b[1;33m)\u001b[0m\u001b[1;33m\u001b[0m\u001b[0m\n\u001b[0m\u001b[1;32m     10\u001b[0m \u001b[1;33m\u001b[0m\u001b[0m\n\u001b[1;32m     11\u001b[0m '''\n",
            "\u001b[0;32m<ipython-input-124-fe1ae3e9e087>\u001b[0m in \u001b[0;36miterateIItems\u001b[0;34m(n)\u001b[0m\n\u001b[1;32m      4\u001b[0m     \u001b[1;32mfor\u001b[0m \u001b[0mi\u001b[0m \u001b[1;32min\u001b[0m \u001b[0mrange\u001b[0m\u001b[1;33m(\u001b[0m\u001b[0mn\u001b[0m\u001b[1;33m)\u001b[0m\u001b[1;33m:\u001b[0m\u001b[1;33m\u001b[0m\u001b[0m\n\u001b[1;32m      5\u001b[0m         \u001b[0mpdb\u001b[0m\u001b[1;33m.\u001b[0m\u001b[0mset_trace\u001b[0m\u001b[1;33m(\u001b[0m\u001b[1;33m)\u001b[0m                          \u001b[1;31m# breakpoint - pause and check environment around the program\u001b[0m\u001b[1;33m\u001b[0m\u001b[0m\n\u001b[0;32m----> 6\u001b[0;31m         \u001b[0mprint\u001b[0m\u001b[1;33m(\u001b[0m\u001b[0mi\u001b[0m\u001b[1;33m)\u001b[0m\u001b[1;33m\u001b[0m\u001b[0m\n\u001b[0m\u001b[1;32m      7\u001b[0m     \u001b[1;32mreturn\u001b[0m\u001b[1;33m\u001b[0m\u001b[0m\n\u001b[1;32m      8\u001b[0m \u001b[1;33m\u001b[0m\u001b[0m\n",
            "\u001b[0;32m<ipython-input-124-fe1ae3e9e087>\u001b[0m in \u001b[0;36miterateIItems\u001b[0;34m(n)\u001b[0m\n\u001b[1;32m      4\u001b[0m     \u001b[1;32mfor\u001b[0m \u001b[0mi\u001b[0m \u001b[1;32min\u001b[0m \u001b[0mrange\u001b[0m\u001b[1;33m(\u001b[0m\u001b[0mn\u001b[0m\u001b[1;33m)\u001b[0m\u001b[1;33m:\u001b[0m\u001b[1;33m\u001b[0m\u001b[0m\n\u001b[1;32m      5\u001b[0m         \u001b[0mpdb\u001b[0m\u001b[1;33m.\u001b[0m\u001b[0mset_trace\u001b[0m\u001b[1;33m(\u001b[0m\u001b[1;33m)\u001b[0m                          \u001b[1;31m# breakpoint - pause and check environment around the program\u001b[0m\u001b[1;33m\u001b[0m\u001b[0m\n\u001b[0;32m----> 6\u001b[0;31m         \u001b[0mprint\u001b[0m\u001b[1;33m(\u001b[0m\u001b[0mi\u001b[0m\u001b[1;33m)\u001b[0m\u001b[1;33m\u001b[0m\u001b[0m\n\u001b[0m\u001b[1;32m      7\u001b[0m     \u001b[1;32mreturn\u001b[0m\u001b[1;33m\u001b[0m\u001b[0m\n\u001b[1;32m      8\u001b[0m \u001b[1;33m\u001b[0m\u001b[0m\n",
            "\u001b[0;32mC:\\ProgramData\\Anaconda3\\lib\\bdb.py\u001b[0m in \u001b[0;36mtrace_dispatch\u001b[0;34m(self, frame, event, arg)\u001b[0m\n\u001b[1;32m     46\u001b[0m             \u001b[1;32mreturn\u001b[0m \u001b[1;31m# None\u001b[0m\u001b[1;33m\u001b[0m\u001b[0m\n\u001b[1;32m     47\u001b[0m         \u001b[1;32mif\u001b[0m \u001b[0mevent\u001b[0m \u001b[1;33m==\u001b[0m \u001b[1;34m'line'\u001b[0m\u001b[1;33m:\u001b[0m\u001b[1;33m\u001b[0m\u001b[0m\n\u001b[0;32m---> 48\u001b[0;31m             \u001b[1;32mreturn\u001b[0m \u001b[0mself\u001b[0m\u001b[1;33m.\u001b[0m\u001b[0mdispatch_line\u001b[0m\u001b[1;33m(\u001b[0m\u001b[0mframe\u001b[0m\u001b[1;33m)\u001b[0m\u001b[1;33m\u001b[0m\u001b[0m\n\u001b[0m\u001b[1;32m     49\u001b[0m         \u001b[1;32mif\u001b[0m \u001b[0mevent\u001b[0m \u001b[1;33m==\u001b[0m \u001b[1;34m'call'\u001b[0m\u001b[1;33m:\u001b[0m\u001b[1;33m\u001b[0m\u001b[0m\n\u001b[1;32m     50\u001b[0m             \u001b[1;32mreturn\u001b[0m \u001b[0mself\u001b[0m\u001b[1;33m.\u001b[0m\u001b[0mdispatch_call\u001b[0m\u001b[1;33m(\u001b[0m\u001b[0mframe\u001b[0m\u001b[1;33m,\u001b[0m \u001b[0marg\u001b[0m\u001b[1;33m)\u001b[0m\u001b[1;33m\u001b[0m\u001b[0m\n",
            "\u001b[0;32mC:\\ProgramData\\Anaconda3\\lib\\bdb.py\u001b[0m in \u001b[0;36mdispatch_line\u001b[0;34m(self, frame)\u001b[0m\n\u001b[1;32m     65\u001b[0m         \u001b[1;32mif\u001b[0m \u001b[0mself\u001b[0m\u001b[1;33m.\u001b[0m\u001b[0mstop_here\u001b[0m\u001b[1;33m(\u001b[0m\u001b[0mframe\u001b[0m\u001b[1;33m)\u001b[0m \u001b[1;32mor\u001b[0m \u001b[0mself\u001b[0m\u001b[1;33m.\u001b[0m\u001b[0mbreak_here\u001b[0m\u001b[1;33m(\u001b[0m\u001b[0mframe\u001b[0m\u001b[1;33m)\u001b[0m\u001b[1;33m:\u001b[0m\u001b[1;33m\u001b[0m\u001b[0m\n\u001b[1;32m     66\u001b[0m             \u001b[0mself\u001b[0m\u001b[1;33m.\u001b[0m\u001b[0muser_line\u001b[0m\u001b[1;33m(\u001b[0m\u001b[0mframe\u001b[0m\u001b[1;33m)\u001b[0m\u001b[1;33m\u001b[0m\u001b[0m\n\u001b[0;32m---> 67\u001b[0;31m             \u001b[1;32mif\u001b[0m \u001b[0mself\u001b[0m\u001b[1;33m.\u001b[0m\u001b[0mquitting\u001b[0m\u001b[1;33m:\u001b[0m \u001b[1;32mraise\u001b[0m \u001b[0mBdbQuit\u001b[0m\u001b[1;33m\u001b[0m\u001b[0m\n\u001b[0m\u001b[1;32m     68\u001b[0m         \u001b[1;32mreturn\u001b[0m \u001b[0mself\u001b[0m\u001b[1;33m.\u001b[0m\u001b[0mtrace_dispatch\u001b[0m\u001b[1;33m\u001b[0m\u001b[0m\n\u001b[1;32m     69\u001b[0m \u001b[1;33m\u001b[0m\u001b[0m\n",
            "\u001b[0;31mBdbQuit\u001b[0m: "
          ]
        }
      ],
      "source": [
        "import pdb                                       # import the module pdb that allows us to debug the code\n",
        "\n",
        "def iterateIItems(n):\n",
        "    for i in range(n):\n",
        "        pdb.set_trace()                          # breakpoint - pause and check environment around the program\n",
        "        print(i)\n",
        "    return\n",
        "\n",
        "iterateIItems(10)\n",
        "\n",
        "'''\n",
        "Few popular pdb commands are as below \n",
        "\n",
        "c : continue\n",
        "q: quit\n",
        "h: help\n",
        "list\n",
        "p: print\n",
        "p locals()\n",
        "p globals()\n",
        "whatis\n",
        "\n",
        "'''\n"
      ]
    },
    {
      "cell_type": "markdown",
      "metadata": {
        "id": "-X0mF_iqRUP9"
      },
      "source": [
        "# Debugger Commands"
      ]
    },
    {
      "cell_type": "markdown",
      "metadata": {
        "id": "geWvgpF2RUP9"
      },
      "source": [
        "**1. h(elp) [command]**\n"
      ]
    },
    {
      "cell_type": "markdown",
      "metadata": {
        "id": "1OK4MxWpRUP9"
      },
      "source": [
        "Without argument, print the list of available commands. With a command as argument, print help about that command. help pdb displays the full documentation (the docstring of the pdb module). Since the command argument must be an identifier, help exec must be entered to get help on the ! command."
      ]
    },
    {
      "cell_type": "markdown",
      "metadata": {
        "id": "V2v2is8XRUP-"
      },
      "source": [
        "**2. w(here)**\n",
        "\n",
        "Print a stack trace, with the most recent frame at the bottom. An arrow indicates the current frame, which determines the context of most commands."
      ]
    },
    {
      "cell_type": "markdown",
      "metadata": {
        "id": "0paORxhzRUP-"
      },
      "source": [
        "**3. d(own) [count]**\n",
        "\n",
        "Move the current frame count (default one) levels down in the stack trace (to a newer frame)."
      ]
    },
    {
      "cell_type": "markdown",
      "metadata": {
        "id": "JY8c9ElVRUP_"
      },
      "source": [
        "**4.c(ont(inue))**\n",
        "\n",
        "Continue execution, only stop when a breakpoint is encountered."
      ]
    },
    {
      "cell_type": "markdown",
      "metadata": {
        "id": "oQL3ibSYRUP_"
      },
      "source": [
        "**5. q(uit)**\n",
        "\n",
        "Quit from the debugger. The program being executed is aborted."
      ]
    },
    {
      "cell_type": "markdown",
      "metadata": {
        "id": "VnzR7ib-RUP_"
      },
      "source": [
        "### Terminal/Command prompt based debugging\n",
        "\n",
        "Let me quickly walk you through the process of debugging in terminals/command prompt"
      ]
    }
  ],
  "metadata": {
    "kernelspec": {
      "display_name": "Python 3",
      "language": "python",
      "name": "python3"
    },
    "language_info": {
      "codemirror_mode": {
        "name": "ipython",
        "version": 3
      },
      "file_extension": ".py",
      "mimetype": "text/x-python",
      "name": "python",
      "nbconvert_exporter": "python",
      "pygments_lexer": "ipython3",
      "version": "3.6.0"
    },
    "colab": {
      "provenance": [],
      "include_colab_link": true
    }
  },
  "nbformat": 4,
  "nbformat_minor": 0
}
