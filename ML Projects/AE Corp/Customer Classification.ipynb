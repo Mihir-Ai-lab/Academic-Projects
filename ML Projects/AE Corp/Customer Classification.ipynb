{
 "cells": [
  {
   "cell_type": "markdown",
   "metadata": {
    "colab_type": "text",
    "id": "9ku0h8OsoHJz"
   },
   "source": [
    "<center><img src=\"https://raw.githubusercontent.com/Mihir-Ai-lab/The_Data_Science_Guy/main/Images/Notebook%20Header.png\" width=\"1200\" height=\"627\" /></center>"
   ]
  },
  {
   "cell_type": "markdown",
   "metadata": {
    "colab_type": "text",
    "id": "NWvRwRdGoK5Y",
    "tags": []
   },
   "source": [
    "---\n",
    "# **Table of Contents**\n",
    "---\n",
    "\n",
    "1. [**Introduction**](#Section1)<br>\n",
    "2. [**Problem Statement**](#Section2)<br>\n",
    "    2.1 [**Project Details**](#Section21)<br>\n",
    "3. [**Installing & Importing Libraries**](#Section3)<br>\n",
    "    3.1 [**Installing Libraries**](#Section31)<br>\n",
    "    3.2 [**Upgrading Libraries**](#Section32)<br>\n",
    "    3.3 [**Importing Libraries**](#Section33)<br>\n",
    "4. [**Data Acquisition & Description**](#Section4)<br>\n",
    "    4.1 [**Data Description**](#Section41)<br>\n",
    "    4.2 [**Data Information**](#Section42)<br>\n",
    "5. [**Data Pre-Profiling**](#Section5)<br>\n",
    "6. [**Data Pre-Processing**](#Section6)<br>\n",
    "7. [**Data Post-Profiling**](#Section7)<br>\n",
    "8. [**Exploratory Data Analysis**](#Section8)<br>\n",
    "    8.1 [**Which Region has more HNI's??**](#Section81)<br>\n",
    "    8.2 [**What Age group has more HNI's?**](#Section82)<br>\n",
    "    8.3 [**How is Occupation related to net worth?**](#Section83)<br>\n",
    "    8.4 [**How is Insurance related to net worth?**](#Section84)<br>\n",
    "    8.3 [**What are the Portfolio balances of HNI's?**](#Section83)<br>\n",
    "9. [**Model Building**](#Section9)<br>\n",
    "    9.1 [**Encoding Categorical Variables**](#Section91)<br>\n",
    "    9.2 [**Feature Engineering**](#Section92)<br>\n",
    "    9.3 [**Feature Scaling**](#Section93)<br>\n",
    "10. [**Feature Selection and PCA**](#Section10)<br>\n",
    "    10.1 [**Feature Selection with Correlation Matrix**](#Section101)<br>\n",
    "    10.2 [**Feature Transformation with PCA**](#Section102)<br>\n",
    "11. [**Model Development & Evaluation**](#Section11)<br>\n",
    "    11.1 [**Logistic Regression**](#Section111)<br>\n",
    "12. [**Conclusion**](#Section12)<br>\n",
    "13. [**Limitations**](#Section13)<br>\n",
    "14. [**Actionable Insights**](#Section14)<br>\n",
    "15. [**Recommendations for further analysis**](#Section15)<br>\n"
   ]
  },
  {
   "cell_type": "markdown",
   "metadata": {
    "colab_type": "text",
    "id": "iACv_4iIoaLi"
   },
   "source": [
    "---\n",
    "<a name = Section1></a>\n",
    "# **1. Introduction**\n",
    "---\n",
    "\n",
    "**Company Introduction - AE Corp**\n",
    "\n",
    "Our client for this project is a retail banking institution.\n",
    "\n",
    "- They are going to float a stock trading facility for their existing customers.\n",
    "- The idea is to use data to classify whether a customer belongs to a high net worth or low net worth group.\n",
    "- They will have to incentivize their customers to adopt their offerings.\n",
    "- One way to incentivize could be to offer discounts on the commission for trading transactions.\n",
    "\n",
    "**Current Scenario**\n",
    "\n",
    "The company rolled out this service to about 10,000+ of its customers and observed their trading behavior for 6 months and after that, they labeled them into two revenue grids 1 and 2."
   ]
  },
  {
   "cell_type": "markdown",
   "metadata": {
    "colab_type": "text",
    "id": "sOGJAM3AoePy",
    "tags": []
   },
   "source": [
    "---\n",
    "<a name = Section2></a>\n",
    "# **2. Problem Statement**\n",
    "---\n",
    "\n",
    "The current process suffers from the following problems:\n",
    "\n",
    "- Only about 10% of the customers do enough trades for earnings after discounts to be profitable.\n",
    "- The company wants to figure out, which are those 10% customers so that it can selectively offer them a discount.\n",
    "\n",
    "<p align=\"center\"><img src=\"https://raw.githubusercontent.com/Mihir-Ai-lab/Academic-Projects/main/Images/Classification.gif\"></p>"
   ]
  },
  {
   "cell_type": "markdown",
   "metadata": {
    "colab_type": "text",
    "id": "lM-hljKpqXsp"
   },
   "source": [
    "<a name = Section21></a>\n",
    "### **2.1 Project Details**"
   ]
  },
  {
   "cell_type": "markdown",
   "metadata": {},
   "source": [
    "- Co-ordinating with - The marketing department to supplement their campaigns with a more proactive approach.\n",
    "\n",
    "- Our Role - To build a classification model using the datasets.\n",
    "\n",
    "- Project Deliverables - Predict whether a customer belongs to a high net worth or low net worth group.\n",
    "\n",
    "- Machine Learning Task: Classification\n",
    "\n",
    "- Target Variable: Status (high net worth (1) / low net worth (2))\n",
    "\n",
    "- Win Condition - No machine learning model in the company for this currently, therefore no quantifiable win condition. We just need to build the best possible model.\n",
    "\n",
    "- Evaluation Metric - The model evaluation will be based on the F1 Score score."
   ]
  },
  {
   "cell_type": "markdown",
   "metadata": {
    "colab_type": "text",
    "id": "yzSAH3m9pLWi"
   },
   "source": [
    "---\n",
    "<a id = Section3></a>\n",
    "# **3. Installing & Importing Libraries**"
   ]
  },
  {
   "cell_type": "markdown",
   "metadata": {
    "colab_type": "text",
    "id": "M0y7joFPpOuQ"
   },
   "source": [
    "<a name = Section31></a>\n",
    "### **3.1 Installing Libraries**"
   ]
  },
  {
   "cell_type": "code",
   "execution_count": 1,
   "metadata": {
    "colab": {},
    "colab_type": "code",
    "id": "S3pqantTnmxX"
   },
   "outputs": [],
   "source": [
    "!pip install -q datascience                                         # Package that is required by pandas profiling\n",
    "!pip install -q pandas-profiling                                    # Library to generate basic statistics about data\n",
    "!pip install -q category_encoders\n",
    "!pip install -q scikit-learn\n",
    "!pip install -q matplotlib seaborn bokeh plotly"
   ]
  },
  {
   "cell_type": "markdown",
   "metadata": {
    "colab_type": "text",
    "id": "pYQrkcl4pe8J"
   },
   "source": [
    "<a name = Section31></a>\n",
    "### **3.2 Upgrading Libraries**"
   ]
  },
  {
   "cell_type": "code",
   "execution_count": 2,
   "metadata": {
    "colab": {},
    "colab_type": "code",
    "id": "dmiiVvd-phhY"
   },
   "outputs": [],
   "source": [
    "!pip install -q --upgrade pandas-profiling\n",
    "!pip install -q --upgrade scikit-learn"
   ]
  },
  {
   "cell_type": "code",
   "execution_count": 3,
   "metadata": {
    "colab": {
     "base_uri": "https://localhost:8080/",
     "height": 221
    },
    "colab_type": "code",
    "executionInfo": {
     "elapsed": 1802,
     "status": "ok",
     "timestamp": 1600335494917,
     "user": {
      "displayName": "Mukesh Kumar",
      "photoUrl": "",
      "userId": "01238672520445611335"
     },
     "user_tz": -330
    },
    "id": "aXPrewndpw1T",
    "outputId": "5a580dc5-8379-45a4-81b0-4c4904c1bee4"
   },
   "outputs": [
    {
     "name": "stdout",
     "output_type": "stream",
     "text": [
      "\n",
      "Libraries Upgraded please restart runtime\n",
      "\n",
      "---------------------------------------------\n"
     ]
    }
   ],
   "source": [
    "# Runtime Restart Reminder\n",
    "\n",
    "print('\\n' + 'Libraries Upgraded please restart runtime')\n",
    "print('\\n' + '-'*45)"
   ]
  },
  {
   "cell_type": "markdown",
   "metadata": {
    "colab_type": "text",
    "id": "PbyRyjDhpoJj"
   },
   "source": [
    "<a name = Section31></a>\n",
    "### **3.3 Importing Libraries**"
   ]
  },
  {
   "cell_type": "code",
   "execution_count": 4,
   "metadata": {
    "colab": {},
    "colab_type": "code",
    "id": "5RapekFlpptb"
   },
   "outputs": [],
   "source": [
    "#-------------------------------------------------------------------------------------------------------------------------------\n",
    "import pandas as pd                                                 # Importing package pandas (For Panel Data Analysis)\n",
    "from pandas.api.types import CategoricalDtype\n",
    "pd.set_option('display.max_columns', None)                          # Unfolding hidden features if the cardinality is high\n",
    "pd.set_option('display.max_colwidth', None)                         # Unfolding the max feature width for better clearity\n",
    "pd.set_option('display.max_rows', None)                             # Unfolding hidden data points if the cardinality is high\n",
    "pd.set_option('mode.chained_assignment', None)                      # Removing restriction over chained assignments operations\n",
    "pd.set_option('display.float_format', lambda x: '%.2f' % x)          # To suppress scientific notation over exponential values \n",
    "#-------------------------------------------------------------------------------------------------------------------------------\n",
    "from ydata_profiling import ProfileReport                           # Import Pandas Profiling (To generate Univariate Analysis)\n",
    "#-------------------------------------------------------------------------------------------------------------------------------\n",
    "import numpy as np                                                  # Importing package numpys (For Numerical Python)\n",
    "np.set_printoptions(precision=2, suppress=True)\n",
    "#-------------------------------------------------------------------------------------------------------------------------------\n",
    "import matplotlib.pyplot as plt                                     # Importing pyplot interface to use matplotlib\n",
    "import seaborn as sns                                               # Importing seaborn library for interactive visualization\n",
    "%matplotlib inline\n",
    "#-------------------------------------------------------------------------------------------------------------------------------\n",
    "from sklearn.preprocessing import StandardScaler\n",
    "from sklearn.preprocessing import LabelEncoder\n",
    "from sklearn.preprocessing import OneHotEncoder\n",
    "from sklearn.model_selection import train_test_split                # To split the data in training and testing part     \n",
    "from sklearn.linear_model import LogisticRegression\n",
    "from category_encoders import BinaryEncoder\n",
    "#-------------------------------------------------------------------------------------------------------------------------------\n",
    "from sklearn.metrics import precision_recall_curve                  # For precision and recall metric estimation\n",
    "from sklearn.metrics import classification_report                   # To generate complete report of evaluation metrics\n",
    "from sklearn.metrics import confusion_matrix                        # To plot confusion matrix \n",
    "from sklearn.metrics import f1_score\n",
    "#-------------------------------------------------------------------------------------------------------------------------------\n",
    "from ipywidgets import interact                                     # Creates UI controls for exploring code and data\n",
    "import warnings                                                     # Importing warning to disable runtime warnings\n",
    "warnings.filterwarnings(\"ignore\")                                   # Warnings will appear only once"
   ]
  },
  {
   "cell_type": "markdown",
   "metadata": {
    "colab_type": "text",
    "id": "ys9Qb4OlpzvZ",
    "tags": []
   },
   "source": [
    "---\n",
    "<a name = Section4></a>\n",
    "# **4. Data Acquisition & Description**\n",
    "---\n",
    "\n",
    "We are provided with a dataset containing all the necessary information about the customers like their occupation, family income, gender, region, balance transfer, children, etc.\n",
    "\n",
    "Also included in the dataset is the column Revenue_Grid which classifies the customers into high net worth customers (1) and low net worth customers (2).\n",
    "\n",
    "This is the data that we have to predict for future customers.\n",
    "\n",
    "---\n",
    "\n",
    "Train Set: The train set contains 8124 rows and 32 columns.The last column Revenue_Grid is the target variable.\n",
    "\n",
    "Test Set: The test set contains 2031 rows and 31 columns.The test set doesn’t contain the Revenue_Grid column which need to be predicted\n",
    "\n",
    "The Dataset contains the following columns:\n",
    "\n",
    "\n",
    "|Id|Feature|Description|\n",
    "|:--|:--|:--|\n",
    "|01|REF_NO| Reference Number of the customer.|\n",
    "|02|children|Number of children each customer has.|\n",
    "|03|Age_band|Age Group to which the customer belongs.|\n",
    "|04|status|Marital Status of the customer.|\n",
    "|05|occupation|Job or profession of the customer.|\n",
    "|06|occupation_partner|Job or profession of the customer's partner.|\n",
    "|07|home_status|Home Status of the customers.|\n",
    "|08|family_income|Income Range of the customer's family.|\n",
    "|09|self_employed|Whether self-employed or not.|\n",
    "|10|self_employed_partner|Whether the partner self-employed or not.|\n",
    "|11|year_last_moved|Moving Year from the last location of the customer.|\n",
    "|12|TVarea|Television Region of the customer.|\n",
    "|13|post_code|Postal Code of the customer.|\n",
    "|14|post_area|Postal Area of the customer.|\n",
    "|15|Average_Credit_Card_Transaction|Average Credit Card Transaction per year by the customer.|\n",
    "|16|Balance_Transfer|Transfer of the Balance in an account to another account by the customer.|\n",
    "|17|Term_Deposit|Cash Investment Help at Financial Institute provided to the customer.|\n",
    "|18|Life_Insurance|Basic Life Insurance Coverage of the customer.|\n",
    "|19|Medical_Insurance|Medical Insurance Coverage of the customer.|\n",
    "|20|Average_A/C_Balance|Average Balance in the account of the customer.|\n",
    "|21|Personal_Loan|Amount of Personal Loan taken by the customer.|\n",
    "|22|Investment_in_Mutual_Fund|Amount Invested in Mutual Funds by the customer.|\n",
    "|23|Investment_Tax_Saving_Bond|Amount Invested in Tax Saving Bond by the customer.|\n",
    "|24|Home_Loan|Amount of Home Loan taken by the customer.|\n",
    "|25|Online_Purchase_Amount|Amount spent by the customer on online purchases.|\n",
    "|26|gender|Gender of the customer.|\n",
    "|27|region|Religion of the customer.|\n",
    "|28|Investment_in_Commudity|Amount Invested in Commodity by the customer.|\n",
    "|29|Investment_in_Equity|Amount Invested in Equity by the customer.|\n",
    "|30|Investment_in_Derivative|Amount Invested in Derivatives by the customer.|\n",
    "|31|Portfolio_Balance|Balanced Investment Strategy of the customer.|\n",
    "|32|Revenue_Grid|Grid report of the customers.|"
   ]
  },
  {
   "cell_type": "code",
   "execution_count": 5,
   "metadata": {
    "colab": {
     "base_uri": "https://localhost:8080/",
     "height": 221
    },
    "colab_type": "code",
    "executionInfo": {
     "elapsed": 1802,
     "status": "ok",
     "timestamp": 1600335494917,
     "user": {
      "displayName": "Mukesh Kumar",
      "photoUrl": "",
      "userId": "01238672520445611335"
     },
     "user_tz": -330
    },
    "id": "aXPrewndpw1T",
    "outputId": "5a580dc5-8379-45a4-81b0-4c4904c1bee4"
   },
   "outputs": [
    {
     "name": "stdout",
     "output_type": "stream",
     "text": [
      "\n",
      "-------------------------\n",
      "\n",
      "Acquiring Data\n",
      "Loaded Dataset: df_train & df_test\n",
      "\n",
      "-------------------------\n",
      "\n",
      "Training Data Shape: (8124, 32)\n",
      "Test Data Shape: (2031, 31)\n",
      "\n",
      "-------------------------\n",
      "\n",
      "Training Data Head\n",
      "\n",
      "----------\n",
      "\n"
     ]
    },
    {
     "data": {
      "text/html": [
       "<div>\n",
       "<style scoped>\n",
       "    .dataframe tbody tr th:only-of-type {\n",
       "        vertical-align: middle;\n",
       "    }\n",
       "\n",
       "    .dataframe tbody tr th {\n",
       "        vertical-align: top;\n",
       "    }\n",
       "\n",
       "    .dataframe thead th {\n",
       "        text-align: right;\n",
       "    }\n",
       "</style>\n",
       "<table border=\"1\" class=\"dataframe\">\n",
       "  <thead>\n",
       "    <tr style=\"text-align: right;\">\n",
       "      <th></th>\n",
       "      <th>REF_NO</th>\n",
       "      <th>children</th>\n",
       "      <th>age_band</th>\n",
       "      <th>status</th>\n",
       "      <th>occupation</th>\n",
       "      <th>occupation_partner</th>\n",
       "      <th>home_status</th>\n",
       "      <th>family_income</th>\n",
       "      <th>self_employed</th>\n",
       "      <th>self_employed_partner</th>\n",
       "      <th>year_last_moved</th>\n",
       "      <th>TVarea</th>\n",
       "      <th>post_code</th>\n",
       "      <th>post_area</th>\n",
       "      <th>Average_Credit_Card_Transaction</th>\n",
       "      <th>Balance_Transfer</th>\n",
       "      <th>Term_Deposit</th>\n",
       "      <th>Life_Insurance</th>\n",
       "      <th>Medical_Insurance</th>\n",
       "      <th>Average_A/C_Balance</th>\n",
       "      <th>Personal_Loan</th>\n",
       "      <th>Investment_in_Mutual_Fund</th>\n",
       "      <th>Investment_Tax_Saving_Bond</th>\n",
       "      <th>Home_Loan</th>\n",
       "      <th>Online_Purchase_Amount</th>\n",
       "      <th>gender</th>\n",
       "      <th>region</th>\n",
       "      <th>Investment_in_Commudity</th>\n",
       "      <th>Investment_in_Equity</th>\n",
       "      <th>Investment_in_Derivative</th>\n",
       "      <th>Portfolio_Balance</th>\n",
       "      <th>Revenue_Grid</th>\n",
       "    </tr>\n",
       "  </thead>\n",
       "  <tbody>\n",
       "    <tr>\n",
       "      <th>0</th>\n",
       "      <td>5466</td>\n",
       "      <td>2</td>\n",
       "      <td>31-35</td>\n",
       "      <td>Partner</td>\n",
       "      <td>Professional</td>\n",
       "      <td>Professional</td>\n",
       "      <td>Own Home</td>\n",
       "      <td>&gt;=35,000</td>\n",
       "      <td>No</td>\n",
       "      <td>No</td>\n",
       "      <td>1981</td>\n",
       "      <td>Meridian</td>\n",
       "      <td>M51 0GU</td>\n",
       "      <td>M51</td>\n",
       "      <td>26.98</td>\n",
       "      <td>29.99</td>\n",
       "      <td>312.25</td>\n",
       "      <td>299.79</td>\n",
       "      <td>88.72</td>\n",
       "      <td>108.85</td>\n",
       "      <td>175.43</td>\n",
       "      <td>134.35</td>\n",
       "      <td>8.98</td>\n",
       "      <td>55.44</td>\n",
       "      <td>7.68</td>\n",
       "      <td>Female</td>\n",
       "      <td>North West</td>\n",
       "      <td>151.55</td>\n",
       "      <td>81.79</td>\n",
       "      <td>136.02</td>\n",
       "      <td>360.37</td>\n",
       "      <td>2</td>\n",
       "    </tr>\n",
       "    <tr>\n",
       "      <th>1</th>\n",
       "      <td>9091</td>\n",
       "      <td>Zero</td>\n",
       "      <td>45-50</td>\n",
       "      <td>Partner</td>\n",
       "      <td>Secretarial/Admin</td>\n",
       "      <td>Professional</td>\n",
       "      <td>Own Home</td>\n",
       "      <td>&gt;=35,000</td>\n",
       "      <td>No</td>\n",
       "      <td>No</td>\n",
       "      <td>1997</td>\n",
       "      <td>Meridian</td>\n",
       "      <td>L40 2AG</td>\n",
       "      <td>L40</td>\n",
       "      <td>35.98</td>\n",
       "      <td>74.48</td>\n",
       "      <td>0.00</td>\n",
       "      <td>99.96</td>\n",
       "      <td>10.99</td>\n",
       "      <td>48.45</td>\n",
       "      <td>15.99</td>\n",
       "      <td>0.00</td>\n",
       "      <td>0.00</td>\n",
       "      <td>0.00</td>\n",
       "      <td>18.99</td>\n",
       "      <td>Female</td>\n",
       "      <td>North West</td>\n",
       "      <td>44.28</td>\n",
       "      <td>13.91</td>\n",
       "      <td>29.23</td>\n",
       "      <td>89.22</td>\n",
       "      <td>2</td>\n",
       "    </tr>\n",
       "    <tr>\n",
       "      <th>2</th>\n",
       "      <td>9744</td>\n",
       "      <td>1</td>\n",
       "      <td>36-40</td>\n",
       "      <td>Partner</td>\n",
       "      <td>Manual Worker</td>\n",
       "      <td>Manual Worker</td>\n",
       "      <td>Rent Privately</td>\n",
       "      <td>&lt;22,500, &gt;=20,000</td>\n",
       "      <td>Yes</td>\n",
       "      <td>Yes</td>\n",
       "      <td>1996</td>\n",
       "      <td>HTV</td>\n",
       "      <td>TA19 9PT</td>\n",
       "      <td>TA19</td>\n",
       "      <td>0.00</td>\n",
       "      <td>24.46</td>\n",
       "      <td>0.00</td>\n",
       "      <td>18.44</td>\n",
       "      <td>0.00</td>\n",
       "      <td>0.00</td>\n",
       "      <td>0.02</td>\n",
       "      <td>10.46</td>\n",
       "      <td>0.00</td>\n",
       "      <td>0.00</td>\n",
       "      <td>0.00</td>\n",
       "      <td>Female</td>\n",
       "      <td>South West</td>\n",
       "      <td>8.58</td>\n",
       "      <td>1.75</td>\n",
       "      <td>4.82</td>\n",
       "      <td>14.50</td>\n",
       "      <td>2</td>\n",
       "    </tr>\n",
       "    <tr>\n",
       "      <th>3</th>\n",
       "      <td>10700</td>\n",
       "      <td>2</td>\n",
       "      <td>31-35</td>\n",
       "      <td>Partner</td>\n",
       "      <td>Manual Worker</td>\n",
       "      <td>Manual Worker</td>\n",
       "      <td>Own Home</td>\n",
       "      <td>&lt;25,000, &gt;=22,500</td>\n",
       "      <td>No</td>\n",
       "      <td>No</td>\n",
       "      <td>1990</td>\n",
       "      <td>Scottish TV</td>\n",
       "      <td>FK2 9NG</td>\n",
       "      <td>FK2</td>\n",
       "      <td>44.99</td>\n",
       "      <td>0.00</td>\n",
       "      <td>0.00</td>\n",
       "      <td>0.00</td>\n",
       "      <td>29.99</td>\n",
       "      <td>0.00</td>\n",
       "      <td>0.00</td>\n",
       "      <td>0.00</td>\n",
       "      <td>0.00</td>\n",
       "      <td>0.00</td>\n",
       "      <td>0.00</td>\n",
       "      <td>Female</td>\n",
       "      <td>Scotland</td>\n",
       "      <td>15.00</td>\n",
       "      <td>0.00</td>\n",
       "      <td>5.00</td>\n",
       "      <td>68.98</td>\n",
       "      <td>2</td>\n",
       "    </tr>\n",
       "    <tr>\n",
       "      <th>4</th>\n",
       "      <td>1987</td>\n",
       "      <td>Zero</td>\n",
       "      <td>55-60</td>\n",
       "      <td>Partner</td>\n",
       "      <td>Housewife</td>\n",
       "      <td>Professional</td>\n",
       "      <td>Own Home</td>\n",
       "      <td>&gt;=35,000</td>\n",
       "      <td>No</td>\n",
       "      <td>No</td>\n",
       "      <td>1989</td>\n",
       "      <td>Yorkshire</td>\n",
       "      <td>LS23 7DJ</td>\n",
       "      <td>LS23</td>\n",
       "      <td>0.00</td>\n",
       "      <td>0.00</td>\n",
       "      <td>0.00</td>\n",
       "      <td>0.00</td>\n",
       "      <td>0.00</td>\n",
       "      <td>0.00</td>\n",
       "      <td>0.00</td>\n",
       "      <td>9.98</td>\n",
       "      <td>0.00</td>\n",
       "      <td>0.00</td>\n",
       "      <td>0.00</td>\n",
       "      <td>Female</td>\n",
       "      <td>Unknown</td>\n",
       "      <td>0.00</td>\n",
       "      <td>1.66</td>\n",
       "      <td>1.66</td>\n",
       "      <td>1.88</td>\n",
       "      <td>2</td>\n",
       "    </tr>\n",
       "    <tr>\n",
       "      <th>5</th>\n",
       "      <td>3309</td>\n",
       "      <td>Zero</td>\n",
       "      <td>45-50</td>\n",
       "      <td>Partner</td>\n",
       "      <td>Secretarial/Admin</td>\n",
       "      <td>Business Manager</td>\n",
       "      <td>Own Home</td>\n",
       "      <td>&gt;=35,000</td>\n",
       "      <td>No</td>\n",
       "      <td>No</td>\n",
       "      <td>1984</td>\n",
       "      <td>Ulster</td>\n",
       "      <td>BT17 9NA</td>\n",
       "      <td>BT17</td>\n",
       "      <td>9.49</td>\n",
       "      <td>0.01</td>\n",
       "      <td>0.00</td>\n",
       "      <td>0.51</td>\n",
       "      <td>55.89</td>\n",
       "      <td>0.00</td>\n",
       "      <td>28.98</td>\n",
       "      <td>0.00</td>\n",
       "      <td>0.00</td>\n",
       "      <td>0.00</td>\n",
       "      <td>0.00</td>\n",
       "      <td>Female</td>\n",
       "      <td>Northern Ireland</td>\n",
       "      <td>13.18</td>\n",
       "      <td>4.83</td>\n",
       "      <td>14.23</td>\n",
       "      <td>33.62</td>\n",
       "      <td>2</td>\n",
       "    </tr>\n",
       "    <tr>\n",
       "      <th>6</th>\n",
       "      <td>6610</td>\n",
       "      <td>Zero</td>\n",
       "      <td>36-40</td>\n",
       "      <td>Partner</td>\n",
       "      <td>Secretarial/Admin</td>\n",
       "      <td>Secretarial/Admin</td>\n",
       "      <td>Own Home</td>\n",
       "      <td>&lt;30,000, &gt;=27,500</td>\n",
       "      <td>Yes</td>\n",
       "      <td>No</td>\n",
       "      <td>1986</td>\n",
       "      <td>Central</td>\n",
       "      <td>B62 8TF</td>\n",
       "      <td>B62</td>\n",
       "      <td>9.99</td>\n",
       "      <td>0.00</td>\n",
       "      <td>0.00</td>\n",
       "      <td>0.00</td>\n",
       "      <td>0.00</td>\n",
       "      <td>26.96</td>\n",
       "      <td>22.99</td>\n",
       "      <td>80.42</td>\n",
       "      <td>1.00</td>\n",
       "      <td>3.99</td>\n",
       "      <td>5.49</td>\n",
       "      <td>Female</td>\n",
       "      <td>West Midlands</td>\n",
       "      <td>2.00</td>\n",
       "      <td>23.48</td>\n",
       "      <td>21.90</td>\n",
       "      <td>13.12</td>\n",
       "      <td>2</td>\n",
       "    </tr>\n",
       "    <tr>\n",
       "      <th>7</th>\n",
       "      <td>10621</td>\n",
       "      <td>Zero</td>\n",
       "      <td>61-65</td>\n",
       "      <td>Partner</td>\n",
       "      <td>Retired</td>\n",
       "      <td>Retired</td>\n",
       "      <td>Own Home</td>\n",
       "      <td>&lt;20,000, &gt;=17,500</td>\n",
       "      <td>No</td>\n",
       "      <td>No</td>\n",
       "      <td>1998</td>\n",
       "      <td>Granada</td>\n",
       "      <td>PR8 2TY</td>\n",
       "      <td>PR8</td>\n",
       "      <td>0.00</td>\n",
       "      <td>0.00</td>\n",
       "      <td>0.00</td>\n",
       "      <td>0.00</td>\n",
       "      <td>0.00</td>\n",
       "      <td>0.00</td>\n",
       "      <td>0.00</td>\n",
       "      <td>29.95</td>\n",
       "      <td>0.00</td>\n",
       "      <td>0.00</td>\n",
       "      <td>0.00</td>\n",
       "      <td>Male</td>\n",
       "      <td>North West</td>\n",
       "      <td>0.00</td>\n",
       "      <td>4.99</td>\n",
       "      <td>4.99</td>\n",
       "      <td>15.74</td>\n",
       "      <td>2</td>\n",
       "    </tr>\n",
       "    <tr>\n",
       "      <th>8</th>\n",
       "      <td>2630</td>\n",
       "      <td>1</td>\n",
       "      <td>45-50</td>\n",
       "      <td>Partner</td>\n",
       "      <td>Professional</td>\n",
       "      <td>Professional</td>\n",
       "      <td>Own Home</td>\n",
       "      <td>&gt;=35,000</td>\n",
       "      <td>No</td>\n",
       "      <td>No</td>\n",
       "      <td>1980</td>\n",
       "      <td>Unknown</td>\n",
       "      <td>CF15 9TH</td>\n",
       "      <td>CF15</td>\n",
       "      <td>0.00</td>\n",
       "      <td>82.96</td>\n",
       "      <td>0.00</td>\n",
       "      <td>40.47</td>\n",
       "      <td>12.49</td>\n",
       "      <td>0.00</td>\n",
       "      <td>28.97</td>\n",
       "      <td>0.00</td>\n",
       "      <td>0.00</td>\n",
       "      <td>0.00</td>\n",
       "      <td>0.00</td>\n",
       "      <td>Female</td>\n",
       "      <td>Unknown</td>\n",
       "      <td>27.18</td>\n",
       "      <td>4.83</td>\n",
       "      <td>13.66</td>\n",
       "      <td>36.05</td>\n",
       "      <td>2</td>\n",
       "    </tr>\n",
       "    <tr>\n",
       "      <th>9</th>\n",
       "      <td>9356</td>\n",
       "      <td>3</td>\n",
       "      <td>36-40</td>\n",
       "      <td>Partner</td>\n",
       "      <td>Professional</td>\n",
       "      <td>Housewife</td>\n",
       "      <td>Own Home</td>\n",
       "      <td>&lt;27,500, &gt;=25,000</td>\n",
       "      <td>Yes</td>\n",
       "      <td>No</td>\n",
       "      <td>1997</td>\n",
       "      <td>Meridian</td>\n",
       "      <td>M13 9BG</td>\n",
       "      <td>M13</td>\n",
       "      <td>0.00</td>\n",
       "      <td>0.00</td>\n",
       "      <td>0.00</td>\n",
       "      <td>0.00</td>\n",
       "      <td>0.00</td>\n",
       "      <td>0.00</td>\n",
       "      <td>15.99</td>\n",
       "      <td>0.00</td>\n",
       "      <td>24.47</td>\n",
       "      <td>0.00</td>\n",
       "      <td>0.00</td>\n",
       "      <td>Male</td>\n",
       "      <td>North West</td>\n",
       "      <td>0.00</td>\n",
       "      <td>6.74</td>\n",
       "      <td>6.74</td>\n",
       "      <td>8.60</td>\n",
       "      <td>2</td>\n",
       "    </tr>\n",
       "  </tbody>\n",
       "</table>\n",
       "</div>"
      ],
      "text/plain": [
       "   REF_NO children age_band   status         occupation occupation_partner  \\\n",
       "0    5466        2    31-35  Partner       Professional       Professional   \n",
       "1    9091     Zero    45-50  Partner  Secretarial/Admin       Professional   \n",
       "2    9744        1    36-40  Partner      Manual Worker      Manual Worker   \n",
       "3   10700        2    31-35  Partner      Manual Worker      Manual Worker   \n",
       "4    1987     Zero    55-60  Partner          Housewife       Professional   \n",
       "5    3309     Zero    45-50  Partner  Secretarial/Admin   Business Manager   \n",
       "6    6610     Zero    36-40  Partner  Secretarial/Admin  Secretarial/Admin   \n",
       "7   10621     Zero    61-65  Partner            Retired            Retired   \n",
       "8    2630        1    45-50  Partner       Professional       Professional   \n",
       "9    9356        3    36-40  Partner       Professional          Housewife   \n",
       "\n",
       "      home_status      family_income self_employed self_employed_partner  \\\n",
       "0        Own Home           >=35,000            No                    No   \n",
       "1        Own Home           >=35,000            No                    No   \n",
       "2  Rent Privately  <22,500, >=20,000           Yes                   Yes   \n",
       "3        Own Home  <25,000, >=22,500            No                    No   \n",
       "4        Own Home           >=35,000            No                    No   \n",
       "5        Own Home           >=35,000            No                    No   \n",
       "6        Own Home  <30,000, >=27,500           Yes                    No   \n",
       "7        Own Home  <20,000, >=17,500            No                    No   \n",
       "8        Own Home           >=35,000            No                    No   \n",
       "9        Own Home  <27,500, >=25,000           Yes                    No   \n",
       "\n",
       "   year_last_moved       TVarea post_code post_area  \\\n",
       "0             1981     Meridian   M51 0GU       M51   \n",
       "1             1997     Meridian   L40 2AG       L40   \n",
       "2             1996          HTV  TA19 9PT      TA19   \n",
       "3             1990  Scottish TV   FK2 9NG       FK2   \n",
       "4             1989    Yorkshire  LS23 7DJ      LS23   \n",
       "5             1984       Ulster  BT17 9NA      BT17   \n",
       "6             1986      Central   B62 8TF       B62   \n",
       "7             1998      Granada   PR8 2TY       PR8   \n",
       "8             1980      Unknown  CF15 9TH      CF15   \n",
       "9             1997     Meridian   M13 9BG       M13   \n",
       "\n",
       "   Average_Credit_Card_Transaction  Balance_Transfer  Term_Deposit  \\\n",
       "0                            26.98             29.99        312.25   \n",
       "1                            35.98             74.48          0.00   \n",
       "2                             0.00             24.46          0.00   \n",
       "3                            44.99              0.00          0.00   \n",
       "4                             0.00              0.00          0.00   \n",
       "5                             9.49              0.01          0.00   \n",
       "6                             9.99              0.00          0.00   \n",
       "7                             0.00              0.00          0.00   \n",
       "8                             0.00             82.96          0.00   \n",
       "9                             0.00              0.00          0.00   \n",
       "\n",
       "   Life_Insurance  Medical_Insurance  Average_A/C_Balance  Personal_Loan  \\\n",
       "0          299.79              88.72               108.85         175.43   \n",
       "1           99.96              10.99                48.45          15.99   \n",
       "2           18.44               0.00                 0.00           0.02   \n",
       "3            0.00              29.99                 0.00           0.00   \n",
       "4            0.00               0.00                 0.00           0.00   \n",
       "5            0.51              55.89                 0.00          28.98   \n",
       "6            0.00               0.00                26.96          22.99   \n",
       "7            0.00               0.00                 0.00           0.00   \n",
       "8           40.47              12.49                 0.00          28.97   \n",
       "9            0.00               0.00                 0.00          15.99   \n",
       "\n",
       "   Investment_in_Mutual_Fund  Investment_Tax_Saving_Bond  Home_Loan  \\\n",
       "0                     134.35                        8.98      55.44   \n",
       "1                       0.00                        0.00       0.00   \n",
       "2                      10.46                        0.00       0.00   \n",
       "3                       0.00                        0.00       0.00   \n",
       "4                       9.98                        0.00       0.00   \n",
       "5                       0.00                        0.00       0.00   \n",
       "6                      80.42                        1.00       3.99   \n",
       "7                      29.95                        0.00       0.00   \n",
       "8                       0.00                        0.00       0.00   \n",
       "9                       0.00                       24.47       0.00   \n",
       "\n",
       "   Online_Purchase_Amount  gender            region  Investment_in_Commudity  \\\n",
       "0                    7.68  Female        North West                   151.55   \n",
       "1                   18.99  Female        North West                    44.28   \n",
       "2                    0.00  Female        South West                     8.58   \n",
       "3                    0.00  Female          Scotland                    15.00   \n",
       "4                    0.00  Female           Unknown                     0.00   \n",
       "5                    0.00  Female  Northern Ireland                    13.18   \n",
       "6                    5.49  Female     West Midlands                     2.00   \n",
       "7                    0.00    Male        North West                     0.00   \n",
       "8                    0.00  Female           Unknown                    27.18   \n",
       "9                    0.00    Male        North West                     0.00   \n",
       "\n",
       "   Investment_in_Equity  Investment_in_Derivative  Portfolio_Balance  \\\n",
       "0                 81.79                    136.02             360.37   \n",
       "1                 13.91                     29.23              89.22   \n",
       "2                  1.75                      4.82              14.50   \n",
       "3                  0.00                      5.00              68.98   \n",
       "4                  1.66                      1.66               1.88   \n",
       "5                  4.83                     14.23              33.62   \n",
       "6                 23.48                     21.90              13.12   \n",
       "7                  4.99                      4.99              15.74   \n",
       "8                  4.83                     13.66              36.05   \n",
       "9                  6.74                      6.74               8.60   \n",
       "\n",
       "   Revenue_Grid  \n",
       "0             2  \n",
       "1             2  \n",
       "2             2  \n",
       "3             2  \n",
       "4             2  \n",
       "5             2  \n",
       "6             2  \n",
       "7             2  \n",
       "8             2  \n",
       "9             2  "
      ]
     },
     "execution_count": 5,
     "metadata": {},
     "output_type": "execute_result"
    }
   ],
   "source": [
    "# Acquiring Data from \"https://raw.githubusercontent.com/Mihir-Ai-lab/Academic-Projects/main/ML%20Projects/AE%20Corp\"\n",
    "\n",
    "print('\\n' + '-'*25 + '\\n')\n",
    "print('Acquiring Data' + '\\n' + 'Loaded Dataset: df_train & df_test')\n",
    "print('\\n' + '-'*25 + '\\n')\n",
    "\n",
    "df_train = pd.read_csv(filepath_or_buffer = 'https://raw.githubusercontent.com/Mihir-Ai-lab/Insaid/main/ML%20Projects/AE%20Corp/existing_base_train.csv')\n",
    "df_test = pd.read_csv(filepath_or_buffer = 'https://raw.githubusercontent.com/Mihir-Ai-lab/Insaid/main/ML%20Projects/AE%20Corp/existing_base_test.csv')\n",
    "\n",
    "# Checking Shape & Head\n",
    "\n",
    "print('Training Data Shape:',df_train.shape)\n",
    "print('Test Data Shape:',df_test.shape)\n",
    "print('\\n' + '-'*25 + '\\n')\n",
    "print('Training Data Head')\n",
    "print('\\n' + '-'*10 + '\\n')\n",
    "df_train.head(10)"
   ]
  },
  {
   "cell_type": "markdown",
   "metadata": {
    "colab_type": "text",
    "id": "FfkdFrL_qMPn",
    "tags": []
   },
   "source": [
    "<a name = Section42></a>\n",
    "### **4.2 Data Description**"
   ]
  },
  {
   "cell_type": "code",
   "execution_count": 6,
   "metadata": {
    "colab": {},
    "colab_type": "code",
    "id": "cLs4jsSuqJjC"
   },
   "outputs": [
    {
     "data": {
      "text/html": [
       "<div>\n",
       "<style scoped>\n",
       "    .dataframe tbody tr th:only-of-type {\n",
       "        vertical-align: middle;\n",
       "    }\n",
       "\n",
       "    .dataframe tbody tr th {\n",
       "        vertical-align: top;\n",
       "    }\n",
       "\n",
       "    .dataframe thead th {\n",
       "        text-align: right;\n",
       "    }\n",
       "</style>\n",
       "<table border=\"1\" class=\"dataframe\">\n",
       "  <thead>\n",
       "    <tr style=\"text-align: right;\">\n",
       "      <th></th>\n",
       "      <th>REF_NO</th>\n",
       "      <th>year_last_moved</th>\n",
       "      <th>Average_Credit_Card_Transaction</th>\n",
       "      <th>Balance_Transfer</th>\n",
       "      <th>Term_Deposit</th>\n",
       "      <th>Life_Insurance</th>\n",
       "      <th>Medical_Insurance</th>\n",
       "      <th>Average_A/C_Balance</th>\n",
       "      <th>Personal_Loan</th>\n",
       "      <th>Investment_in_Mutual_Fund</th>\n",
       "      <th>Investment_Tax_Saving_Bond</th>\n",
       "      <th>Home_Loan</th>\n",
       "      <th>Online_Purchase_Amount</th>\n",
       "      <th>Investment_in_Commudity</th>\n",
       "      <th>Investment_in_Equity</th>\n",
       "      <th>Investment_in_Derivative</th>\n",
       "      <th>Portfolio_Balance</th>\n",
       "      <th>Revenue_Grid</th>\n",
       "    </tr>\n",
       "  </thead>\n",
       "  <tbody>\n",
       "    <tr>\n",
       "      <th>count</th>\n",
       "      <td>8124.00</td>\n",
       "      <td>8124.00</td>\n",
       "      <td>8124.00</td>\n",
       "      <td>8124.00</td>\n",
       "      <td>8124.00</td>\n",
       "      <td>8124.00</td>\n",
       "      <td>8124.00</td>\n",
       "      <td>8124.00</td>\n",
       "      <td>8124.00</td>\n",
       "      <td>8124.00</td>\n",
       "      <td>8124.00</td>\n",
       "      <td>8124.00</td>\n",
       "      <td>8124.00</td>\n",
       "      <td>8124.00</td>\n",
       "      <td>8124.00</td>\n",
       "      <td>8124.00</td>\n",
       "      <td>8124.00</td>\n",
       "      <td>8124.00</td>\n",
       "    </tr>\n",
       "    <tr>\n",
       "      <th>mean</th>\n",
       "      <td>5797.34</td>\n",
       "      <td>1967.88</td>\n",
       "      <td>23.25</td>\n",
       "      <td>46.08</td>\n",
       "      <td>27.28</td>\n",
       "      <td>65.32</td>\n",
       "      <td>18.83</td>\n",
       "      <td>31.84</td>\n",
       "      <td>25.42</td>\n",
       "      <td>41.72</td>\n",
       "      <td>6.06</td>\n",
       "      <td>4.42</td>\n",
       "      <td>19.20</td>\n",
       "      <td>36.15</td>\n",
       "      <td>21.44</td>\n",
       "      <td>31.53</td>\n",
       "      <td>89.35</td>\n",
       "      <td>1.89</td>\n",
       "    </tr>\n",
       "    <tr>\n",
       "      <th>std</th>\n",
       "      <td>3322.50</td>\n",
       "      <td>182.56</td>\n",
       "      <td>51.15</td>\n",
       "      <td>79.08</td>\n",
       "      <td>54.13</td>\n",
       "      <td>95.76</td>\n",
       "      <td>32.02</td>\n",
       "      <td>45.25</td>\n",
       "      <td>85.13</td>\n",
       "      <td>64.42</td>\n",
       "      <td>12.67</td>\n",
       "      <td>9.95</td>\n",
       "      <td>92.34</td>\n",
       "      <td>42.47</td>\n",
       "      <td>32.26</td>\n",
       "      <td>39.48</td>\n",
       "      <td>108.30</td>\n",
       "      <td>0.31</td>\n",
       "    </tr>\n",
       "    <tr>\n",
       "      <th>min</th>\n",
       "      <td>2.00</td>\n",
       "      <td>0.00</td>\n",
       "      <td>0.00</td>\n",
       "      <td>0.00</td>\n",
       "      <td>0.00</td>\n",
       "      <td>0.00</td>\n",
       "      <td>0.00</td>\n",
       "      <td>0.00</td>\n",
       "      <td>0.00</td>\n",
       "      <td>0.00</td>\n",
       "      <td>0.00</td>\n",
       "      <td>0.00</td>\n",
       "      <td>0.00</td>\n",
       "      <td>0.00</td>\n",
       "      <td>0.00</td>\n",
       "      <td>0.00</td>\n",
       "      <td>-78.43</td>\n",
       "      <td>1.00</td>\n",
       "    </tr>\n",
       "    <tr>\n",
       "      <th>25%</th>\n",
       "      <td>2924.75</td>\n",
       "      <td>1978.00</td>\n",
       "      <td>0.00</td>\n",
       "      <td>0.00</td>\n",
       "      <td>0.00</td>\n",
       "      <td>0.00</td>\n",
       "      <td>0.00</td>\n",
       "      <td>0.00</td>\n",
       "      <td>0.00</td>\n",
       "      <td>0.00</td>\n",
       "      <td>0.00</td>\n",
       "      <td>0.00</td>\n",
       "      <td>0.00</td>\n",
       "      <td>8.28</td>\n",
       "      <td>4.66</td>\n",
       "      <td>8.74</td>\n",
       "      <td>26.28</td>\n",
       "      <td>2.00</td>\n",
       "    </tr>\n",
       "    <tr>\n",
       "      <th>50%</th>\n",
       "      <td>5811.50</td>\n",
       "      <td>1988.00</td>\n",
       "      <td>0.00</td>\n",
       "      <td>17.48</td>\n",
       "      <td>0.00</td>\n",
       "      <td>31.48</td>\n",
       "      <td>0.01</td>\n",
       "      <td>14.98</td>\n",
       "      <td>0.00</td>\n",
       "      <td>23.48</td>\n",
       "      <td>0.00</td>\n",
       "      <td>0.00</td>\n",
       "      <td>0.00</td>\n",
       "      <td>23.59</td>\n",
       "      <td>12.82</td>\n",
       "      <td>21.14</td>\n",
       "      <td>65.56</td>\n",
       "      <td>2.00</td>\n",
       "    </tr>\n",
       "    <tr>\n",
       "      <th>75%</th>\n",
       "      <td>8681.50</td>\n",
       "      <td>1994.00</td>\n",
       "      <td>23.48</td>\n",
       "      <td>64.99</td>\n",
       "      <td>34.49</td>\n",
       "      <td>92.89</td>\n",
       "      <td>26.97</td>\n",
       "      <td>45.92</td>\n",
       "      <td>20.83</td>\n",
       "      <td>59.44</td>\n",
       "      <td>5.49</td>\n",
       "      <td>4.49</td>\n",
       "      <td>7.48</td>\n",
       "      <td>49.80</td>\n",
       "      <td>27.97</td>\n",
       "      <td>42.39</td>\n",
       "      <td>123.97</td>\n",
       "      <td>2.00</td>\n",
       "    </tr>\n",
       "    <tr>\n",
       "      <th>max</th>\n",
       "      <td>11518.00</td>\n",
       "      <td>1999.00</td>\n",
       "      <td>662.26</td>\n",
       "      <td>2951.76</td>\n",
       "      <td>784.82</td>\n",
       "      <td>2930.41</td>\n",
       "      <td>591.04</td>\n",
       "      <td>626.24</td>\n",
       "      <td>4905.93</td>\n",
       "      <td>2561.27</td>\n",
       "      <td>156.87</td>\n",
       "      <td>162.35</td>\n",
       "      <td>4306.42</td>\n",
       "      <td>1231.09</td>\n",
       "      <td>1279.10</td>\n",
       "      <td>1771.16</td>\n",
       "      <td>4283.56</td>\n",
       "      <td>2.00</td>\n",
       "    </tr>\n",
       "  </tbody>\n",
       "</table>\n",
       "</div>"
      ],
      "text/plain": [
       "        REF_NO  year_last_moved  Average_Credit_Card_Transaction  \\\n",
       "count  8124.00          8124.00                          8124.00   \n",
       "mean   5797.34          1967.88                            23.25   \n",
       "std    3322.50           182.56                            51.15   \n",
       "min       2.00             0.00                             0.00   \n",
       "25%    2924.75          1978.00                             0.00   \n",
       "50%    5811.50          1988.00                             0.00   \n",
       "75%    8681.50          1994.00                            23.48   \n",
       "max   11518.00          1999.00                           662.26   \n",
       "\n",
       "       Balance_Transfer  Term_Deposit  Life_Insurance  Medical_Insurance  \\\n",
       "count           8124.00       8124.00         8124.00            8124.00   \n",
       "mean              46.08         27.28           65.32              18.83   \n",
       "std               79.08         54.13           95.76              32.02   \n",
       "min                0.00          0.00            0.00               0.00   \n",
       "25%                0.00          0.00            0.00               0.00   \n",
       "50%               17.48          0.00           31.48               0.01   \n",
       "75%               64.99         34.49           92.89              26.97   \n",
       "max             2951.76        784.82         2930.41             591.04   \n",
       "\n",
       "       Average_A/C_Balance  Personal_Loan  Investment_in_Mutual_Fund  \\\n",
       "count              8124.00        8124.00                    8124.00   \n",
       "mean                 31.84          25.42                      41.72   \n",
       "std                  45.25          85.13                      64.42   \n",
       "min                   0.00           0.00                       0.00   \n",
       "25%                   0.00           0.00                       0.00   \n",
       "50%                  14.98           0.00                      23.48   \n",
       "75%                  45.92          20.83                      59.44   \n",
       "max                 626.24        4905.93                    2561.27   \n",
       "\n",
       "       Investment_Tax_Saving_Bond  Home_Loan  Online_Purchase_Amount  \\\n",
       "count                     8124.00    8124.00                 8124.00   \n",
       "mean                         6.06       4.42                   19.20   \n",
       "std                         12.67       9.95                   92.34   \n",
       "min                          0.00       0.00                    0.00   \n",
       "25%                          0.00       0.00                    0.00   \n",
       "50%                          0.00       0.00                    0.00   \n",
       "75%                          5.49       4.49                    7.48   \n",
       "max                        156.87     162.35                 4306.42   \n",
       "\n",
       "       Investment_in_Commudity  Investment_in_Equity  \\\n",
       "count                  8124.00               8124.00   \n",
       "mean                     36.15                 21.44   \n",
       "std                      42.47                 32.26   \n",
       "min                       0.00                  0.00   \n",
       "25%                       8.28                  4.66   \n",
       "50%                      23.59                 12.82   \n",
       "75%                      49.80                 27.97   \n",
       "max                    1231.09               1279.10   \n",
       "\n",
       "       Investment_in_Derivative  Portfolio_Balance  Revenue_Grid  \n",
       "count                   8124.00            8124.00       8124.00  \n",
       "mean                      31.53              89.35          1.89  \n",
       "std                       39.48             108.30          0.31  \n",
       "min                        0.00             -78.43          1.00  \n",
       "25%                        8.74              26.28          2.00  \n",
       "50%                       21.14              65.56          2.00  \n",
       "75%                       42.39             123.97          2.00  \n",
       "max                     1771.16            4283.56          2.00  "
      ]
     },
     "execution_count": 6,
     "metadata": {},
     "output_type": "execute_result"
    }
   ],
   "source": [
    "df_train.describe()"
   ]
  },
  {
   "cell_type": "markdown",
   "metadata": {
    "colab_type": "text",
    "id": "lM-hljKpqXsp"
   },
   "source": [
    "<a name = Section43></a>\n",
    "### **4.3 Data Information**"
   ]
  },
  {
   "cell_type": "code",
   "execution_count": 7,
   "metadata": {
    "colab": {},
    "colab_type": "code",
    "id": "aPYZy6voqXc4"
   },
   "outputs": [
    {
     "name": "stdout",
     "output_type": "stream",
     "text": [
      "<class 'pandas.core.frame.DataFrame'>\n",
      "RangeIndex: 8124 entries, 0 to 8123\n",
      "Data columns (total 32 columns):\n",
      " #   Column                           Non-Null Count  Dtype  \n",
      "---  ------                           --------------  -----  \n",
      " 0   REF_NO                           8124 non-null   int64  \n",
      " 1   children                         8124 non-null   object \n",
      " 2   age_band                         8124 non-null   object \n",
      " 3   status                           8124 non-null   object \n",
      " 4   occupation                       8124 non-null   object \n",
      " 5   occupation_partner               8124 non-null   object \n",
      " 6   home_status                      8124 non-null   object \n",
      " 7   family_income                    8124 non-null   object \n",
      " 8   self_employed                    8124 non-null   object \n",
      " 9   self_employed_partner            8124 non-null   object \n",
      " 10  year_last_moved                  8124 non-null   int64  \n",
      " 11  TVarea                           8124 non-null   object \n",
      " 12  post_code                        8124 non-null   object \n",
      " 13  post_area                        8124 non-null   object \n",
      " 14  Average_Credit_Card_Transaction  8124 non-null   float64\n",
      " 15  Balance_Transfer                 8124 non-null   float64\n",
      " 16  Term_Deposit                     8124 non-null   float64\n",
      " 17  Life_Insurance                   8124 non-null   float64\n",
      " 18  Medical_Insurance                8124 non-null   float64\n",
      " 19  Average_A/C_Balance              8124 non-null   float64\n",
      " 20  Personal_Loan                    8124 non-null   float64\n",
      " 21  Investment_in_Mutual_Fund        8124 non-null   float64\n",
      " 22  Investment_Tax_Saving_Bond       8124 non-null   float64\n",
      " 23  Home_Loan                        8124 non-null   float64\n",
      " 24  Online_Purchase_Amount           8124 non-null   float64\n",
      " 25  gender                           8124 non-null   object \n",
      " 26  region                           8124 non-null   object \n",
      " 27  Investment_in_Commudity          8124 non-null   float64\n",
      " 28  Investment_in_Equity             8124 non-null   float64\n",
      " 29  Investment_in_Derivative         8124 non-null   float64\n",
      " 30  Portfolio_Balance                8124 non-null   float64\n",
      " 31  Revenue_Grid                     8124 non-null   int64  \n",
      "dtypes: float64(15), int64(3), object(14)\n",
      "memory usage: 2.0+ MB\n"
     ]
    }
   ],
   "source": [
    "df_train.info()"
   ]
  },
  {
   "cell_type": "markdown",
   "metadata": {
    "colab_type": "text",
    "id": "efZ8svauqc55"
   },
   "source": [
    "---\n",
    "<a name = Section5></a>\n",
    "# **5. Data Pre-Profiling**"
   ]
  },
  {
   "cell_type": "code",
   "execution_count": 8,
   "metadata": {
    "id": "ygMiQoANppfb"
   },
   "outputs": [
    {
     "name": "stdout",
     "output_type": "stream",
     "text": [
      "\n",
      "----------------------------------------\n",
      "\n",
      "AE Corp Pre-profile Report Generated\n",
      "\n",
      "----------------------------------------\n",
      "\n"
     ]
    }
   ],
   "source": [
    "# Detailed Profile Report of training Data for univariate analysis\n",
    "\n",
    "profile = ProfileReport(df=df_train) \n",
    "\n",
    "print('\\n' + '-'*40 + '\\n')\n",
    "print('AE Corp Pre-profile Report Generated')\n",
    "print('\\n' + '-'*40 + '\\n')"
   ]
  },
  {
   "cell_type": "code",
   "execution_count": 9,
   "metadata": {
    "tags": []
   },
   "outputs": [
    {
     "data": {
      "application/vnd.jupyter.widget-view+json": {
       "model_id": "8dba66a3823c43e588ea67bcf73aff15",
       "version_major": 2,
       "version_minor": 0
      },
      "text/plain": [
       "Summarize dataset:   0%|          | 0/5 [00:00<?, ?it/s]"
      ]
     },
     "metadata": {},
     "output_type": "display_data"
    },
    {
     "data": {
      "application/vnd.jupyter.widget-view+json": {
       "model_id": "aa22e5ceb3da4a4a88ac6223fa773a1b",
       "version_major": 2,
       "version_minor": 0
      },
      "text/plain": [
       "Generate report structure:   0%|          | 0/1 [00:00<?, ?it/s]"
      ]
     },
     "metadata": {},
     "output_type": "display_data"
    },
    {
     "data": {
      "application/vnd.jupyter.widget-view+json": {
       "model_id": "b74083344e5441a482b88638dbe81bc7",
       "version_major": 2,
       "version_minor": 0
      },
      "text/plain": [
       "Render HTML:   0%|          | 0/1 [00:00<?, ?it/s]"
      ]
     },
     "metadata": {},
     "output_type": "display_data"
    },
    {
     "data": {
      "application/vnd.jupyter.widget-view+json": {
       "model_id": "05022b93385e4e449c769c15af73f0ce",
       "version_major": 2,
       "version_minor": 0
      },
      "text/plain": [
       "Export report to file:   0%|          | 0/1 [00:00<?, ?it/s]"
      ]
     },
     "metadata": {},
     "output_type": "display_data"
    }
   ],
   "source": [
    "# Loading profile report to file for record keeping\n",
    "\n",
    "profile.to_file(\"AEcorp_preprofile_report.html\")"
   ]
  },
  {
   "cell_type": "markdown",
   "metadata": {
    "colab_type": "text",
    "id": "YMvtK0X-qoe6"
   },
   "source": [
    "---\n",
    "<a name = Section6></a>\n",
    "# **6. Data Pre-Processing**"
   ]
  },
  {
   "cell_type": "code",
   "execution_count": 10,
   "metadata": {},
   "outputs": [],
   "source": [
    "# Making a copy of the Dataset incase it needs to be reffered back to\n",
    "df_train_og = df_train.copy(deep=True)\n",
    "df_test_og = df_test.copy(deep=True)"
   ]
  },
  {
   "cell_type": "code",
   "execution_count": 11,
   "metadata": {},
   "outputs": [],
   "source": [
    "# Define a dictionary to map the old column names to new standardized column names\n",
    "\n",
    "column_names = {\n",
    "    'REF_NO': 'ref_no',\n",
    "    'children': 'num_children',\n",
    "    'Age_band': 'age_group',\n",
    "    'status': 'marital_status',\n",
    "    'TVarea': 'tv_region',\n",
    "    'post_code': 'postcode',\n",
    "    'Average_Credit_Card_Transaction': 'avg_credit_card_txn',\n",
    "    'Balance_Transfer': 'balance_transfer',\n",
    "    'Term_Deposit': 'term_deposit',\n",
    "    'Life_Insurance': 'life_insurance',\n",
    "    'Medical_Insurance': 'medical_insurance',\n",
    "    'Average_A/C_Balance': 'avg_account_balance',\n",
    "    'Personal_Loan': 'personal_loan',\n",
    "    'Investment_in_Mutual_Fund': 'mutual_fund_investment',\n",
    "    'Investment_Tax_Saving_Bond': 'tax_saving_bond_investment',\n",
    "    'Home_Loan': 'home_loan',\n",
    "    'Online_Purchase_Amount': 'online_purchase_amount',\n",
    "    'Investment_in_Commudity': 'commodity_investment',\n",
    "    'Investment_in_Equity': 'equity_investment',\n",
    "    'Investment_in_Derivative': 'derivative_investment',\n",
    "    'Portfolio_Balance': 'portfolio_balance',\n",
    "    'Revenue_Grid': 'net_worth'\n",
    "}\n",
    "\n",
    "# Rename the columns of the train and test datasets\n",
    "df_train = df_train.rename(columns=column_names)\n",
    "df_test = df_test.rename(columns=column_names)"
   ]
  },
  {
   "cell_type": "code",
   "execution_count": 12,
   "metadata": {},
   "outputs": [
    {
     "name": "stdout",
     "output_type": "stream",
     "text": [
      "\n",
      "Having a look at unique Values in each Column\n",
      "\n",
      "--------------------------------------------------\n",
      "\n",
      "Column Name: ref_no\n",
      "\n",
      "Data Type: Numerical | Unique Values: 8124\n",
      "\n",
      "[  529  2536 10372  9698  8853  8105  9304  3031  6132  6035]\n",
      "\n",
      "----------------------------------------------------------------------\n",
      "\n",
      "Column Name: num_children\n",
      "\n",
      "Data Type: Categorical | Unique Values: 5\n",
      "\n",
      "['2' 'Zero' '1' '3' '4+']\n",
      "\n",
      "----------------------------------------------------------------------\n",
      "\n",
      "Column Name: age_band\n",
      "\n",
      "Data Type: Categorical | Unique Values: 13\n",
      "\n",
      "['31-35' '45-50' '36-40' '55-60' '61-65' '65-70' '41-45' '51-55' '26-30'\n",
      " '22-25' '71+' 'Unknown' '18-21']\n",
      "\n",
      "----------------------------------------------------------------------\n",
      "\n",
      "Column Name: marital_status\n",
      "\n",
      "Data Type: Categorical | Unique Values: 5\n",
      "\n",
      "['Partner' 'Divorced/Separated' 'Single/Never Married' 'Widowed' 'Unknown']\n",
      "\n",
      "----------------------------------------------------------------------\n",
      "\n",
      "Column Name: occupation\n",
      "\n",
      "Data Type: Categorical | Unique Values: 9\n",
      "\n",
      "['Professional' 'Secretarial/Admin' 'Manual Worker' 'Housewife' 'Retired'\n",
      " 'Other' 'Unknown' 'Business Manager' 'Student']\n",
      "\n",
      "----------------------------------------------------------------------\n",
      "\n",
      "Column Name: occupation_partner\n",
      "\n",
      "Data Type: Categorical | Unique Values: 9\n",
      "\n",
      "['Professional' 'Manual Worker' 'Business Manager' 'Secretarial/Admin'\n",
      " 'Retired' 'Housewife' 'Unknown' 'Other' 'Student']\n",
      "\n",
      "----------------------------------------------------------------------\n",
      "\n",
      "Column Name: home_status\n",
      "\n",
      "Data Type: Categorical | Unique Values: 5\n",
      "\n",
      "['Own Home' 'Rent Privately' 'Rent from Council/HA' 'Live in Parental Hom'\n",
      " 'Unclassified']\n",
      "\n",
      "----------------------------------------------------------------------\n",
      "\n",
      "Column Name: family_income\n",
      "\n",
      "Data Type: Categorical | Unique Values: 13\n",
      "\n",
      "['>=35,000' '<22,500, >=20,000' '<25,000, >=22,500' '<30,000, >=27,500'\n",
      " '<20,000, >=17,500' '<27,500, >=25,000' '< 4,000' '<15,000, >=12,500'\n",
      " '<17,500, >=15,000' '< 8,000, >= 4,000' '<12,500, >=10,000'\n",
      " '<10,000, >= 8,000' 'Unknown']\n",
      "\n",
      "----------------------------------------------------------------------\n",
      "\n",
      "Column Name: self_employed\n",
      "\n",
      "Data Type: Categorical | Unique Values: 2\n",
      "\n",
      "['No' 'Yes']\n",
      "\n",
      "----------------------------------------------------------------------\n",
      "\n",
      "Column Name: self_employed_partner\n",
      "\n",
      "Data Type: Categorical | Unique Values: 2\n",
      "\n",
      "['No' 'Yes']\n",
      "\n",
      "----------------------------------------------------------------------\n",
      "\n",
      "Column Name: year_last_moved\n",
      "\n",
      "Data Type: Numerical | Unique Values: 94\n",
      "\n",
      "[1985 1986 1990 1991 1979 1988 1984 1996 1981 1977]\n",
      "\n",
      "----------------------------------------------------------------------\n",
      "\n",
      "Column Name: tv_region\n",
      "\n",
      "Data Type: Categorical | Unique Values: 14\n",
      "\n",
      "['Meridian' 'HTV' 'Scottish TV' 'Yorkshire' 'Ulster' 'Central' 'Granada'\n",
      " 'Unknown' 'Carlton' 'Border' 'Tyne Tees' 'Anglia' 'TV South West'\n",
      " 'Grampian']\n",
      "\n",
      "----------------------------------------------------------------------\n",
      "\n",
      "Column Name: postcode\n",
      "\n",
      "Data Type: Categorical | Unique Values: 8050\n",
      "\n",
      "['M51 0GU' 'L40 2AG' 'TA19 9PT' ... 'BT28 1DX' 'CT10 2JF' 'TS16 0HG']\n",
      "\n",
      "----------------------------------------------------------------------\n",
      "\n",
      "Column Name: post_area\n",
      "\n",
      "Data Type: Categorical | Unique Values: 1937\n",
      "\n",
      "['M51' 'L40' 'TA19' ... 'NE20' 'IV32' 'SS4']\n",
      "\n",
      "----------------------------------------------------------------------\n",
      "\n",
      "Column Name: avg_credit_card_txn\n",
      "\n",
      "Data Type: Numerical | Unique Values: 1209\n",
      "\n",
      "[  0.   140.93  17.98   7.99  37.47 662.26  59.99  19.99  34.99 139.46]\n",
      "\n",
      "----------------------------------------------------------------------\n",
      "\n",
      "Column Name: balance_transfer\n",
      "\n",
      "Data Type: Numerical | Unique Values: 1860\n",
      "\n",
      "[  0.    75.    49.47  17.99 209.46  45.41 123.95  42.48  23.98  58.98]\n",
      "\n",
      "----------------------------------------------------------------------\n",
      "\n",
      "Column Name: term_deposit\n",
      "\n",
      "Data Type: Numerical | Unique Values: 1215\n",
      "\n",
      "[ 29.99  49.98   0.    18.98  14.99 102.28  17.99 147.92 132.95 256.43]\n",
      "\n",
      "----------------------------------------------------------------------\n",
      "\n",
      "Column Name: life_insurance\n",
      "\n",
      "Data Type: Numerical | Unique Values: 2655\n",
      "\n",
      "[ 60.98  34.99   0.     8.99  15.4  212.33  77.46  43.46  33.98  24.99]\n",
      "\n",
      "----------------------------------------------------------------------\n",
      "\n",
      "Column Name: medical_insurance\n",
      "\n",
      "Data Type: Numerical | Unique Values: 1362\n",
      "\n",
      "[ 55.96   0.   126.93  25.9   18.98  71.96   9.99 224.73  24.99  29.45]\n",
      "\n",
      "----------------------------------------------------------------------\n",
      "\n",
      "Column Name: avg_account_balance\n",
      "\n",
      "Data Type: Numerical | Unique Values: 1923\n",
      "\n",
      "[ 86.82 116.47  28.99  24.99  29.99  29.48 104.41  33.98   0.    64.45]\n",
      "\n",
      "----------------------------------------------------------------------\n",
      "\n",
      "Column Name: personal_loan\n",
      "\n",
      "Data Type: Numerical | Unique Values: 1477\n",
      "\n",
      "[ 0.   39.99 13.99 82.41 37.49 87.42 51.97 15.99 19.48 86.47]\n",
      "\n",
      "----------------------------------------------------------------------\n",
      "\n",
      "Column Name: mutual_fund_investment\n",
      "\n",
      "Data Type: Numerical | Unique Values: 2130\n",
      "\n",
      "[ 0.01 75.43 74.94 92.93  0.   71.93 22.45 47.46 35.99 69.44]\n",
      "\n",
      "----------------------------------------------------------------------\n",
      "\n",
      "Column Name: tax_saving_bond_investment\n",
      "\n",
      "Data Type: Numerical | Unique Values: 718\n",
      "\n",
      "[ 0.    2.   11.47  1.   13.46  5.98  8.97  3.98 79.99 24.99]\n",
      "\n",
      "----------------------------------------------------------------------\n",
      "\n",
      "Column Name: home_loan\n",
      "\n",
      "Data Type: Numerical | Unique Values: 760\n",
      "\n",
      "[ 0.    7.48 21.19 49.46 47.15 14.99  1.49  5.58  9.96  1.79]\n",
      "\n",
      "----------------------------------------------------------------------\n",
      "\n",
      "Column Name: online_purchase_amount\n",
      "\n",
      "Data Type: Numerical | Unique Values: 1128\n",
      "\n",
      "[ 0.   15.49 29.48  9.99 41.98 11.47 31.47 11.99 16.97 11.49]\n",
      "\n",
      "----------------------------------------------------------------------\n",
      "\n",
      "Column Name: gender\n",
      "\n",
      "Data Type: Categorical | Unique Values: 3\n",
      "\n",
      "['Female' 'Male' 'Unknown']\n",
      "\n",
      "----------------------------------------------------------------------\n",
      "\n",
      "Column Name: region\n",
      "\n",
      "Data Type: Categorical | Unique Values: 13\n",
      "\n",
      "['North West' 'South West' 'Scotland' 'Unknown' 'Northern Ireland'\n",
      " 'West Midlands' 'South East' 'East Midlands' 'North' 'East Anglia'\n",
      " 'Wales' 'Isle of Man' 'Channel Islands']\n",
      "\n",
      "----------------------------------------------------------------------\n",
      "\n",
      "Column Name: commodity_investment\n",
      "\n",
      "Data Type: Numerical | Unique Values: 3081\n",
      "\n",
      "[  0.     3.9   22.49  85.47 135.93  54.48  27.48  12.9   41.88   1.5 ]\n",
      "\n",
      "----------------------------------------------------------------------\n",
      "\n",
      "Column Name: equity_investment\n",
      "\n",
      "Data Type: Numerical | Unique Values: 2812\n",
      "\n",
      "[119.89  12.5   48.73  13.83  10.66  19.13  20.28  22.49   1.    16.5 ]\n",
      "\n",
      "----------------------------------------------------------------------\n",
      "\n",
      "Column Name: derivative_investment\n",
      "\n",
      "Data Type: Numerical | Unique Values: 3269\n",
      "\n",
      "[20.23 38.04 10.99 45.71  0.   63.05 16.9   9.5   3.91 47.46]\n",
      "\n",
      "----------------------------------------------------------------------\n",
      "\n",
      "Column Name: portfolio_balance\n",
      "\n",
      "Data Type: Numerical | Unique Values: 6884\n",
      "\n",
      "[-20.88  -1.68   3.41   5.56 110.85  35.61   7.65  17.8   23.08  53.41]\n",
      "\n",
      "----------------------------------------------------------------------\n",
      "\n",
      "Column Name: net_worth\n",
      "\n",
      "Data Type: Numerical | Unique Values: 2\n",
      "\n",
      "[2 1]\n",
      "\n",
      "----------------------------------------------------------------------\n",
      "\n"
     ]
    }
   ],
   "source": [
    "# Extracting Categorical & Numerical columns to perform further analysis & cleaning\n",
    "\n",
    "categorical_cols_train = df_train.select_dtypes('object').columns\n",
    "numerical_cols_train = df_test.select_dtypes(['int', 'float']).columns\n",
    "\n",
    "categorical_cols_test = df_train.select_dtypes('object').columns\n",
    "numerical_cols_test = df_test.select_dtypes(['int', 'float']).columns\n",
    "\n",
    "# Checking Unique Values in Dataset by taking a sample of and displaying few unique values from it.\n",
    "# Frequent re-runs can help finding some datapoints of relevance to research.\n",
    "\n",
    "print('\\n' + 'Having a look at unique Values in each Column')\n",
    "print('\\n' + '-'*50 + '\\n')\n",
    "\n",
    "for col in df_train.columns:\n",
    "    unique_vals = df_train[col].unique()\n",
    "    num_unique = len(unique_vals)\n",
    "        \n",
    "    print(\"Column Name: {}\\n\".format(col))\n",
    "    if col in categorical_cols_train:\n",
    "        print(\"Data Type: Categorical | Unique Values: {}\\n\".format(num_unique))\n",
    "        print(unique_vals[:])\n",
    "    else:\n",
    "        print(\"Data Type: Numerical | Unique Values: {}\\n\".format(num_unique))\n",
    "        print(df_train[col].sample(300).unique()[:10])\n",
    "        \n",
    "    print('\\n' + '-'*70 + '\\n')"
   ]
  },
  {
   "cell_type": "code",
   "execution_count": 13,
   "metadata": {},
   "outputs": [],
   "source": [
    "# Function to replace Unknown, Unclassified, Other & 0's with NaNs\n",
    "def replace_unknown_with_nan(df, columns):\n",
    "    for col in columns:\n",
    "        df[col] = df[col].replace({'Unknown','Unclassified','Other','Zero','zero', 0 }, np.nan)\n",
    "    return df\n",
    "\n",
    "# Replacing Unknown & Unclassified with NaNs in categorical columns\n",
    "df_train = replace_unknown_with_nan(df_train, categorical_cols_train)\n",
    "df_test = replace_unknown_with_nan(df_test, categorical_cols_test)\n",
    "\n",
    "# Replacing Unknown & Unclassified with NaNs in numerical columns\n",
    "df_train = replace_unknown_with_nan(df_train, numerical_cols_train)\n",
    "df_test = replace_unknown_with_nan(df_test, numerical_cols_test)"
   ]
  },
  {
   "cell_type": "code",
   "execution_count": 14,
   "metadata": {},
   "outputs": [
    {
     "name": "stdout",
     "output_type": "stream",
     "text": [
      "ref_no                           0\n",
      "num_children                  4991\n",
      "age_band                        44\n",
      "marital_status                  40\n",
      "occupation                     881\n",
      "occupation_partner            2203\n",
      "home_status                     44\n",
      "family_income                  108\n",
      "self_employed                    0\n",
      "self_employed_partner            0\n",
      "year_last_moved                 69\n",
      "tv_region                      154\n",
      "postcode                         0\n",
      "post_area                        0\n",
      "avg_credit_card_txn           4989\n",
      "balance_transfer              3524\n",
      "term_deposit                  4587\n",
      "life_insurance                2454\n",
      "medical_insurance             4046\n",
      "avg_account_balance           2806\n",
      "personal_loan                 5134\n",
      "mutual_fund_investment        2602\n",
      "tax_saving_bond_investment    5133\n",
      "home_loan                     5609\n",
      "online_purchase_amount        5700\n",
      "gender                          31\n",
      "region                         866\n",
      "commodity_investment           825\n",
      "equity_investment              915\n",
      "derivative_investment          445\n",
      "portfolio_balance                0\n",
      "net_worth                        0\n",
      "dtype: int64\n"
     ]
    }
   ],
   "source": [
    "print(df_train.isnull().sum())"
   ]
  },
  {
   "cell_type": "code",
   "execution_count": 15,
   "metadata": {},
   "outputs": [
    {
     "name": "stdout",
     "output_type": "stream",
     "text": [
      "\n",
      "Post areas with multiple regions:\n",
      "Empty DataFrame\n",
      "Columns: [region]\n",
      "Index: []\n"
     ]
    }
   ],
   "source": [
    "# Combine df_train and df_test for region and post_area dictionary\n",
    "combined_df = pd.concat([df_train[['region', 'post_area']], df_test[['region', 'post_area']]])\n",
    "\n",
    "# Drop duplicates and remove rows with null region values\n",
    "combined_df = combined_df.drop_duplicates().dropna(subset=['region'])\n",
    "\n",
    "# Create a dictionary using the existing region and post_area values\n",
    "region_post_area_dict = combined_df.set_index('post_area')['region'].to_dict()\n",
    "\n",
    "# Check for multiple regions per post_area\n",
    "post_areas_regions = combined_df.groupby('post_area').count()\n",
    "multiple_regions = post_areas_regions[post_areas_regions['region'] > 1]\n",
    "\n",
    "print(\"\\nPost areas with multiple regions:\")\n",
    "print(multiple_regions)"
   ]
  },
  {
   "cell_type": "code",
   "execution_count": 16,
   "metadata": {},
   "outputs": [],
   "source": [
    "def impute_region(row, region_dict):\n",
    "    region = row['region']\n",
    "    post_area = row['post_area']\n",
    "\n",
    "    if pd.isna(region):\n",
    "        if post_area in region_dict:\n",
    "            region = region_dict[post_area]\n",
    "        else:\n",
    "            region = 'Unknown'\n",
    "\n",
    "    return region"
   ]
  },
  {
   "cell_type": "code",
   "execution_count": 17,
   "metadata": {},
   "outputs": [],
   "source": [
    "# Function to impute missing values in the 'occupation' column based on the 'age_band' and 'self_employed' columns.\n",
    "\n",
    "def impute_occupation(row):\n",
    "    occupation = row['occupation']\n",
    "    age_band = row['age_band']\n",
    "    self_employed = row['self_employed']\n",
    "\n",
    "    if pd.isna(occupation):\n",
    "        if age_band in ['65-70', '71+']:\n",
    "            occupation = 'Retired'\n",
    "        elif self_employed == 'Yes':\n",
    "            occupation = 'Business Manager'\n",
    "        else:\n",
    "            occupation = 'Professional'\n",
    "\n",
    "    return occupation"
   ]
  },
  {
   "cell_type": "code",
   "execution_count": 18,
   "metadata": {},
   "outputs": [],
   "source": [
    "# Function to impute missing values in the 'occupation_partner' column based on'self_employed_partner' columns.\n",
    "\n",
    "def impute_occupation_partner(row):\n",
    "    occupation_partner = row['occupation_partner']\n",
    "    self_employed_partner = row['self_employed_partner']\n",
    "\n",
    "    if pd.isna(occupation_partner):\n",
    "        if self_employed_partner == 'Yes':\n",
    "            occupation_partner = 'Business Manager'\n",
    "        else:\n",
    "            occupation_partner = 'Professional'\n",
    "\n",
    "    return occupation_partner"
   ]
  },
  {
   "cell_type": "code",
   "execution_count": 19,
   "metadata": {},
   "outputs": [],
   "source": [
    "# Creating function for Data Pre-processing\n",
    "\n",
    "def preprocess_data(df):\n",
    "    # 1. Replace and fill missing values in num_children column\n",
    "    df['num_children'] = df['num_children'].replace({'4+': 4}).fillna(0).astype(int)\n",
    "\n",
    "    # 2. Impute missing values in age_band\n",
    "    age_band_mode = df['age_band'].mode().iloc[0]\n",
    "    df['age_band'] = df['age_band'].mask((df['age_band'].isnull()) & (df['occupation'] == 'Retired'), '71+').fillna(age_band_mode)\n",
    "\n",
    "    # 3. Impute missing values in occupation\n",
    "    df['occupation'] = df.apply(impute_occupation, axis=1)\n",
    "\n",
    "    # 4. Impute missing values in occupation_partner\n",
    "    df['occupation_partner'] = df.apply(impute_occupation_partner, axis=1)\n",
    "\n",
    "    # 5. Fill missing values for columns marital_status, home_status, family_income, and year_last_moved\n",
    "    for col in ['marital_status','home_status', 'family_income', 'year_last_moved']:\n",
    "        df[col] = df[col].fillna(df[col].mode().iloc[0])\n",
    "\n",
    "    # 6. Fill missing values in the region column\n",
    "    df['region'] = df.apply(impute_region, args=(region_post_area_dict,), axis=1)\n",
    "\n",
    "    # 7. Replace gender NaNs with 'Unknown'\n",
    "    df['gender'] = df['gender'].fillna('Unknown')    \n",
    "    \n",
    "    # 8. Merging life_insurance and medical_insurance into insurance column\n",
    "    df['insurance'] = df['life_insurance'].fillna(0) + df['medical_insurance'].fillna(0)\n",
    "    df.drop(columns=['life_insurance', 'medical_insurance'], inplace=True)\n",
    "\n",
    "    # 9. Merging personal_loan and home_loan into loan column\n",
    "    df['loan'] = df['personal_loan'].fillna(0) + df['home_loan'].fillna(0)\n",
    "    df.drop(columns=['personal_loan', 'home_loan'], inplace=True)\n",
    "    \n",
    "    # 10. Merge mutual_fund_investment and tax_saving_bond_investment into sip_investments column\n",
    "    df['sip_investments'] = df['mutual_fund_investment'].fillna(0) + df['tax_saving_bond_investment'].fillna(0)\n",
    "    df.drop(columns=['mutual_fund_investment', 'tax_saving_bond_investment'], inplace=True)\n",
    "\n",
    "    # 11. Merging 'commodity_investment', 'equity_investment', and 'derivative_investment' into 'lumpsum_investments'\n",
    "    df['lumpsum_investments'] = df['commodity_investment'].fillna(0) + df['equity_investment'].fillna(0) + df['derivative_investment'].fillna(0)\n",
    "    df.drop(columns=['commodity_investment', 'equity_investment', 'derivative_investment'], inplace=True)\n",
    "\n",
    "    # 12. Club 'online_purchase_amount' and 'avg_credit_card_txn'\n",
    "    df['combined_purchase'] = df['online_purchase_amount'].fillna(0) + df['avg_credit_card_txn'].fillna(0)\n",
    "    df.drop(columns=['online_purchase_amount', 'avg_credit_card_txn'], inplace=True)\n",
    "\n",
    "    # 13. Replace NaN values in 'balance_transfer', 'term_deposit', and 'avg_account_balance' with 0\n",
    "    df[['balance_transfer', 'term_deposit', 'avg_account_balance']] = df[['balance_transfer', 'term_deposit', 'avg_account_balance']].fillna(0)\n",
    "\n",
    "    # 14. Drop unnecessary columns\n",
    "    df.drop(columns=['tv_region', 'postcode', 'post_area', 'ref_no'], inplace=True)\n",
    "\n",
    "    return df"
   ]
  },
  {
   "cell_type": "code",
   "execution_count": 20,
   "metadata": {},
   "outputs": [],
   "source": [
    "# Apply the preprocess_data function to both the training and test dataframes\n",
    "\n",
    "df_train = preprocess_data(df_train)\n",
    "df_test = preprocess_data(df_test)"
   ]
  },
  {
   "cell_type": "markdown",
   "metadata": {
    "colab_type": "text",
    "id": "amsQwri2q1_J"
   },
   "source": [
    "---\n",
    "<a name = Section7></a>\n",
    "# **7. Data Post-Profiling**\n",
    "---\n",
    "\n",
    "- Getting a report about the data after the data manipulation.\n"
   ]
  },
  {
   "cell_type": "code",
   "execution_count": 21,
   "metadata": {
    "colab": {},
    "colab_type": "code",
    "id": "87U7K8sWq1y5"
   },
   "outputs": [
    {
     "name": "stdout",
     "output_type": "stream",
     "text": [
      "\n",
      "----------------------------------------\n",
      "\n",
      "AE Corp Post-profile Report Generated\n"
     ]
    }
   ],
   "source": [
    "# Profile Report of Cleaned Dataset\n",
    "\n",
    "profile = ProfileReport(df=df_train) \n",
    "print('\\n' + '-'*40 + '\\n')\n",
    "print('AE Corp Post-profile Report Generated')"
   ]
  },
  {
   "cell_type": "code",
   "execution_count": null,
   "metadata": {},
   "outputs": [
    {
     "data": {
      "application/vnd.jupyter.widget-view+json": {
       "model_id": "141132edf3b448f18b055df5460affca",
       "version_major": 2,
       "version_minor": 0
      },
      "text/plain": [
       "Summarize dataset:   0%|          | 0/5 [00:00<?, ?it/s]"
      ]
     },
     "metadata": {},
     "output_type": "display_data"
    }
   ],
   "source": [
    "# Loading profile report to file for record keeping\n",
    "\n",
    "profile.to_file(\"AEcorp_postprofile_report.html\")"
   ]
  },
  {
   "cell_type": "markdown",
   "metadata": {},
   "source": [
    "---\n",
    "<a name = Section9></a>\n",
    "# **8. Model Building**\n",
    "---"
   ]
  },
  {
   "cell_type": "code",
   "execution_count": null,
   "metadata": {},
   "outputs": [],
   "source": [
    "# Resetting Numerical and Categorical columns after pre_processing\n",
    "\n",
    "categorical_cols_train = df_train.select_dtypes('object').columns\n",
    "numerical_cols_train = df_test.select_dtypes(['int', 'float']).columns\n",
    "\n",
    "categorical_cols_test = df_train.select_dtypes('object').columns\n",
    "numerical_cols_test = df_test.select_dtypes(['int', 'float']).columns"
   ]
  },
  {
   "cell_type": "markdown",
   "metadata": {},
   "source": [
    "<a name = Section91></a>\n",
    "### **8.1 Encoding Categorical Variables**"
   ]
  },
  {
   "cell_type": "code",
   "execution_count": null,
   "metadata": {},
   "outputs": [],
   "source": [
    "# Label encoding for 'age_band' and 'family_income' in both train and test datasets\n",
    "label_encoder = LabelEncoder()\n",
    "df_train['age_band'] = label_encoder.fit_transform(df_train['age_band'])\n",
    "df_test['age_band'] = label_encoder.transform(df_test['age_band'])\n",
    "df_train['family_income'] = label_encoder.fit_transform(df_train['family_income'])\n",
    "df_test['family_income'] = label_encoder.transform(df_test['family_income'])\n",
    "\n",
    "# One-hot encoding for remaining categorical columns in both train and test datasets\n",
    "ohe_columns = ['marital_status', 'occupation', 'occupation_partner', 'home_status', 'gender','region']\n",
    "df_train = pd.get_dummies(df_train, columns=ohe_columns)\n",
    "df_test = pd.get_dummies(df_test, columns=ohe_columns)\n",
    "\n",
    "# Ensure consistency in one-hot encoding columns between train and test datasets\n",
    "train_columns = set(df_train.columns)\n",
    "test_columns = set(df_test.columns)\n",
    "\n",
    "# Find columns present in train but not in test\n",
    "extra_train_columns = train_columns - test_columns\n",
    "\n",
    "# Add the missing columns to test dataset with values set to 0\n",
    "for column in extra_train_columns:\n",
    "    df_test[column] = 0\n",
    "\n",
    "# Reorder the columns in test dataset to match the order in train dataset\n",
    "df_test = df_test[df_train.columns]\n",
    "\n",
    "# Label encoding for binary columns 'self_employed' and 'self_employed_partner' in both train and test datasets\n",
    "df_train['self_employed'] = label_encoder.fit_transform(df_train['self_employed'])\n",
    "df_test['self_employed'] = label_encoder.transform(df_test['self_employed'])\n",
    "df_train['self_employed_partner'] = label_encoder.fit_transform(df_train['self_employed_partner'])\n",
    "df_test['self_employed_partner'] = label_encoder.transform(df_test['self_employed_partner'])\n",
    "\n",
    "df_test.drop('net_worth', axis=1, inplace=True)"
   ]
  },
  {
   "cell_type": "markdown",
   "metadata": {},
   "source": [
    "<a name = Section93></a>\n",
    "### **8.2 Feature Scaling**"
   ]
  },
  {
   "cell_type": "code",
   "execution_count": null,
   "metadata": {},
   "outputs": [],
   "source": [
    "# Create a scaler object\n",
    "scaler = StandardScaler()\n",
    "\n",
    "# Fit the scaler on the training data\n",
    "scaler.fit(df_train[numerical_cols_train])\n",
    "\n",
    "# Scale the numerical columns in the training and test data\n",
    "df_train[numerical_cols_train] = scaler.transform(df_train[numerical_cols_train])\n",
    "df_test[numerical_cols_test] = scaler.transform(df_test[numerical_cols_test])"
   ]
  },
  {
   "cell_type": "markdown",
   "metadata": {},
   "source": [
    "---\n",
    "<a name = Section11></a>\n",
    "# **9. Model Development & Evaluation**\n",
    "---"
   ]
  },
  {
   "cell_type": "code",
   "execution_count": null,
   "metadata": {},
   "outputs": [],
   "source": [
    "# Split the data into X (features) and y (target variable)\n",
    "X = df_train.drop('net_worth', axis=1)\n",
    "y = df_train['net_worth']\n",
    "\n",
    "# Split the data into training and development sets\n",
    "train_x, dev_x, train_y, dev_y = train_test_split(X, y, test_size=0.1, random_state=42)\n",
    "\n",
    "# Verify the shapes of the resulting datasets\n",
    "print(f\"Train X shape: {train_x.shape}\")\n",
    "print(f\"Dev X shape: {dev_x.shape}\")\n",
    "print(f\"Train y shape: {train_y.shape}\")\n",
    "print(f\"Dev y shape: {dev_y.shape}\")"
   ]
  },
  {
   "cell_type": "code",
   "execution_count": null,
   "metadata": {},
   "outputs": [],
   "source": [
    "# Initialize and fit the logistic regression model\n",
    "\n",
    "lgr = LogisticRegression()\n",
    "lgr.fit(train_x, train_y)"
   ]
  },
  {
   "cell_type": "code",
   "execution_count": null,
   "metadata": {},
   "outputs": [],
   "source": [
    "lgr_predictions_train = lgr.predict(train_x)\n",
    "lgr_predictions_dev = lgr.predict(dev_x)\n",
    "\n",
    "print(\"-------------------- TRAIN SET -------------------- \")\n",
    "print(classification_report(y_true=train_y, y_pred=lgr_predictions_train))\n",
    "\n",
    "print(\"-------------------- DEV SET --------------------- \")\n",
    "print(classification_report(y_true=dev_y, y_pred=lgr_predictions_dev))"
   ]
  },
  {
   "cell_type": "markdown",
   "metadata": {},
   "source": [
    "---\n",
    "<a name = Section11></a>\n",
    "# **10. Creating Submission File**\n",
    "---"
   ]
  },
  {
   "cell_type": "code",
   "execution_count": null,
   "metadata": {},
   "outputs": [],
   "source": [
    "# Predict on df_test\n",
    "test_predictions = lgr.predict(df_test)\n",
    "\n",
    "# Create a new dataframe with only the 'ref_no' column from df_test_og for submission\n",
    "submission_df = df_test_og[['REF_NO']].copy()\n",
    "\n",
    "# Add the predicted labels column to the submission dataframe\n",
    "submission_df['predicted_Revenue_Grid'] = test_predictions\n",
    "\n",
    "# Save the submission dataframe to a CSV file without index and header\n",
    "submission_df.to_csv('submission.csv', index=False, header=False)"
   ]
  },
  {
   "cell_type": "markdown",
   "metadata": {},
   "source": [
    "<center>\n",
    "  <a href=\"https://thedatascienceguy.go.studio/\">\n",
    "    <img src=\"https://raw.githubusercontent.com/Mihir-Ai-lab/The_Data_Science_Guy/main/Images/Notebook%20Footer.png\" width=\"1200\" height=\"627\" />\n",
    "  </a>\n",
    "</center>"
   ]
  }
 ],
 "metadata": {
  "colab": {
   "authorship_tag": "ABX9TyMesZyh/+utXAgtYLRse33c",
   "collapsed_sections": [],
   "name": "Analysis on Wine Quality.ipynb",
   "provenance": []
  },
  "kernelspec": {
   "display_name": "Python 3 (ipykernel)",
   "language": "python",
   "name": "python3"
  },
  "language_info": {
   "codemirror_mode": {
    "name": "ipython",
    "version": 3
   },
   "file_extension": ".py",
   "mimetype": "text/x-python",
   "name": "python",
   "nbconvert_exporter": "python",
   "pygments_lexer": "ipython3",
   "version": "3.9.9"
  },
  "toc-showmarkdowntxt": false,
  "widgets": {
   "application/vnd.jupyter.widget-state+json": {
    "state": {
     "05022b93385e4e449c769c15af73f0ce": {
      "model_module": "@jupyter-widgets/controls",
      "model_module_version": "1.5.0",
      "model_name": "HBoxModel",
      "state": {
       "children": [
        "IPY_MODEL_4ca528e518004b7e9cf97cd93d6f978d",
        "IPY_MODEL_3e7f5a928745435893c0cfecbf70b4b0",
        "IPY_MODEL_30f02de66992403e92fa149106ec3247"
       ],
       "layout": "IPY_MODEL_ef94fae2272b4d7cbb22a6918f076945"
      }
     },
     "083646e7f227402d87e0f56401f0a0a7": {
      "model_module": "@jupyter-widgets/base",
      "model_module_version": "1.2.0",
      "model_name": "LayoutModel",
      "state": {}
     },
     "0969cfe0979c494d82deda984f7b0623": {
      "model_module": "@jupyter-widgets/base",
      "model_module_version": "1.2.0",
      "model_name": "LayoutModel",
      "state": {}
     },
     "0d1e9d6a422e4ba4aa0bd85f67438a07": {
      "model_module": "@jupyter-widgets/controls",
      "model_module_version": "1.5.0",
      "model_name": "DescriptionStyleModel",
      "state": {
       "description_width": ""
      }
     },
     "0da92a9ee7eb4a9a8ffe7a6c48545518": {
      "model_module": "@jupyter-widgets/base",
      "model_module_version": "1.2.0",
      "model_name": "LayoutModel",
      "state": {}
     },
     "1191aa8578a14e038bce42b381ca2653": {
      "model_module": "@jupyter-widgets/base",
      "model_module_version": "1.2.0",
      "model_name": "LayoutModel",
      "state": {}
     },
     "141132edf3b448f18b055df5460affca": {
      "model_module": "@jupyter-widgets/controls",
      "model_module_version": "1.5.0",
      "model_name": "HBoxModel",
      "state": {
       "children": [
        "IPY_MODEL_c72bac32a6c1446cba5e9979ff32d867",
        "IPY_MODEL_19be0e28691342d2830c83f7ddbe7567",
        "IPY_MODEL_cc65020606fe4a9b8b401e0236e8cf62"
       ],
       "layout": "IPY_MODEL_1191aa8578a14e038bce42b381ca2653"
      }
     },
     "16a0018313ce4f2db22f7ea4eb7c5709": {
      "model_module": "@jupyter-widgets/base",
      "model_module_version": "1.2.0",
      "model_name": "LayoutModel",
      "state": {}
     },
     "19be0e28691342d2830c83f7ddbe7567": {
      "model_module": "@jupyter-widgets/controls",
      "model_module_version": "1.5.0",
      "model_name": "FloatProgressModel",
      "state": {
       "layout": "IPY_MODEL_ae60cda2e0a54628b6b65f0b400a5cff",
       "max": 5,
       "style": "IPY_MODEL_f32b085ef5eb43b0b8689c3d5f218c2e",
       "value": 5
      }
     },
     "1a5dc9cbdce149798990388ee031d83c": {
      "model_module": "@jupyter-widgets/controls",
      "model_module_version": "1.5.0",
      "model_name": "HTMLModel",
      "state": {
       "layout": "IPY_MODEL_0da92a9ee7eb4a9a8ffe7a6c48545518",
       "style": "IPY_MODEL_9accf64d9e864c84be30b392fa76fb43",
       "value": "Generate report structure: 100%"
      }
     },
     "22ffc3e0a85f4f78a7d5c5344af3bdc9": {
      "model_module": "@jupyter-widgets/base",
      "model_module_version": "1.2.0",
      "model_name": "LayoutModel",
      "state": {}
     },
     "2684e4d3a0aa48878fcb6275ccfb141d": {
      "model_module": "@jupyter-widgets/controls",
      "model_module_version": "1.5.0",
      "model_name": "DescriptionStyleModel",
      "state": {
       "description_width": ""
      }
     },
     "2c03c30b29b540d4bfa85af6fe522a11": {
      "model_module": "@jupyter-widgets/controls",
      "model_module_version": "1.5.0",
      "model_name": "DescriptionStyleModel",
      "state": {
       "description_width": ""
      }
     },
     "30f02de66992403e92fa149106ec3247": {
      "model_module": "@jupyter-widgets/controls",
      "model_module_version": "1.5.0",
      "model_name": "HTMLModel",
      "state": {
       "layout": "IPY_MODEL_44475042aff844549fa62ef43eb61486",
       "style": "IPY_MODEL_98911f42c3034e68a12e70f6097c9b4c",
       "value": " 1/1 [00:00&lt;00:00, 13.32it/s]"
      }
     },
     "3934612fd0974a168153888fa69071af": {
      "model_module": "@jupyter-widgets/base",
      "model_module_version": "1.2.0",
      "model_name": "LayoutModel",
      "state": {}
     },
     "3e7f5a928745435893c0cfecbf70b4b0": {
      "model_module": "@jupyter-widgets/controls",
      "model_module_version": "1.5.0",
      "model_name": "FloatProgressModel",
      "state": {
       "bar_style": "success",
       "layout": "IPY_MODEL_8baff9576a99445d8c3d8f84a638953e",
       "max": 1,
       "style": "IPY_MODEL_ae7575943d944112813961e0d04c6334",
       "value": 1
      }
     },
     "44475042aff844549fa62ef43eb61486": {
      "model_module": "@jupyter-widgets/base",
      "model_module_version": "1.2.0",
      "model_name": "LayoutModel",
      "state": {}
     },
     "467100c6108b48c5a22230b709a65d6d": {
      "model_module": "@jupyter-widgets/controls",
      "model_module_version": "1.5.0",
      "model_name": "HTMLModel",
      "state": {
       "layout": "IPY_MODEL_083646e7f227402d87e0f56401f0a0a7",
       "style": "IPY_MODEL_2684e4d3a0aa48878fcb6275ccfb141d",
       "value": " 1/1 [00:06&lt;00:00,  6.49s/it]"
      }
     },
     "46c439cb79274fca875b1f0f616e2ce9": {
      "model_module": "@jupyter-widgets/base",
      "model_module_version": "1.2.0",
      "model_name": "LayoutModel",
      "state": {}
     },
     "4ca528e518004b7e9cf97cd93d6f978d": {
      "model_module": "@jupyter-widgets/controls",
      "model_module_version": "1.5.0",
      "model_name": "HTMLModel",
      "state": {
       "layout": "IPY_MODEL_46c439cb79274fca875b1f0f616e2ce9",
       "style": "IPY_MODEL_c8c51b0ea62a49b0b322336c064c75f3",
       "value": "Export report to file: 100%"
      }
     },
     "55ca440e486d40edafb40a358b05b2e6": {
      "model_module": "@jupyter-widgets/controls",
      "model_module_version": "1.5.0",
      "model_name": "DescriptionStyleModel",
      "state": {
       "description_width": ""
      }
     },
     "5f157026861947278045a9e4301c2739": {
      "model_module": "@jupyter-widgets/controls",
      "model_module_version": "1.5.0",
      "model_name": "ProgressStyleModel",
      "state": {
       "description_width": ""
      }
     },
     "6112b843816c4d1caf682f6d080de8de": {
      "model_module": "@jupyter-widgets/base",
      "model_module_version": "1.2.0",
      "model_name": "LayoutModel",
      "state": {}
     },
     "64028bb595744ed6a4274d55676eb348": {
      "model_module": "@jupyter-widgets/base",
      "model_module_version": "1.2.0",
      "model_name": "LayoutModel",
      "state": {}
     },
     "67863930101943d7b977c4348a8328a6": {
      "model_module": "@jupyter-widgets/controls",
      "model_module_version": "1.5.0",
      "model_name": "FloatProgressModel",
      "state": {
       "bar_style": "success",
       "layout": "IPY_MODEL_da0bcfc8a6fb4814a1f2e60b3efca5bd",
       "max": 5,
       "style": "IPY_MODEL_5f157026861947278045a9e4301c2739",
       "value": 5
      }
     },
     "71f27cfde2b44bc5baec1c5ead4f112d": {
      "model_module": "@jupyter-widgets/controls",
      "model_module_version": "1.5.0",
      "model_name": "DescriptionStyleModel",
      "state": {
       "description_width": ""
      }
     },
     "758c8fe3709f441eacb9af846e657486": {
      "model_module": "@jupyter-widgets/controls",
      "model_module_version": "1.5.0",
      "model_name": "HTMLModel",
      "state": {
       "layout": "IPY_MODEL_16a0018313ce4f2db22f7ea4eb7c5709",
       "style": "IPY_MODEL_fc14fd64ebb04d299a9cd4b5609bdae4",
       "value": " 1/1 [00:05&lt;00:00,  5.93s/it]"
      }
     },
     "78d8efd54aea4868aa81d960781b3a1d": {
      "model_module": "@jupyter-widgets/base",
      "model_module_version": "1.2.0",
      "model_name": "LayoutModel",
      "state": {}
     },
     "7f89fd36e0c4470f950fabc2490a903f": {
      "model_module": "@jupyter-widgets/controls",
      "model_module_version": "1.5.0",
      "model_name": "HTMLModel",
      "state": {
       "layout": "IPY_MODEL_64028bb595744ed6a4274d55676eb348",
       "style": "IPY_MODEL_bceabdc482444b52ad8916c54add1786",
       "value": "Render HTML: 100%"
      }
     },
     "81a63aa2eb0040f28161e50a4c66b966": {
      "model_module": "@jupyter-widgets/controls",
      "model_module_version": "1.5.0",
      "model_name": "ProgressStyleModel",
      "state": {
       "description_width": ""
      }
     },
     "8baff9576a99445d8c3d8f84a638953e": {
      "model_module": "@jupyter-widgets/base",
      "model_module_version": "1.2.0",
      "model_name": "LayoutModel",
      "state": {}
     },
     "8dba66a3823c43e588ea67bcf73aff15": {
      "model_module": "@jupyter-widgets/controls",
      "model_module_version": "1.5.0",
      "model_name": "HBoxModel",
      "state": {
       "children": [
        "IPY_MODEL_e04c4eb52e824203837ca9601ded486a",
        "IPY_MODEL_67863930101943d7b977c4348a8328a6",
        "IPY_MODEL_91b67fb895534626b63b56ebcd9140d6"
       ],
       "layout": "IPY_MODEL_fe7b5205377f4abb86efe7605112e0d6"
      }
     },
     "91b67fb895534626b63b56ebcd9140d6": {
      "model_module": "@jupyter-widgets/controls",
      "model_module_version": "1.5.0",
      "model_name": "HTMLModel",
      "state": {
       "layout": "IPY_MODEL_78d8efd54aea4868aa81d960781b3a1d",
       "style": "IPY_MODEL_55ca440e486d40edafb40a358b05b2e6",
       "value": " 330/330 [00:31&lt;00:00,  5.94it/s, Completed]"
      }
     },
     "98911f42c3034e68a12e70f6097c9b4c": {
      "model_module": "@jupyter-widgets/controls",
      "model_module_version": "1.5.0",
      "model_name": "DescriptionStyleModel",
      "state": {
       "description_width": ""
      }
     },
     "9accf64d9e864c84be30b392fa76fb43": {
      "model_module": "@jupyter-widgets/controls",
      "model_module_version": "1.5.0",
      "model_name": "DescriptionStyleModel",
      "state": {
       "description_width": ""
      }
     },
     "a303d0f875054c6f8f7f77adf4fcb6ea": {
      "model_module": "@jupyter-widgets/base",
      "model_module_version": "1.2.0",
      "model_name": "LayoutModel",
      "state": {}
     },
     "a8d39c228af947b5bdbbb1bdb02409d9": {
      "model_module": "@jupyter-widgets/base",
      "model_module_version": "1.2.0",
      "model_name": "LayoutModel",
      "state": {}
     },
     "aa22e5ceb3da4a4a88ac6223fa773a1b": {
      "model_module": "@jupyter-widgets/controls",
      "model_module_version": "1.5.0",
      "model_name": "HBoxModel",
      "state": {
       "children": [
        "IPY_MODEL_1a5dc9cbdce149798990388ee031d83c",
        "IPY_MODEL_c0f60a78604b4229873e2b266fc46881",
        "IPY_MODEL_467100c6108b48c5a22230b709a65d6d"
       ],
       "layout": "IPY_MODEL_6112b843816c4d1caf682f6d080de8de"
      }
     },
     "ae60cda2e0a54628b6b65f0b400a5cff": {
      "model_module": "@jupyter-widgets/base",
      "model_module_version": "1.2.0",
      "model_name": "LayoutModel",
      "state": {}
     },
     "ae7575943d944112813961e0d04c6334": {
      "model_module": "@jupyter-widgets/controls",
      "model_module_version": "1.5.0",
      "model_name": "ProgressStyleModel",
      "state": {
       "description_width": ""
      }
     },
     "b74083344e5441a482b88638dbe81bc7": {
      "model_module": "@jupyter-widgets/controls",
      "model_module_version": "1.5.0",
      "model_name": "HBoxModel",
      "state": {
       "children": [
        "IPY_MODEL_7f89fd36e0c4470f950fabc2490a903f",
        "IPY_MODEL_eb08e3bf12b84ae5a9fa309d2f9bac9a",
        "IPY_MODEL_758c8fe3709f441eacb9af846e657486"
       ],
       "layout": "IPY_MODEL_0969cfe0979c494d82deda984f7b0623"
      }
     },
     "bceabdc482444b52ad8916c54add1786": {
      "model_module": "@jupyter-widgets/controls",
      "model_module_version": "1.5.0",
      "model_name": "DescriptionStyleModel",
      "state": {
       "description_width": ""
      }
     },
     "c0f60a78604b4229873e2b266fc46881": {
      "model_module": "@jupyter-widgets/controls",
      "model_module_version": "1.5.0",
      "model_name": "FloatProgressModel",
      "state": {
       "bar_style": "success",
       "layout": "IPY_MODEL_a8d39c228af947b5bdbbb1bdb02409d9",
       "max": 1,
       "style": "IPY_MODEL_e065c21cc8884de491f1685398293b5a",
       "value": 1
      }
     },
     "c72bac32a6c1446cba5e9979ff32d867": {
      "model_module": "@jupyter-widgets/controls",
      "model_module_version": "1.5.0",
      "model_name": "HTMLModel",
      "state": {
       "layout": "IPY_MODEL_22ffc3e0a85f4f78a7d5c5344af3bdc9",
       "style": "IPY_MODEL_2c03c30b29b540d4bfa85af6fe522a11",
       "value": "Summarize dataset:  79%"
      }
     },
     "c8c51b0ea62a49b0b322336c064c75f3": {
      "model_module": "@jupyter-widgets/controls",
      "model_module_version": "1.5.0",
      "model_name": "DescriptionStyleModel",
      "state": {
       "description_width": ""
      }
     },
     "cc65020606fe4a9b8b401e0236e8cf62": {
      "model_module": "@jupyter-widgets/controls",
      "model_module_version": "1.5.0",
      "model_name": "HTMLModel",
      "state": {
       "layout": "IPY_MODEL_f4df96e4d0214ca59d7ea983d7afa58e",
       "style": "IPY_MODEL_71f27cfde2b44bc5baec1c5ead4f112d",
       "value": " 102/129 [00:08&lt;00:02, 10.14it/s, scatter sip_investments, sip_investments]"
      }
     },
     "da0bcfc8a6fb4814a1f2e60b3efca5bd": {
      "model_module": "@jupyter-widgets/base",
      "model_module_version": "1.2.0",
      "model_name": "LayoutModel",
      "state": {}
     },
     "e04c4eb52e824203837ca9601ded486a": {
      "model_module": "@jupyter-widgets/controls",
      "model_module_version": "1.5.0",
      "model_name": "HTMLModel",
      "state": {
       "layout": "IPY_MODEL_a303d0f875054c6f8f7f77adf4fcb6ea",
       "style": "IPY_MODEL_0d1e9d6a422e4ba4aa0bd85f67438a07",
       "value": "Summarize dataset: 100%"
      }
     },
     "e065c21cc8884de491f1685398293b5a": {
      "model_module": "@jupyter-widgets/controls",
      "model_module_version": "1.5.0",
      "model_name": "ProgressStyleModel",
      "state": {
       "description_width": ""
      }
     },
     "eb08e3bf12b84ae5a9fa309d2f9bac9a": {
      "model_module": "@jupyter-widgets/controls",
      "model_module_version": "1.5.0",
      "model_name": "FloatProgressModel",
      "state": {
       "bar_style": "success",
       "layout": "IPY_MODEL_3934612fd0974a168153888fa69071af",
       "max": 1,
       "style": "IPY_MODEL_81a63aa2eb0040f28161e50a4c66b966",
       "value": 1
      }
     },
     "ef94fae2272b4d7cbb22a6918f076945": {
      "model_module": "@jupyter-widgets/base",
      "model_module_version": "1.2.0",
      "model_name": "LayoutModel",
      "state": {}
     },
     "f32b085ef5eb43b0b8689c3d5f218c2e": {
      "model_module": "@jupyter-widgets/controls",
      "model_module_version": "1.5.0",
      "model_name": "ProgressStyleModel",
      "state": {
       "description_width": ""
      }
     },
     "f4df96e4d0214ca59d7ea983d7afa58e": {
      "model_module": "@jupyter-widgets/base",
      "model_module_version": "1.2.0",
      "model_name": "LayoutModel",
      "state": {}
     },
     "fc14fd64ebb04d299a9cd4b5609bdae4": {
      "model_module": "@jupyter-widgets/controls",
      "model_module_version": "1.5.0",
      "model_name": "DescriptionStyleModel",
      "state": {
       "description_width": ""
      }
     },
     "fe7b5205377f4abb86efe7605112e0d6": {
      "model_module": "@jupyter-widgets/base",
      "model_module_version": "1.2.0",
      "model_name": "LayoutModel",
      "state": {}
     }
    },
    "version_major": 2,
    "version_minor": 0
   }
  }
 },
 "nbformat": 4,
 "nbformat_minor": 4
}
