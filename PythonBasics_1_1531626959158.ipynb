{
  "cells": [
    {
      "cell_type": "markdown",
      "metadata": {
        "id": "view-in-github",
        "colab_type": "text"
      },
      "source": [
        "<a href=\"https://colab.research.google.com/github/Mihir-Ai-lab/Insaid/blob/main/PythonBasics_1_1531626959158.ipynb\" target=\"_parent\"><img src=\"https://colab.research.google.com/assets/colab-badge.svg\" alt=\"Open In Colab\"/></a>"
      ]
    },
    {
      "cell_type": "markdown",
      "metadata": {
        "id": "HDRZT4BBqSyR"
      },
      "source": [
        "# <center>Python Basics<center/> \n",
        "<img height=\"60\" width=\"120\" src=\"https://www.python.org/static/img/python-logo-large.png?1414305901\"></img>"
      ]
    },
    {
      "cell_type": "markdown",
      "metadata": {
        "id": "FABT_OIEqSyX"
      },
      "source": [
        "<b>Welcome</b> to Python tutorial. For your benefit we have broken down the entire tutorial into multiple parts so that you can take it step by step. Please learn Python in the sequence of the notebooks and topic wise as per the Table Of Contents.\n",
        "\n",
        "Wish you a Happy Learning!\n",
        "<br/>\n",
        "<br/>\n",
        "<br/>\n",
        "<br/>"
      ]
    },
    {
      "cell_type": "markdown",
      "metadata": {
        "id": "k56LF1JtqSyX"
      },
      "source": [
        "# Table of contents\n",
        "<br/>\n",
        "<a href = \"#1.-Python-Keywords\">1. Python Keywords</a>\n",
        "\n",
        "<a href = \"#2.-Identifiers\">2. Identifiers</a>\n",
        "\n",
        "<a href = \"#3.-Comments-in-Python\">3. Comments in Python</a>\n",
        "\n",
        "<a href = \"#4.-Python-Indentation\">4. Python Indentation</a>\n",
        "\n",
        "<a href = \"#5.-Python-Statement\">5. Python Statement</a>"
      ]
    },
    {
      "cell_type": "markdown",
      "metadata": {
        "id": "D-8TKdfmqSyY"
      },
      "source": [
        "# 1. Python Keywords"
      ]
    },
    {
      "cell_type": "markdown",
      "metadata": {
        "id": "XgwA6Hk-qSyZ"
      },
      "source": [
        "Keywords in Python are reservered words that cannot be used as ordinary\n",
        "identifiers.<p/>\n",
        "They must be spelled exacty as they are written. <p/>\n",
        "The 33 keywords in Python 3.6 are:<p/>"
      ]
    },
    {
      "cell_type": "markdown",
      "metadata": {
        "id": "Zk3D1UEQqSyZ"
      },
      "source": [
        "<table width='100%'>\n",
        "<tr><th>and</tc><th>del</tc><th>from</tc><th>not</tc><th>while</tc></tr>\n",
        "<tr><th>as</tc><th> elif</tc><th>global</tc><th>or</tc><th> with</tc></tr>\n",
        "<tr><th>assert</tc><th>else</tc><th>if</tc><th> pass</tc><th>yield</tc></tr>\n",
        "<tr><th>break</tc><th> except</tc><th>import</tc><th>print</tc></tr>\n",
        "<tr><th>class</tc><th> exec</tc><th>in</tc><th> raise</tc></tr>\n",
        "<tr><th>continue</tc><th>finally</tc><th> is</tc><th> return </tc></tr>\n",
        "<tr><th>def</tc><th>for</tc><th>lambda</tc><th>try</tc></tr>\n",
        "</table>"
      ]
    },
    {
      "cell_type": "code",
      "execution_count": null,
      "metadata": {
        "id": "lUyL348NqSya",
        "outputId": "b40eac20-43c2-45f3-97b4-c35eabfcc2e4"
      },
      "outputs": [
        {
          "name": "stdout",
          "output_type": "stream",
          "text": [
            "['False', 'None', 'True', 'and', 'as', 'assert', 'break', 'class', 'continue', 'def', 'del', 'elif', 'else', 'except', 'finally', 'for', 'from', 'global', 'if', 'import', 'in', 'is', 'lambda', 'nonlocal', 'not', 'or', 'pass', 'raise', 'return', 'try', 'while', 'with', 'yield']\n"
          ]
        }
      ],
      "source": [
        "#To extract all keywords in python 3.6 use the below code\n",
        "\n",
        "import keyword\n",
        "\n",
        "print(keyword.kwlist)"
      ]
    },
    {
      "cell_type": "code",
      "execution_count": null,
      "metadata": {
        "id": "oMGFFhxdqSyc",
        "outputId": "61eb610a-337a-4bee-b866-ff641075a4c2"
      },
      "outputs": [
        {
          "name": "stdout",
          "output_type": "stream",
          "text": [
            "keywords in python 3.6 are: 33\n"
          ]
        }
      ],
      "source": [
        "# Number of keywords are \n",
        "print(\"keywords in python 3.6 are:\", len(keyword.kwlist))"
      ]
    },
    {
      "cell_type": "markdown",
      "metadata": {
        "collapsed": true,
        "id": "9aY0ouFLqSyd"
      },
      "source": [
        "# 2. Identifiers"
      ]
    },
    {
      "cell_type": "markdown",
      "metadata": {
        "id": "DGeo81QyqSye"
      },
      "source": [
        "Identifiers (also referred to as names) is given to entities like class, functions, variables etc. in Python. It helps differentiating one entity from another."
      ]
    },
    {
      "cell_type": "markdown",
      "metadata": {
        "id": "jEDjMlsQqSye"
      },
      "source": [
        "Rules for Writing Identifiers:\n",
        "\n",
        "1. Identifiers can be a combination of letters in lowercase (a to z) or uppercase (A to Z) or digits (0 to 9) or an underscore (_).\n",
        "\n",
        "2. An identifier cannot start with a digit. <i>'99somename'</i> is invalid, but <i>'somename99'</i> is perfectly fine.\n",
        "\n",
        "3. Keywords cannot be used as identifiers."
      ]
    },
    {
      "cell_type": "code",
      "execution_count": null,
      "metadata": {
        "id": "uZHgQkhQqSyg",
        "outputId": "88f5823f-038b-4e08-a488-032cd90badee"
      },
      "outputs": [
        {
          "ename": "SyntaxError",
          "evalue": "invalid syntax (<ipython-input-13-e6c9f7eda5aa>, line 1)",
          "output_type": "error",
          "traceback": [
            "\u001b[0;36m  File \u001b[0;32m\"<ipython-input-13-e6c9f7eda5aa>\"\u001b[0;36m, line \u001b[0;32m1\u001b[0m\n\u001b[0;31m    99somename = 100\u001b[0m\n\u001b[0m             ^\u001b[0m\n\u001b[0;31mSyntaxError\u001b[0m\u001b[0;31m:\u001b[0m invalid syntax\n"
          ]
        }
      ],
      "source": [
        "99somename = 100      # Wrong way of defining identifiers"
      ]
    },
    {
      "cell_type": "code",
      "execution_count": null,
      "metadata": {
        "id": "TelrbN7-qSyg",
        "outputId": "f48d108b-51cd-4692-bab2-99ae34c2778a"
      },
      "outputs": [
        {
          "name": "stdout",
          "output_type": "stream",
          "text": [
            "100\n"
          ]
        }
      ],
      "source": [
        "somename99 = 100      # Right way of defining identifiers\n",
        "print(somename99)"
      ]
    },
    {
      "cell_type": "code",
      "execution_count": null,
      "metadata": {
        "id": "UmnwiiA-qSyh",
        "outputId": "67fa7106-bb91-4c3b-f1f2-6e903758c1e0"
      },
      "outputs": [
        {
          "ename": "SyntaxError",
          "evalue": "invalid syntax (<ipython-input-9-0a0e97cd82d8>, line 1)",
          "output_type": "error",
          "traceback": [
            "\u001b[0;36m  File \u001b[0;32m\"<ipython-input-9-0a0e97cd82d8>\"\u001b[0;36m, line \u001b[0;32m1\u001b[0m\n\u001b[0;31m    break = 1\u001b[0m\n\u001b[0m          ^\u001b[0m\n\u001b[0;31mSyntaxError\u001b[0m\u001b[0;31m:\u001b[0m invalid syntax\n"
          ]
        }
      ],
      "source": [
        "break = 1             # Cannot use keyword as identifiers"
      ]
    },
    {
      "cell_type": "markdown",
      "metadata": {
        "id": "wt4EsmM9qSyh"
      },
      "source": [
        " We cannot use special symbols like !, @, #, $, % etc. in our identifier."
      ]
    },
    {
      "cell_type": "code",
      "execution_count": null,
      "metadata": {
        "id": "I-qDHAJtqSyh",
        "outputId": "f466992a-2786-480c-c95c-040c3de06873"
      },
      "outputs": [
        {
          "ename": "SyntaxError",
          "evalue": "invalid syntax (<ipython-input-10-74122af75f83>, line 1)",
          "output_type": "error",
          "traceback": [
            "\u001b[0;36m  File \u001b[0;32m\"<ipython-input-10-74122af75f83>\"\u001b[0;36m, line \u001b[0;32m1\u001b[0m\n\u001b[0;31m    hello@ = 10             #can't use special symbols as an identifier\u001b[0m\n\u001b[0m           ^\u001b[0m\n\u001b[0;31mSyntaxError\u001b[0m\u001b[0;31m:\u001b[0m invalid syntax\n"
          ]
        }
      ],
      "source": [
        "hello@ = 10           #can't use special symbols as an identifier"
      ]
    },
    {
      "cell_type": "markdown",
      "metadata": {
        "id": "2tjV8slCqSyi"
      },
      "source": [
        "### Few more correct identifiers"
      ]
    },
    {
      "cell_type": "code",
      "execution_count": null,
      "metadata": {
        "id": "8NYuhoWWqSyi",
        "outputId": "fdff8ad9-38a9-4387-e95c-ace6884d38b6"
      },
      "outputs": [
        {
          "name": "stdout",
          "output_type": "stream",
          "text": [
            "hello:  1\n",
            "hello123:  1\n",
            "hello_1:  1\n"
          ]
        }
      ],
      "source": [
        "hello = 1\n",
        "print('hello: ',hello)\n",
        "\n",
        "hello123 = 1\n",
        "print('hello123: ',hello123)\n",
        "\n",
        "hello_1 = 1\n",
        "print('hello_1: ',hello_1)"
      ]
    },
    {
      "cell_type": "markdown",
      "metadata": {
        "id": "R2ydR2x6qSyj"
      },
      "source": [
        "# 3. Comments in Python"
      ]
    },
    {
      "cell_type": "markdown",
      "metadata": {
        "id": "rVrpZdnlqSyj"
      },
      "source": [
        "A comment may appear at the start of a line or following whitespace or code, but not within a string literal.<br/>\n",
        "A hash character within a string literal is just a hash character.<br/>\n",
        "Comments are lines that are ignored by compilers and interpreters. <br/>\n",
        "### This is one of the best way to convey the idea behind the code and people reusing your code can easily make sense of your code"
      ]
    },
    {
      "cell_type": "markdown",
      "metadata": {
        "id": "y-du-s5tqSyj"
      },
      "source": [
        "### Single line comment"
      ]
    },
    {
      "cell_type": "code",
      "execution_count": null,
      "metadata": {
        "id": "QsdDzRTSqSyk"
      },
      "outputs": [],
      "source": [
        "# This is a single line comment. Has no effect on the code below\n",
        "abd = 10"
      ]
    },
    {
      "cell_type": "markdown",
      "metadata": {
        "id": "gEsZuEbEqSyk"
      },
      "source": [
        "### Multi line comment"
      ]
    },
    {
      "cell_type": "code",
      "execution_count": null,
      "metadata": {
        "id": "mTTpyIaiqSyk"
      },
      "outputs": [],
      "source": [
        "# You can write multiple lines of comment by putting a '#' at the beginning\n",
        "# You can write multiple lines of comment by putting a '#' at the beginning\n",
        "# You can write multiple lines of comment by putting a '#' at the beginning"
      ]
    },
    {
      "cell_type": "code",
      "execution_count": null,
      "metadata": {
        "id": "_VbzP0eWqSyk"
      },
      "outputs": [],
      "source": [
        "'''\n",
        "A better option to write multi line comment is by adding all your \n",
        "text between a set of 3-single or 3-double quotes. Like we have done here\n",
        "'''"
      ]
    },
    {
      "cell_type": "code",
      "execution_count": null,
      "metadata": {
        "id": "q4X4eLgtqSyl",
        "outputId": "0f488a85-6e5f-42e3-eb9b-955b228fa528"
      },
      "outputs": [
        {
          "data": {
            "text/plain": [
              "'\\nA better option to write multi line comment is by adding all your \\ntext between a set of 3-single or 3-double quotes. Like we have done here\\n'"
            ]
          },
          "execution_count": 25,
          "metadata": {},
          "output_type": "execute_result"
        }
      ],
      "source": [
        "\"\"\"\n",
        "A better option to write multi line comment is by adding all your \n",
        "text between a set of 3-single or 3-double quotes. Like we have done here\n",
        "\"\"\""
      ]
    },
    {
      "cell_type": "markdown",
      "metadata": {
        "id": "LiC1LzGOqSyl"
      },
      "source": [
        "### Docstring"
      ]
    },
    {
      "cell_type": "markdown",
      "metadata": {
        "id": "5FsrzyjBqSyl"
      },
      "source": [
        "Docstring is short for documentation string.<p/>\n",
        "\n",
        "String that occurs as the first statement in a module, function, class, <br/>\n",
        "or method definition. Used to define what a function/class does."
      ]
    },
    {
      "cell_type": "code",
      "execution_count": null,
      "metadata": {
        "id": "H4P3DqkrqSym",
        "outputId": "ba2a3629-8204-43a4-9db7-309381bfcb99"
      },
      "outputs": [
        {
          "name": "stdout",
          "output_type": "stream",
          "text": [
            "400\n"
          ]
        }
      ],
      "source": [
        "def square(num):\n",
        "    \"\"\"\n",
        "    Function to square a number. \n",
        "    Print this docstring using __doc__ attribute of the function\n",
        "    \"\"\"\n",
        "    return num * num\n",
        "\n",
        "print(square(20))"
      ]
    },
    {
      "cell_type": "code",
      "execution_count": null,
      "metadata": {
        "id": "50wzDDOBqSym",
        "outputId": "06309427-e899-4df5-c327-24c1b271decb"
      },
      "outputs": [
        {
          "name": "stdout",
          "output_type": "stream",
          "text": [
            "\n",
            "    Function to square a number. \n",
            "    Print this docstring using __doc__ attribute of the function\n",
            "    \n"
          ]
        }
      ],
      "source": [
        "print(square.__doc__)      # To print the docstring of a function use the __doc__ attribute of the function"
      ]
    },
    {
      "cell_type": "code",
      "execution_count": null,
      "metadata": {
        "id": "gTnFmTecqSym"
      },
      "outputs": [],
      "source": [
        "square                     # Press shift+tab to view the docstring"
      ]
    },
    {
      "cell_type": "markdown",
      "metadata": {
        "id": "4p1_qb12qSyn"
      },
      "source": [
        "# 4. Python Indentation"
      ]
    },
    {
      "cell_type": "markdown",
      "metadata": {
        "id": "6QAt84QuqSyn"
      },
      "source": [
        "Unlike C, C++, Java where we use braces { } to define a block of code, in Python we use indentation.\n",
        "\n",
        "A code block (body of a function, loop etc.) starts with indentation and ends with the first unindented line. The amount of indentation is up to you, but it must be consistent throughout that block.\n",
        "\n",
        "Generally four whitespaces are used for indentation and is preferred over tabs.\n",
        "\n",
        "Leading whitespace (spaces and tabs) at the beginning of a logical line is used to compute the indentation level of the line, <b>which in turn is used to determine the grouping of statements</b>."
      ]
    },
    {
      "cell_type": "code",
      "execution_count": null,
      "metadata": {
        "id": "qtFzKDwbqSyn",
        "outputId": "a7b740b5-41fd-4082-8ece-b145ce6b9ddb"
      },
      "outputs": [
        {
          "ename": "IndentationError",
          "evalue": "unexpected indent (<ipython-input-39-de16c44c4389>, line 2)",
          "output_type": "error",
          "traceback": [
            "\u001b[0;36m  File \u001b[0;32m\"<ipython-input-39-de16c44c4389>\"\u001b[0;36m, line \u001b[0;32m2\u001b[0m\n\u001b[0;31m    variable2 = 20 # Logical continuation disrupted\u001b[0m\n\u001b[0m    ^\u001b[0m\n\u001b[0;31mIndentationError\u001b[0m\u001b[0;31m:\u001b[0m unexpected indent\n"
          ]
        }
      ],
      "source": [
        "variable1 = 10\n",
        "  variable2 = 20          # Logical continuation disrupted"
      ]
    },
    {
      "cell_type": "code",
      "execution_count": null,
      "metadata": {
        "id": "2FSSpy8eqSyn"
      },
      "outputs": [],
      "source": [
        "variable1 = 10\n",
        "variable2 = 20"
      ]
    },
    {
      "cell_type": "code",
      "execution_count": null,
      "metadata": {
        "id": "G2Swr66QqSyo",
        "outputId": "0e172b0f-bc45-4d37-b84f-6a00eb3624d5"
      },
      "outputs": [
        {
          "name": "stdout",
          "output_type": "stream",
          "text": [
            "1\n",
            "2\n",
            "3\n"
          ]
        }
      ],
      "source": [
        "for i in range (1,4):\n",
        "    print(i)              # Logical continuation maintained"
      ]
    },
    {
      "cell_type": "markdown",
      "metadata": {
        "id": "1bDDriLQqSyo"
      },
      "source": [
        "### Indentation is a good way to keep the code readable"
      ]
    },
    {
      "cell_type": "code",
      "execution_count": null,
      "metadata": {
        "id": "ZJuQGhqkqSyo",
        "outputId": "8e9c5fa2-4e7e-467e-c819-2f28383494df"
      },
      "outputs": [
        {
          "name": "stdout",
          "output_type": "stream",
          "text": [
            "1\n",
            "2\n",
            "3\n"
          ]
        }
      ],
      "source": [
        "variable1=10;variable2=20                   # Everything could be in one line but less readable. Multiple statement in one line\n",
        "\n",
        "for i in range (1,4): print(i)              # Everything could be in one line but less readable"
      ]
    },
    {
      "cell_type": "markdown",
      "metadata": {
        "id": "jVdGo9BvqSyo"
      },
      "source": [
        "# 5. Python Statement"
      ]
    },
    {
      "cell_type": "markdown",
      "metadata": {
        "id": "RPUpw6cdqSyp"
      },
      "source": [
        "Instructions that a Python interpreter can execute are called statements. For example, a = 1 is an assignment statement. if statement, for statement, while statement etc. are other kinds of statements which will be discussed later."
      ]
    },
    {
      "cell_type": "markdown",
      "metadata": {
        "id": "lBNdYdbEqSyp"
      },
      "source": [
        "### Single-line statement"
      ]
    },
    {
      "cell_type": "code",
      "execution_count": null,
      "metadata": {
        "id": "pYjnhyLpqSyp"
      },
      "outputs": [],
      "source": [
        "number = 10"
      ]
    },
    {
      "cell_type": "markdown",
      "metadata": {
        "id": "oFQEHgpmqSyp"
      },
      "source": [
        "### Multi-line statement \n",
        "(Use a continuation character '\\')"
      ]
    },
    {
      "cell_type": "code",
      "execution_count": null,
      "metadata": {
        "id": "WgvHWVqzqSyp",
        "outputId": "edd7f9e9-1691-4fa5-9c60-9842736fecb2"
      },
      "outputs": [
        {
          "name": "stdout",
          "output_type": "stream",
          "text": [
            "150\n"
          ]
        }
      ],
      "source": [
        "number = 10 + 20 + \\\n",
        "         30 + 40 + \\\n",
        "         50\n",
        "    \n",
        "print(number)"
      ]
    },
    {
      "cell_type": "markdown",
      "metadata": {
        "id": "-yVn3tmPqSyq"
      },
      "source": [
        "(Alternately use brackets)"
      ]
    },
    {
      "cell_type": "code",
      "execution_count": null,
      "metadata": {
        "id": "k8EzVxFTqSyq",
        "outputId": "1fb38147-d994-492d-a095-6dab20da5edb"
      },
      "outputs": [
        {
          "name": "stdout",
          "output_type": "stream",
          "text": [
            "150\n"
          ]
        }
      ],
      "source": [
        "number = (10 + 20 + \n",
        "         30 + 40 + \n",
        "         50)\n",
        "    \n",
        "print(number)"
      ]
    }
  ],
  "metadata": {
    "kernelspec": {
      "display_name": "Python 3",
      "language": "python",
      "name": "python3"
    },
    "language_info": {
      "codemirror_mode": {
        "name": "ipython",
        "version": 3
      },
      "file_extension": ".py",
      "mimetype": "text/x-python",
      "name": "python",
      "nbconvert_exporter": "python",
      "pygments_lexer": "ipython3",
      "version": "3.6.0"
    },
    "colab": {
      "provenance": [],
      "include_colab_link": true
    }
  },
  "nbformat": 4,
  "nbformat_minor": 0
}