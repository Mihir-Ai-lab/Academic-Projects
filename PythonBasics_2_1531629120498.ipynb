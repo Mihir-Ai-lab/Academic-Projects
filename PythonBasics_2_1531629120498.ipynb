{
  "cells": [
    {
      "cell_type": "markdown",
      "metadata": {
        "id": "view-in-github",
        "colab_type": "text"
      },
      "source": [
        "<a href=\"https://colab.research.google.com/github/Mihir-Ai-lab/Insaid/blob/main/PythonBasics_2_1531629120498.ipynb\" target=\"_parent\"><img src=\"https://colab.research.google.com/assets/colab-badge.svg\" alt=\"Open In Colab\"/></a>"
      ]
    },
    {
      "cell_type": "markdown",
      "metadata": {
        "id": "wBwMdrnn4iSy"
      },
      "source": [
        "# <center>Python Basics<center/> \n",
        "<img height=\"60\" width=\"120\" src=\"https://www.python.org/static/img/python-logo-large.png?1414305901\"></img>"
      ]
    },
    {
      "cell_type": "markdown",
      "metadata": {
        "id": "c78IcsA34iS4"
      },
      "source": [
        "# Table of contents\n",
        "<br/>\n",
        "<a href = \"#6.-Variables\">6. Variables</a><br/>\n",
        "<a href = \"#7.-Data-Types\">7. Data Types</a><br/>\n",
        "<a href = \"#8.-Conversion-between-Datatypes\">8. Conversion between Datatypes</a>"
      ]
    },
    {
      "cell_type": "markdown",
      "metadata": {
        "id": "evlKjxaY4iS4"
      },
      "source": [
        "# 6. Variables"
      ]
    },
    {
      "cell_type": "markdown",
      "metadata": {
        "id": "IZh9COx74iS5"
      },
      "source": [
        "A variable is an alias given to a location in memory that is used to store some data (value).\n",
        "\n",
        "Each data point stored in the memory is given unique name to differentiate between different memory locations (and thus data points). <br/><b>The rules for writing a variable name is same as the rules for writing identifiers in Python.</b>\n",
        "\n",
        "We don't need to declare a variable before using it. In Python, we simply assign a value to a variable and it will exist. We don't even have to declare the <b>type</b> of the variable. This is handled internally according to the type of value we assign to the variable.\n",
        "<br/>\n",
        "<br/>"
      ]
    },
    {
      "cell_type": "markdown",
      "metadata": {
        "id": "JyZEPhEw4iS5"
      },
      "source": [
        "### Variable assignements\n",
        "We use the assignment operator (=) to assign values to a variable"
      ]
    },
    {
      "cell_type": "code",
      "execution_count": null,
      "metadata": {
        "id": "alMo8Ckz4iS6",
        "outputId": "7d88fbb5-9867-4b40-b38c-53b07fa4788b"
      },
      "outputs": [
        {
          "name": "stdout",
          "output_type": "stream",
          "text": [
            "4 22.2 StringValue\n"
          ]
        }
      ],
      "source": [
        "intergerNumber = 4\n",
        "decimalNumber = 22.2\n",
        "stringVariable = \"StringValue\"\n",
        "print(intergerNumber, decimalNumber, stringVariable)"
      ]
    },
    {
      "cell_type": "markdown",
      "metadata": {
        "id": "TDQ60v364iS8"
      },
      "source": [
        "### Multiple assignements\n",
        "Use comma to seperate the variables and their corresponding values"
      ]
    },
    {
      "cell_type": "code",
      "execution_count": null,
      "metadata": {
        "id": "NONp7vE84iS8",
        "outputId": "81e0e57c-1821-41fc-b780-c207a267945c"
      },
      "outputs": [
        {
          "name": "stdout",
          "output_type": "stream",
          "text": [
            "4 22.2 StringValue\n"
          ]
        }
      ],
      "source": [
        "intergerNumber, decimalNumber, stringVariable = 4, 22.2, \"StringValue\"\n",
        "print(intergerNumber, decimalNumber, stringVariable)"
      ]
    },
    {
      "cell_type": "markdown",
      "metadata": {
        "id": "lbRGOIDe4iS9"
      },
      "source": [
        "To initialize multiple variables with same value use 1 assignment"
      ]
    },
    {
      "cell_type": "code",
      "execution_count": null,
      "metadata": {
        "id": "8Jbrz2rZ4iS9",
        "outputId": "3aca78ac-928b-4dfd-8424-7723a17bd2cc"
      },
      "outputs": [
        {
          "name": "stdout",
          "output_type": "stream",
          "text": [
            " All variable assigned same value   All variable assigned same value   All variable assigned same value \n"
          ]
        }
      ],
      "source": [
        "variable1=variable2=variable3 = \" All variable assigned same value \"\n",
        "print(variable1,variable2,variable3)"
      ]
    },
    {
      "cell_type": "markdown",
      "metadata": {
        "collapsed": true,
        "id": "gkppUVyb4iS-"
      },
      "source": [
        "### Storage Locations"
      ]
    },
    {
      "cell_type": "code",
      "execution_count": null,
      "metadata": {
        "id": "hdQuR1xM4iS-",
        "outputId": "a7fb9ad0-bcb4-4133-bb97-8a1037ace4c4"
      },
      "outputs": [
        {
          "name": "stdout",
          "output_type": "stream",
          "text": [
            "1848031792\n"
          ]
        }
      ],
      "source": [
        "print(id(intergerNumber))               #print address of variable: 'intergerNumber'"
      ]
    },
    {
      "cell_type": "code",
      "execution_count": null,
      "metadata": {
        "id": "E5FLA4eu4iS-",
        "outputId": "94733943-4273-47d9-fb29-6605c0875975"
      },
      "outputs": [
        {
          "name": "stdout",
          "output_type": "stream",
          "text": [
            "2582395820504\n"
          ]
        }
      ],
      "source": [
        "print(id(decimalNumber))               #print address of variable: 'decimalNumber'"
      ]
    },
    {
      "cell_type": "markdown",
      "metadata": {
        "id": "__Ox2pWn4iS_"
      },
      "source": [
        "<b>interger1</b> and <b>interger2</b> points to same memory location in the below example"
      ]
    },
    {
      "cell_type": "code",
      "execution_count": null,
      "metadata": {
        "id": "pX5pazOr4iS_",
        "outputId": "3a7c3f78-31b6-45fb-b3b7-c39c6f9e0919"
      },
      "outputs": [
        {
          "name": "stdout",
          "output_type": "stream",
          "text": [
            "1848031984\n",
            "1848031984\n"
          ]
        }
      ],
      "source": [
        "interger1 = 10\n",
        "interger2 = 10\n",
        "\n",
        "print(id(interger1))   \n",
        "print(id(interger2))   "
      ]
    },
    {
      "cell_type": "markdown",
      "metadata": {
        "collapsed": true,
        "id": "2jtdx7N24iS_"
      },
      "source": [
        "# 7. Data Types"
      ]
    },
    {
      "cell_type": "markdown",
      "metadata": {
        "id": "0d-oKpLg4iTA"
      },
      "source": [
        "Every value in Python has a datatype. Since everything is an object in Python programming, data types are actually classes and variables are instance (object) of these classes.\n",
        "<br/><br/>\n",
        "Below are few of the commonly used data types<br/>"
      ]
    },
    {
      "cell_type": "markdown",
      "metadata": {
        "id": "LSWmyjST4iTA"
      },
      "source": [
        "### Python Numbers"
      ]
    },
    {
      "cell_type": "markdown",
      "metadata": {
        "id": "AY-2YBkI4iTA"
      },
      "source": [
        "<b>Integers, floating point numbers and complex numbers</b>\n",
        "falls under Python numbers category. They are defined as int, float and complex class in Python.\n",
        "\n",
        "We can use the <b>type()</b> function to know which class a variable or a value belongs to <br/> and the <b>isinstance()</b> function to check if an object belongs to a particular class."
      ]
    },
    {
      "cell_type": "code",
      "execution_count": null,
      "metadata": {
        "id": "PMDPX55y4iTA",
        "outputId": "28f1a278-dc90-4d7b-a4da-8ee19a2fc8e3"
      },
      "outputs": [
        {
          "name": "stdout",
          "output_type": "stream",
          "text": [
            "5  is of type <class 'int'>\n"
          ]
        }
      ],
      "source": [
        "data1 = 12                               # integer data type\n",
        "print(data1, \" is of type\", type(data1))"
      ]
    },
    {
      "cell_type": "code",
      "execution_count": null,
      "metadata": {
        "id": "yzHqlpVJ4iTB",
        "outputId": "5ef2221b-d82b-4db2-dd01-fc222a1e1986"
      },
      "outputs": [
        {
          "name": "stdout",
          "output_type": "stream",
          "text": [
            "2.5  is of type <class 'float'>\n"
          ]
        }
      ],
      "source": [
        "data2 = 12.5                            # float data type\n",
        "print(data2, \" is of type\", type(data2))"
      ]
    },
    {
      "cell_type": "code",
      "execution_count": null,
      "metadata": {
        "id": "42b6Mj2I4iTB",
        "outputId": "c472d484-ab69-498b-c132-6cf6d807efd0"
      },
      "outputs": [
        {
          "name": "stdout",
          "output_type": "stream",
          "text": [
            "(100+20j)  is complex number? True\n"
          ]
        }
      ],
      "source": [
        "data3 = 100 + 20j                          #data type is changed to complex number\n",
        "print(data3, \" is complex number?\", isinstance(data3, complex))"
      ]
    },
    {
      "cell_type": "markdown",
      "metadata": {
        "id": "v_OcU1Q54iTC"
      },
      "source": [
        "### Boolean"
      ]
    },
    {
      "cell_type": "markdown",
      "metadata": {
        "id": "Vg0iy0qs4iTC"
      },
      "source": [
        "Boolean represents True or False values"
      ]
    },
    {
      "cell_type": "code",
      "execution_count": null,
      "metadata": {
        "id": "yixYvSz64iTC",
        "outputId": "2eb6714c-3516-4a37-d010-af014aa4c7c0"
      },
      "outputs": [
        {
          "name": "stdout",
          "output_type": "stream",
          "text": [
            "<class 'bool'>\n"
          ]
        }
      ],
      "source": [
        "booleanVariable = True                          # 'booleanVariable' is a boolean type & True is a keyword\n",
        "print(type(booleanVariable))"
      ]
    },
    {
      "cell_type": "markdown",
      "metadata": {
        "id": "n3OZpPwm4iTC"
      },
      "source": [
        "### Python Strings"
      ]
    },
    {
      "cell_type": "markdown",
      "metadata": {
        "id": "g-p03RpN4iTD"
      },
      "source": [
        "String is sequence of Unicode characters. We can use single quotes or double quotes to represent strings. <br/>\n",
        "Multi-line strings can be denoted using triple quotes(single/double), <b>''' or \"\"\". </b><br/>\n",
        "\n",
        "A string in Python consists of a series or <u>sequence of characters</u> - <b>letters, numbers, and special characters.</b>\n",
        "\n",
        "Strings can be indexed - often synonymously called subscripted as well.\n",
        "\n",
        "The first character of a string has the index 0."
      ]
    },
    {
      "cell_type": "code",
      "execution_count": null,
      "metadata": {
        "id": "4-pq33uu4iTD",
        "outputId": "8a122fc5-6c2a-4cf1-9150-146ac5e3c3f0"
      },
      "outputs": [
        {
          "name": "stdout",
          "output_type": "stream",
          "text": [
            "stringVariable is :  This is a string variable\n",
            "First character in stringVariable is :  T\n"
          ]
        }
      ],
      "source": [
        "stringVariable = \"This is a string variable\"\n",
        "print('stringVariable is : ',stringVariable)\n",
        "print('First character in stringVariable is : ',stringVariable[0])"
      ]
    },
    {
      "cell_type": "code",
      "execution_count": null,
      "metadata": {
        "id": "T9b4TAXn4iTD",
        "outputId": "4a52148f-f682-4487-e3cc-26e0d28ca000"
      },
      "outputs": [
        {
          "name": "stdout",
          "output_type": "stream",
          "text": [
            "This is\n",
            "This is\n",
            "is a string variable\n"
          ]
        }
      ],
      "source": [
        "# Slicing of String variable\n",
        "print(stringVariable[0:7])\n",
        "print(stringVariable[:7])\n",
        "print(stringVariable[5:])"
      ]
    },
    {
      "cell_type": "markdown",
      "metadata": {
        "id": "V9lgCQN34iTE"
      },
      "source": [
        "### Python List"
      ]
    },
    {
      "cell_type": "markdown",
      "metadata": {
        "id": "gPXYBH0o4iTE"
      },
      "source": [
        "List is an <u>ordered sequence</u> of items. It is one of the most used datatype in Python and is very flexible. \n",
        "\n",
        "All the items in a list do not need to be of the same type.\n",
        "\n",
        "Declaring a list is pretty straight forward. Items separated by commas are enclosed within square brackets <b>'[ ]'</b>."
      ]
    },
    {
      "cell_type": "code",
      "execution_count": null,
      "metadata": {
        "id": "JCwE4rip4iTE",
        "outputId": "45532da1-b954-471f-a5c1-178e6949cfa3"
      },
      "outputs": [
        {
          "name": "stdout",
          "output_type": "stream",
          "text": [
            "[1, 2.2, 'ThirdElement', 12, 24, 'More values']\n"
          ]
        }
      ],
      "source": [
        "myList = [1, 2.2, \"ThirdElement\",12,24,\"More values\"]\n",
        "print(myList)           "
      ]
    },
    {
      "cell_type": "code",
      "execution_count": null,
      "metadata": {
        "id": "rgczQbVn4iTE",
        "outputId": "e9a98fbc-c972-45f0-aeb3-118def8d57a3"
      },
      "outputs": [
        {
          "name": "stdout",
          "output_type": "stream",
          "text": [
            "ThirdElement\n"
          ]
        }
      ],
      "source": [
        "print(myList[2])                     # Print an element based on its index. Index starts from 0"
      ]
    },
    {
      "cell_type": "markdown",
      "metadata": {
        "id": "eLsDlKeq4iTF"
      },
      "source": [
        "Lists are mutable, which means, value of elements of a list can be changed."
      ]
    },
    {
      "cell_type": "code",
      "execution_count": null,
      "metadata": {
        "id": "1trngx1u4iTF",
        "outputId": "7cdfbb5f-bdef-420a-ee60-69ca997979c4"
      },
      "outputs": [
        {
          "name": "stdout",
          "output_type": "stream",
          "text": [
            "[1, 2.2, 'ElementThree', 12, 24, 'More values']\n"
          ]
        }
      ],
      "source": [
        "myList[2] = \"ElementThree\"\n",
        "print(myList) "
      ]
    },
    {
      "cell_type": "code",
      "execution_count": null,
      "metadata": {
        "id": "bIwqCO7c4iTF",
        "outputId": "958f42fe-fc5a-4261-fada-80a470290358"
      },
      "outputs": [
        {
          "name": "stdout",
          "output_type": "stream",
          "text": [
            "[1, 'ElementThree', 12, 24, 'More values']\n"
          ]
        }
      ],
      "source": [
        "myList.remove(2.2)                             # Remove item from a particular index\n",
        "print(myList)"
      ]
    },
    {
      "cell_type": "code",
      "execution_count": null,
      "metadata": {
        "id": "4HWvHZYM4iTF",
        "outputId": "88f42514-b7c4-487b-fbc8-89e9d40c9ae1"
      },
      "outputs": [
        {
          "name": "stdout",
          "output_type": "stream",
          "text": [
            "[1, 'ElementThree', 24, 'More values']\n"
          ]
        }
      ],
      "source": [
        "myList.pop(2)                                 # Remove item from a particular index\n",
        "print(myList)"
      ]
    },
    {
      "cell_type": "code",
      "execution_count": null,
      "metadata": {
        "id": "Xe-7Dv4G4iTG",
        "outputId": "34d213a1-16b8-44ce-9234-3a8f3627389f"
      },
      "outputs": [
        {
          "name": "stdout",
          "output_type": "stream",
          "text": [
            "[1, 'ElementThree', 24, 'More values', 2.2]\n"
          ]
        }
      ],
      "source": [
        "myList.append(2.2)                            # Add item at the last index\n",
        "print(myList)"
      ]
    },
    {
      "cell_type": "markdown",
      "metadata": {
        "id": "3A8hMu0W4iTG"
      },
      "source": [
        "### Python Tuple"
      ]
    },
    {
      "cell_type": "markdown",
      "metadata": {
        "id": "Wkzsy9Hk4iTG"
      },
      "source": [
        "Tuple is an <u>ordered sequence</u> of items same as list. <br/>\n",
        "The only difference is that tuples are <u>immutable</u>. <b>Tuples once created cannot be modified</b>.\n",
        "\n",
        "Tuples are used to write-protect data and are usually faster than list as it cannot change dynamically.\n",
        "\n",
        "It is defined within parentheses <b>()</b> where items are separated by commas."
      ]
    },
    {
      "cell_type": "code",
      "execution_count": null,
      "metadata": {
        "id": "aMYVy2y14iTG"
      },
      "outputs": [],
      "source": [
        "myTuple = (10,20,30,\"Text\")"
      ]
    },
    {
      "cell_type": "code",
      "execution_count": null,
      "metadata": {
        "id": "1JQyiPcp4iTG",
        "outputId": "31c59487-38bc-4e52-eb66-f8c49e8c6277"
      },
      "outputs": [
        {
          "name": "stdout",
          "output_type": "stream",
          "text": [
            "30\n"
          ]
        }
      ],
      "source": [
        "print(myTuple[2])                 # Read elements by their corresponding index values"
      ]
    },
    {
      "cell_type": "code",
      "execution_count": null,
      "metadata": {
        "id": "7Hg3HqKr4iTH",
        "outputId": "e6215a24-76c0-4fd6-f382-039bb556cc8e"
      },
      "outputs": [
        {
          "ename": "TypeError",
          "evalue": "'tuple' object does not support item assignment",
          "output_type": "error",
          "traceback": [
            "\u001b[0;31m---------------------------------------------------------------------------\u001b[0m",
            "\u001b[0;31mTypeError\u001b[0m                                 Traceback (most recent call last)",
            "\u001b[0;32m<ipython-input-44-9dfd6922a533>\u001b[0m in \u001b[0;36m<module>\u001b[0;34m()\u001b[0m\n\u001b[0;32m----> 1\u001b[0;31m \u001b[0mmyTuple\u001b[0m\u001b[1;33m[\u001b[0m\u001b[1;36m2\u001b[0m\u001b[1;33m]\u001b[0m \u001b[1;33m=\u001b[0m \u001b[1;36m120\u001b[0m\u001b[1;33m\u001b[0m\u001b[0m\n\u001b[0m",
            "\u001b[0;31mTypeError\u001b[0m: 'tuple' object does not support item assignment"
          ]
        }
      ],
      "source": [
        "myTuple[2] = 120"
      ]
    },
    {
      "cell_type": "markdown",
      "metadata": {
        "id": "hsTrDwdE4iTH"
      },
      "source": [
        "### Python Set"
      ]
    },
    {
      "cell_type": "markdown",
      "metadata": {
        "id": "KiBuGSeH4iTH"
      },
      "source": [
        "Set is an <u>unordered collection</u> of unique items. <br/>\n",
        "Set is defined by values separated by comma inside curly braces <b>{ }</b>. <br/>"
      ]
    },
    {
      "cell_type": "code",
      "execution_count": null,
      "metadata": {
        "id": "XuqYDAyh4iTH",
        "outputId": "7f460e80-a05d-45ca-852f-a65caa7fd05b"
      },
      "outputs": [
        {
          "name": "stdout",
          "output_type": "stream",
          "text": [
            "{40, 10, 50, 20, 30}\n"
          ]
        }
      ],
      "source": [
        "mySet = {10, 20, 30, 40, 50}\n",
        "print(mySet)"
      ]
    },
    {
      "cell_type": "code",
      "execution_count": null,
      "metadata": {
        "id": "t5ZbaCSW4iTI",
        "outputId": "8c701561-317d-42df-bb44-67d90a87d3c5"
      },
      "outputs": [
        {
          "name": "stdout",
          "output_type": "stream",
          "text": [
            "{10, 20, 30}\n"
          ]
        }
      ],
      "source": [
        "mySet = {10, 20, 20, 30, 30}       # Only unique values considered, duplicates removed automatically\n",
        "print(mySet)"
      ]
    },
    {
      "cell_type": "code",
      "execution_count": null,
      "metadata": {
        "id": "4RkD5emz4iTI",
        "outputId": "df018d20-78ee-4dd7-d8ac-9cde8aee6570"
      },
      "outputs": [
        {
          "name": "stdout",
          "output_type": "stream",
          "text": [
            "<class 'set'>\n"
          ]
        }
      ],
      "source": [
        "print(type(mySet))                 # Check the type of the variable"
      ]
    },
    {
      "cell_type": "code",
      "execution_count": null,
      "metadata": {
        "id": "plAD6E5C4iTI",
        "outputId": "b17eb5d2-d69c-441b-874b-a1d84a7d4cdc"
      },
      "outputs": [
        {
          "ename": "TypeError",
          "evalue": "'set' object does not support indexing",
          "output_type": "error",
          "traceback": [
            "\u001b[0;31m---------------------------------------------------------------------------\u001b[0m",
            "\u001b[0;31mTypeError\u001b[0m                                 Traceback (most recent call last)",
            "\u001b[0;32m<ipython-input-50-236ce4458037>\u001b[0m in \u001b[0;36m<module>\u001b[0;34m()\u001b[0m\n\u001b[0;32m----> 1\u001b[0;31m \u001b[0mprint\u001b[0m\u001b[1;33m(\u001b[0m\u001b[0mmySet\u001b[0m\u001b[1;33m[\u001b[0m\u001b[1;36m0\u001b[0m\u001b[1;33m]\u001b[0m\u001b[1;33m)\u001b[0m                    \u001b[1;31m# Cannot print any particular element in a set because\u001b[0m\u001b[1;33m\u001b[0m\u001b[0m\n\u001b[0m\u001b[1;32m      2\u001b[0m                                    \u001b[1;31m# it's an unorder collections of items\u001b[0m\u001b[1;33m\u001b[0m\u001b[1;33m\u001b[0m\u001b[0m\n",
            "\u001b[0;31mTypeError\u001b[0m: 'set' object does not support indexing"
          ]
        }
      ],
      "source": [
        "print(mySet[0])                    # Cannot print any particular element in a set because \n",
        "                                   # it's an unorder collections of items"
      ]
    },
    {
      "cell_type": "markdown",
      "metadata": {
        "id": "bFnITe0Z4iTI"
      },
      "source": [
        "### Python Dictionary"
      ]
    },
    {
      "cell_type": "markdown",
      "metadata": {
        "id": "i0e-22fT4iTJ"
      },
      "source": [
        "<b>Dictionary</b> is an <u>unordered collection</u> of <b>key-value</b> pairs.\n",
        "\n",
        "It is generally used when we have a huge amount of data.<br/> \n",
        "Dictionaries are optimized for retrieving data. <br/>\n",
        "We must know the <b>key</b> to retrieve the <b>value</b>.\n",
        "\n",
        "In Python, dictionaries are defined within curly braces <b>{}</b> <br/>\n",
        "with each item being a pair in the form <b>key:value</b>. <br/>\n",
        "<b>Key and value</b> can be of <u>any type</u>."
      ]
    },
    {
      "cell_type": "code",
      "execution_count": null,
      "metadata": {
        "id": "I6rw1qPS4iTJ",
        "outputId": "b52de3d5-c2db-4397-b8e9-2a8a8ee2b984"
      },
      "outputs": [
        {
          "name": "stdout",
          "output_type": "stream",
          "text": [
            "value2\n"
          ]
        }
      ],
      "source": [
        "myDictionary = {'key1': \"value1\", 'key2': \"value2\", 'key3': \"value3\",}\n",
        "print(myDictionary['key2'])"
      ]
    },
    {
      "cell_type": "markdown",
      "metadata": {
        "id": "ThGoB5to4iTJ"
      },
      "source": [
        "<b>Update</b> a value in the dictionary"
      ]
    },
    {
      "cell_type": "code",
      "execution_count": null,
      "metadata": {
        "id": "WPOtmAwp4iTJ",
        "outputId": "cec49791-88f2-43e8-fd96-cff98a2166cd"
      },
      "outputs": [
        {
          "name": "stdout",
          "output_type": "stream",
          "text": [
            "{'key1': 'value1', 'key2': 'value2.2', 'key3': 'value3'}\n"
          ]
        }
      ],
      "source": [
        "myDictionary['key2'] = \"value2.2\"\n",
        "print(myDictionary)"
      ]
    },
    {
      "cell_type": "markdown",
      "metadata": {
        "id": "-89FMsBB4iTJ"
      },
      "source": [
        "<b>Add</b> a new key & value"
      ]
    },
    {
      "cell_type": "code",
      "execution_count": null,
      "metadata": {
        "id": "VKAGOyYH4iTK",
        "outputId": "b2dca491-2df6-4627-950e-31dc21ffa928"
      },
      "outputs": [
        {
          "name": "stdout",
          "output_type": "stream",
          "text": [
            "{'key1': 'value1', 'key2': 'value2.2', 'key3': 'value3', 'key4': 'value4'}\n"
          ]
        }
      ],
      "source": [
        "myDictionary[\"key4\"] = \"value4\"\n",
        "print(myDictionary)"
      ]
    },
    {
      "cell_type": "markdown",
      "metadata": {
        "id": "yz1YvlKj4iTK"
      },
      "source": [
        "<b>Delete</b> Dictionary Elements"
      ]
    },
    {
      "cell_type": "code",
      "execution_count": null,
      "metadata": {
        "id": "bWRl5Lat4iTK",
        "outputId": "c8431afb-07ff-41fd-9ac9-300d53f550f4"
      },
      "outputs": [
        {
          "name": "stdout",
          "output_type": "stream",
          "text": [
            "{'key1': 'value1', 'key3': 'value3', 'key4': 'value4'}\n"
          ]
        }
      ],
      "source": [
        "del myDictionary[\"key2\"]\n",
        "print(myDictionary)"
      ]
    },
    {
      "cell_type": "markdown",
      "metadata": {
        "collapsed": true,
        "id": "iJFp1OG54iTK"
      },
      "source": [
        "# 8. Conversion between Datatypes"
      ]
    },
    {
      "cell_type": "markdown",
      "metadata": {
        "id": "6bQmPKag4iTK"
      },
      "source": [
        "To convert between different data types use different type conversion functions like <b>int(), float(), str()</b> etc."
      ]
    },
    {
      "cell_type": "code",
      "execution_count": null,
      "metadata": {
        "id": "0_WSxSVt4iTL",
        "outputId": "c8977625-b873-4139-ffb0-d6b6edaa092d"
      },
      "outputs": [
        {
          "data": {
            "text/plain": [
              "5"
            ]
          },
          "execution_count": 74,
          "metadata": {},
          "output_type": "execute_result"
        }
      ],
      "source": [
        "int(5.5)"
      ]
    },
    {
      "cell_type": "code",
      "execution_count": null,
      "metadata": {
        "id": "pDP5jrxu4iTL",
        "outputId": "62a6c7f5-d5ff-4251-da6d-b95f57d7641c"
      },
      "outputs": [
        {
          "data": {
            "text/plain": [
              "5.0"
            ]
          },
          "execution_count": 75,
          "metadata": {},
          "output_type": "execute_result"
        }
      ],
      "source": [
        "float(5)"
      ]
    },
    {
      "cell_type": "markdown",
      "metadata": {
        "id": "CrNEHciu4iTL"
      },
      "source": [
        "Conversion to and from string must contain compatible values."
      ]
    },
    {
      "cell_type": "code",
      "execution_count": null,
      "metadata": {
        "id": "dOB7mpNs4iTL",
        "outputId": "9d30d97b-880f-468e-8edb-0def7234b2e0"
      },
      "outputs": [
        {
          "data": {
            "text/plain": [
              "'5'"
            ]
          },
          "execution_count": 76,
          "metadata": {},
          "output_type": "execute_result"
        }
      ],
      "source": [
        "str(5)"
      ]
    },
    {
      "cell_type": "code",
      "execution_count": null,
      "metadata": {
        "id": "rxNqKBfi4iTM",
        "outputId": "49702072-6338-47b4-ee3e-961ad8e1dcec"
      },
      "outputs": [
        {
          "data": {
            "text/plain": [
              "'5.5'"
            ]
          },
          "execution_count": 77,
          "metadata": {},
          "output_type": "execute_result"
        }
      ],
      "source": [
        "str(5.5)"
      ]
    },
    {
      "cell_type": "code",
      "execution_count": null,
      "metadata": {
        "id": "41iR8sXa4iTM",
        "outputId": "497e5750-4b12-42e9-d19b-3eec87cd85d5"
      },
      "outputs": [
        {
          "data": {
            "text/plain": [
              "5"
            ]
          },
          "execution_count": 79,
          "metadata": {},
          "output_type": "execute_result"
        }
      ],
      "source": [
        "int('5')"
      ]
    },
    {
      "cell_type": "code",
      "execution_count": null,
      "metadata": {
        "id": "uZv-wMjA4iTM",
        "outputId": "e5d0f1d8-d217-4e5f-9d8b-28ab4eb0a939"
      },
      "outputs": [
        {
          "ename": "ValueError",
          "evalue": "invalid literal for int() with base 10: '5.5'",
          "output_type": "error",
          "traceback": [
            "\u001b[0;31m---------------------------------------------------------------------------\u001b[0m",
            "\u001b[0;31mValueError\u001b[0m                                Traceback (most recent call last)",
            "\u001b[0;32m<ipython-input-78-66621aca2009>\u001b[0m in \u001b[0;36m<module>\u001b[0;34m()\u001b[0m\n\u001b[0;32m----> 1\u001b[0;31m \u001b[0mint\u001b[0m\u001b[1;33m(\u001b[0m\u001b[1;34m'5.5'\u001b[0m\u001b[1;33m)\u001b[0m\u001b[1;33m\u001b[0m\u001b[0m\n\u001b[0m",
            "\u001b[0;31mValueError\u001b[0m: invalid literal for int() with base 10: '5.5'"
          ]
        }
      ],
      "source": [
        "int('5.5')"
      ]
    },
    {
      "cell_type": "code",
      "execution_count": null,
      "metadata": {
        "id": "peFR4-N84iTM",
        "outputId": "6745012c-227a-4ce0-937e-d219638dc8df"
      },
      "outputs": [
        {
          "data": {
            "text/plain": [
              "5.5"
            ]
          },
          "execution_count": 80,
          "metadata": {},
          "output_type": "execute_result"
        }
      ],
      "source": [
        "float('5.5')"
      ]
    },
    {
      "cell_type": "code",
      "execution_count": null,
      "metadata": {
        "id": "0C0EUd6U4iTM",
        "outputId": "84f12cde-b25a-4b1d-99ee-7285840b39ad"
      },
      "outputs": [
        {
          "data": {
            "text/plain": [
              "5.0"
            ]
          },
          "execution_count": 81,
          "metadata": {},
          "output_type": "execute_result"
        }
      ],
      "source": [
        "float('5')"
      ]
    },
    {
      "cell_type": "code",
      "execution_count": null,
      "metadata": {
        "id": "4v9YqZZa4iTN",
        "outputId": "950f234d-8bc5-4444-f63a-c5ce70b593f4"
      },
      "outputs": [
        {
          "ename": "ValueError",
          "evalue": "invalid literal for int() with base 10: 'CharIn10'",
          "output_type": "error",
          "traceback": [
            "\u001b[0;31m---------------------------------------------------------------------------\u001b[0m",
            "\u001b[0;31mValueError\u001b[0m                                Traceback (most recent call last)",
            "\u001b[0;32m<ipython-input-84-e8f820565321>\u001b[0m in \u001b[0;36m<module>\u001b[0;34m()\u001b[0m\n\u001b[0;32m----> 1\u001b[0;31m \u001b[0mint\u001b[0m\u001b[1;33m(\u001b[0m\u001b[1;34m'CharIn10'\u001b[0m\u001b[1;33m)\u001b[0m\u001b[1;33m\u001b[0m\u001b[0m\n\u001b[0m",
            "\u001b[0;31mValueError\u001b[0m: invalid literal for int() with base 10: 'CharIn10'"
          ]
        }
      ],
      "source": [
        "int('CharIn10')"
      ]
    },
    {
      "cell_type": "code",
      "execution_count": null,
      "metadata": {
        "id": "f3VvTMVe4iTN",
        "outputId": "8393b4bd-70f3-4646-b35c-16a56da9d284"
      },
      "outputs": [
        {
          "ename": "TypeError",
          "evalue": "must be str, not int",
          "output_type": "error",
          "traceback": [
            "\u001b[0;31m---------------------------------------------------------------------------\u001b[0m",
            "\u001b[0;31mTypeError\u001b[0m                                 Traceback (most recent call last)",
            "\u001b[0;32m<ipython-input-89-a34dc682c656>\u001b[0m in \u001b[0;36m<module>\u001b[0;34m()\u001b[0m\n\u001b[0;32m----> 1\u001b[0;31m \u001b[0mmyNewString\u001b[0m \u001b[1;33m=\u001b[0m \u001b[1;34m'text1 '\u001b[0m\u001b[1;33m+\u001b[0m \u001b[1;36m20\u001b[0m \u001b[1;33m+\u001b[0m \u001b[1;34m' text2'\u001b[0m\u001b[1;33m\u001b[0m\u001b[0m\n\u001b[0m",
            "\u001b[0;31mTypeError\u001b[0m: must be str, not int"
          ]
        }
      ],
      "source": [
        "myNewString = 'text1 '+ 20 + ' text2'"
      ]
    },
    {
      "cell_type": "code",
      "execution_count": null,
      "metadata": {
        "id": "Jk44NfE44iTN",
        "outputId": "adf3681c-8a1c-48c9-8503-6445e976afcc"
      },
      "outputs": [
        {
          "name": "stdout",
          "output_type": "stream",
          "text": [
            "text1 20 text2\n"
          ]
        }
      ],
      "source": [
        "myNewString = 'text1 '+ str(20) + ' text2'\n",
        "print(myNewString)"
      ]
    },
    {
      "cell_type": "markdown",
      "metadata": {
        "id": "BTcGgfl04iTN"
      },
      "source": [
        "Convert,<br/>\n",
        "1> list to set<br/>\n",
        "2> String to list"
      ]
    },
    {
      "cell_type": "code",
      "execution_count": null,
      "metadata": {
        "id": "9f4iNIqf4iTO",
        "outputId": "66c5d862-b534-4e39-c506-0379b74d9b00"
      },
      "outputs": [
        {
          "name": "stdout",
          "output_type": "stream",
          "text": [
            "['a', 'b', 'c', 'c']\n",
            "<class 'list'>\n",
            "<class 'set'>\n",
            "{'c', 'b', 'a'}\n"
          ]
        }
      ],
      "source": [
        "# 1> list to set\n",
        "myList1 = ['a','b','c','c']\n",
        "print(myList1)\n",
        "print(type(myList1))\n",
        "mySet1 = set(myList1)\n",
        "print(type(mySet1))\n",
        "print(mySet1)"
      ]
    },
    {
      "cell_type": "code",
      "execution_count": null,
      "metadata": {
        "id": "LrtXTAq04iTO",
        "outputId": "b60da909-83f4-4433-aa96-5a474095e605"
      },
      "outputs": [
        {
          "name": "stdout",
          "output_type": "stream",
          "text": [
            "<class 'str'>\n",
            "<class 'list'>\n",
            "['T', 'h', 'i', 's', ' ', 'i', 's', ' ', 's', 't', 'r', 'i', 'n', 'g', ' ', 't', 'o', ' ', 'l', 'i', 's', 't']\n"
          ]
        }
      ],
      "source": [
        "# 2> String to list\n",
        "myString1 = 'This is string to list'\n",
        "print(type(myString1))\n",
        "\n",
        "strToList = list(myString1)\n",
        "print(type(strToList))\n",
        "print(strToList)"
      ]
    }
  ],
  "metadata": {
    "kernelspec": {
      "display_name": "Python 3",
      "language": "python",
      "name": "python3"
    },
    "language_info": {
      "codemirror_mode": {
        "name": "ipython",
        "version": 3
      },
      "file_extension": ".py",
      "mimetype": "text/x-python",
      "name": "python",
      "nbconvert_exporter": "python",
      "pygments_lexer": "ipython3",
      "version": "3.6.0"
    },
    "colab": {
      "provenance": [],
      "include_colab_link": true
    }
  },
  "nbformat": 4,
  "nbformat_minor": 0
}