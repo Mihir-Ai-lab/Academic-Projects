{
  "nbformat": 4,
  "nbformat_minor": 0,
  "metadata": {
    "colab": {
      "provenance": [],
      "collapsed_sections": [],
      "include_colab_link": true
    },
    "kernelspec": {
      "name": "python3",
      "display_name": "Python 3"
    }
  },
  "cells": [
    {
      "cell_type": "markdown",
      "metadata": {
        "id": "view-in-github",
        "colab_type": "text"
      },
      "source": [
        "<a href=\"https://colab.research.google.com/github/Mihir-Ai-lab/Insaid/blob/main/Recap__Python_for_Data_Science_Assignment_Problem.ipynb\" target=\"_parent\"><img src=\"https://colab.research.google.com/assets/colab-badge.svg\" alt=\"Open In Colab\"/></a>"
      ]
    },
    {
      "cell_type": "markdown",
      "metadata": {
        "id": "uKnewxWPCAcR"
      },
      "source": [
        "<center><img src=\"https://github.com/insaid2018/Term-1/blob/master/Images/INSAID_Full%20Logo.png?raw=true\" width=\"240\" height=\"100\" /></center>"
      ]
    },
    {
      "cell_type": "markdown",
      "metadata": {
        "id": "Gru3Qit5CC-k"
      },
      "source": [
        "**<center><h3>Recap: Python for Data Science Assignment Problem</h3></center>**"
      ]
    },
    {
      "cell_type": "markdown",
      "metadata": {
        "id": "GawnpjHrDF-V"
      },
      "source": [
        "---\n",
        "**<h4>Question 1:** Create a function that swap two numbers with their position.</h4>\n",
        "\n",
        "---\n",
        "\n",
        "- For example, you entered `a = 5` and `b = 6`.\n",
        "\n",
        "- The value returned will be `a = 6` and `b = 5`.\n",
        "\n",
        "<details>\n",
        "\n",
        "**<summary>Hint:</summary>**\n",
        "\n",
        "- There are two ways by which you can achieve this.\n",
        "\n",
        "- Either you can take three variables or try out some maths operations.\n",
        "\n",
        "</details>"
      ]
    },
    {
      "cell_type": "code",
      "metadata": {
        "id": "692Phk0OI7r1"
      },
      "source": [
        "def swapValues(a=None, b=None):\n",
        "    c = a\n",
        "    b = a\n",
        "    a = c"
      ],
      "execution_count": null,
      "outputs": []
    },
    {
      "cell_type": "code",
      "metadata": {
        "id": "uzf-G2yHDDLH"
      },
      "source": [
        "swapValues(a=5, b=6)"
      ],
      "execution_count": null,
      "outputs": []
    },
    {
      "cell_type": "markdown",
      "metadata": {
        "id": "Am10FuMSIpBO"
      },
      "source": [
        "---\n",
        "**<h4>Question 2:** Create a function that converts the datatype of a variable to a string type if it is not numeric.</h4>\n",
        "\n",
        "---\n",
        "\n",
        "- For example, you entered `num = 10` and its type is `int`.\n",
        "\n",
        "- The value returned will be `num = 10` and its type will be `str`.\n",
        "\n",
        "<details>\n",
        "\n",
        "**<summary>Hint:</summary>**\n",
        "\n",
        "- You must have learned about the typecasting in the python starter kit. Haven't you?\n",
        "\n",
        "- You can either put chained conditions to identify the data type and then typecast it,\n",
        "\n",
        "- Or directly convert the data type despite of its type.\n",
        "\n",
        "</details>"
      ]
    },
    {
      "cell_type": "code",
      "metadata": {
        "id": "oaMoMOo1IpVt"
      },
      "source": [
        "def convertType(num=None):\n",
        "  # "
      ],
      "execution_count": null,
      "outputs": []
    },
    {
      "cell_type": "code",
      "metadata": {
        "id": "S0N8Gv-YKsvD"
      },
      "source": [
        "convertType(num=10)"
      ],
      "execution_count": null,
      "outputs": []
    },
    {
      "cell_type": "markdown",
      "metadata": {
        "id": "51YFnY5cRkNe"
      },
      "source": [
        "---\n",
        "**<h4>Question 3:** Create a function that calculates area of the triangle from user input.</h4>\n",
        "\n",
        "---\n",
        "\n",
        "- For example, you entered `base = 10` and `height = 3`.\n",
        "\n",
        "- The value returned will be `area = 15`.\n",
        "\n",
        "<details>\n",
        "\n",
        "**<summary>Hint:</summary>**\n",
        "\n",
        "- The formula to estimate area of triangle is $\\large \\frac{1}2 * base * height$\n",
        "\n",
        "</details>"
      ]
    },
    {
      "cell_type": "code",
      "metadata": {
        "id": "4DTik9qhKu6j"
      },
      "source": [
        "def areaOfTriangle():\n",
        "  # Put your code here."
      ],
      "execution_count": null,
      "outputs": []
    },
    {
      "cell_type": "code",
      "metadata": {
        "id": "wSxD9QcNQbsq"
      },
      "source": [
        "# Calling function to estimate area of triangle\n",
        "areaOfTriangle()"
      ],
      "execution_count": null,
      "outputs": []
    },
    {
      "cell_type": "markdown",
      "metadata": {
        "id": "ny2aerl5cc2Z"
      },
      "source": [
        "---\n",
        "**<h4>Question 4:** Create a function that displays largest number from the provided list.</h4>\n",
        "\n",
        "---\n",
        "\n",
        "- For example, there's a list as `[18, 12, 28, 16, 22, 29, 23, 26]`.\n",
        "\n",
        "- The value returned will be `area = 29`.\n",
        "\n",
        "<details>\n",
        "\n",
        "**<summary>Hint:</summary>**\n",
        "\n",
        "- You must have learned about the control flow in the python starter kit. Haven't you?\n",
        "\n",
        "- There can be many ways to achieve this, but let's think in a simple logical way.\n",
        "\n",
        "- You initialize a variable with any value present in the list. Let's say first value, list[0].\n",
        "\n",
        "- Then iterate over each value present in the list and check if it's greater than the initialized value.\n",
        "\n",
        "- If it's greater than the value you assign it back to the initialzed variable and return it.\n",
        "\n",
        "</details>"
      ]
    },
    {
      "cell_type": "code",
      "metadata": {
        "id": "CTHVcbIVQrrp"
      },
      "source": [
        "def maxValue(list_in):\n",
        "  # Put your code here."
      ],
      "execution_count": null,
      "outputs": []
    },
    {
      "cell_type": "code",
      "metadata": {
        "id": "9admZ4gigbA4"
      },
      "source": [
        "maxValue(list_in=[18, 12, 28, 16, 22, 29, 23, 26])"
      ],
      "execution_count": null,
      "outputs": []
    },
    {
      "cell_type": "markdown",
      "metadata": {
        "id": "hC0U5nIRjcLa"
      },
      "source": [
        "---\n",
        "**<h4>Question 5:** Create a function that removes duplicate values from the provided list.</h4>\n",
        "\n",
        "---\n",
        "\n",
        "- For example, there's a list as `[10, 20, 30, 40, 50, 60, 70, 40, 80, 50, 40]`.\n",
        "\n",
        "- The returned list will be `[70, 40, 10, 80, 50, 20, 60, 30]`.\n",
        "\n",
        "<details>\n",
        "\n",
        "**<summary>Hint:</summary>**\n",
        "\n",
        "- You can typecast your list to a set type and then again typecast it to a list.\n",
        "\n",
        "- You can also use control flow over the list with different python operators to achieve the objective.\n",
        "\n",
        "</details>"
      ]
    },
    {
      "cell_type": "code",
      "metadata": {
        "id": "Z_O7p4J9pBm_"
      },
      "source": [
        "def removeDuplicates(list_in):\n",
        "  # Put your code here."
      ],
      "execution_count": null,
      "outputs": []
    },
    {
      "cell_type": "code",
      "metadata": {
        "id": "GGLzJk9rhozJ"
      },
      "source": [
        "removeDuplicates(list_in=[10, 20, 30, 40, 50, 60, 70, 40, 80, 50, 40])"
      ],
      "execution_count": null,
      "outputs": []
    },
    {
      "cell_type": "markdown",
      "metadata": {
        "id": "poOh3PgUq_Yz"
      },
      "source": [
        "---\n",
        "**<h4>Question 6:** Create a function that displays a sum of values present in a list.</h4>\n",
        "\n",
        "---\n",
        "\n",
        "- For example, there's a list as `[1, 2, 3, 4, 5, 6, 7, 8, 9, 10]`.\n",
        "\n",
        "- The returned sum will be `55`.\n",
        "\n",
        "<details>\n",
        "\n",
        "**<summary>Hint:</summary>**\n",
        "\n",
        "- You must have learned about the control flow in the python starter kit. Haven't you?\n",
        "\n",
        "- Initialize a variable with a zero value.\n",
        "\n",
        "- Then iterate over the list along with the intialized value to get a sum. \n",
        "\n",
        "</details>"
      ]
    },
    {
      "cell_type": "code",
      "metadata": {
        "id": "QnuMdUJZQMow"
      },
      "source": [
        "def sumList(list_in):\n",
        "  # Put your code here."
      ],
      "execution_count": null,
      "outputs": []
    },
    {
      "cell_type": "code",
      "metadata": {
        "id": "WHfu98gVSX7S"
      },
      "source": [
        "sumList(list_in=[1, 2, 3, 4, 5, 6, 7, 8, 9, 10])"
      ],
      "execution_count": null,
      "outputs": []
    },
    {
      "cell_type": "markdown",
      "metadata": {
        "id": "sHUwC4EQskYx"
      },
      "source": [
        "---\n",
        "**<h4>Question 7:** Create a function that reverse a provided string.</h4>\n",
        "\n",
        "---\n",
        "\n",
        "- For example, you passed a string such as `INSAID`.\n",
        "\n",
        "- The returned string will be `DIASNI`.\n",
        "\n",
        "<details>\n",
        "\n",
        "**<summary>Hint:</summary>**\n",
        "\n",
        "- There are several ways to achieving the defined objective.\n",
        "\n",
        "- Either you can iterate over the characters of the string or use the string striding (mostly used).\n",
        "\n",
        "</details>"
      ]
    },
    {
      "cell_type": "code",
      "metadata": {
        "id": "pCO0S0_ppDvG"
      },
      "source": [
        "def stringReverse():\n",
        "  # Put your code here."
      ],
      "execution_count": null,
      "outputs": []
    },
    {
      "cell_type": "code",
      "metadata": {
        "id": "jUuxoV1_W9Hi"
      },
      "source": [
        "# Display the reverse string\n",
        "print('Reversed String: {}'.format(stringReverse()))"
      ],
      "execution_count": null,
      "outputs": []
    },
    {
      "cell_type": "markdown",
      "metadata": {
        "id": "K9--aUgVZdDi"
      },
      "source": [
        "---\n",
        "**<h4>Question 8:** Create a function that returns a combination of two tuples.</h4>\n",
        "\n",
        "---\n",
        "\n",
        "- For example, you passed two tuples such as `(0, 1, 2, 3)` and `('python', 'code')`.\n",
        "\n",
        "- The returned tuple will be `(0, 1, 2, 3, 'python', 'code')`.\n",
        "\n",
        "<details>\n",
        "\n",
        "**<summary>Hint:</summary>**\n",
        "\n",
        "- Why don't you try out the simple mathematical operation such as addition.\n",
        "\n",
        "</details>"
      ]
    },
    {
      "cell_type": "code",
      "metadata": {
        "id": "He7eMxnDYgo-"
      },
      "source": [
        "def concatTuple(tup1=None, tup2=None):\n",
        "  # Put your code here."
      ],
      "execution_count": null,
      "outputs": []
    },
    {
      "cell_type": "code",
      "metadata": {
        "id": "-jxzSYclbSHm"
      },
      "source": [
        "tuple1 = (0, 1, 2, 3)\n",
        "tuple2 = ('python', 'code')\n",
        "\n",
        "# Display the concatenation of tuples\n",
        "print('Concatenated Tuple: {}'.format(concatTuple(tup1=tuple1, tup2=tuple2)))"
      ],
      "execution_count": null,
      "outputs": []
    },
    {
      "cell_type": "markdown",
      "metadata": {
        "id": "Yoe1vKMHcNeR"
      },
      "source": [
        "---\n",
        "**<h4>Question 9:** Create a function that returns an indicator of whether a provided key already exists in a dictionary.</h4>\n",
        "\n",
        "---\n",
        "\n",
        "- For example, there's a dictionary such as `{1: 10, 2: 20, 3: 30, 4: 40, 5: 50, 6: 60}`.\n",
        "\n",
        "- You passed a value to the function such as `3`, then a returned value will be `True`.\n",
        "\n",
        "- Let's say you passed a value to the function such as `8`, then a returned value will be `False`.\n",
        "\n",
        "<details>\n",
        "\n",
        "**<summary>Hint:</summary>**\n",
        "\n",
        "- You must have learned about the control flow and operators in the python starter kit. Haven't you?\n",
        "\n",
        "- You can get the desired result using simple IF-ELSE operation.\n",
        "\n",
        "</details>"
      ]
    },
    {
      "cell_type": "code",
      "metadata": {
        "id": "1cLa8iChbmQK"
      },
      "source": [
        "def isKeyPresent(dict_in=None, key=None):\n",
        "  # Put your code here."
      ],
      "execution_count": null,
      "outputs": []
    },
    {
      "cell_type": "code",
      "metadata": {
        "id": "qno80WjPenI0"
      },
      "source": [
        "dict_in = {1: 10, 2: 20, 3: 30, 4: 40, 5: 50, 6: 60}\n",
        "\n",
        "# Display the indicator\n",
        "print('Returned Indicator: {}'.format(isKeyPresent(dict_in=dict_in, key=4)))"
      ],
      "execution_count": null,
      "outputs": []
    },
    {
      "cell_type": "markdown",
      "metadata": {
        "id": "0n0F_SeZgXhI"
      },
      "source": [
        "---\n",
        "**<h4>Question 10:** Create a function that returns a combination of two python dictionary.</h4>\n",
        "\n",
        "---\n",
        "\n",
        "- For example, there's are two dictionaries such as `{'a': 100, 'b': 200}` and `{'x': 300, 'y': 200}`.\n",
        "\n",
        "- The returned dictionary will be `{'a': 100, 'b': 200, 'x': 300, 'y': 200}`.\n",
        "\n",
        "<details>\n",
        "\n",
        "**<summary>Hint:</summary>**\n",
        "\n",
        "- Initialize a variable with empty dictionary or using dict() method.\n",
        "\n",
        "- Update the newly initialized dictionary with the first dictionary using .update() method.\n",
        "\n",
        "- Then again update the newly initialized dictionary with the second dictionary using .update() method.\n",
        "\n",
        "</details>"
      ]
    },
    {
      "cell_type": "code",
      "metadata": {
        "id": "T5VburKkhgWS"
      },
      "source": [
        "def combineDict(dict1=None, dict2=None):\n",
        "  # Put your code here."
      ],
      "execution_count": null,
      "outputs": []
    },
    {
      "cell_type": "code",
      "metadata": {
        "id": "JJuu5_5_gXWV"
      },
      "source": [
        "d1 = {'a': 100, 'b': 200}\n",
        "d2 = {'x': 300, 'y': 200}\n",
        "\n",
        "# Display the final dictionary\n",
        "print('Final Dictionary: {}'.format(combineDict(dict1=d1, dict2=d2)))"
      ],
      "execution_count": null,
      "outputs": []
    },
    {
      "cell_type": "markdown",
      "metadata": {
        "id": "CineEFU-kjLe"
      },
      "source": [
        "---\n",
        "**<h4>Question 11:** Create a function that returns a factorial of a number.</h4>\n",
        "\n",
        "---\n",
        "\n",
        "- For example, you passed `val = 5`.\n",
        "\n",
        "- The returned value will be `120`.\n",
        "\n",
        "- Underlying working is as shown: `1 * 2 * 3 * 4 * 5 = 120`.\n",
        "\n",
        "<details>\n",
        "\n",
        "**<summary>Hint:</summary>**\n",
        "\n",
        "- Initialize factorial varialble with 1.\n",
        "\n",
        "- If the number is negative display message that factorial of a negative number doesn't exist.\n",
        "\n",
        "- Else if the number is zero return the initialized value.\n",
        "\n",
        "- Else return the factorial value over the specified value in the function.\n",
        "\n",
        "</details>"
      ]
    },
    {
      "cell_type": "code",
      "metadata": {
        "id": "CEkUPiRbhfBW"
      },
      "source": [
        "def factorial():\n",
        "  # Put your code here."
      ],
      "execution_count": null,
      "outputs": []
    },
    {
      "cell_type": "code",
      "metadata": {
        "id": "3EUnVZB9eaAb"
      },
      "source": [
        "# Display the fictorial value\n",
        "print('Factorial: {}'.format(factorial()))"
      ],
      "execution_count": null,
      "outputs": []
    }
  ]
}